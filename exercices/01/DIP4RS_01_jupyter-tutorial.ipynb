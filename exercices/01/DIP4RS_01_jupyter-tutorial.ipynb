{
 "cells": [
  {
   "cell_type": "markdown",
   "metadata": {
    "toc": true
   },
   "source": [
    "<h1>Table of Contents<span class=\"tocSkip\"></span></h1>\n",
    "<div class=\"toc\"><ul class=\"toc-item\"><li><span><a href=\"#What-is-a-Jupyter-Notebook?\" data-toc-modified-id=\"What-is-a-Jupyter-Notebook?-1\"><span class=\"toc-item-num\">1&nbsp;&nbsp;</span>What is a Jupyter Notebook?</a></span><ul class=\"toc-item\"><li><span><a href=\"#Code-cell\" data-toc-modified-id=\"Code-cell-1.1\"><span class=\"toc-item-num\">1.1&nbsp;&nbsp;</span>Code cell</a></span></li><li><span><a href=\"#Markdown-cell\" data-toc-modified-id=\"Markdown-cell-1.2\"><span class=\"toc-item-num\">1.2&nbsp;&nbsp;</span>Markdown cell</a></span></li><li><span><a href=\"#Jupyter-keyboard-shortcuts\" data-toc-modified-id=\"Jupyter-keyboard-shortcuts-1.3\"><span class=\"toc-item-num\">1.3&nbsp;&nbsp;</span>Jupyter keyboard shortcuts</a></span></li></ul></li><li><span><a href=\"#Markdown-syntax\" data-toc-modified-id=\"Markdown-syntax-2\"><span class=\"toc-item-num\">2&nbsp;&nbsp;</span>Markdown syntax</a></span><ul class=\"toc-item\"><li><span><a href=\"#line-break\" data-toc-modified-id=\"line-break-2.1\"><span class=\"toc-item-num\">2.1&nbsp;&nbsp;</span>line break</a></span></li><li><span><a href=\"#headers\" data-toc-modified-id=\"headers-2.2\"><span class=\"toc-item-num\">2.2&nbsp;&nbsp;</span>headers</a></span></li><li><span><a href=\"#lists\" data-toc-modified-id=\"lists-2.3\"><span class=\"toc-item-num\">2.3&nbsp;&nbsp;</span>lists</a></span><ul class=\"toc-item\"><li><span><a href=\"#ordered-lists\" data-toc-modified-id=\"ordered-lists-2.3.1\"><span class=\"toc-item-num\">2.3.1&nbsp;&nbsp;</span>ordered lists</a></span></li><li><span><a href=\"#unordered-lists\" data-toc-modified-id=\"unordered-lists-2.3.2\"><span class=\"toc-item-num\">2.3.2&nbsp;&nbsp;</span>unordered lists</a></span></li><li><span><a href=\"#task-list\" data-toc-modified-id=\"task-list-2.3.3\"><span class=\"toc-item-num\">2.3.3&nbsp;&nbsp;</span>task list</a></span></li><li><span><a href=\"#definition-list\" data-toc-modified-id=\"definition-list-2.3.4\"><span class=\"toc-item-num\">2.3.4&nbsp;&nbsp;</span>definition list</a></span></li></ul></li><li><span><a href=\"#text-emphasis\" data-toc-modified-id=\"text-emphasis-2.4\"><span class=\"toc-item-num\">2.4&nbsp;&nbsp;</span>text emphasis</a></span><ul class=\"toc-item\"><li><span><a href=\"#bold\" data-toc-modified-id=\"bold-2.4.1\"><span class=\"toc-item-num\">2.4.1&nbsp;&nbsp;</span>bold</a></span></li><li><span><a href=\"#italic\" data-toc-modified-id=\"italic-2.4.2\"><span class=\"toc-item-num\">2.4.2&nbsp;&nbsp;</span>italic</a></span></li><li><span><a href=\"#strikethrouh\" data-toc-modified-id=\"strikethrouh-2.4.3\"><span class=\"toc-item-num\">2.4.3&nbsp;&nbsp;</span>strikethrouh</a></span></li><li><span><a href=\"#underline\" data-toc-modified-id=\"underline-2.4.4\"><span class=\"toc-item-num\">2.4.4&nbsp;&nbsp;</span>underline</a></span></li><li><span><a href=\"#highlight\" data-toc-modified-id=\"highlight-2.4.5\"><span class=\"toc-item-num\">2.4.5&nbsp;&nbsp;</span>highlight</a></span></li><li><span><a href=\"#HTML-interpretation\" data-toc-modified-id=\"HTML-interpretation-2.4.6\"><span class=\"toc-item-num\">2.4.6&nbsp;&nbsp;</span>HTML interpretation</a></span></li></ul></li><li><span><a href=\"#blockquotes\" data-toc-modified-id=\"blockquotes-2.5\"><span class=\"toc-item-num\">2.5&nbsp;&nbsp;</span>blockquotes</a></span></li><li><span><a href=\"#colored-boxes\" data-toc-modified-id=\"colored-boxes-2.6\"><span class=\"toc-item-num\">2.6&nbsp;&nbsp;</span>colored boxes</a></span></li><li><span><a href=\"#code-syntax\" data-toc-modified-id=\"code-syntax-2.7\"><span class=\"toc-item-num\">2.7&nbsp;&nbsp;</span>code syntax</a></span></li><li><span><a href=\"#special-characters-and-symbols\" data-toc-modified-id=\"special-characters-and-symbols-2.8\"><span class=\"toc-item-num\">2.8&nbsp;&nbsp;</span>special characters and symbols</a></span></li><li><span><a href=\"#links\" data-toc-modified-id=\"links-2.9\"><span class=\"toc-item-num\">2.9&nbsp;&nbsp;</span>links</a></span><ul class=\"toc-item\"><li><span><a href=\"#hyperlinks\" data-toc-modified-id=\"hyperlinks-2.9.1\"><span class=\"toc-item-num\">2.9.1&nbsp;&nbsp;</span>hyperlinks</a></span></li><li><span><a href=\"#internal-links\" data-toc-modified-id=\"internal-links-2.9.2\"><span class=\"toc-item-num\">2.9.2&nbsp;&nbsp;</span>internal links</a></span></li><li><span><a href=\"#navigation-menu\" data-toc-modified-id=\"navigation-menu-2.9.3\"><span class=\"toc-item-num\">2.9.3&nbsp;&nbsp;</span>navigation menu</a></span></li></ul></li><li><span><a href=\"#horizontal-lines\" data-toc-modified-id=\"horizontal-lines-2.10\"><span class=\"toc-item-num\">2.10&nbsp;&nbsp;</span>horizontal lines</a></span></li><li><span><a href=\"#insert-images\" data-toc-modified-id=\"insert-images-2.11\"><span class=\"toc-item-num\">2.11&nbsp;&nbsp;</span>insert images</a></span></li><li><span><a href=\"#table\" data-toc-modified-id=\"table-2.12\"><span class=\"toc-item-num\">2.12&nbsp;&nbsp;</span>table</a></span></li><li><span><a href=\"#backslash-escape\" data-toc-modified-id=\"backslash-escape-2.13\"><span class=\"toc-item-num\">2.13&nbsp;&nbsp;</span>backslash escape</a></span></li><li><span><a href=\"#LaTeX-equations\" data-toc-modified-id=\"LaTeX-equations-2.14\"><span class=\"toc-item-num\">2.14&nbsp;&nbsp;</span>LaTeX equations</a></span><ul class=\"toc-item\"><li><span><a href=\"#inline-equations:\" data-toc-modified-id=\"inline-equations:-2.14.1\"><span class=\"toc-item-num\">2.14.1&nbsp;&nbsp;</span>inline equations:</a></span></li><li><span><a href=\"#math-mode-equation\" data-toc-modified-id=\"math-mode-equation-2.14.2\"><span class=\"toc-item-num\">2.14.2&nbsp;&nbsp;</span>math mode equation</a></span></li></ul></li></ul></li><li><span><a href=\"#IPython-Magic-commands\" data-toc-modified-id=\"IPython-Magic-commands-3\"><span class=\"toc-item-num\">3&nbsp;&nbsp;</span>IPython Magic commands</a></span><ul class=\"toc-item\"><li><span><a href=\"#lsmagic\" data-toc-modified-id=\"lsmagic-3.1\"><span class=\"toc-item-num\">3.1&nbsp;&nbsp;</span>lsmagic</a></span></li><li><span><a href=\"#run-file\" data-toc-modified-id=\"run-file-3.2\"><span class=\"toc-item-num\">3.2&nbsp;&nbsp;</span>run file</a></span></li><li><span><a href=\"#load-file\" data-toc-modified-id=\"load-file-3.3\"><span class=\"toc-item-num\">3.3&nbsp;&nbsp;</span>load file</a></span></li><li><span><a href=\"#writefile\" data-toc-modified-id=\"writefile-3.4\"><span class=\"toc-item-num\">3.4&nbsp;&nbsp;</span>writefile</a></span></li><li><span><a href=\"#time\" data-toc-modified-id=\"time-3.5\"><span class=\"toc-item-num\">3.5&nbsp;&nbsp;</span>time</a></span></li><li><span><a href=\"#matplotlib-display\" data-toc-modified-id=\"matplotlib-display-3.6\"><span class=\"toc-item-num\">3.6&nbsp;&nbsp;</span>matplotlib display</a></span></li><li><span><a href=\"#autoreload-modules\" data-toc-modified-id=\"autoreload-modules-3.7\"><span class=\"toc-item-num\">3.7&nbsp;&nbsp;</span>autoreload modules</a></span></li><li><span><a href=\"#cython\" data-toc-modified-id=\"cython-3.8\"><span class=\"toc-item-num\">3.8&nbsp;&nbsp;</span>cython</a></span></li></ul></li><li><span><a href=\"#Excecute-system-command\" data-toc-modified-id=\"Excecute-system-command-4\"><span class=\"toc-item-num\">4&nbsp;&nbsp;</span>Excecute system command</a></span></li><li><span><a href=\"#Run-code-from-a-different-kernel\" data-toc-modified-id=\"Run-code-from-a-different-kernel-5\"><span class=\"toc-item-num\">5&nbsp;&nbsp;</span>Run code from a different kernel</a></span></li><li><span><a href=\"#Widgets\" data-toc-modified-id=\"Widgets-6\"><span class=\"toc-item-num\">6&nbsp;&nbsp;</span>Widgets</a></span><ul class=\"toc-item\"><li><span><a href=\"#slider\" data-toc-modified-id=\"slider-6.1\"><span class=\"toc-item-num\">6.1&nbsp;&nbsp;</span>slider</a></span></li><li><span><a href=\"#link-widgets\" data-toc-modified-id=\"link-widgets-6.2\"><span class=\"toc-item-num\">6.2&nbsp;&nbsp;</span>link widgets</a></span></li><li><span><a href=\"#widget-interaction-with-function\" data-toc-modified-id=\"widget-interaction-with-function-6.3\"><span class=\"toc-item-num\">6.3&nbsp;&nbsp;</span>widget interaction with function</a></span></li><li><span><a href=\"#other-Jupyter-widget-frameworks\" data-toc-modified-id=\"other-Jupyter-widget-frameworks-6.4\"><span class=\"toc-item-num\">6.4&nbsp;&nbsp;</span>other Jupyter widget frameworks</a></span></li></ul></li><li><span><a href=\"#Convert-notebook\" data-toc-modified-id=\"Convert-notebook-7\"><span class=\"toc-item-num\">7&nbsp;&nbsp;</span>Convert notebook</a></span><ul class=\"toc-item\"><li><span><a href=\"#example-conversion-to-slides\" data-toc-modified-id=\"example-conversion-to-slides-7.1\"><span class=\"toc-item-num\">7.1&nbsp;&nbsp;</span>example conversion to slides</a></span></li></ul></li><li><span><a href=\"#Tunneling-through-SSH\" data-toc-modified-id=\"Tunneling-through-SSH-8\"><span class=\"toc-item-num\">8&nbsp;&nbsp;</span>Tunneling through SSH</a></span></li></ul></div>"
   ]
  },
  {
   "cell_type": "markdown",
   "metadata": {
    "slideshow": {
     "slide_type": "slide"
    }
   },
   "source": [
    "<font size=\"6\"><b>CV4GS - Jupyter Notebook tutorial</b></font>"
   ]
  },
  {
   "cell_type": "markdown",
   "metadata": {
    "slideshow": {
     "slide_type": "subslide"
    }
   },
   "source": [
    "In this tutorial, we will cover:\n",
    "\n",
    "* Basic Jupyter notebook aspects: cell types, kernel, workflow, shortcuts\n",
    "* Markdown syntax\n",
    "* Magic commands to expand notebook functionalities\n",
    "* Widgets\n",
    "* Miscelaneous: converting notebooks, tunneling through SSH"
   ]
  },
  {
   "cell_type": "markdown",
   "metadata": {
    "slideshow": {
     "slide_type": "slide"
    }
   },
   "source": [
    "# What is a Jupyter Notebook?"
   ]
  },
  {
   "cell_type": "markdown",
   "metadata": {
    "slideshow": {
     "slide_type": "subslide"
    }
   },
   "source": [
    "- a notebook is made up of **cells**. There are 3 main types of cells: \n",
    "    - `Code cells`  \n",
    "    &rArr; supports \"Julia\", \"Python\", or \"R\" languages (=**Ju**lia, **Pyt**hon, **R** )  \n",
    "    &rArr; press esc+`y` to turn cell into code cell\n",
    "    - `Markdown cells`  \n",
    "    &rArr; uses the \"Markdown\" language to write text, add images, equations, etc.  \n",
    "    &rArr; press esc+`m` to turn cell into markdown cell\n",
    "    - `Raw cells` (rarely used)  \n",
    "    &rArr; plain text  \n",
    "    &rArr; press esc+`r` to turn cell into raw cell\n",
    "- the notebook **kernel** is a \"computational engine\" that executes the code contained in a Notebook. Here we set a \"Python 3\" to excecute python code. (Kernels for many other languages exist)."
   ]
  },
  {
   "cell_type": "markdown",
   "metadata": {
    "slideshow": {
     "slide_type": "slide"
    }
   },
   "source": [
    "## Code cell"
   ]
  },
  {
   "cell_type": "markdown",
   "metadata": {
    "slideshow": {
     "slide_type": "subslide"
    }
   },
   "source": [
    "The cell below is a `Code cell` (default type) with Python code.  \n",
    "\n",
    "Press `shift + return` to execute it. The result will get rendered beneath the cell. "
   ]
  },
  {
   "cell_type": "code",
   "execution_count": 1,
   "metadata": {
    "slideshow": {
     "slide_type": "fragment"
    }
   },
   "outputs": [
    {
     "name": "stdout",
     "output_type": "stream",
     "text": [
      "3\n"
     ]
    }
   ],
   "source": [
    "x = 1\n",
    "y = 2\n",
    "print(x+y)"
   ]
  },
  {
   "cell_type": "markdown",
   "metadata": {
    "slideshow": {
     "slide_type": "fragment"
    }
   },
   "source": [
    "Variables are shared between cells. Try executing the cell below:"
   ]
  },
  {
   "cell_type": "code",
   "execution_count": 2,
   "metadata": {
    "slideshow": {
     "slide_type": "-"
    }
   },
   "outputs": [
    {
     "name": "stdout",
     "output_type": "stream",
     "text": [
      "4\n"
     ]
    }
   ],
   "source": [
    "print(y + 2)"
   ]
  },
  {
   "cell_type": "markdown",
   "metadata": {
    "slideshow": {
     "slide_type": "fragment"
    }
   },
   "source": [
    "<div class=\"alert alert-block alert-info\"><b>Note:</b> Jupyter notebooks are expected to be run from top to bottom, so executing cells out of order can result in errors as variables may need undefined.</div>"
   ]
  },
  {
   "cell_type": "markdown",
   "metadata": {
    "slideshow": {
     "slide_type": "subslide"
    }
   },
   "source": [
    "Figures will be plotted in the cell:"
   ]
  },
  {
   "cell_type": "code",
   "execution_count": 40,
   "metadata": {},
   "outputs": [
    {
     "data": {
      "text/plain": [
       "[<matplotlib.lines.Line2D at 0x7f5f50fc29a0>]"
      ]
     },
     "execution_count": 40,
     "metadata": {},
     "output_type": "execute_result"
    },
    {
     "data": {
      "image/png": "[encoded data removed]",
      "text/plain": [
       "<Figure size 432x288 with 1 Axes>"
      ]
     },
     "metadata": {
      "needs_background": "light"
     },
     "output_type": "display_data"
    }
   ],
   "source": [
    "from matplotlib import pyplot as plt\n",
    "x = [1,2,3,4,5]\n",
    "y = [6,7,8,9,10]\n",
    "plt.plot(x, y)"
   ]
  },
  {
   "cell_type": "markdown",
   "metadata": {
    "slideshow": {
     "slide_type": "slide"
    }
   },
   "source": [
    "## Markdown cell"
   ]
  },
  {
   "cell_type": "markdown",
   "metadata": {},
   "source": [
    "[`Markdown`](https://en.wikipedia.org/wiki/Markdown) is a lightweight <i>markup language*</i> for creating formatted text. "
   ]
  },
  {
   "cell_type": "markdown",
   "metadata": {
    "slideshow": {
     "slide_type": "subslide"
    }
   },
   "source": [
    "> \"A <i>markup language</i> is a system for annotating a document in a way that is syntactically distinguishable from the text, meaning when the document is processed for display, the markup language is not shown, and is only used to format the text.\" ([wikipedia](https://en.wikipedia.org/wiki/Markup_language))<br/>   \n",
    "Examples: HTML, LaTeX, RTF, etc.\n",
    "\n",
    "Key design goal of `Markdown` language is readability, ommiting obvious tags and formatting instructions like those used by HTML, RTF, etc. "
   ]
  },
  {
   "cell_type": "markdown",
   "metadata": {
    "slideshow": {
     "slide_type": "fragment"
    }
   },
   "source": [
    "<div class=\"alert alert-block alert-warning\"><b>Important:</b> Press \"M\" key to convert cell into \"Markdown cell\"</div>"
   ]
  },
  {
   "cell_type": "markdown",
   "metadata": {
    "slideshow": {
     "slide_type": "slide"
    }
   },
   "source": [
    "## Jupyter keyboard shortcuts"
   ]
  },
  {
   "cell_type": "markdown",
   "metadata": {
    "slideshow": {
     "slide_type": "subslide"
    }
   },
   "source": [
    "* `Esc` & `Enter`: switch to command or edit mode\n",
    "* `m` => switch cell to <u>markdown</u> type\n",
    "* `y` => switch cell to <u>code</u> type\n",
    "<br/>\n",
    "\n",
    "* `Shift-Enter`: execute cell, jump to cell below (or create a new one if last cell is selected)\n",
    "* `Ctrl-Enter`: execute cell, insert new cell below\n",
    "<br/>\n",
    "\n",
    "* `b` => add <u>below</u> the current one (Note you have to be in `esc` mode.)\n",
    "* `a` => add <u>above</u> the current one (Note you have to be in `esc` mode.)\n",
    "* `d+d` => <u>delete</u> cell (Note you have to be in `esc` mode.)\n",
    "* `o` => hide/show cell <u>output</u>\n",
    "* `ctrl+shift+minus`: split cell\n",
    "\n",
    "* `shift+tab`: open documentation of a function\n",
    "* `f`: find text in cell/notebook (Note you have to be in `esc` mode.)\n",
    "* `alt+c`: comment code (if 'comment-uncomment' jupyter extension is enabled)\n",
    "* `ctrl+\\`: comment code (american keyboard layout)\n",
    "* `ctrl+}`: comment code (latin american keyboard layout)\n",
    "\n",
    "<br/>\n",
    "\n",
    "* `0+0` => <u>restart notebook kernel</u> the current one (Note you have to be in `esc` mode.)\n",
    "* `ctrl+s` => <u>save</u> notebook"
   ]
  },
  {
   "cell_type": "markdown",
   "metadata": {
    "slideshow": {
     "slide_type": "slide"
    }
   },
   "source": [
    "# Markdown syntax\n",
    "The human-readable syntax allows to format text in many ways: make headings, emphasize text (bolding, italicizing, ...), creating numered/bulleted lists, add links, format mathematical symbols, make tables, etc.\n",
    "\n",
    "Syntax reference: [link](https://www.markdownguide.org/basic-syntax/)"
   ]
  },
  {
   "cell_type": "markdown",
   "metadata": {
    "slideshow": {
     "slide_type": "slide"
    }
   },
   "source": [
    "## line break"
   ]
  },
  {
   "cell_type": "markdown",
   "metadata": {
    "slideshow": {
     "slide_type": "subslide"
    }
   },
   "source": [
    "<u><u><u>Markdown syntax:</u></u><u>"
   ]
  },
  {
   "cell_type": "raw",
   "metadata": {},
   "source": [
    " First line with two spaces after (or <br> character).  \n",
    " And the second line"
   ]
  },
  {
   "cell_type": "markdown",
   "metadata": {
    "slideshow": {
     "slide_type": "fragment"
    }
   },
   "source": [
    "<u>Rendered output:</u>"
   ]
  },
  {
   "cell_type": "markdown",
   "metadata": {},
   "source": [
    "First line with two spaces after.  \n",
    "And the second line"
   ]
  },
  {
   "cell_type": "markdown",
   "metadata": {
    "slideshow": {
     "slide_type": "slide"
    }
   },
   "source": [
    "## headers"
   ]
  },
  {
   "cell_type": "markdown",
   "metadata": {},
   "source": [
    "<u><u>Markdown syntax:</u></u>"
   ]
  },
  {
   "cell_type": "raw",
   "metadata": {},
   "source": [
    "# Header 1\n",
    "## Header 2\n",
    "### Header 3"
   ]
  },
  {
   "cell_type": "markdown",
   "metadata": {},
   "source": [
    "HTML syntax to simulate title (no numbering):"
   ]
  },
  {
   "cell_type": "raw",
   "metadata": {},
   "source": [
    "<font size=\"4\"><b>This is a title</b></font>"
   ]
  },
  {
   "cell_type": "markdown",
   "metadata": {},
   "source": [
    "<u>Rendered output:</u>\n",
    "<br>\n",
    "<font size=\"4\"><b>This is a title</b></font>"
   ]
  },
  {
   "cell_type": "markdown",
   "metadata": {
    "slideshow": {
     "slide_type": "slide"
    }
   },
   "source": [
    "## lists"
   ]
  },
  {
   "cell_type": "markdown",
   "metadata": {
    "slideshow": {
     "slide_type": "subslide"
    }
   },
   "source": [
    "### ordered lists"
   ]
  },
  {
   "cell_type": "markdown",
   "metadata": {
    "slideshow": {
     "slide_type": "fragment"
    }
   },
   "source": [
    "<u><u><u>Markdown syntax:</u></u></u>"
   ]
  },
  {
   "cell_type": "raw",
   "metadata": {},
   "source": [
    "1. First item\n",
    "2. Second item\n",
    "3. Third item"
   ]
  },
  {
   "cell_type": "markdown",
   "metadata": {
    "slideshow": {
     "slide_type": "fragment"
    }
   },
   "source": [
    "<u><u>Rendered output:</u></u>"
   ]
  },
  {
   "cell_type": "markdown",
   "metadata": {},
   "source": [
    "1. First item\n",
    "2. Second item\n",
    "3. Third item"
   ]
  },
  {
   "cell_type": "markdown",
   "metadata": {
    "slideshow": {
     "slide_type": "subslide"
    }
   },
   "source": [
    "### unordered lists"
   ]
  },
  {
   "cell_type": "markdown",
   "metadata": {
    "slideshow": {
     "slide_type": "fragment"
    }
   },
   "source": [
    "<u><u>Markdown syntax:</u></u>"
   ]
  },
  {
   "cell_type": "raw",
   "metadata": {},
   "source": [
    "- first bullet point\n",
    "- second bullet point\n",
    "- third bullet point\n",
    "    - sub point\n",
    "    - sub point"
   ]
  },
  {
   "cell_type": "markdown",
   "metadata": {
    "slideshow": {
     "slide_type": "fragment"
    }
   },
   "source": [
    "<u>Rendered output:</u>"
   ]
  },
  {
   "cell_type": "markdown",
   "metadata": {},
   "source": [
    "- first bullet point\n",
    "- second bullet point\n",
    "- third bullet point\n",
    "    - sub point\n",
    "    - sub point"
   ]
  },
  {
   "cell_type": "markdown",
   "metadata": {
    "slideshow": {
     "slide_type": "subslide"
    }
   },
   "source": [
    "### task list"
   ]
  },
  {
   "cell_type": "markdown",
   "metadata": {},
   "source": [
    "<u><u>Markdown syntax:</u></u>"
   ]
  },
  {
   "cell_type": "raw",
   "metadata": {},
   "source": [
    "- [x] first task\n",
    "- [ ] second task"
   ]
  },
  {
   "cell_type": "markdown",
   "metadata": {},
   "source": [
    "<u>Rendered output:</u>"
   ]
  },
  {
   "cell_type": "markdown",
   "metadata": {},
   "source": [
    "- [x] first task\n",
    "- [ ] second task"
   ]
  },
  {
   "cell_type": "markdown",
   "metadata": {},
   "source": [
    "### definition list"
   ]
  },
  {
   "cell_type": "markdown",
   "metadata": {},
   "source": [
    "<u><u>Markdown syntax:</u></u>"
   ]
  },
  {
   "cell_type": "raw",
   "metadata": {},
   "source": [
    "<dl>\n",
    "    <dt>First item</dt>\n",
    "    <dd>This is the definition of the first term.</dd>\n",
    "    <dt>Second item</dt>\n",
    "    <dd>This is one definition of the second term. </dd>\n",
    "</dl>"
   ]
  },
  {
   "cell_type": "markdown",
   "metadata": {},
   "source": [
    "<u>Rendered output:</u>"
   ]
  },
  {
   "cell_type": "markdown",
   "metadata": {},
   "source": [
    "<dl>\n",
    "    <dt>First item</dt>\n",
    "    <dd>This is the definition of the first term.</dd>\n",
    "    <dt>Second item</dt>\n",
    "    <dd>This is one definition of the second term. </dd>\n",
    "</dl>"
   ]
  },
  {
   "cell_type": "markdown",
   "metadata": {},
   "source": [
    "## text emphasis"
   ]
  },
  {
   "cell_type": "markdown",
   "metadata": {},
   "source": [
    "### bold"
   ]
  },
  {
   "cell_type": "markdown",
   "metadata": {},
   "source": [
    "<u><u>Markdown syntax:</u></u>"
   ]
  },
  {
   "cell_type": "raw",
   "metadata": {},
   "source": [
    "**This is bold text**  \n",
    "__This is bold text__"
   ]
  },
  {
   "cell_type": "markdown",
   "metadata": {},
   "source": [
    "<u>Rendered output:</u>  \n",
    "<br/>\n",
    "**This is bold text**  \n",
    "__This is bold text__"
   ]
  },
  {
   "cell_type": "markdown",
   "metadata": {},
   "source": [
    "### italic"
   ]
  },
  {
   "cell_type": "markdown",
   "metadata": {},
   "source": [
    "<u><u>Markdown syntax:</u></u>"
   ]
  },
  {
   "cell_type": "raw",
   "metadata": {},
   "source": [
    "*This is italicized text*  \n",
    "_This is italicized text_"
   ]
  },
  {
   "cell_type": "markdown",
   "metadata": {},
   "source": [
    "<u>Rendered output:</u>  \n",
    "<br/>\n",
    "*This is italicized text*  \n",
    "_This is italicized text_"
   ]
  },
  {
   "cell_type": "markdown",
   "metadata": {},
   "source": [
    "### strikethrouh"
   ]
  },
  {
   "cell_type": "markdown",
   "metadata": {},
   "source": [
    "<u><u>Markdown syntax:</u></u>"
   ]
  },
  {
   "cell_type": "raw",
   "metadata": {},
   "source": [
    "~This is text with strikethrough~"
   ]
  },
  {
   "cell_type": "markdown",
   "metadata": {},
   "source": [
    "<u>Rendered output:</u>  \n",
    "<br/>\n",
    "~This is text with strikethrough~"
   ]
  },
  {
   "cell_type": "markdown",
   "metadata": {},
   "source": [
    "### underline"
   ]
  },
  {
   "cell_type": "markdown",
   "metadata": {},
   "source": [
    "HTML syntax:"
   ]
  },
  {
   "cell_type": "raw",
   "metadata": {},
   "source": [
    "<u>This text is underlined</u>"
   ]
  },
  {
   "cell_type": "markdown",
   "metadata": {},
   "source": [
    "<u>Rendered output:</u>"
   ]
  },
  {
   "cell_type": "markdown",
   "metadata": {},
   "source": [
    "<u>This text is underlined</u>"
   ]
  },
  {
   "cell_type": "markdown",
   "metadata": {},
   "source": [
    "### highlight"
   ]
  },
  {
   "cell_type": "markdown",
   "metadata": {},
   "source": [
    "<u><u>Markdown syntax:</u></u>"
   ]
  },
  {
   "cell_type": "raw",
   "metadata": {},
   "source": [
    "This `word` is highlighted, so is <mark>this</mark> one."
   ]
  },
  {
   "cell_type": "markdown",
   "metadata": {},
   "source": [
    "<u>Rendered output:</u>"
   ]
  },
  {
   "cell_type": "markdown",
   "metadata": {},
   "source": [
    "This `word` is highlighted, so is <mark>this</mark> one."
   ]
  },
  {
   "cell_type": "markdown",
   "metadata": {},
   "source": [
    "### HTML interpretation"
   ]
  },
  {
   "cell_type": "markdown",
   "metadata": {},
   "source": [
    "<u><u>Markdown syntax:</u></u>"
   ]
  },
  {
   "cell_type": "raw",
   "metadata": {},
   "source": [
    "<p style=\"color:black; \n",
    "          background-color:MediumSeaGreen;\n",
    "          font-family:verdana;\n",
    "          font-weight: bold; \n",
    "          font-size:10px;\n",
    "          text-decoration: underline;\">\n",
    "    This is a text styled with HTML syntax.\n",
    "</p>  \n",
    "\n",
    "<span style=\"color:red\">This too.</span>"
   ]
  },
  {
   "cell_type": "markdown",
   "metadata": {},
   "source": [
    "<u>Rendered output:</u>"
   ]
  },
  {
   "cell_type": "markdown",
   "metadata": {},
   "source": [
    "<p style=\"color:black; \n",
    "          background-color:MediumSeaGreen;\n",
    "          font-family:verdana;\n",
    "          font-weight: bold; \n",
    "          font-size:10px;\n",
    "          text-decoration: underline;\">\n",
    "    This is a text styled with HTML syntax.\n",
    "</p>  \n",
    "\n",
    "<span style=\"color:red\">This too.</span>"
   ]
  },
  {
   "cell_type": "markdown",
   "metadata": {},
   "source": [
    "## blockquotes"
   ]
  },
  {
   "cell_type": "markdown",
   "metadata": {},
   "source": [
    "<u><u>Markdown syntax:</u></u>"
   ]
  },
  {
   "cell_type": "raw",
   "metadata": {},
   "source": [
    "> This text is in a blockquote.\n",
    ">> This is a nested bloquote\n",
    ">>> and then some more"
   ]
  },
  {
   "cell_type": "markdown",
   "metadata": {},
   "source": [
    "<u>Rendered output:</u>"
   ]
  },
  {
   "cell_type": "markdown",
   "metadata": {},
   "source": [
    "> This text is in a blockquote.\n",
    ">> This is a nested bloquote\n",
    ">>> and then some more"
   ]
  },
  {
   "cell_type": "markdown",
   "metadata": {},
   "source": [
    "## colored boxes"
   ]
  },
  {
   "cell_type": "markdown",
   "metadata": {},
   "source": [
    "<u><u>Markdown syntax:</u></u>"
   ]
  },
  {
   "cell_type": "raw",
   "metadata": {},
   "source": [
    "<div class=\"alert alert-block alert-info\"><b>Tip:</b> Use this as top display tips.</div>\n",
    "\n",
    "<div class=\"alert alert-block alert-warning\"><b>Example:</b> Use this to display examples, display warning messages.</div>\n",
    "\n",
    "<div class=\"alert alert-block alert-success\"><b>Success:</b> Use this to display a successful action.</div>\n",
    "\n",
    "<div class=\"alert alert-block alert-danger\"><b>Danger:</b> Use this to display a dangerous action.</div>"
   ]
  },
  {
   "cell_type": "markdown",
   "metadata": {},
   "source": [
    "<u>Rendered output:</u>"
   ]
  },
  {
   "cell_type": "markdown",
   "metadata": {},
   "source": [
    "<div class=\"alert alert-block alert-info\"><b>Tip:</b> Use this as top display tips.</div>\n",
    "\n",
    "<div class=\"alert alert-block alert-warning\"><b>Example:</b> Use this to display examples, display warning messages.</div>\n",
    "\n",
    "<div class=\"alert alert-block alert-success\"><b>Success:</b> Use this to display a successful action.</div>\n",
    "\n",
    "<div class=\"alert alert-block alert-danger\"><b>Danger:</b> Use this to display a dangerous action.</div>"
   ]
  },
  {
   "cell_type": "markdown",
   "metadata": {},
   "source": [
    "## code syntax"
   ]
  },
  {
   "cell_type": "markdown",
   "metadata": {},
   "source": [
    "<u><u>Markdown syntax:</u></u>  \n",
    "<u>Note</u>: can use various syntax: _javascript_, _shell_, etc."
   ]
  },
  {
   "cell_type": "raw",
   "metadata": {},
   "source": [
    "```python\n",
    "import numpy as np\n",
    "s = \"Python syntax highlighting\"\n",
    "print(s)\n",
    "```"
   ]
  },
  {
   "cell_type": "markdown",
   "metadata": {},
   "source": [
    "<u>Rendered output:</u>  "
   ]
  },
  {
   "cell_type": "markdown",
   "metadata": {},
   "source": [
    "```python\n",
    "import numpy as np\n",
    "s = \"Python syntax highlighting\"\n",
    "print(s)\n",
    "```"
   ]
  },
  {
   "cell_type": "markdown",
   "metadata": {},
   "source": [
    "## special characters and symbols\n",
    "Decimal code or hex reference number can be used to introduce special characters and symbols."
   ]
  },
  {
   "cell_type": "markdown",
   "metadata": {},
   "source": [
    "Example: [UTF-8 Arrows](https://www.w3schools.com/charsets/ref_utf_arrows.asp)"
   ]
  },
  {
   "cell_type": "markdown",
   "metadata": {},
   "source": [
    "- Rightwards double arrow (using UTF-8 code): &rArr; \n",
    "- Rightwards white arrow (using DEC code): &#8680;\n",
    "- Tab = 4 spaces (using UTF-8 code): insert tab &emsp; in text"
   ]
  },
  {
   "cell_type": "markdown",
   "metadata": {},
   "source": [
    "Example: [General Punctuation](https://www.w3schools.com/charsets/ref_utf_punctuation.asp)\n",
    "- Dash using UTF-8 code: &ndash;\n",
    "- Hyphen using DEC code: &#8208;"
   ]
  },
  {
   "cell_type": "markdown",
   "metadata": {},
   "source": [
    "Example: [Emoji Unicode](https://www.w3schools.com/charsets/ref_emoji.asp)"
   ]
  },
  {
   "cell_type": "markdown",
   "metadata": {},
   "source": [
    "* Green checkbox (using DEC code): &#10062;"
   ]
  },
  {
   "cell_type": "markdown",
   "metadata": {},
   "source": [
    "## links"
   ]
  },
  {
   "cell_type": "markdown",
   "metadata": {},
   "source": [
    "### hyperlinks"
   ]
  },
  {
   "cell_type": "markdown",
   "metadata": {},
   "source": [
    "Syntax:"
   ]
  },
  {
   "cell_type": "raw",
   "metadata": {},
   "source": [
    "[link](https://en.wikipedia.org/wiki/Markdown) with Markdown syntax\n",
    "\n",
    "<a href=\"https://en.wikipedia.org/wiki/Markdown\" style='color:red' target=\"_blank\">customed link</a> with HTML syntax"
   ]
  },
  {
   "cell_type": "markdown",
   "metadata": {},
   "source": [
    "<u>Rendered output:</u>"
   ]
  },
  {
   "cell_type": "markdown",
   "metadata": {},
   "source": [
    "[link](https://en.wikipedia.org/wiki/Markdown) with Markdown syntax\n",
    "\n",
    "<a href=\"https://en.wikipedia.org/wiki/Markdown\" style='color:red' target=\"_blank\">customed link</a> with HTML syntax"
   ]
  },
  {
   "cell_type": "markdown",
   "metadata": {},
   "source": [
    "### internal links"
   ]
  },
  {
   "cell_type": "markdown",
   "metadata": {},
   "source": [
    "<u><u>Markdown syntax:</u></u>  \n",
    "<u>Note</u>: replace any spaces and special characters with a hyphen (-)"
   ]
  },
  {
   "cell_type": "raw",
   "metadata": {},
   "source": [
    "[What is a Jupyter Notebook?](#What-is-a-Jupyter-Notebook?)"
   ]
  },
  {
   "cell_type": "markdown",
   "metadata": {},
   "source": [
    "<u>Rendered output:</u>"
   ]
  },
  {
   "cell_type": "markdown",
   "metadata": {},
   "source": [
    "[What is a Jupyter Notebook?](#What-is-a-Jupyter-Notebook?)"
   ]
  },
  {
   "cell_type": "markdown",
   "metadata": {},
   "source": [
    "### navigation menu"
   ]
  },
  {
   "cell_type": "markdown",
   "metadata": {},
   "source": [
    "HTML syntax:"
   ]
  },
  {
   "cell_type": "raw",
   "metadata": {},
   "source": [
    "<nav>\n",
    "    <a href=\"https://en.wikipedia.org/wiki/Markdown\">Wikipedia</a> |\n",
    "    <a href=\"https://github.com/adam-p/markdown-here/wiki/Markdown-Cheatsheet\">Github</a> |\n",
    "    <a href=\"https://www.markdownguide.org/\">Official</a>\n",
    "</nav>"
   ]
  },
  {
   "cell_type": "markdown",
   "metadata": {},
   "source": [
    "<u>Rendered output:</u>"
   ]
  },
  {
   "cell_type": "markdown",
   "metadata": {},
   "source": [
    "<nav>\n",
    "    <a href=\"https://en.wikipedia.org/wiki/Markdown\">Wikipedia</a> |\n",
    "    <a href=\"https://github.com/adam-p/markdown-here/wiki/Markdown-Cheatsheet\">Github</a> |\n",
    "    <a href=\"https://www.markdownguide.org/\">Official</a>\n",
    "</nav>"
   ]
  },
  {
   "cell_type": "markdown",
   "metadata": {},
   "source": [
    "## horizontal lines"
   ]
  },
  {
   "cell_type": "markdown",
   "metadata": {},
   "source": [
    "<u><u>Markdown syntax:</u></u>"
   ]
  },
  {
   "cell_type": "raw",
   "metadata": {},
   "source": [
    "***"
   ]
  },
  {
   "cell_type": "markdown",
   "metadata": {},
   "source": [
    "<u>Rendered output:</u>"
   ]
  },
  {
   "cell_type": "markdown",
   "metadata": {},
   "source": [
    "***"
   ]
  },
  {
   "cell_type": "markdown",
   "metadata": {},
   "source": [
    "## insert images"
   ]
  },
  {
   "cell_type": "markdown",
   "metadata": {},
   "source": [
    "<u><u>Markdown syntax:</u></u>  \n",
    "<u>Note</u>: paths to image can be local (stored on computer) or remote (url)"
   ]
  },
  {
   "cell_type": "raw",
   "metadata": {},
   "source": [
    "![my image](https://upload.wikimedia.org/wikipedia/commons/thumb/4/48/Markdown-mark.svg/175px-Markdown-mark.svg.png)"
   ]
  },
  {
   "cell_type": "markdown",
   "metadata": {},
   "source": [
    "<u>Rendered output:</u>"
   ]
  },
  {
   "cell_type": "markdown",
   "metadata": {},
   "source": [
    "![my image](https://upload.wikimedia.org/wikipedia/commons/thumb/4/48/Markdown-mark.svg/175px-Markdown-mark.svg.png)"
   ]
  },
  {
   "cell_type": "markdown",
   "metadata": {},
   "source": [
    "## table"
   ]
  },
  {
   "cell_type": "markdown",
   "metadata": {},
   "source": [
    "<u><u>Markdown syntax:</u></u>\n",
    "\n",
    "<u>Note</u>: by default the text the cells justify to the right  \n",
    "> Use :-: for centered  \n",
    "> Use — for right centered  \n",
    "> Use :- for left centered"
   ]
  },
  {
   "cell_type": "raw",
   "metadata": {},
   "source": [
    "|Header|Header|Header|\n",
    "|------|------|------|\n",
    "|A     |B     |C     |\n",
    "|X     |Y     |Z     |\n",
    "\n",
    "|Header|Header|Header|\n",
    "|:-:|:-:|:-:|\n",
    "|A     |B     |C     |\n",
    "|X     |Y     |Z     |"
   ]
  },
  {
   "cell_type": "markdown",
   "metadata": {},
   "source": [
    "<u>Rendered output:</u>"
   ]
  },
  {
   "cell_type": "markdown",
   "metadata": {},
   "source": [
    "|Header|Header|Header|\n",
    "|------|------|------|\n",
    "|A     |B     |C     |\n",
    "|X     |Y     |Z     |\n",
    "\n",
    "|Header|Header|Header|\n",
    "|:-:|:-:|:-:|\n",
    "|A     |B     |C     |\n",
    "|X     |Y     |Z     |"
   ]
  },
  {
   "cell_type": "markdown",
   "metadata": {},
   "source": [
    "## backslash escape\n",
    "The backslash character prevents Markdown from interpreting the following character as an instruction; it is instead interpreted as a character."
   ]
  },
  {
   "cell_type": "markdown",
   "metadata": {},
   "source": [
    "<u><u>Markdown syntax:</u></u>"
   ]
  },
  {
   "cell_type": "raw",
   "metadata": {},
   "source": [
    "\\# Not a header"
   ]
  },
  {
   "cell_type": "markdown",
   "metadata": {},
   "source": [
    "<u>Rendered output:</u>"
   ]
  },
  {
   "cell_type": "markdown",
   "metadata": {},
   "source": [
    "\\# Not a header"
   ]
  },
  {
   "cell_type": "markdown",
   "metadata": {},
   "source": [
    "## LaTeX equations"
   ]
  },
  {
   "cell_type": "markdown",
   "metadata": {},
   "source": [
    "### inline equations:"
   ]
  },
  {
   "cell_type": "markdown",
   "metadata": {},
   "source": [
    "<u><u>Markdown syntax:</u></u>"
   ]
  },
  {
   "cell_type": "raw",
   "metadata": {},
   "source": [
    "The mass-energy equivalence is stated by the equation: $E=mc^2$"
   ]
  },
  {
   "cell_type": "markdown",
   "metadata": {},
   "source": [
    "<u>Rendered output:</u>"
   ]
  },
  {
   "cell_type": "markdown",
   "metadata": {},
   "source": [
    "The mass-energy equivalence is stated by the equation: $E=mc^2$"
   ]
  },
  {
   "cell_type": "markdown",
   "metadata": {},
   "source": [
    "### math mode equation"
   ]
  },
  {
   "cell_type": "markdown",
   "metadata": {},
   "source": [
    "<u><u>Markdown syntax:</u></u>"
   ]
  },
  {
   "cell_type": "raw",
   "metadata": {},
   "source": [
    "$$\\oint_C {E \\cdot d\\ell = - \\frac{d}{{dt}}} \\int_S {B_n dA}$$\n",
    "\n",
    "\\begin{align*}\n",
    "  f(x) &= x^2\\\\\n",
    "  g(x) &= \\int^a_b \\frac{1}{3}x^3\n",
    "\\end{align*}"
   ]
  },
  {
   "cell_type": "markdown",
   "metadata": {},
   "source": [
    "<u>Rendered output:</u>"
   ]
  },
  {
   "cell_type": "markdown",
   "metadata": {},
   "source": [
    "$$\\oint_C {E \\cdot d\\ell = - \\frac{d}{{dt}}} \\int_S {B_n dA}$$\n",
    "\n",
    "\\begin{align*}\n",
    "  f(x) &= x^2\\\\\n",
    "  g(x) &= \\frac{1}{x}\\\\\n",
    "  F(x) &= \\int^a_b \\frac{1}{3}x^3\n",
    "\\end{align*}"
   ]
  },
  {
   "cell_type": "markdown",
   "metadata": {},
   "source": [
    "# IPython Magic commands"
   ]
  },
  {
   "cell_type": "markdown",
   "metadata": {},
   "source": [
    "Magic commands are special commands which add special functionalities to the jupyter notebook interface.  \n",
    "Below is a selection of some useful commands."
   ]
  },
  {
   "cell_type": "markdown",
   "metadata": {},
   "source": [
    "## lsmagic\n",
    "    List currently available magic functions."
   ]
  },
  {
   "cell_type": "code",
   "execution_count": 37,
   "metadata": {},
   "outputs": [
    {
     "data": {
      "application/json": {
       "cell": {
        "!": "OSMagics",
        "HTML": "Other",
        "SVG": "Other",
        "bash": "Other",
        "capture": "ExecutionMagics",
        "debug": "ExecutionMagics",
        "file": "Other",
        "html": "DisplayMagics",
        "javascript": "DisplayMagics",
        "js": "DisplayMagics",
        "latex": "DisplayMagics",
        "markdown": "DisplayMagics",
        "perl": "Other",
        "prun": "ExecutionMagics",
        "pypy": "Other",
        "python": "Other",
        "python2": "Other",
        "python3": "Other",
        "ruby": "Other",
        "script": "ScriptMagics",
        "sh": "Other",
        "svg": "DisplayMagics",
        "sx": "OSMagics",
        "system": "OSMagics",
        "time": "ExecutionMagics",
        "timeit": "ExecutionMagics",
        "writefile": "OSMagics"
       },
       "line": {
        "alias": "OSMagics",
        "alias_magic": "BasicMagics",
        "autoawait": "AsyncMagics",
        "autocall": "AutoMagics",
        "automagic": "AutoMagics",
        "autosave": "KernelMagics",
        "bookmark": "OSMagics",
        "cat": "Other",
        "cd": "OSMagics",
        "clear": "KernelMagics",
        "colors": "BasicMagics",
        "conda": "PackagingMagics",
        "config": "ConfigMagics",
        "connect_info": "KernelMagics",
        "cp": "Other",
        "debug": "ExecutionMagics",
        "dhist": "OSMagics",
        "dirs": "OSMagics",
        "doctest_mode": "BasicMagics",
        "ed": "Other",
        "edit": "KernelMagics",
        "env": "OSMagics",
        "gui": "BasicMagics",
        "hist": "Other",
        "history": "HistoryMagics",
        "killbgscripts": "ScriptMagics",
        "ldir": "Other",
        "less": "KernelMagics",
        "lf": "Other",
        "lk": "Other",
        "ll": "Other",
        "load": "CodeMagics",
        "load_ext": "ExtensionMagics",
        "loadpy": "CodeMagics",
        "logoff": "LoggingMagics",
        "logon": "LoggingMagics",
        "logstart": "LoggingMagics",
        "logstate": "LoggingMagics",
        "logstop": "LoggingMagics",
        "ls": "Other",
        "lsmagic": "BasicMagics",
        "lx": "Other",
        "macro": "ExecutionMagics",
        "magic": "BasicMagics",
        "man": "KernelMagics",
        "matplotlib": "PylabMagics",
        "mkdir": "Other",
        "more": "KernelMagics",
        "mv": "Other",
        "notebook": "BasicMagics",
        "page": "BasicMagics",
        "pastebin": "CodeMagics",
        "pdb": "ExecutionMagics",
        "pdef": "NamespaceMagics",
        "pdoc": "NamespaceMagics",
        "pfile": "NamespaceMagics",
        "pinfo": "NamespaceMagics",
        "pinfo2": "NamespaceMagics",
        "pip": "PackagingMagics",
        "popd": "OSMagics",
        "pprint": "BasicMagics",
        "precision": "BasicMagics",
        "prun": "ExecutionMagics",
        "psearch": "NamespaceMagics",
        "psource": "NamespaceMagics",
        "pushd": "OSMagics",
        "pwd": "OSMagics",
        "pycat": "OSMagics",
        "pylab": "PylabMagics",
        "qtconsole": "KernelMagics",
        "quickref": "BasicMagics",
        "recall": "HistoryMagics",
        "rehashx": "OSMagics",
        "reload_ext": "ExtensionMagics",
        "rep": "Other",
        "rerun": "HistoryMagics",
        "reset": "NamespaceMagics",
        "reset_selective": "NamespaceMagics",
        "rm": "Other",
        "rmdir": "Other",
        "run": "ExecutionMagics",
        "save": "CodeMagics",
        "sc": "OSMagics",
        "set_env": "OSMagics",
        "store": "StoreMagics",
        "sx": "OSMagics",
        "system": "OSMagics",
        "tb": "ExecutionMagics",
        "time": "ExecutionMagics",
        "timeit": "ExecutionMagics",
        "unalias": "OSMagics",
        "unload_ext": "ExtensionMagics",
        "who": "NamespaceMagics",
        "who_ls": "NamespaceMagics",
        "whos": "NamespaceMagics",
        "xdel": "NamespaceMagics",
        "xmode": "BasicMagics"
       }
      },
      "text/plain": [
       "Available line magics:\n",
       "%alias  %alias_magic  %autoawait  %autocall  %automagic  %autosave  %bookmark  %cat  %cd  %clear  %colors  %conda  %config  %connect_info  %cp  %debug  %dhist  %dirs  %doctest_mode  %ed  %edit  %env  %gui  %hist  %history  %killbgscripts  %ldir  %less  %lf  %lk  %ll  %load  %load_ext  %loadpy  %logoff  %logon  %logstart  %logstate  %logstop  %ls  %lsmagic  %lx  %macro  %magic  %man  %matplotlib  %mkdir  %more  %mv  %notebook  %page  %pastebin  %pdb  %pdef  %pdoc  %pfile  %pinfo  %pinfo2  %pip  %popd  %pprint  %precision  %prun  %psearch  %psource  %pushd  %pwd  %pycat  %pylab  %qtconsole  %quickref  %recall  %rehashx  %reload_ext  %rep  %rerun  %reset  %reset_selective  %rm  %rmdir  %run  %save  %sc  %set_env  %store  %sx  %system  %tb  %time  %timeit  %unalias  %unload_ext  %who  %who_ls  %whos  %xdel  %xmode\n",
       "\n",
       "Available cell magics:\n",
       "%%!  %%HTML  %%SVG  %%bash  %%capture  %%debug  %%file  %%html  %%javascript  %%js  %%latex  %%markdown  %%perl  %%prun  %%pypy  %%python  %%python2  %%python3  %%ruby  %%script  %%sh  %%svg  %%sx  %%system  %%time  %%timeit  %%writefile\n",
       "\n",
       "Automagic is ON, % prefix IS NOT needed for line magics."
      ]
     },
     "execution_count": 37,
     "metadata": {},
     "output_type": "execute_result"
    }
   ],
   "source": [
    "%lsmagic"
   ]
  },
  {
   "cell_type": "markdown",
   "metadata": {},
   "source": [
    "## run file\n",
    "    Execute a python script."
   ]
  },
  {
   "cell_type": "code",
   "execution_count": null,
   "metadata": {},
   "outputs": [],
   "source": [
    "%run <my_script.py>"
   ]
  },
  {
   "cell_type": "markdown",
   "metadata": {},
   "source": [
    "## load file\n",
    "    Insert code from an external file into cell."
   ]
  },
  {
   "cell_type": "code",
   "execution_count": null,
   "metadata": {},
   "outputs": [],
   "source": [
    "%load <my_script.py>"
   ]
  },
  {
   "cell_type": "markdown",
   "metadata": {},
   "source": [
    "## writefile\n",
    "    Export the contents of a cell/Show the contents of an external script"
   ]
  },
  {
   "cell_type": "code",
   "execution_count": 14,
   "metadata": {},
   "outputs": [
    {
     "name": "stdout",
     "output_type": "stream",
     "text": [
      "Writing pythoncode.py\n"
     ]
    }
   ],
   "source": [
    "%%writefile pythoncode.py \n",
    "\n",
    "import numpy\n",
    "a = 1\n",
    "b = 2\n",
    "\n",
    "def add(x,y)\n",
    "    return x+y\n",
    "\n",
    "c = add(a, b)"
   ]
  },
  {
   "cell_type": "markdown",
   "metadata": {},
   "source": [
    "## time\n",
    "    Time the execution of the code. "
   ]
  },
  {
   "cell_type": "code",
   "execution_count": 42,
   "metadata": {},
   "outputs": [
    {
     "name": "stdout",
     "output_type": "stream",
     "text": [
      "CPU times: user 0 ns, sys: 0 ns, total: 0 ns\n",
      "Wall time: 8.11 µs\n"
     ]
    }
   ],
   "source": [
    "%time\n",
    "\n",
    "import random\n",
    "for i in range(0, 1000000):\n",
    "    random.random()"
   ]
  },
  {
   "cell_type": "markdown",
   "metadata": {},
   "source": [
    "## matplotlib display\n",
    "    Select how to display matlpotlib graphs."
   ]
  },
  {
   "cell_type": "markdown",
   "metadata": {},
   "source": [
    "**List the available backends:**  \n",
    "<u>Note</u>: not all will work, it depends on your installation"
   ]
  },
  {
   "cell_type": "code",
   "execution_count": 48,
   "metadata": {},
   "outputs": [
    {
     "name": "stdout",
     "output_type": "stream",
     "text": [
      "Available matplotlib backends: ['tk', 'gtk', 'gtk3', 'wx', 'qt4', 'qt5', 'qt', 'osx', 'nbagg', 'notebook', 'agg', 'svg', 'pdf', 'ps', 'inline', 'ipympl', 'widget']\n"
     ]
    }
   ],
   "source": [
    "%matplotlib --list"
   ]
  },
  {
   "cell_type": "markdown",
   "metadata": {},
   "source": [
    "**Plot static figure embedded in notebook (default setting):**"
   ]
  },
  {
   "cell_type": "code",
   "execution_count": 6,
   "metadata": {},
   "outputs": [],
   "source": [
    "%matplotlib inline"
   ]
  },
  {
   "cell_type": "code",
   "execution_count": 7,
   "metadata": {},
   "outputs": [
    {
     "data": {
      "text/plain": [
       "[<matplotlib.lines.Line2D at 0x7ff98343f2e0>]"
      ]
     },
     "execution_count": 7,
     "metadata": {},
     "output_type": "execute_result"
    },
    {
     "data": {
      "image/png": "[encoded data removed]",
      "text/plain": [
       "<Figure size 432x288 with 1 Axes>"
      ]
     },
     "metadata": {
      "needs_background": "light"
     },
     "output_type": "display_data"
    }
   ],
   "source": [
    "from matplotlib import pyplot as plt\n",
    "x = [1,2,3,4,5]\n",
    "y = [6,7,8,9,10]\n",
    "plt.plot(x, y)"
   ]
  },
  {
   "cell_type": "markdown",
   "metadata": {},
   "source": [
    "**Plot interactive figure:**"
   ]
  },
  {
   "cell_type": "code",
   "execution_count": 2,
   "metadata": {},
   "outputs": [],
   "source": [
    "%matplotlib notebook"
   ]
  },
  {
   "cell_type": "code",
   "execution_count": null,
   "metadata": {},
   "outputs": [],
   "source": [
    "from matplotlib import pyplot as plt\n",
    "x = [1,2,3,4,5]\n",
    "y = [6,7,8,9,10]\n",
    "plt.plot(x, y)"
   ]
  },
  {
   "cell_type": "markdown",
   "metadata": {},
   "source": [
    "## autoreload modules\n",
    "    Reload modules before executing user code.\n",
    "    \n",
    "    %autoreload 0 => Disable automatic reloading.\n",
    "    %autoreload 1 => Reload all modules imported every time before executing the Python code typed.\n",
    "    %autoreload 2 => Reload all modules every time before executing the Python code typed\n",
    "    %aimport      => List modules which are to be automatically imported or not to be imported."
   ]
  },
  {
   "cell_type": "code",
   "execution_count": null,
   "metadata": {},
   "outputs": [],
   "source": [
    "%load_ext autoreload\n",
    "%autoreload 2"
   ]
  },
  {
   "cell_type": "code",
   "execution_count": null,
   "metadata": {},
   "outputs": [],
   "source": [
    "from foo import some_function"
   ]
  },
  {
   "cell_type": "code",
   "execution_count": null,
   "metadata": {},
   "outputs": [],
   "source": [
    "# Run function\n",
    "some_function()"
   ]
  },
  {
   "cell_type": "code",
   "execution_count": null,
   "metadata": {},
   "outputs": [],
   "source": [
    "# Open foo.py in an editor and change some_function to return 43"
   ]
  },
  {
   "cell_type": "code",
   "execution_count": null,
   "metadata": {},
   "outputs": [],
   "source": [
    "# Run function after edit => will reflect the changes and return 43\n",
    "some_function()"
   ]
  },
  {
   "cell_type": "markdown",
   "metadata": {},
   "source": [
    "## cython\n",
    "<u>Note</u>: the following example requires to have the [cython](http://cython.readthedocs.io) package installed\n",
    "* Cython is Python with C data types.\n",
    "* Almost any Python code is also valid Cython\n",
    "* Cython will compile Python to C (and then to machine code)\n",
    "* Easily mix C and Python code\n",
    "* Easy writing of wrappers for C code\n",
    "* use cdefs and C types to type your code (only allowed at top level indentation)"
   ]
  },
  {
   "cell_type": "code",
   "execution_count": 27,
   "metadata": {},
   "outputs": [],
   "source": [
    "# --- Python implementation of primes():\n",
    "\n",
    "def primes():\n",
    "    result = []\n",
    "    p = [0] * 1000\n",
    "    kmax = 1000\n",
    "    k = 0\n",
    "    n = 2\n",
    "    while k < kmax:\n",
    "        i = 0\n",
    "        while i < k and n % p[i] != 0:\n",
    "            i = i + 1\n",
    "        if i == k:\n",
    "            p[k] = n\n",
    "            k = k + 1\n",
    "            result.append(n)\n",
    "        n = n + 1\n",
    "    return result"
   ]
  },
  {
   "cell_type": "code",
   "execution_count": 28,
   "metadata": {},
   "outputs": [
    {
     "name": "stdout",
     "output_type": "stream",
     "text": [
      "58.4 ms ± 1.13 ms per loop (mean ± std. dev. of 7 runs, 10 loops each)\n"
     ]
    }
   ],
   "source": [
    "%timeit primes()"
   ]
  },
  {
   "cell_type": "code",
   "execution_count": null,
   "metadata": {},
   "outputs": [],
   "source": [
    "# --- Cython implementation of primes():"
   ]
  },
  {
   "cell_type": "code",
   "execution_count": 21,
   "metadata": {},
   "outputs": [],
   "source": [
    "%load_ext Cython"
   ]
  },
  {
   "cell_type": "code",
   "execution_count": 29,
   "metadata": {},
   "outputs": [],
   "source": [
    "%%cython\n",
    "\n",
    "def primes():\n",
    "    cdef int n, k, i #<--- defines integer variables\n",
    "    cdef int p[1000] #<--- defines integer array\n",
    "    result = []\n",
    "\n",
    "    cdef int kmax = 1000 #<---\n",
    "    k = 0\n",
    "    n = 2\n",
    "    while k < kmax:\n",
    "        i = 0\n",
    "        while i < k and n % p[i] != 0:\n",
    "            i = i + 1\n",
    "        if i == k:\n",
    "            p[k] = n\n",
    "            k = k + 1\n",
    "            result.append(n)\n",
    "        n = n + 1\n",
    "    return result"
   ]
  },
  {
   "cell_type": "code",
   "execution_count": 30,
   "metadata": {},
   "outputs": [
    {
     "name": "stdout",
     "output_type": "stream",
     "text": [
      "2.16 ms ± 3.85 µs per loop (mean ± std. dev. of 7 runs, 100 loops each)\n"
     ]
    }
   ],
   "source": [
    "%timeit primes()"
   ]
  },
  {
   "cell_type": "markdown",
   "metadata": {},
   "source": [
    "# Excecute system command"
   ]
  },
  {
   "cell_type": "markdown",
   "metadata": {},
   "source": [
    "<u>Example</u>: list files in working directory"
   ]
  },
  {
   "cell_type": "code",
   "execution_count": null,
   "metadata": {},
   "outputs": [],
   "source": [
    "!ls -la "
   ]
  },
  {
   "cell_type": "markdown",
   "metadata": {},
   "source": [
    "<u>Example</u>: test python version, and cython package version"
   ]
  },
  {
   "cell_type": "code",
   "execution_count": null,
   "metadata": {},
   "outputs": [],
   "source": [
    "!python --version"
   ]
  },
  {
   "cell_type": "code",
   "execution_count": null,
   "metadata": {},
   "outputs": [],
   "source": [
    "!conda list | grep cython"
   ]
  },
  {
   "cell_type": "markdown",
   "metadata": {},
   "source": [
    "<u>Example</u>: install additional package"
   ]
  },
  {
   "cell_type": "code",
   "execution_count": null,
   "metadata": {},
   "outputs": [],
   "source": [
    "!conda install <package_name>\n",
    "!pip install <package_name>"
   ]
  },
  {
   "cell_type": "markdown",
   "metadata": {},
   "source": [
    "# Run code from a different kernel\n",
    "IPython can run various Kernel in a cell: `bash`, `HTML`, `ruby`, `perl`, `python2`, `python3`, etc."
   ]
  },
  {
   "cell_type": "markdown",
   "metadata": {},
   "source": [
    "<u>Example</u>: run bash code"
   ]
  },
  {
   "cell_type": "code",
   "execution_count": 6,
   "metadata": {},
   "outputs": [
    {
     "name": "stdout",
     "output_type": "stream",
     "text": [
      "i = 1\n",
      "i = 2\n",
      "i = 3\n",
      "i = 4\n",
      "i = 5\n"
     ]
    }
   ],
   "source": [
    "%%bash\n",
    "for i in {1..5}\n",
    "do echo \"i = $i\"\n",
    "done"
   ]
  },
  {
   "cell_type": "code",
   "execution_count": 23,
   "metadata": {},
   "outputs": [
    {
     "name": "stdout",
     "output_type": "stream",
     "text": [
      "0\n",
      "1\n",
      "2\n",
      "3\n",
      "4\n"
     ]
    }
   ],
   "source": [
    "%%python2\n",
    "for i in xrange(5):\n",
    "    print i"
   ]
  },
  {
   "cell_type": "code",
   "execution_count": 26,
   "metadata": {},
   "outputs": [
    {
     "name": "stdout",
     "output_type": "stream",
     "text": [
      "0\n",
      "1\n",
      "2\n",
      "3\n",
      "4\n"
     ]
    }
   ],
   "source": [
    "%%python3\n",
    "for i in range(5):\n",
    "    print(i)"
   ]
  },
  {
   "cell_type": "markdown",
   "metadata": {},
   "source": [
    "# Widgets\n",
    "See: https://github.com/jupyter-widgets/tutorial"
   ]
  },
  {
   "cell_type": "code",
   "execution_count": 12,
   "metadata": {},
   "outputs": [],
   "source": [
    "import ipywidgets as widgets"
   ]
  },
  {
   "cell_type": "markdown",
   "metadata": {},
   "source": [
    "## slider"
   ]
  },
  {
   "cell_type": "code",
   "execution_count": 23,
   "metadata": {},
   "outputs": [
    {
     "data": {
      "application/vnd.jupyter.widget-view+json": {
       "model_id": "bfcf43b9b9504f0b8d4aa52ec611b247",
       "version_major": 2,
       "version_minor": 0
      },
      "text/plain": [
       "FloatSlider(value=7.5, description='Input:', max=10.0, min=5.0)"
      ]
     },
     "metadata": {},
     "output_type": "display_data"
    }
   ],
   "source": [
    "slider = widgets.FloatSlider(\n",
    "    value=7.5,\n",
    "    min=5.0,\n",
    "    max=10.0,\n",
    "    step=0.1,\n",
    "    description='Input:',\n",
    ")\n",
    "\n",
    "slider"
   ]
  },
  {
   "cell_type": "code",
   "execution_count": 24,
   "metadata": {},
   "outputs": [
    {
     "name": "stdout",
     "output_type": "stream",
     "text": [
      "7.5\n"
     ]
    }
   ],
   "source": [
    "print(slider.value)"
   ]
  },
  {
   "cell_type": "markdown",
   "metadata": {},
   "source": [
    "## link widgets\n",
    "EX: set slider, and display value in a text box."
   ]
  },
  {
   "cell_type": "code",
   "execution_count": 22,
   "metadata": {},
   "outputs": [
    {
     "data": {
      "application/vnd.jupyter.widget-view+json": {
       "model_id": "3489c51316364487b0acc4d0cf361397",
       "version_major": 2,
       "version_minor": 0
      },
      "text/plain": [
       "VBox(children=(FloatSlider(value=8.3, description='Input:', max=10.0, min=5.0), FloatText(value=8.3, descripti…"
      ]
     },
     "metadata": {},
     "output_type": "display_data"
    }
   ],
   "source": [
    "# Create text box to hold slider value\n",
    "text = widgets.FloatText(description='Value')\n",
    "\n",
    "# Link slider value and text box value\n",
    "widgets.link((slider, 'value'), (text, 'value'))\n",
    "\n",
    "# Put them in a vertical box\n",
    "widgets.VBox([slider, text])"
   ]
  },
  {
   "cell_type": "markdown",
   "metadata": {},
   "source": [
    "## widget interaction with function"
   ]
  },
  {
   "cell_type": "code",
   "execution_count": 26,
   "metadata": {},
   "outputs": [],
   "source": [
    "def f(x):\n",
    "    print(x * x)"
   ]
  },
  {
   "cell_type": "code",
   "execution_count": 27,
   "metadata": {},
   "outputs": [
    {
     "data": {
      "application/vnd.jupyter.widget-view+json": {
       "model_id": "f4e19f0d5bd64381bae2e639dee0167a",
       "version_major": 2,
       "version_minor": 0
      },
      "text/plain": [
       "interactive(children=(IntSlider(value=50, description='x'), Output()), _dom_classes=('widget-interact',))"
      ]
     },
     "metadata": {},
     "output_type": "display_data"
    }
   ],
   "source": [
    "widgets.interact(f, x=(0, 100));"
   ]
  },
  {
   "cell_type": "code",
   "execution_count": 28,
   "metadata": {},
   "outputs": [
    {
     "data": {
      "application/vnd.jupyter.widget-view+json": {
       "model_id": "8ab996cb2b0549d6bf6daf91880b5b0a",
       "version_major": 2,
       "version_minor": 0
      },
      "text/plain": [
       "VBox(children=(FloatSlider(value=7.5, description='Input:', max=10.0, min=5.0), HTML(value='56.25', descriptio…"
      ]
     },
     "metadata": {},
     "output_type": "display_data"
    }
   ],
   "source": [
    "slider = widgets.FloatSlider(\n",
    "    value=7.5,\n",
    "    min=5.0,\n",
    "    max=10.0,\n",
    "    step=0.1,\n",
    "    description='Input:',\n",
    ")\n",
    "\n",
    "# Create non-editable text area to display square of value\n",
    "square_display = widgets.HTML(description=\"Square: \", value='{}'.format(slider.value**2))\n",
    "\n",
    "# Create function to update square_display's value when slider changes\n",
    "def update_square_display(change):\n",
    "    square_display.value = '{}'.format(change.new**2)\n",
    "    \n",
    "slider.observe(update_square_display, names='value')\n",
    "\n",
    "# Put them in a vertical box\n",
    "widgets.VBox([slider, square_display])"
   ]
  },
  {
   "cell_type": "markdown",
   "metadata": {},
   "source": [
    "## other Jupyter widget frameworks"
   ]
  },
  {
   "cell_type": "markdown",
   "metadata": {},
   "source": [
    " - [bqplot](https://github.com/bqplot/bqplot/blob/master/examples/Index.ipynb) - 2d plotting library in which everything displayed is a widget\n",
    " - [ipympl](https://github.com/matplotlib/ipympl) - widget backend for [matplotlib](https://matplotlib.org/3.2.2/contents.html) graphics\n",
    " - [pythreejs](https://pythreejs.readthedocs.io/en/stable/index.html) - low-level 3d graphics library\n",
    " - [ipyvolume](https://ipyvolume.readthedocs.io/en/latest/) - 3d plotting and volume rendering\n",
    " - [ipyleaflet](https://ipyleaflet.readthedocs.io/en/latest/)_ - interactive maps\n",
    " - [ipywebrtc](https://github.com/maartenbreddels/ipywebrtc) - video streaming\n",
    " - [ipysheet](https://ipysheet.readthedocs.io/en/latest/) - interactive spreadsheets\n",
    " - [ipytree](https://github.com/QuantStack/ipytree) - tree for viewing hierarchical material\n",
    " - [ipycanvas](https://ipycanvas.readthedocs.io/en/latest/?badge=latest) - interactive drawing in a notebook\n",
    " - [ipyevents](https://github.com/mwcraig/ipyevents/blob/master/doc/Widget%20DOM%20Events.ipynb) - capture mouse/keyboard events on a widget\n",
    " - ..."
   ]
  },
  {
   "cell_type": "markdown",
   "metadata": {},
   "source": [
    "<u>Installation example</u> (from terminal using Anaconda's package manager):\n",
    "```console\n",
    "$ conda install -c conda-forge bqplot\n",
    "```"
   ]
  },
  {
   "cell_type": "markdown",
   "metadata": {},
   "source": [
    "<u>Example</u>: binary star simulation dashboard using `ipywidgets`, `pythreejs`, and `bqplot`:  https://github.com/JuanCab/AstroInteractives"
   ]
  },
  {
   "cell_type": "markdown",
   "metadata": {},
   "source": [
    "# Convert notebook"
   ]
  },
  {
   "cell_type": "markdown",
   "metadata": {},
   "source": [
    "Notebooks can be converted to a number of formats, using the command from terminal: `jupter nbconvert --to <desired format>`"
   ]
  },
  {
   "cell_type": "markdown",
   "metadata": {},
   "source": [
    "## example conversion to slides"
   ]
  },
  {
   "cell_type": "markdown",
   "metadata": {},
   "source": [
    "1. In notebook:  \n",
    "    => View > Cell toolbar > Slideshow\n",
    "2. Select which cells should become slide, using the dropdown menu on the top right of each cell\n",
    "3. Create slideshow from notebook running following command in terminal:  \n",
    "```console\n",
    "$ jupyter nbconvert --to slides mynotebook.ipynb\n",
    "```\n",
    "=> a distinc file called \"mynotebook.slides.html\" will be generated in the same directory\n",
    "        "
   ]
  },
  {
   "cell_type": "markdown",
   "metadata": {},
   "source": [
    "# Tunneling through SSH"
   ]
  },
  {
   "cell_type": "markdown",
   "metadata": {},
   "source": [
    "1. Log into remote computer through SSH\n",
    "```console\n",
    "$ ssh user@ip\n",
    "```    \n",
    "2. In remote computer launch Jupyter with the --no-browser option:\n",
    "```console\n",
    "$ jupyter notebook --no-browser --port=8889\n",
    "```\n",
    "3. Open a second SSH connection with the remote computer, using the tunneling port specified above:\n",
    "```console\n",
    "$ ssh -L localhost:8888:localhost:8889 user@ip\n",
    "```\n",
    "4. Open a webrowser from your local computer and open Jupyter  \n",
    "        http://localhost:8888/tree/"
   ]
  }
 ],
 "metadata": {
  "kernelspec": {
   "display_name": "Python 3",
   "language": "python",
   "name": "python3"
  },
  "language_info": {
   "codemirror_mode": {
    "name": "ipython",
    "version": 3
   },
   "file_extension": ".py",
   "mimetype": "text/x-python",
   "name": "python",
   "nbconvert_exporter": "python",
   "pygments_lexer": "ipython3",
   "version": "3.8.5"
  },
  "toc": {
   "base_numbering": 1,
   "nav_menu": {},
   "number_sections": true,
   "sideBar": true,
   "skip_h1_title": false,
   "title_cell": "Table of Contents",
   "title_sidebar": "Contents",
   "toc_cell": true,
   "toc_position": {
    "height": "calc(100% - 180px)",
    "left": "10px",
    "top": "150px",
    "width": "234.6px"
   },
   "toc_section_display": true,
   "toc_window_display": true
  }
 },
 "nbformat": 4,
 "nbformat_minor": 4
}

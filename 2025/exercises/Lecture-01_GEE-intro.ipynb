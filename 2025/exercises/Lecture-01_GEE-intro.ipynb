{
  "cells": [
    {
      "cell_type": "markdown",
      "metadata": {
        "id": "1MeVLBPAYj4Q"
      },
      "source": [
        "<font size=\"6\"><b>Lecture 01: GEE introduction (exercises)</b></font>"
      ]
    },
    {
      "cell_type": "markdown",
      "metadata": {
        "id": "fOc9mnU6Y-BG"
      },
      "source": [
        "# Initialize"
      ]
    },
    {
      "cell_type": "code",
      "execution_count": null,
      "metadata": {
        "id": "YJskLSpK_Sn2"
      },
      "outputs": [],
      "source": [
        "import ee\n",
        "ee.Authenticate()\n",
        "ee.Initialize(project='your-project-id')  # <--- replace with your project ID\n",
        "\n",
        "import geemap"
      ]
    },
    {
      "cell_type": "markdown",
      "metadata": {
        "id": "DUvccJ6HYeVn"
      },
      "source": [
        "# EX1: jumpstart into Image visualization"
      ]
    },
    {
      "cell_type": "markdown",
      "metadata": {
        "id": "rjnp_iGzgZWd"
      },
      "source": [
        "## 1. Get image from Popocatépetl\n",
        "Ref gee collection: Landsat 8 / Collection 2 / Tier 1 TOA ([link](https://developers.google.com/earth-engine/datasets/catalog/LANDSAT_LC08_C02_T1_TOA))"
      ]
    },
    {
      "cell_type": "code",
      "execution_count": null,
      "metadata": {
        "id": "5O1Zy9dWZZ29"
      },
      "outputs": [],
      "source": [
        "image = ee.Image('LANDSAT/LC08/C02/T1_TOA/LC08_026047_20240127');"
      ]
    },
    {
      "cell_type": "markdown",
      "metadata": {},
      "source": [
        "<u>**NOTES**</u>\n",
        "\n",
        "**Existing Landsat collections and use case**:\n",
        "\n",
        "| GEE Collection | Data Type / Processing Level | Recommended Use Case |\n",
        "|----------------|-----------------------------|----------------------|\n",
        "| [LANDSAT/*/C02/T1_TOA](https://developers.google.com/earth-engine/datasets/catalog/LANDSAT_LC08_C02_T1_TOA) | **Top-of-Atmosphere Reflectance** — corrected for solar geometry but includes atmospheric effects | 👍 Quick visualizations, spectral indices when precision is not critical |\n",
        "| [LANDSAT/*/C02/T1_L2](https://developers.google.com/earth-engine/datasets/catalog/LANDSAT_LC08_C02_T1_L2) | **Surface Reflectance (SR)** + **Surface Temperature (ST)** — fully atmospherically corrected | ✅ Best for quantitative analysis: NDVI, land cover, biophysical modeling, time series |\n",
        "\n",
        "**Glossary:**\n",
        "\n",
        "- **Collection (C1 / C2):** Major reprocessing of Landsat data. Collection 2 (C2) is the current standard with improved geometric/radiometric corrections and harmonized products across Landsat 4–9.\n",
        "\n",
        "- **Level (L1 / L2):** Processing level. Level 1 = calibrated Top-of-Atmosphere (TOA) reflectance or radiance. Level 2 = **Surface Reflectance (SR) / Surface Temperature (ST)** with atmospheric corrections applied.\n",
        "\n",
        "- **Tier (Tier 1 / Tier 2):** Data quality. Tier 1 meets strict geometric, radiometric, and cloud-cover criteria (high quality). Tier 2 has lower quality or higher cloud cover; use only if needed for extra temporal coverage."
      ]
    },
    {
      "cell_type": "markdown",
      "metadata": {
        "id": "y_uojU6WhCIb"
      },
      "source": [
        "## 2. Display image information\n",
        "\n",
        "Landsat 8 description from [usgs](https://www.usgs.gov/landsat-missions/landsat-8)\n",
        "\n",
        "Landsat 8 (TOA) bands (table from [gee](https://developers.google.com/earth-engine/datasets/catalog/LANDSAT_LC08_C02_T1_TOA)):\n",
        "<br>\n",
        "\n",
        "<table class=\"eecat\">\n",
        "<tbody><tr>\n",
        "<th scope=\"col\">Name</th>\n",
        "<th scope=\"col\">Pixel Size</th>\n",
        "<th scope=\"col\">Wavelength</th>\n",
        "<th scope=\"col\">Description</th>\n",
        "</tr>\n",
        "<tr>\n",
        "<td><code translate=\"no\" dir=\"ltr\">B1</code></td>\n",
        "<td>\n",
        "      30 meters\n",
        "</td>\n",
        "<td>0.43 - 0.45 μm</td>\n",
        "<td><p>Coastal aerosol</p></td>\n",
        "</tr>\n",
        "<tr>\n",
        "<td><code translate=\"no\" dir=\"ltr\">B2</code></td>\n",
        "<td>\n",
        "      30 meters\n",
        "</td>\n",
        "<td>0.45 - 0.51 μm</td>\n",
        "<td><p>Blue</p></td>\n",
        "</tr>\n",
        "<tr>\n",
        "<td><code translate=\"no\" dir=\"ltr\">B3</code></td>\n",
        "<td>\n",
        "      30 meters\n",
        "</td>\n",
        "<td>0.53 - 0.59 μm</td>\n",
        "<td><p>Green</p></td>\n",
        "</tr>\n",
        "<tr>\n",
        "<td><code translate=\"no\" dir=\"ltr\">B4</code></td>\n",
        "<td>\n",
        "      30 meters\n",
        "</td>\n",
        "<td>0.64 - 0.67 μm</td>\n",
        "<td><p>Red</p></td>\n",
        "</tr>\n",
        "<tr>\n",
        "<td><code translate=\"no\" dir=\"ltr\">B5</code></td>\n",
        "<td>\n",
        "      30 meters\n",
        "</td>\n",
        "<td>0.85 - 0.88 μm</td>\n",
        "<td><p>Near infrared</p></td>\n",
        "</tr>\n",
        "<tr>\n",
        "<td><code translate=\"no\" dir=\"ltr\">B6</code></td>\n",
        "<td>\n",
        "      30 meters\n",
        "</td>\n",
        "<td>1.57 - 1.65 μm</td>\n",
        "<td><p>Shortwave infrared 1</p></td>\n",
        "</tr>\n",
        "<tr>\n",
        "<td><code translate=\"no\" dir=\"ltr\">B7</code></td>\n",
        "<td>\n",
        "      30 meters\n",
        "</td>\n",
        "<td>2.11 - 2.29 μm</td>\n",
        "<td><p>Shortwave infrared 2</p></td>\n",
        "</tr>\n",
        "<tr>\n",
        "<td><code translate=\"no\" dir=\"ltr\">B8</code></td>\n",
        "<td>\n",
        "      15 meters\n",
        "</td>\n",
        "<td>0.52 - 0.90 μm</td>\n",
        "<td><p>Band 8 Panchromatic</p></td>\n",
        "</tr>\n",
        "<tr>\n",
        "<td><code translate=\"no\" dir=\"ltr\">B9</code></td>\n",
        "<td>\n",
        "      15 meters\n",
        "</td>\n",
        "<td>1.36 - 1.38 μm</td>\n",
        "<td><p>Cirrus</p></td>\n",
        "</tr>\n",
        "<tr>\n",
        "<td><code translate=\"no\" dir=\"ltr\">B10</code></td>\n",
        "<td>\n",
        "      30 meters\n",
        "</td>\n",
        "<td>10.60 - 11.19 μm</td>\n",
        "<td><p>Thermal infrared 1, resampled from 100m to 30m</p></td>\n",
        "</tr>\n",
        "<tr>\n",
        "<td><code translate=\"no\" dir=\"ltr\">B11</code></td>\n",
        "<td>\n",
        "      30 meters\n",
        "</td>\n",
        "<td>11.50 - 12.51 μm</td>\n",
        "<td><p>Thermal infrared 2, resampled from 100m to 30m</p></td>\n",
        "</tr>\n",
        "</tbody></table>"
      ]
    },
    {
      "cell_type": "markdown",
      "metadata": {},
      "source": [
        "References:\n",
        "\n",
        "- [ee.Image](https://developers.google.com/earth-engine/apidocs/ee-image)\n",
        "- [ee.Image.get](https://developers.google.com/earth-engine/apidocs/ee-image-get)\n",
        "- [ee.Image.getInfo](https://developers.google.com/earth-engine/apidocs/ee-image-getinfo)"
      ]
    },
    {
      "cell_type": "code",
      "execution_count": null,
      "metadata": {
        "id": "hNnZprBDapBl"
      },
      "outputs": [],
      "source": [
        "# Explore Image object\n",
        "print(image)"
      ]
    },
    {
      "cell_type": "code",
      "execution_count": null,
      "metadata": {
        "id": "LdaVfzYfJZvn"
      },
      "outputs": [],
      "source": [
        "# Get image properties (EX: acquisition date)\n",
        "\n",
        "date = image.get('DATE_ACQUIRED')\n",
        "print(date.getInfo())"
      ]
    },
    {
      "cell_type": "code",
      "execution_count": null,
      "metadata": {
        "id": "9YFWHio8yXN0"
      },
      "outputs": [],
      "source": [
        "# Get bands info\n",
        "image.getInfo()['bands']"
      ]
    },
    {
      "cell_type": "markdown",
      "metadata": {
        "id": "_82QLuiehJc7"
      },
      "source": [
        "## 3. Plot RGB composites"
      ]
    },
    {
      "cell_type": "markdown",
      "metadata": {
        "id": "8QC7fYufhRf-"
      },
      "source": [
        "**Image visualization parameters** for map.addLayer.  \n",
        "Reference: [Map.addLayer](https://developers.google.com/earth-engine/apidocs/map-addlayer)\n",
        "\n",
        "<table>\n",
        "      \n",
        "<tr>\n",
        "        <th>Parameter</th>\n",
        "        <th>Description</th>\n",
        "        <th>Type</th>\n",
        "      </tr>\n",
        "      <tr>\n",
        "        <td><i>bands</i></td>\n",
        "        <td>Comma-delimited list of three band names to be mapped to RGB</td>\n",
        "        <td>list</td>\n",
        "      </tr>\n",
        "      <tr>\n",
        "        <td><i>min</i></td>\n",
        "        <td>Value(s) to map to 0</td>\n",
        "        <td>number or list of three numbers, one for each band</td>\n",
        "      </tr>\n",
        "      <tr>\n",
        "        <td><i>max</i></td>\n",
        "        <td>Value(s) to map to 255</td>\n",
        "        <td>number or list of three numbers, one for each band</td>\n",
        "      </tr>\n",
        "      <tr>\n",
        "        <td><i>gain</i></td>\n",
        "        <td>Value(s) by which to multiply each pixel value</td>\n",
        "        <td>number or list of three numbers, one for each band</td>\n",
        "      </tr>\n",
        "      <tr>\n",
        "        <td><i>bias</i></td>\n",
        "        <td>Value(s) to add to each DN</td>\n",
        "        <td>number or list of three numbers, one for each band</td>\n",
        "      </tr>\n",
        "      <tr>\n",
        "        <td><i>gamma</i></td>\n",
        "        <td>Gamma correction factor(s)</td>\n",
        "        <td>number or list of three numbers, one for each band</td>\n",
        "      </tr>\n",
        "      <tr>\n",
        "        <td><i>palette</i></td>\n",
        "        <td>List of CSS-style color strings (single-band images only)</td>\n",
        "        <td>comma-separated list of hex strings</td>\n",
        "      </tr>\n",
        "      <tr>\n",
        "        <td><i>opacity</i></td>\n",
        "        <td>The opacity of the layer (0.0 is fully transparent and 1.0 is fully opaque)</td>\n",
        "        <td>number</td>\n",
        "      </tr>\n",
        "      <tr>\n",
        "        <td><i>format</i></td>\n",
        "        <td>Either \"jpg\" or \"png\"</td>\n",
        "        <td>string</td>\n",
        "      </tr>\n",
        "\n",
        "</table>"
      ]
    },
    {
      "cell_type": "code",
      "execution_count": null,
      "metadata": {
        "id": "8wI3jDfCaa1f"
      },
      "outputs": [],
      "source": [
        "# Select visualization parameters for Natural color RGB\n",
        "vis_param = {'bands': ['B4', 'B3', 'B2'],\n",
        "             'min': 0,\n",
        "             'max': 0.3,\n",
        "             }\n",
        "\n",
        "# Center map on image and display\n",
        "Map = geemap.Map()\n",
        "Map.addLayerControl()  # Adds a layer control icon to the map\n",
        "Map.centerObject(image, zoom=9)  # zoom level ranges from 0 to 24 (if unspecified, computed based on the object's bounding box)\n",
        "Map.addLayer(image, vis_param, name='Natural color Landsat 8 TOA ({})'.format(date.getInfo()))\n",
        "Map"
      ]
    },
    {
      "cell_type": "markdown",
      "metadata": {
        "id": "8_mcw1HA6bfy"
      },
      "source": [
        "## 4. Plot single band with color palette"
      ]
    },
    {
      "cell_type": "code",
      "execution_count": null,
      "metadata": {
        "id": "A6fi-9tE4pVv"
      },
      "outputs": [],
      "source": [
        "# Select visualization parameters for single band\n",
        "palette = \"magma\"  # pre-defined colormaps\n",
        "palette = ['FFFFFF', '0000FF'] # custom colormaps (e.g. from white to blue)\n",
        "\n",
        "vis_param = {'bands': ['B2'], # blue band\n",
        "             'min': 0,\n",
        "             'max': 0.3,\n",
        "             'palette': palette,\n",
        "             }\n",
        "\n",
        "# Add layer to previous Map object\n",
        "Map.centerObject(image, zoom=9)  # zoom level ranges from 0 to 24 (if unspecified, computed based on the object's bounding box)\n",
        "Map.addLayer(image, vis_param, name='band B2 (blue)')\n",
        "Map"
      ]
    },
    {
      "cell_type": "markdown",
      "metadata": {},
      "source": [
        "<u>**NOTES**</u>\n",
        "\n",
        "**Hex Color Codes (RGB)**\n",
        "\n",
        "- Format: `RRGGBB` (6 hex digits)  \n",
        "  - `RR` → red channel  \n",
        "  - `GG` → green channel  \n",
        "  - `BB` → blue channel  \n",
        "- Each channel is a **decimal value 0–255**, converted to **2-digit hexadecimal**:  \n",
        "  - decimal `00` → hex `00`  \n",
        "  - decimal `255` → hex `FF`  \n",
        "  - Python example to format number to 2-digit hex: ```'{:02X}'.format(255)  # Output: 'FF'```\n",
        "\n",
        "- Examples:  \n",
        "  - `(255, 255, 255)` → `FF` `FF` `FF` → `'FFFFFF'` (white)  \n",
        "  - `(0, 0, 255)` → `00` `00` `FF` → `'0000FF'` (blue)  "
      ]
    },
    {
      "cell_type": "markdown",
      "metadata": {
        "id": "Tmz-Dr4v7H63"
      },
      "source": [
        "## 5. Clip region of interest\n",
        "\n",
        "Reference: [ee.Image.clip](https://developers.google.com/earth-engine/apidocs/ee-image-clip)"
      ]
    },
    {
      "cell_type": "code",
      "execution_count": null,
      "metadata": {
        "id": "OlWDt7V67KR7"
      },
      "outputs": [],
      "source": [
        "# Create Geometry object of the region of interest (roi): 10x10 km around Popocatépetl\n",
        "lon_min, lon_max = -98.67, -98.574\n",
        "lat_min, lat_max = 18.978, 19.068\n",
        "roi = ee.Geometry.Rectangle([lon_min, lat_min, lon_max, lat_max])\n",
        "\n",
        "# Clip image\n",
        "image_c = image.clip(roi)\n",
        "\n",
        "# Select visualization parameters\n",
        "vis_param = {'bands': ['B4', 'B3', 'B2'],\n",
        "             'min': 0,\n",
        "             'max': 0.3,\n",
        "             }\n",
        "\n",
        "# Center map on image and display\n",
        "Map = geemap.Map()\n",
        "Map.addLayerControl()\n",
        "Map.centerObject(image_c, zoom=13)\n",
        "Map.addLayer(image_c, vis_param, name='True color clip')\n",
        "Map"
      ]
    },
    {
      "cell_type": "markdown",
      "metadata": {
        "id": "nNMT9oe5ENQX"
      },
      "source": [
        "## Export image (thumbnail)\n",
        "\n",
        "Reference: [ee.Image.getThumbURL](https://developers.google.com/earth-engine/apidocs/ee-image-getthumburl)\n",
        "<table style=\"width:100%\">\n",
        "        <tbody><tr>\n",
        "          <th>Parameter</th>\n",
        "          <th>Description</th>\n",
        "          <th>Type</th>\n",
        "        </tr>\n",
        "        <tr>\n",
        "          <td><i>dimensions</i></td>\n",
        "          <td>Thumbnail dimensions in pixel units. If a single integer is provided, it defines the\n",
        "            size of the image's larger aspect dimension and scales the smaller dimension proportionally.\n",
        "            Defaults to 512 pixels for the larger image aspect dimension.</td>\n",
        "          <td>A single integer or string in the format:\n",
        "            'WIDTHxHEIGHT'</td>\n",
        "        </tr>\n",
        "        <tr>\n",
        "          <td><i>region</i></td>\n",
        "          <td>The geospatial region of the image to render. The whole image by default, or the bounds\n",
        "            of a provided geometry.\n",
        "          </td>\n",
        "          <td>GeoJSON or a 2-D list of at least three point coordinates that define a linear ring</td>\n",
        "        </tr>\n",
        "        <tr>\n",
        "          <td><i>crs</i></td>\n",
        "          <td>The target projection e.g. 'EPSG:3857'. Defaults to WGS84 ('EPSG:4326').\n",
        "          </td>\n",
        "          <td>String</td>\n",
        "        </tr>\n",
        "        <tr>\n",
        "          <td><i>format </i></td>\n",
        "          <td>Defines thumbnail format as either PNG or JPEG. The default PNG format is implemented as\n",
        "            RGBA, where the alpha channel represents valid and invalid pixels, defined by the\n",
        "            image's <code translate=\"no\" dir=\"ltr\">mask()</code>. Invalid pixels are transparent. The optional JPEG format\n",
        "            is implemented as RGB, where invalid image pixels are zero filled across RGB channels.\n",
        "          </td>\n",
        "          <td>String; either 'png' or 'jpg'</td>\n",
        "        </tr>\n",
        "      </tbody></table>\n"
      ]
    },
    {
      "cell_type": "code",
      "execution_count": null,
      "metadata": {
        "id": "wz1c_VzvERhx"
      },
      "outputs": [],
      "source": [
        "dimensions = 1000 # thumbnail dimensions in pixel units\n",
        "format = 'JPG'\n",
        "\n",
        "thumbnail_url = image_c.getThumbURL({\n",
        "  'bands': ['B4', 'B3', 'B2'],\n",
        "  'min': 0,\n",
        "  'max': 0.3,\n",
        "  'dimensions': dimensions,\n",
        "  'format': format\n",
        "  # 'crs': 'EPSG:3857'\n",
        "});\n",
        "\n",
        "print(\"Thumbnail URL:\", thumbnail_url)"
      ]
    },
    {
      "cell_type": "markdown",
      "metadata": {
        "id": "8f3GpHPoZnAy"
      },
      "source": [
        "# EX2: Search images (filter ImageCollections)"
      ]
    },
    {
      "cell_type": "markdown",
      "metadata": {
        "id": "9_Hxji__ZWxN"
      },
      "source": [
        "## Filter by location\n",
        "References:\n",
        "- [ee.Geometry.Point](https://developers.google.com/earth-engine/apidocs/ee-geometry-point)\n",
        "- [ee.ImageCollection.filterBounds](https://developers.google.com/earth-engine/apidocs/ee-imagecollection-filterbounds)"
      ]
    },
    {
      "cell_type": "code",
      "execution_count": null,
      "metadata": {
        "id": "3Be5imKiZWxO"
      },
      "outputs": [],
      "source": [
        "# Create geometry\n",
        "lon, lat = -98.622, 19.023  # Popocatépetl\n",
        "roi = ee.Geometry.Point(lon, lat)\n",
        "\n",
        "# Filter collection by location\n",
        "collection = ee.ImageCollection('LANDSAT/LC08/C02/T1_TOA').filterBounds(roi)\n",
        "\n",
        "print(collection.size().getInfo())"
      ]
    },
    {
      "cell_type": "code",
      "execution_count": null,
      "metadata": {
        "id": "45kJZsRTIYfy"
      },
      "outputs": [],
      "source": [
        "collection"
      ]
    },
    {
      "cell_type": "code",
      "execution_count": null,
      "metadata": {
        "id": "EFCD7nIcIge5"
      },
      "outputs": [],
      "source": [
        "# Plot first image\n",
        "image = collection.first()\n",
        "image_date = image.get('DATE_ACQUIRED').getInfo()\n",
        "print(image_date)\n",
        "\n",
        "vis_param = {'bands': ['B4', 'B3', 'B2'], 'min': 0, 'max': 0.3}\n",
        "\n",
        "Map.addLayer(image, vis_param, name=image_date)\n",
        "Map.centerObject(image, 8)\n",
        "\n",
        "Map"
      ]
    },
    {
      "cell_type": "markdown",
      "metadata": {
        "id": "-EH9wCP6MXvE"
      },
      "source": [
        "## Filter by date\n",
        "Reference: [ee.ImageCollection.filterDate](https://developers.google.com/earth-engine/apidocs/ee-imagecollection-filterdate)"
      ]
    },
    {
      "cell_type": "code",
      "execution_count": null,
      "metadata": {
        "id": "DnUlhOtxZWxP"
      },
      "outputs": [],
      "source": [
        "lon, lat = -98.622, 19.023  # Popocatépetl\n",
        "roi = ee.Geometry.Point(lon, lat)\n",
        "\n",
        "# Filter collection by date + location\n",
        "collection = (\n",
        "    ee.ImageCollection('LANDSAT/LC08/C02/T1_TOA')\n",
        "    .filterDate('2020-01-01', '2020-12-31')  # Select year\n",
        "    .filter(ee.Filter.calendarRange(11, 2, 'month'))  # Only Nov-Feb observations\n",
        "    .filterBounds(roi)\n",
        "    )\n",
        "\n",
        "print(collection.size().getInfo())"
      ]
    },
    {
      "cell_type": "code",
      "execution_count": null,
      "metadata": {
        "id": "9AR9qtYhdHyz"
      },
      "outputs": [],
      "source": [
        "collection"
      ]
    },
    {
      "cell_type": "code",
      "execution_count": null,
      "metadata": {
        "id": "KC9_ciI0_1Fn"
      },
      "outputs": [],
      "source": [
        "# Plot first image\n",
        "image = collection.first()\n",
        "image_date = image.get('DATE_ACQUIRED').getInfo()\n",
        "print(image_date)\n",
        "\n",
        "vis_param = {'bands': ['B4', 'B3', 'B2'], 'min': 0, 'max': 0.3, 'gamma': 1.3}\n",
        "\n",
        "Map.addLayer(image, vis_param, name=image_date)\n",
        "Map.centerObject(image, 8)\n",
        "\n",
        "Map"
      ]
    },
    {
      "cell_type": "markdown",
      "metadata": {
        "id": "jXNeX6TzNA99"
      },
      "source": [
        "## Filter by metadata\n",
        "References:\n",
        "- [ee.ImageCollection.filter](https://developers.google.com/earth-engine/apidocs/ee-imagecollection-filter)\n",
        "- [Filtering an ImageCollection](https://developers.google.com/earth-engine/guides/ic_filtering#colab-python)"
      ]
    },
    {
      "cell_type": "code",
      "execution_count": null,
      "metadata": {
        "id": "CSECImg5OYrh"
      },
      "outputs": [],
      "source": [
        "lon, lat = -98.622, 19.023  # Popocatépetl\n",
        "roi = ee.Geometry.Point(lon, lat)\n",
        "\n",
        "\n",
        "collection = (\n",
        "    ee.ImageCollection('LANDSAT/LC08/C02/T1_TOA')\n",
        "    .filterDate('2020-01-01', '2020-12-31')\n",
        "    .filterBounds(roi)\n",
        ")\n",
        "# collection = collection.filter(ee.Filter.eq('CLOUD_COVER', 10)).sort(\"CLOUD_COVER\")  # eq = equal\n",
        "# collection = collection.filter(ee.Filter.gt('CLOUD_COVER', 10)).sort(\"CLOUD_COVER\")  # gt = greater than\n",
        "collection = collection.filter(ee.Filter.lt('CLOUD_COVER', 10)).sort(\"CLOUD_COVER\")    # lt = lower than\n",
        "\n",
        "print(collection.size().getInfo())"
      ]
    },
    {
      "cell_type": "code",
      "execution_count": null,
      "metadata": {
        "id": "WV-oKHJaNZOR"
      },
      "outputs": [],
      "source": [
        "collection"
      ]
    },
    {
      "cell_type": "code",
      "execution_count": null,
      "metadata": {
        "id": "PGIUqJCHNrIr"
      },
      "outputs": [],
      "source": [
        "# Plot first image\n",
        "image = collection.first()\n",
        "image_date = image.get('DATE_ACQUIRED').getInfo()\n",
        "print(image_date)\n",
        "\n",
        "vis_param = {'bands': ['B4', 'B3', 'B2'], 'min': 0, 'max': 0.3, 'gamma': 1.3}\n",
        "\n",
        "Map.addLayer(image, vis_param, name=image_date)\n",
        "Map.centerObject(image, 8)\n",
        "\n",
        "Map"
      ]
    }
  ],
  "metadata": {
    "colab": {
      "provenance": [],
      "toc_visible": true
    },
    "kernelspec": {
      "display_name": "gee",
      "language": "python",
      "name": "python3"
    },
    "language_info": {
      "codemirror_mode": {
        "name": "ipython",
        "version": 3
      },
      "file_extension": ".py",
      "mimetype": "text/x-python",
      "name": "python",
      "nbconvert_exporter": "python",
      "pygments_lexer": "ipython3",
      "version": "3.13.1"
    }
  },
  "nbformat": 4,
  "nbformat_minor": 0
}

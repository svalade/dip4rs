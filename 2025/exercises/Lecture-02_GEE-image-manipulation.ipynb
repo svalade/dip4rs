{
  "cells": [
    {
      "cell_type": "markdown",
      "metadata": {
        "id": "1MeVLBPAYj4Q"
      },
      "source": [
        "<font size=\"6\"><b>Lecture 02: GEE Image Manipulation (exercises)</b></font>"
      ]
    },
    {
      "cell_type": "markdown",
      "metadata": {
        "id": "fOc9mnU6Y-BG"
      },
      "source": [
        "# Initialize"
      ]
    },
    {
      "cell_type": "code",
      "execution_count": null,
      "metadata": {
        "id": "YJskLSpK_Sn2"
      },
      "outputs": [],
      "source": [
        "import ee\n",
        "ee.Authenticate()\n",
        "ee.Initialize(project='your-project-id')  # <--- replace with your project ID"
      ]
    },
    {
      "cell_type": "code",
      "execution_count": null,
      "metadata": {
        "id": "fRLug6gC_cLs"
      },
      "outputs": [],
      "source": [
        "import geemap"
      ]
    },
    {
      "cell_type": "markdown",
      "metadata": {
        "id": "tclrPxosiRiO"
      },
      "source": [
        "# EX1: calculation of spectral indices (band arithmetic)"
      ]
    },
    {
      "cell_type": "markdown",
      "metadata": {
        "id": "0FV2h60vcq67"
      },
      "source": [
        "## 1.1. select image"
      ]
    },
    {
      "cell_type": "markdown",
      "metadata": {},
      "source": [
        "**Existing Sentinel-2 collections and use case**\n",
        "\n",
        "| GEE Collection | Data Type / Processing Level |\n",
        "|----------------|-----------------------------|\n",
        "| [COPERNICUS/S2_HARMONIZED](https://developers.google.com/earth-engine/datasets/catalog/COPERNICUS_S2_HARMONIZED) | **Top-of-Atmosphere Reflectance (TOA)** — corrected for solar geometry but still includes atmospheric effects |\n",
        "| [COPERNICUS/S2_SR_HARMONIZED](https://developers.google.com/earth-engine/datasets/catalog/COPERNICUS_S2_SR_HARMONIZED) | **Surface Reflectance (SR)** — atmospherically corrected (Sen2Cor) |\n",
        "\n",
        "**Glossary**\n",
        "\n",
        "- HARMONIZED:  \n",
        "    ESA introduced a **band-dependent offset** to reflectance bands after 24 Jan 2022. The *HARMONIZED* collections **remove this offset**, ensuring consistency across the full archive. Use **HARMONIZED** unless you need legacy data behavior.\n"
      ]
    },
    {
      "cell_type": "code",
      "execution_count": null,
      "metadata": {
        "id": "8wauB8bCZlq0"
      },
      "outputs": [],
      "source": [
        "# Define ROI point (EX: Cancún)\n",
        "roi = ee.Geometry.Point(-86.85, 21.17)\n",
        "\n",
        "# Import and filter imagery by location / date / cloud\n",
        "image = (ee.ImageCollection('COPERNICUS/S2_SR_HARMONIZED')\n",
        "            .filterBounds(roi)\n",
        "            .filterDate('2020-01-01', '2024-10-01')\n",
        "            .filter(ee.Filter.lt('CLOUD_COVERAGE_ASSESSMENT', 10))\n",
        "            .sort(\"CLOUD_COVERAGE_ASSESSMENT\")\n",
        "            .first()\n",
        "            )\n",
        "\n",
        "# Map Natural color image\n",
        "Map = geemap.Map()\n",
        "Map.addLayerControl()\n",
        "Map.centerObject(roi, 10)\n",
        "Map.addLayer(image, {\n",
        "    'bands': ['B4', 'B3', 'B2'],\n",
        "    'min': 0,\n",
        "    'max': 2000\n",
        "}, 'Natural color')\n",
        "Map.addLayer(roi, {'color':'red'})\n",
        "# Map.add_basemap('OpenTopoMap')\n",
        "Map"
      ]
    },
    {
      "cell_type": "code",
      "execution_count": null,
      "metadata": {
        "id": "aG2iheKGauQw"
      },
      "outputs": [],
      "source": [
        "image"
      ]
    },
    {
      "cell_type": "markdown",
      "metadata": {
        "id": "Wg8_Wworz7OE"
      },
      "source": [
        "## 1.2. calculate spectral indices"
      ]
    },
    {
      "cell_type": "markdown",
      "metadata": {
        "id": "fBf9f3rtvRFJ"
      },
      "source": [
        "### calculate NDVI (using math expression)"
      ]
    },
    {
      "cell_type": "markdown",
      "metadata": {},
      "source": [
        "$NDVI = \\frac{NIR - Red}{NIR + Red}$"
      ]
    },
    {
      "cell_type": "markdown",
      "metadata": {},
      "source": [
        "Sentinel-2 (Surface Reflectance, HARMONIZED) bands (\n",
        "<a href=\"https://developers.google.com/earth-engine/datasets/catalog/COPERNICUS_S2_SR_HARMONIZED#bands\">COPERNICUS_S2_SR_HARMONIZED</a>):\n",
        "<br>\n",
        "\n",
        "<table class=\"eecat\">\n",
        "  <tbody>\n",
        "    <tr>\n",
        "      <th scope=\"col\">Name</th>\n",
        "      <th scope=\"col\">Pixel Size</th>\n",
        "      <th scope=\"col\">Wavelength</th>\n",
        "      <th scope=\"col\">Description</th>\n",
        "    </tr>\n",
        "    <tr><td><code>B1</code></td><td>60 m</td><td>0.443 μm (S2A)</td><td>Aerosols</td></tr>\n",
        "    <tr><td><code>B2</code></td><td>10 m</td><td>0.496 μm (S2A)</td><td>Blue</td></tr>\n",
        "    <tr><td><code>B3</code></td><td>10 m</td><td>0.560 μm (S2A)</td><td>Green</td></tr>\n",
        "    <tr><td><code>B4</code></td><td>10 m</td><td>0.664 μm (S2A)</td><td>Red</td></tr>\n",
        "    <tr><td><code>B5</code></td><td>20 m</td><td>0.703 μm (S2A)</td><td>Red Edge 1</td></tr>\n",
        "    <tr><td><code>B6</code></td><td>20 m</td><td>0.740 μm (S2A)</td><td>Red Edge 2</td></tr>\n",
        "    <tr><td><code>B7</code></td><td>20 m</td><td>0.782 μm (S2A)</td><td>Red Edge 3</td></tr>\n",
        "    <tr><td><code>B8</code></td><td>10 m</td><td>0.835 μm (S2A)</td><td>Near Infrared (NIR)</td></tr>\n",
        "    <tr><td><code>B8A</code></td><td>20 m</td><td>0.864 μm (S2A)</td><td>Red Edge 4</td></tr>\n",
        "    <tr><td><code>B9</code></td><td>60 m</td><td>0.955 μm (S2A)</td><td>Water Vapor</td></tr>\n",
        "    <tr><td><code>B11</code></td><td>20 m</td><td>1.613 μm (S2A)</td><td>Shortwave Infrared (SWIR 1)</td></tr>\n",
        "    <tr><td><code>B12</code></td><td>20 m</td><td>2.202 μm (S2A)</td><td>Shortwave Infrared (SWIR 2)</td></tr>\n",
        "  </tbody>\n",
        "</table>"
      ]
    },
    {
      "cell_type": "markdown",
      "metadata": {},
      "source": [
        "**NDVI Interpretation Table**\n",
        "\n",
        "| NDVI Range | Vegetation Condition        | Interpretation                            |\n",
        "|------------|-----------------------------|-------------------------------------------|\n",
        "| -1.0 to -0.2 | Water / Snow / Clouds       | Strong negative reflectance (water bodies, snow, shadows) |\n",
        "| -0.2 to 0.0  | Barren Land / Rock / Sand   | No vegetation present                     |\n",
        "| 0.0 to 0.2   | Sparse Vegetation / Urban   | Built-up areas or dry grassland           |\n",
        "| 0.2 to 0.5   | Moderate Vegetation         | Shrubland, crops, mixed vegetation        |\n",
        "| 0.5 to 0.7   | Dense Vegetation            | Healthy crops, temperate forests          |\n",
        "| 0.7 to 1.0   | Very Dense / Tropical Canopy | Rainforests, peak photosynthetic activity |"
      ]
    },
    {
      "cell_type": "markdown",
      "metadata": {},
      "source": [
        "Reference: [ee.Image.expression](https://developers.google.com/earth-engine/apidocs/ee-image-expression)"
      ]
    },
    {
      "cell_type": "code",
      "execution_count": null,
      "metadata": {
        "id": "9qsQm6gBkdJY"
      },
      "outputs": [],
      "source": [
        "# Calculate NDVI index (using math expression)\n",
        "ndvi = image.expression(\n",
        "    # write your code here\n",
        "    )\n",
        "\n",
        "# Add NDVI index on map\n",
        "palette = ['red', 'white', 'green']\n",
        "Map.addLayer(ndvi, {\n",
        "    'min': -1,\n",
        "    'max': 1,\n",
        "    'palette': palette\n",
        "}, 'NDVI manual')\n",
        "\n",
        "# Add colorbar on map\n",
        "vis_params = {'min': -1, 'max': 1, 'palette': palette}\n",
        "cbar = Map.add_colorbar(vis_params, label=\"NDVI\")\n",
        "\n",
        "Map"
      ]
    },
    {
      "cell_type": "markdown",
      "metadata": {
        "id": "KzwXRTjLdZKb"
      },
      "source": [
        "### calculate NDVI (using adhoc method)\n",
        "\n",
        "Reference: [ee.Image.normalizedDifference](https://developers.google.com/earth-engine/apidocs/ee-image-normalizeddifference)"
      ]
    },
    {
      "cell_type": "code",
      "execution_count": null,
      "metadata": {
        "id": "MAM_Wv7odc9t"
      },
      "outputs": [],
      "source": [
        "# Calculate NDVI using normalizedDifference method\n",
        "NDVI = image.normalizedDifference(['B8', 'B4'])\n",
        "\n",
        "palette = ['red', 'white', 'green']\n",
        "Map.addLayer(NDVI, {\n",
        "    'min': -1,\n",
        "    'max': 1,\n",
        "    'palette': palette\n",
        "}, 'NDVI')\n",
        "\n",
        "Map"
      ]
    },
    {
      "cell_type": "markdown",
      "metadata": {
        "id": "-HPlQxDRvZLz"
      },
      "source": [
        "### calculate EVI (using math expression)"
      ]
    },
    {
      "cell_type": "markdown",
      "metadata": {},
      "source": [
        "<u>**Note**</u>:\n",
        "\n",
        "In Google Earth Engine, the collections store values as **scaled integers** to save storage. This means that the values need to be multiplied by a **scale factor** to convert them to values with physical meaning. In the case of Sentinel-2 Surface Reflectance products, to obtain physically meaningful reflectance values, the scale factor must be applied (typically **0.0001**).\n",
        "\n",
        "If $N'$ and $R'$ are the **stored integer values** (scaled), and $s$ is the scale factor, then the **true reflectances** are:\n",
        "\n",
        "$$\n",
        "N = N' \\cdot s \\quad\\text{and}\\quad R = R' \\cdot s\n",
        "$$\n",
        "\n",
        "Therefore, for pure ratio indices like NDVI, the scale factor **cancels out**, making it unnecessary to apply the scale factor before computing the index:\n",
        "\n",
        "$$\n",
        "\\text{NDVI}' = \\frac{N' - R'}{N' + R'}\n",
        "= \\frac{sN - sR}{sN + sR} = \\frac{s(N - R)}{s(N + R)} = \\frac{N - R}{N + R}\n",
        "$$\n",
        "\n",
        "However, for indices like EVI that involve additional constants, the scale factor does not cancel out, and it is necessary to apply the scale factor to the bands before computing the index."
      ]
    },
    {
      "cell_type": "code",
      "execution_count": null,
      "metadata": {
        "id": "JRLmE54sviPN"
      },
      "outputs": [],
      "source": [
        "# Compute the EVI using math expression\n",
        "evi = image.expression(\n",
        "    # write your code here\n",
        "    # Recall to multiply bands by the scale factor 0.0001\n",
        "    )\n",
        "\n",
        "Map2 = geemap.Map()\n",
        "Map2.centerObject(image, 9)\n",
        "Map2.addLayer(evi, {'min': 0, 'max': 1, 'palette': ['red', 'white', 'green']}, 'EVI')\n",
        "Map2"
      ]
    },
    {
      "cell_type": "markdown",
      "metadata": {
        "id": "PzGOf6O7keBT"
      },
      "source": [
        "## 1.3. thresholding image"
      ]
    },
    {
      "cell_type": "markdown",
      "metadata": {
        "id": "6VuygKrjotwi"
      },
      "source": [
        "### binary thresholding (.gt, .lt)\n",
        "\n",
        "References:\n",
        "- [ee.Image.gt](https://developers.google.com/earth-engine/apidocs/ee-image-gt)\n",
        "- [ee.Image.lt](https://developers.google.com/earth-engine/apidocs/ee-image-lt)"
      ]
    },
    {
      "cell_type": "code",
      "execution_count": null,
      "metadata": {
        "id": "7dPyO5hXn5tL"
      },
      "outputs": [],
      "source": [
        "# Implement a binary threshold\n",
        "threshold = 0.5\n",
        "img_thresh_bin = ndvi.gt(threshold)\n",
        "\n",
        "# Map thresholded image (2 classes)\n",
        "palette = ['white', 'green']\n",
        "Map.addLayer(img_thresh_bin, {\n",
        "    'min': 0,\n",
        "    'max': 1,\n",
        "    'palette': palette\n",
        "}, 'Non-forest vs. Forest')\n",
        "\n",
        "# Add colorbar on map\n",
        "vis_params = {'min': 0, 'max': 1, 'palette': palette}\n",
        "\n",
        "Map.centerObject(roi, 10)\n",
        "Map.add_colorbar(vis_params, label=\"NDVI thresholded (2-classes)\")\n",
        "\n",
        "Map"
      ]
    },
    {
      "cell_type": "markdown",
      "metadata": {
        "id": "fZClD_jCo4ne"
      },
      "source": [
        "### advanced thresholding (.where)"
      ]
    },
    {
      "cell_type": "code",
      "execution_count": null,
      "metadata": {
        "id": "kaYy1YHJpDW2"
      },
      "outputs": [],
      "source": [
        "threshold_1 = -0.1  # set water threshold\n",
        "threshold_2 = 0.5   # set vegetation threshold\n",
        "\n",
        "img_thresh = ee.Image(1)  # Initialize new thresholded image with all values = 1\n",
        "img_thresh = img_thresh.clip(ndvi.geometry())   # Use clip to constrain size of the ndvi image\n",
        "img_thresh = img_thresh.where(ndvi.lte(threshold_1), 0)  # Make all NDVI values <= threshold_1 equal 0\n",
        "img_thresh = img_thresh.where(ndvi.gte(threshold_2), 2) # Make all NDVI values >= threshold_2 equal 2\n",
        "\n",
        "# Map thresholded image (3 classes)\n",
        "palette = ['blue', 'white', 'green']\n",
        "Map.addLayer(img_thresh, {\n",
        "    'min': 0,\n",
        "    'max': 2,\n",
        "    'palette': palette\n",
        "}, 'Water, Non-forest, Forest')\n",
        "\n",
        "# Add colorbar on map\n",
        "vis_params = {'min': 0, 'max': 1, 'palette': palette}\n",
        "Map.add_colorbar(vis_params, label=\"NDVI thresholded (3-classes)\")\n",
        "\n",
        "Map"
      ]
    },
    {
      "cell_type": "markdown",
      "metadata": {
        "id": "iJP4sIa7p5B3"
      },
      "source": [
        "## 1.4. masking image"
      ]
    },
    {
      "cell_type": "code",
      "execution_count": null,
      "metadata": {
        "id": "Fi1RiodPua4H"
      },
      "outputs": [],
      "source": [
        "# NDVI masking in GEE\n",
        "\n",
        "mask = img_thresh_bin.eq(1)                     # Create a binary mask of non-forest\n",
        "img_masked = img_thresh_bin.updateMask(mask)    # Update the img_thresh_bin mask with the non-forest mask\n",
        "mask_final = img_masked.mask()                  # Updated mask\n",
        "\n",
        "product_mask = image.mask()                  # Updated mask\n",
        "\n",
        "# Visualize masked image\n",
        "Map.addLayer(img_masked, {\n",
        "    'min': 0,\n",
        "    'max': 1,\n",
        "    'palette': ['green']\n",
        "    }, 'Masked Forest Layer')\n",
        "\n",
        "# Visualize updated mask\n",
        "Map.addLayer(mask_final, {}, 'Mask')\n",
        "\n",
        "# Map.addLayer(product_mask, {}, 'Product Mask')\n",
        "\n",
        "Map"
      ]
    },
    {
      "cell_type": "markdown",
      "metadata": {
        "id": "boMP_UMIqMoV"
      },
      "source": [
        "## 1.5. (remapping values in image)"
      ]
    },
    {
      "cell_type": "code",
      "execution_count": null,
      "metadata": {
        "id": "_3-YFgxpqa5m"
      },
      "outputs": [],
      "source": [
        "# Remap the values from the thresholded image\n",
        "img_thresh_remap = img_thresh.remap(\n",
        "    [0, 1, 2],    # Existing values\n",
        "    [9, 11, 10]   # Remapped values\n",
        "    )\n",
        "\n",
        "# Visualize the remapped thresholded image\n",
        "vis_params = {'min': 9, 'max': 11, 'palette': ['blue', 'green', 'white']}\n",
        "Map.addLayer(img_thresh_remap, vis_params, 'Remapped Values')\n",
        "\n",
        "# Add colorbar on map\n",
        "cbar = Map.add_colorbar(vis_params, label=\"mask (remapped values)\")\n",
        "\n",
        "Map\n"
      ]
    },
    {
      "cell_type": "markdown",
      "metadata": {
        "id": "1wBk0AOrgxof"
      },
      "source": [
        "## 1.6. analyze image"
      ]
    },
    {
      "cell_type": "markdown",
      "metadata": {
        "id": "jVshn009msmQ"
      },
      "source": [
        "### calculate vegetation area"
      ]
    },
    {
      "cell_type": "code",
      "execution_count": null,
      "metadata": {
        "id": "eLxyklqRhAP5"
      },
      "outputs": [],
      "source": [
        "# Create a pixel area image\n",
        "img_pixArea = ee.Image.pixelArea()\n",
        "\n",
        "# Apply the vegetation mask to the pixel area image\n",
        "mask_area = img_pixArea.updateMask(mask)\n",
        "\n",
        "Map = geemap.Map()\n",
        "Map.addLayerControl()\n",
        "Map.centerObject(roi, 13)\n",
        "Map.addLayer(img_masked, {\n",
        "    'min': 0,\n",
        "    'max': 1,\n",
        "    'palette': ['green']\n",
        "    }, 'Masked Forest Layer')\n",
        "Map.addLayer(mask_area, {}, 'mask area')\n",
        "Map"
      ]
    },
    {
      "cell_type": "code",
      "execution_count": null,
      "metadata": {
        "id": "4zJD-k0ekFYe"
      },
      "outputs": [],
      "source": [
        "# Sum the area of vegetation pixels\n",
        "crs = mask.projection()  # coordinate reference system\n",
        "crsTransform = mask.projection().getInfo()['transform']\n",
        "geometry = mask.geometry()  # sum area over entire image\n",
        "\n",
        "area = mask_area.reduceRegion(\n",
        "    reducer=ee.Reducer.sum(),\n",
        "    geometry=geometry,\n",
        "    crs=crs,\n",
        "    crsTransform=crsTransform,\n",
        "    maxPixels=1e10,\n",
        ")"
      ]
    },
    {
      "cell_type": "code",
      "execution_count": null,
      "metadata": {
        "id": "wM5uueB2kOdv"
      },
      "outputs": [],
      "source": [
        "# Fetch the summed area property from the resulting dictionary and convert to square meters to square kilometers.\n",
        "square_meters = area.getNumber('area').round()\n",
        "square_kilometers = square_meters.divide(1e6).round()\n",
        "\n",
        "print('Vegetation area = {} m2'.format(square_meters.getInfo()))\n",
        "print('Vegetation area = {} km2'.format(square_kilometers.getInfo()))"
      ]
    },
    {
      "cell_type": "markdown",
      "metadata": {
        "id": "-q3WL7ILm1ZM"
      },
      "source": [
        "### export numpy array"
      ]
    },
    {
      "cell_type": "code",
      "execution_count": null,
      "metadata": {
        "id": "DX2UMdvdEEnJ"
      },
      "outputs": [],
      "source": [
        "# Plot map to draw region to extract\n",
        "Map"
      ]
    },
    {
      "cell_type": "code",
      "execution_count": null,
      "metadata": {
        "id": "iN-UOkOrnd_l"
      },
      "outputs": [],
      "source": [
        "mypolygon = Map.draw_last_feature\n",
        "region = mypolygon.geometry()"
      ]
    },
    {
      "cell_type": "code",
      "execution_count": null,
      "metadata": {
        "id": "hfJNQhPcn43v"
      },
      "outputs": [],
      "source": [
        "arr_rgb = geemap.ee_to_numpy(image,\n",
        "                             region=region,\n",
        "                             bands=['B4', 'B3', 'B2'],\n",
        "                             scale=10)\n"
      ]
    },
    {
      "cell_type": "code",
      "execution_count": null,
      "metadata": {
        "id": "S6Qd4xpsvQmO"
      },
      "outputs": [],
      "source": [
        "Map.addLayer(region, {'color': 'black', 'opacity':.5}, 'region to export')\n",
        "Map"
      ]
    },
    {
      "cell_type": "code",
      "execution_count": null,
      "metadata": {
        "id": "WrBLhR1EwyoC"
      },
      "outputs": [],
      "source": [
        "import matplotlib.pyplot as plt\n",
        "\n",
        "# Normalize rgb values (need to have array in range 0-1 for dtype float in order to plot)\n",
        "arr_rgb_n = arr_rgb/arr_rgb.max()\n",
        "\n",
        "# Plot\n",
        "plt.figure()\n",
        "plt.imshow(arr_rgb_n)\n",
        "\n",
        "plt.figure()\n",
        "plt.imshow(arr_rgb, cmap='gray')\n"
      ]
    },
    {
      "cell_type": "code",
      "execution_count": null,
      "metadata": {
        "id": "PTCo6RlxxFqs"
      },
      "outputs": [],
      "source": [
        "print(arr_rgb.min(), arr_rgb.max())\n",
        "print(arr_rgb_n.min(), arr_rgb_n.max())"
      ]
    },
    {
      "cell_type": "markdown",
      "metadata": {
        "id": "869kmZCpqgSc"
      },
      "source": [
        "# EX2: Image composing (remove/replace clouds)\n",
        "Refs:\n",
        "- https://courses.geemap.org/gee_intro/Image/conditional_operations/#expressions\n",
        "- Cardille et al. 2018 chap.15 p.279"
      ]
    },
    {
      "cell_type": "code",
      "execution_count": null,
      "metadata": {
        "id": "_mL-Ya1PwMfv"
      },
      "outputs": [],
      "source": [
        "# Load a cloudy Landsat 8 image\n",
        "image = ee.Image('LANDSAT/LC08/C01/T1_TOA/LC08_044034_20130603')\n",
        "\n",
        "# Load another image to replace cloudy pixels\n",
        "replacement = ee.Image('LANDSAT/LC08/C01/T1_TOA/LC08_044034_20130416')\n",
        "\n",
        "# Compute a cloud score band\n",
        "cloud = ee.Algorithms.Landsat.simpleCloudScore(image).select('cloud')\n",
        "\n",
        "# Set cloudy pixels to the other image.\n",
        "replaced = image.where(cloud.gt(10), replacement)\n",
        "\n",
        "# Display result\n",
        "Map = geemap.Map()\n",
        "Map.addLayerControl()\n",
        "Map.centerObject(image, 9)\n",
        "Map.addLayer(\n",
        "    image, {'bands': ['B4', 'B3', 'B2'], 'min': 0, 'max': 0.3}, 'original image (cloudy)'\n",
        ")\n",
        "Map.addLayer(cloud, {}, 'cloud score')\n",
        "Map.addLayer(\n",
        "    replaced, {'bands': ['B4', 'B3', 'B2'], 'min': 0, 'max': 0.3}, 'fused image (clouds replaced)'\n",
        ")\n",
        "Map"
      ]
    }
  ],
  "metadata": {
    "colab": {
      "provenance": [],
      "toc_visible": true
    },
    "kernelspec": {
      "display_name": "gee",
      "language": "python",
      "name": "python3"
    },
    "language_info": {
      "name": "python",
      "version": "3.13.1"
    }
  },
  "nbformat": 4,
  "nbformat_minor": 0
}

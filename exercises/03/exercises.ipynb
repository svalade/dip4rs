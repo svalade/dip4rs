{
 "cells": [
  {
   "cell_type": "markdown",
   "metadata": {},
   "source": [
    "<font size=\"5\"><b>Lecture 03: Image Filtering (exercises)</b></font>"
   ]
  },
  {
   "cell_type": "code",
   "execution_count": null,
   "metadata": {},
   "outputs": [],
   "source": [
    "import numpy as np\n",
    "import matplotlib.pyplot as plt\n",
    "from skimage import io, data, color"
   ]
  },
  {
   "cell_type": "markdown",
   "metadata": {},
   "source": [
    "# EX1: spatial domain filtering\n",
    "Build your own function(s) to convolve a filter kernel with an image."
   ]
  },
  {
   "cell_type": "markdown",
   "metadata": {},
   "source": [
    "## create zero-padding function"
   ]
  },
  {
   "cell_type": "markdown",
   "metadata": {},
   "source": [
    "<div class=\"alert alert-success\">\n",
    "    <b>1.</b> Build a function to pad an image with zeros, adapting to various filter kernel sizes.<br>\n",
    "    The function should take the original image and kernel shape as inputs, and return the zero-padded image.<br>\n",
    "    The function should handle both grayscale (2D) and color (3D) images.<br><br>\n",
    "    <u>Hint 1</u>: use numpy's <a href=\"https://numpy.org/doc/stable/reference/generated/numpy.pad.html\" target=\"_blank\">pad()</a> function<br>\n",
    "    <u>Hint 2</u>: the number of values to pad (i.e., \"pad_width\") to both X and Y image axis can be taken as the floor division of the kernel shape of each axis. In the case of color images (3D), the third axis (depth) should not be padded, set pad_width to 0.\n",
    "</div>"
   ]
  },
  {
   "cell_type": "markdown",
   "metadata": {},
   "source": [
    "<div class=\"alert alert-success\">\n",
    "    <b>2.</b> Plot a demo with a (10,10) or (10,10,3) image (composed of random integers ranging between 0-255), and a 3x3 kernel.<br>\n",
    "    <u>Hint</u>: you can use numpy's <a href=\"https://numpy.org/doc/stable/reference/random/generated/numpy.random.randint.html\" target=\"_blank\">random.randint()</a> function to create a random image.<br>\n",
    "    <br>\n",
    "    Apply to the \"Popocatepetl_HD_crop.jpg\" image located in the sub-directory \"images\".\n",
    "</div>"
   ]
  },
  {
   "cell_type": "markdown",
   "metadata": {},
   "source": [
    "## create convolution function"
   ]
  },
  {
   "cell_type": "markdown",
   "metadata": {},
   "source": [
    "<div class=\"alert alert-success\">\n",
    "    <b>1.</b> Build a function to convolve an image by a kernel.<br>\n",
    "    The function should take the original image and kernel as inputs, and return the convolved image.<br>\n",
    "    <br>\n",
    "    Start with a function supporting grayscale images (2D). (Adapt to support color images (3D), or create a distinct function to handle them).<br>\n",
    "    <br>\n",
    "    <u>Hint 1</u>: remember that your function should first <u>zero-pad</u> the original image (using the function previously created), and afterwards loop over its X, Y (and Z) axis to filter the image at pixel coordinate (x,y,(z)).<br>\n",
    "    <br>\n",
    "    <u>Hint 2</u>: remember that in order to <u>convolve</u> an \"image crop\" with a \"filter kernel\", you should compute the element-wise product of the crop and the filter kernel, and return the sum the resulting array. The returned value corresponds to the new pixel value at coordinate (x,y,(z)) of the new filtered image (which you'll have previously created as an empty array filled with zeros, having the same dimension as your padded image).<br>\n",
    "    <br>\n",
    "    <u>Hint 3</u>: remember that the returned filtered image should have the same size as the original image (i.e., remove padded pixels!)\n",
    "</div>"
   ]
  },
  {
   "cell_type": "markdown",
   "metadata": {},
   "source": [
    "## create your own kernels and convolve!"
   ]
  },
  {
   "cell_type": "markdown",
   "metadata": {},
   "source": [
    "### boxcar filter"
   ]
  },
  {
   "cell_type": "markdown",
   "metadata": {},
   "source": [
    "<div class=\"alert alert-success\">\n",
    "    <b>1.</b> Create an <u>averaging kernel</u> (box-filter), whereby the convolved pixel will have the mean value of the pixels in the kernel neighborhood. Use an odd-shaped kernel (e.g., 3x3, 5x5, etc.).<br>\n",
    "    <br>\n",
    "    Test on a grayscale version of \"Popocatepetl_HD_crop.jpg\" (use skimage.color.rgb2gray() to convert to grayscale). Test various kernel sizes.<br>\n",
    "    <br>\n",
    "    Test on the color version of \"Popocatepetl_HD_crop.jpg\". What shape should your kernel have?<br>\n",
    "    (If your function only supports 2D images, use it on each band, and use np.dstack() to reconstruct the RGB filtered image). \n",
    "</div>"
   ]
  },
  {
   "cell_type": "markdown",
   "metadata": {},
   "source": [
    "### gaussian filter"
   ]
  },
  {
   "cell_type": "markdown",
   "metadata": {},
   "source": [
    "<div class=\"alert alert-success\">\n",
    "    <b>1.</b> Create a <u>gaussian kernel</u><br>\n",
    "    <br>\n",
    "    <u>Hint 1</u>: use the 1D Gaussian distribution formula: <a href=\"https://en.wikipedia.org/wiki/Normal_distribution\" target=\"_blank\">wikipedia</a><br>\n",
    "    <u>Hint 2</u>: create an odd-size kernel whose size is 6 times the chose standard deviation sigma ( 99% of the probability mass for a gaussian is within +/-3 sigma).<br>\n",
    "    <u>Hint 3</u>: populate the kernel coefficients by computing the 2D gaussian distribution. Set the distribution peak to be at the kernel center (mu=0), and calulate the distance x to the peak using Pythagore.\n",
    "</div>"
   ]
  },
  {
   "cell_type": "markdown",
   "metadata": {},
   "source": [
    "<div class=\"alert alert-success\">\n",
    "    <b>2.</b> Try using the scikit-image <a href=\"https://scikit-image.org/docs/dev/api/skimage.filters.html\" target=\"_blank\">filters.gaussian()</a> implementation. Is it faster than yours?<br>\n",
    "</div>"
   ]
  },
  {
   "cell_type": "markdown",
   "metadata": {},
   "source": [
    "<div class=\"alert alert-success\">\n",
    "    <b>3.</b> Recover the high-frequency component from your filtered image.<br>\n",
    "    <u>Hint</u>: remember a Gaussian filter is a true low-pass filter for the image.\n",
    "</div>"
   ]
  },
  {
   "cell_type": "markdown",
   "metadata": {},
   "source": [
    "### sobel filter"
   ]
  },
  {
   "cell_type": "markdown",
   "metadata": {},
   "source": [
    "<div class=\"alert alert-success\">\n",
    "    <b>1.</b> Create two <u>sobel kernels</u>, to compute respectively gradients in x- and y-directions on a grayscale image.<br>\n",
    "    <u>Hint 1</u>: check out the formulation here: <a href=\"https://en.wikipedia.org/wiki/Sobel_operator#Formulation\" target=\"_blank\">wikipedia</a><br>\n",
    "    <br>\n",
    "    Plot the image filtered with both filters. \n",
    "</div>"
   ]
  },
  {
   "cell_type": "markdown",
   "metadata": {},
   "source": [
    "# EX2: frequency domain filtering"
   ]
  },
  {
   "cell_type": "markdown",
   "metadata": {},
   "source": [
    "## compute the 2D discrete Fourier transform"
   ]
  },
  {
   "cell_type": "markdown",
   "metadata": {},
   "source": [
    "<div class=\"alert alert-success\">\n",
    "    <b>1.</b> Compute the 2D discrete Fourier transform of your grayscale image.<br>\n",
    "    <u>Hint</u>: use numpy's <a href=\"https://numpy.org/doc/stable/reference/generated/numpy.fft.fft2.html\" target=\"_blank\">np.fft.fft2()</a> function, and <a href=\"https://numpy.org/doc/stable/reference/generated/numpy.fft.fftshift.html\" target=\"_blank\">np.fft.fftshift()</a> to get frequency 0 at center of image.<br>\n",
    "    <br>2. Plot the amplitude spectrum of the image.<br>\n",
    "    <u>Hint</u>: remember that the discrete Fourier Transform returned from np.fft.fft2() is complex. Take the abs() value to get the amplitude.\n",
    "</div>"
   ]
  },
  {
   "cell_type": "markdown",
   "metadata": {},
   "source": [
    "## create a low-pass function"
   ]
  },
  {
   "cell_type": "markdown",
   "metadata": {},
   "source": [
    "<div class=\"alert alert-success\">\n",
    "    Create a function to low-pass the FFT spectrum, i.e., cut-off the high frequencies of the spectrum.<br>\n",
    "    <br>\n",
    "    <u>Hint</u>: create a mask having the same size as your Fourier transform spectrum, and set value to 1 at low frequencies, and to 0 at high frequencies. Multiply your spectrum by this mask to obtain a low-pass filtered spectrum.<br>\n",
    "</div>"
   ]
  },
  {
   "cell_type": "markdown",
   "metadata": {},
   "source": [
    "## reconstruct the low-pass filtered image"
   ]
  },
  {
   "cell_type": "markdown",
   "metadata": {},
   "source": [
    "<div class=\"alert alert-success\">\n",
    "    Reconstruct the image from your low-pass filtered spectrum.<br>\n",
    "    <br>\n",
    "    <u>Hint</u>: Compute the inverse Fourier transform on the low-pass filtered spectrum using numpy's <a href=\"https://numpy.org/doc/stable/reference/generated/numpy.fft.ifft2.html\" target=\"_blank\">np.fft.ifft2()</a> function.<br>Take the real part of the result to reconstruct the low-pass filtered image.\n",
    "</div>"
   ]
  }
 ],
 "metadata": {
  "kernelspec": {
   "display_name": "Python 3 (ipykernel)",
   "language": "python",
   "name": "python3"
  },
  "language_info": {
   "codemirror_mode": {
    "name": "ipython",
    "version": 3
   },
   "file_extension": ".py",
   "mimetype": "text/x-python",
   "name": "python",
   "nbconvert_exporter": "python",
   "pygments_lexer": "ipython3",
   "version": "3.9.12"
  },
  "toc": {
   "base_numbering": 1,
   "nav_menu": {},
   "number_sections": true,
   "sideBar": true,
   "skip_h1_title": false,
   "title_cell": "Table of Contents",
   "title_sidebar": "Contents",
   "toc_cell": false,
   "toc_position": {
    "height": "calc(100% - 180px)",
    "left": "10px",
    "top": "150px",
    "width": "282.883px"
   },
   "toc_section_display": true,
   "toc_window_display": true
  }
 },
 "nbformat": 4,
 "nbformat_minor": 4
}

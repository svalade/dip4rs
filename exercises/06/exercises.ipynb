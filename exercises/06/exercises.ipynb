{
  "nbformat": 4,
  "nbformat_minor": 0,
  "metadata": {
    "colab": {
      "provenance": [],
      "toc_visible": true
    },
    "kernelspec": {
      "name": "python3",
      "display_name": "Python 3"
    },
    "language_info": {
      "name": "python"
    }
  },
  "cells": [
    {
      "cell_type": "markdown",
      "source": [
        "<font size=\"6\"><b>Lecture 06: GEE Image Manipulation (exercises)</b></font>"
      ],
      "metadata": {
        "id": "1MeVLBPAYj4Q"
      }
    },
    {
      "cell_type": "markdown",
      "source": [
        "# Initialize"
      ],
      "metadata": {
        "id": "fOc9mnU6Y-BG"
      }
    },
    {
      "cell_type": "code",
      "execution_count": null,
      "metadata": {
        "id": "YJskLSpK_Sn2"
      },
      "outputs": [],
      "source": [
        "import ee\n",
        "ee.Authenticate()\n",
        "ee.Initialize(project='gee-dip-418420')  # <--- replace with your project ID"
      ]
    },
    {
      "cell_type": "code",
      "source": [
        "import geemap"
      ],
      "metadata": {
        "id": "fRLug6gC_cLs"
      },
      "execution_count": null,
      "outputs": []
    },
    {
      "cell_type": "markdown",
      "source": [
        "# EX1: calculation of spectral indices (band arithmetic)"
      ],
      "metadata": {
        "id": "tclrPxosiRiO"
      }
    },
    {
      "cell_type": "markdown",
      "source": [
        "## 1.1. select image"
      ],
      "metadata": {
        "id": "0FV2h60vcq67"
      }
    },
    {
      "cell_type": "code",
      "source": [
        "# Define ROI point (EX: Cancún)\n",
        "roi = ee.Geometry.Point(-86.85, 21.17)\n",
        "\n",
        "# Import and filter imagery by location / date / cloud\n",
        "image = (ee.ImageCollection('COPERNICUS/S2_SR_HARMONIZED')\n",
        "            .filterBounds(roi)\n",
        "            .filterDate('2020-01-01', '2024-10-01')\n",
        "            .filter(ee.Filter.lt('CLOUD_COVERAGE_ASSESSMENT', 10))\n",
        "            .sort(\"CLOUD_COVERAGE_ASSESSMENT\")\n",
        "            .first()\n",
        "            )\n",
        "\n",
        "# Map Natural color image\n",
        "Map = geemap.Map()\n",
        "Map.addLayerControl()\n",
        "Map.centerObject(roi, 10)\n",
        "Map.addLayer(image, {\n",
        "    'bands': ['B4', 'B3', 'B2'],\n",
        "    'min': 0,\n",
        "    'max': 2000\n",
        "}, 'Natural color')\n",
        "\n",
        "Map"
      ],
      "metadata": {
        "id": "8wauB8bCZlq0"
      },
      "execution_count": null,
      "outputs": []
    },
    {
      "cell_type": "code",
      "source": [
        "image"
      ],
      "metadata": {
        "id": "aG2iheKGauQw"
      },
      "execution_count": null,
      "outputs": []
    },
    {
      "cell_type": "markdown",
      "source": [
        "## 1.2. calculate spectral indices"
      ],
      "metadata": {
        "id": "Wg8_Wworz7OE"
      }
    },
    {
      "cell_type": "markdown",
      "source": [
        "### calculate NDVI (using math operators)"
      ],
      "metadata": {
        "id": "fBf9f3rtvRFJ"
      }
    },
    {
      "cell_type": "code",
      "source": [
        "# Extract bands needed for NDVI index\n",
        "nir = image.select('B8')\n",
        "red = image.select('B4')\n",
        "\n",
        "# Calculate NDVI index using math operators\n",
        "numerator = nir.subtract(red)\n",
        "denominator = nir.add(red)\n",
        "ndvi = numerator.divide(denominator)\n",
        "\n",
        "# Add NDVI index on map\n",
        "palette = ['red', 'white', 'green']\n",
        "Map.addLayer(ndvi, {\n",
        "    'min': -1,\n",
        "    'max': 1,\n",
        "    'palette': palette\n",
        "}, 'NDVI manual')\n",
        "\n",
        "\n",
        "# Add colorbar on map\n",
        "vis_params = {'min': -1, 'max': 1, 'palette': palette}\n",
        "cbar = Map.add_colorbar(vis_params, label=\"NDVI\")\n",
        "\n",
        "Map"
      ],
      "metadata": {
        "id": "9qsQm6gBkdJY"
      },
      "execution_count": null,
      "outputs": []
    },
    {
      "cell_type": "markdown",
      "source": [
        "### calculate NDVI (using adhoc method)"
      ],
      "metadata": {
        "id": "KzwXRTjLdZKb"
      }
    },
    {
      "cell_type": "code",
      "source": [
        "# Calculate NDVI using normalizedDifference method\n",
        "NDVI = image.normalizedDifference(['B8', 'B4'])\n",
        "\n",
        "palette = ['red', 'white', 'green']\n",
        "Map.addLayer(NDVI, {\n",
        "    'min': -1,\n",
        "    'max': 1,\n",
        "    'palette': palette\n",
        "}, 'NDVI')\n",
        "\n",
        "Map"
      ],
      "metadata": {
        "id": "MAM_Wv7odc9t"
      },
      "execution_count": null,
      "outputs": []
    },
    {
      "cell_type": "markdown",
      "source": [
        "### calculate EVI (using math expression)"
      ],
      "metadata": {
        "id": "-HPlQxDRvZLz"
      }
    },
    {
      "cell_type": "code",
      "source": [
        "# Compute the EVI using an expression\n",
        "nir = image.select('B8')\n",
        "red = image.select('B4')\n",
        "blue = image.select('B2')\n",
        "\n",
        "evi = image.expression(\n",
        "    '2.5 * ((NIR - RED) / (NIR + 6 * RED - 7.5 * BLUE + 1))',\n",
        "    {\n",
        "        'NIR': nir,\n",
        "        'RED': red,\n",
        "        'BLUE': blue\n",
        "    })\n",
        "\n",
        "Map2 = geemap.Map()\n",
        "Map2.centerObject(image, 9)\n",
        "Map2.addLayer(evi, {'min': 0, 'max': 1, 'palette': ['white', 'green']}, 'EVI')\n",
        "Map2"
      ],
      "metadata": {
        "id": "JRLmE54sviPN"
      },
      "execution_count": null,
      "outputs": []
    },
    {
      "cell_type": "markdown",
      "source": [
        "## 1.3. thresholding image"
      ],
      "metadata": {
        "id": "PzGOf6O7keBT"
      }
    },
    {
      "cell_type": "markdown",
      "source": [
        "### binary thresholding (.gt, .lt)"
      ],
      "metadata": {
        "id": "6VuygKrjotwi"
      }
    },
    {
      "cell_type": "code",
      "source": [
        "# Implement a binary threshold\n",
        "threshold = 0.5\n",
        "img_thresh_bin = ndvi.gt(threshold)\n",
        "\n",
        "# Map thresholded image (2 classes)\n",
        "palette = ['white', 'green']\n",
        "Map.addLayer(img_thresh_bin, {\n",
        "    'min': 0,\n",
        "    'max': 1,\n",
        "    'palette': palette\n",
        "}, 'Non-forest vs. Forest')\n",
        "\n",
        "# Add colorbar on map\n",
        "vis_params = {'min': 0, 'max': 1, 'palette': palette}\n",
        "\n",
        "Map.centerObject(roi, 10)\n",
        "Map.add_colorbar(vis_params, label=\"NDVI thresholded (2-classes)\")\n",
        "\n",
        "Map"
      ],
      "metadata": {
        "id": "7dPyO5hXn5tL"
      },
      "execution_count": null,
      "outputs": []
    },
    {
      "cell_type": "markdown",
      "source": [
        "### advanced thresholding (.where)"
      ],
      "metadata": {
        "id": "fZClD_jCo4ne"
      }
    },
    {
      "cell_type": "code",
      "source": [
        "threshold_1 = -0.1  # set water threshold\n",
        "threshold_2 = 0.5   # set vegetation threshold\n",
        "\n",
        "img_thresh = ee.Image(1)  # Initialize new thresholded image with all values = 1\n",
        "img_thresh = img_thresh.clip(ndvi.geometry())   # Use clip to constrain size of the ndvi image\n",
        "img_thresh = img_thresh.where(ndvi.lte(-0.1), 0)  # Make all NDVI values <= threshold_1 equal 0\n",
        "img_thresh = img_thresh.where(ndvi.gte(threshold_2), 2) # Make all NDVI values >= threshold_2 equal 2\n",
        "\n",
        "# Map thresholded image (3 classes)\n",
        "palette = ['blue', 'white', 'green']\n",
        "Map.addLayer(img_thresh, {\n",
        "    'min': 0,\n",
        "    'max': 2,\n",
        "    'palette': palette\n",
        "}, 'Water, Non-forest, Forest')\n",
        "\n",
        "# Add colorbar on map\n",
        "vis_params = {'min': 0, 'max': 1, 'palette': palette}\n",
        "Map.add_colorbar(vis_params, label=\"NDVI thresholded (3-classes)\")\n",
        "\n",
        "Map"
      ],
      "metadata": {
        "id": "kaYy1YHJpDW2"
      },
      "execution_count": null,
      "outputs": []
    },
    {
      "cell_type": "markdown",
      "source": [
        "## 1.4. masking image"
      ],
      "metadata": {
        "id": "iJP4sIa7p5B3"
      }
    },
    {
      "cell_type": "code",
      "source": [
        "# NDVI masking in GEE\n",
        "\n",
        "mask = img_thresh_bin.eq(1)                     # Create a binary mask of non-forest\n",
        "img_masked = img_thresh_bin.updateMask(mask)    # Update the img_thresh_bin mask with the non-forest mask\n",
        "mask_final = img_masked.mask()                  # Updated mask\n",
        "\n",
        "# Visualize updated mask\n",
        "Map.addLayer(mask_final, {}, 'Mask')\n",
        "\n",
        "# Visualize masked image\n",
        "Map.addLayer(img_masked, {\n",
        "    'min': 0,\n",
        "    'max': 1,\n",
        "    'palette': ['green']\n",
        "    }, 'Masked Forest Layer')\n",
        "\n",
        "Map"
      ],
      "metadata": {
        "id": "Fi1RiodPua4H"
      },
      "execution_count": null,
      "outputs": []
    },
    {
      "cell_type": "markdown",
      "source": [
        "## 1.5. (remapping values in image)"
      ],
      "metadata": {
        "id": "boMP_UMIqMoV"
      }
    },
    {
      "cell_type": "code",
      "source": [
        "# Remap the values from the thresholded image\n",
        "img_thresh_remap = img_thresh.remap([0, 1, 2],    # Existing values\n",
        "                            [9, 11, 10])  # Remapped values\n",
        "\n",
        "# Visualize the remapped thresholded image\n",
        "vis_params = {'min': 9, 'max': 11, 'palette': ['blue', 'green', 'white']}\n",
        "Map.addLayer(img_thresh_remap, vis_params, 'Remapped Values')\n",
        "\n",
        "# Add colorbar on map\n",
        "cbar = Map.add_colorbar(vis_params, label=\"mask (remapped values)\")\n",
        "\n",
        "Map\n"
      ],
      "metadata": {
        "id": "_3-YFgxpqa5m"
      },
      "execution_count": null,
      "outputs": []
    },
    {
      "cell_type": "markdown",
      "source": [
        "# EX2: Image fusion (remove/replace clouds)\n",
        "\n",
        "Ref: https://courses.geemap.org/gee_intro/Image/conditional_operations/#expressions"
      ],
      "metadata": {
        "id": "869kmZCpqgSc"
      }
    },
    {
      "cell_type": "code",
      "source": [
        "# Load a cloudy Landsat 8 image\n",
        "image = ee.Image('LANDSAT/LC08/C01/T1_TOA/LC08_044034_20130603')\n",
        "\n",
        "# Load another image to replace cloudy pixels\n",
        "replacement = ee.Image('LANDSAT/LC08/C01/T1_TOA/LC08_044034_20130416')\n",
        "\n",
        "# Compute a cloud score band\n",
        "cloud = ee.Algorithms.Landsat.simpleCloudScore(image).select('cloud')\n",
        "\n",
        "# Set cloudy pixels to the other image.\n",
        "replaced = image.where(cloud.gt(10), replacement)\n",
        "\n",
        "# Display result\n",
        "Map = geemap.Map()\n",
        "Map.addLayerControl()\n",
        "Map.centerObject(image, 9)\n",
        "Map.addLayer(\n",
        "    image, {'bands': ['B4', 'B3', 'B2'], 'min': 0, 'max': 0.3}, 'original image (cloudy)'\n",
        ")\n",
        "Map.addLayer(cloud, {}, 'cloud score')\n",
        "Map.addLayer(\n",
        "    replaced, {'bands': ['B4', 'B3', 'B2'], 'min': 0, 'max': 0.3}, 'fused image (clouds replaced)'\n",
        ")\n",
        "Map"
      ],
      "metadata": {
        "id": "_mL-Ya1PwMfv"
      },
      "execution_count": null,
      "outputs": []
    }
  ]
}
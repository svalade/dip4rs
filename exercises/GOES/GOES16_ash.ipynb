{
  "nbformat": 4,
  "nbformat_minor": 0,
  "metadata": {
    "colab": {
      "provenance": [],
      "toc_visible": true
    },
    "kernelspec": {
      "name": "python3",
      "display_name": "Python 3"
    },
    "language_info": {
      "name": "python"
    },
    "widgets": {
      "application/vnd.jupyter.widget-state+json": {
        "55c1722e0a6e4fb9b3309b8b70fc12f9": {
          "model_module": "jupyter-leaflet",
          "model_name": "LeafletMapModel",
          "model_module_version": "^0.18",
          "state": {
            "_dom_classes": [],
            "_model_module": "jupyter-leaflet",
            "_model_module_version": "^0.18",
            "_model_name": "LeafletMapModel",
            "_view_count": null,
            "_view_module": "jupyter-leaflet",
            "_view_module_version": "^0.18",
            "_view_name": "LeafletMapView",
            "bottom": 29540,
            "bounce_at_zoom_limits": true,
            "box_zoom": true,
            "center": [
              19.022685,
              -98.623038
            ],
            "close_popup_on_click": true,
            "controls": [
              "IPY_MODEL_3254971efeb74712a616ec3900576e30",
              "IPY_MODEL_a8ccfb967d294698a3505a3d2088c19f",
              "IPY_MODEL_fe72517eb330485eab290f739fd1a17e",
              "IPY_MODEL_db73be5c697e460d8265655ecffa4992",
              "IPY_MODEL_e4ec0c3ae00344f28dad5cbcad8e5d4e",
              "IPY_MODEL_87d6bb333430424993dfc0d55dc97dff",
              "IPY_MODEL_3300275199494514b7399f0d18303ff2",
              "IPY_MODEL_a38fd9262c59430b858ba7e1f4add70d"
            ],
            "crs": {
              "name": "EPSG3857",
              "custom": false
            },
            "default_style": "IPY_MODEL_907482b6ab204ceab44d940e696c79c9",
            "double_click_zoom": true,
            "dragging": true,
            "dragging_style": "IPY_MODEL_7f14a6b3add64f469b2b1dd4116d58f1",
            "east": -95.84472656250001,
            "fullscreen": false,
            "inertia": true,
            "inertia_deceleration": 3000,
            "inertia_max_speed": 1500,
            "interpolation": "bilinear",
            "keyboard": true,
            "keyboard_pan_offset": 80,
            "keyboard_zoom_offset": 1,
            "layers": [
              "IPY_MODEL_1227fe1d7c0f4f65aca7631ce94aa413",
              "IPY_MODEL_c5e80b4a3dc74b3a8d38a85b0b60d7cc",
              "IPY_MODEL_0998b2d44a4240fbb326a897f2b3ce4f"
            ],
            "layout": "IPY_MODEL_e7d80b8b8aba4ec5ab6e56624d6bfeaf",
            "left": 14309,
            "max_zoom": 24,
            "min_zoom": null,
            "modisdate": "2023-12-05",
            "north": 20.571081893508193,
            "options": [
              "bounce_at_zoom_limits",
              "box_zoom",
              "center",
              "close_popup_on_click",
              "double_click_zoom",
              "dragging",
              "fullscreen",
              "inertia",
              "inertia_deceleration",
              "inertia_max_speed",
              "interpolation",
              "keyboard",
              "keyboard_pan_offset",
              "keyboard_zoom_offset",
              "max_zoom",
              "min_zoom",
              "prefer_canvas",
              "scroll_wheel_zoom",
              "tap",
              "tap_tolerance",
              "touch_zoom",
              "world_copy_jump",
              "zoom",
              "zoom_animation_threshold",
              "zoom_delta",
              "zoom_snap"
            ],
            "panes": {},
            "prefer_canvas": false,
            "right": 15320,
            "scroll_wheel_zoom": true,
            "south": 17.45547257997284,
            "style": "IPY_MODEL_fd18b5ffb57547e6a93efd4b3934b8e2",
            "tap": true,
            "tap_tolerance": 15,
            "top": 28940,
            "touch_zoom": true,
            "west": -101.39831542968751,
            "window_url": "https://7fz12plcydm-496ff2e9c6d22116-0-colab.googleusercontent.com/outputframe.html?vrz=colab_20231205-060105_RC00_587982197",
            "world_copy_jump": false,
            "zoom": 8,
            "zoom_animation_threshold": 4,
            "zoom_delta": 1,
            "zoom_snap": 1
          }
        },
        "3254971efeb74712a616ec3900576e30": {
          "model_module": "jupyter-leaflet",
          "model_name": "LeafletWidgetControlModel",
          "model_module_version": "^0.18",
          "state": {
            "_model_module": "jupyter-leaflet",
            "_model_module_version": "^0.18",
            "_model_name": "LeafletWidgetControlModel",
            "_view_count": null,
            "_view_module": "jupyter-leaflet",
            "_view_module_version": "^0.18",
            "_view_name": "LeafletWidgetControlView",
            "max_height": null,
            "max_width": null,
            "min_height": null,
            "min_width": null,
            "options": [
              "position",
              "transparent_bg"
            ],
            "position": "topleft",
            "transparent_bg": false,
            "widget": "IPY_MODEL_df4d845e85634380ad393668116e54ac"
          }
        },
        "a8ccfb967d294698a3505a3d2088c19f": {
          "model_module": "jupyter-leaflet",
          "model_name": "LeafletZoomControlModel",
          "model_module_version": "^0.18",
          "state": {
            "_model_module": "jupyter-leaflet",
            "_model_module_version": "^0.18",
            "_model_name": "LeafletZoomControlModel",
            "_view_count": null,
            "_view_module": "jupyter-leaflet",
            "_view_module_version": "^0.18",
            "_view_name": "LeafletZoomControlView",
            "options": [
              "position",
              "zoom_in_text",
              "zoom_in_title",
              "zoom_out_text",
              "zoom_out_title"
            ],
            "position": "topleft",
            "zoom_in_text": "+",
            "zoom_in_title": "Zoom in",
            "zoom_out_text": "-",
            "zoom_out_title": "Zoom out"
          }
        },
        "fe72517eb330485eab290f739fd1a17e": {
          "model_module": "jupyter-leaflet",
          "model_name": "LeafletFullScreenControlModel",
          "model_module_version": "^0.18",
          "state": {
            "_model_module": "jupyter-leaflet",
            "_model_module_version": "^0.18",
            "_model_name": "LeafletFullScreenControlModel",
            "_view_count": null,
            "_view_module": "jupyter-leaflet",
            "_view_module_version": "^0.18",
            "_view_name": "LeafletFullScreenControlView",
            "options": [
              "position"
            ],
            "position": "topleft"
          }
        },
        "db73be5c697e460d8265655ecffa4992": {
          "model_module": "jupyter-leaflet",
          "model_name": "LeafletDrawControlModel",
          "model_module_version": "^0.18",
          "state": {
            "_model_module": "jupyter-leaflet",
            "_model_module_version": "^0.18",
            "_model_name": "LeafletDrawControlModel",
            "_view_count": null,
            "_view_module": "jupyter-leaflet",
            "_view_module_version": "^0.18",
            "_view_name": "LeafletDrawControlView",
            "circle": {},
            "circlemarker": {},
            "data": [],
            "edit": true,
            "marker": {
              "shapeOptions": {
                "color": "#3388ff"
              }
            },
            "options": [
              "position"
            ],
            "polygon": {
              "shapeOptions": {}
            },
            "polyline": {
              "shapeOptions": {}
            },
            "position": "topleft",
            "rectangle": {
              "shapeOptions": {
                "color": "#3388ff"
              }
            },
            "remove": true
          }
        },
        "e4ec0c3ae00344f28dad5cbcad8e5d4e": {
          "model_module": "jupyter-leaflet",
          "model_name": "LeafletScaleControlModel",
          "model_module_version": "^0.18",
          "state": {
            "_model_module": "jupyter-leaflet",
            "_model_module_version": "^0.18",
            "_model_name": "LeafletScaleControlModel",
            "_view_count": null,
            "_view_module": "jupyter-leaflet",
            "_view_module_version": "^0.18",
            "_view_name": "LeafletScaleControlView",
            "imperial": true,
            "max_width": 100,
            "metric": true,
            "options": [
              "imperial",
              "max_width",
              "metric",
              "position",
              "update_when_idle"
            ],
            "position": "bottomleft",
            "update_when_idle": false
          }
        },
        "87d6bb333430424993dfc0d55dc97dff": {
          "model_module": "jupyter-leaflet",
          "model_name": "LeafletMeasureControlModel",
          "model_module_version": "^0.18",
          "state": {
            "_custom_units": {},
            "_model_module": "jupyter-leaflet",
            "_model_module_version": "^0.18",
            "_model_name": "LeafletMeasureControlModel",
            "_view_count": null,
            "_view_module": "jupyter-leaflet",
            "_view_module_version": "^0.18",
            "_view_name": "LeafletMeasureControlView",
            "active_color": "orange",
            "capture_z_index": 10000,
            "completed_color": "#C8F2BE",
            "options": [
              "active_color",
              "capture_z_index",
              "completed_color",
              "popup_options",
              "position",
              "primary_area_unit",
              "primary_length_unit",
              "secondary_area_unit",
              "secondary_length_unit"
            ],
            "popup_options": {
              "className": "leaflet-measure-resultpopup",
              "autoPanPadding": [
                10,
                10
              ]
            },
            "position": "bottomleft",
            "primary_area_unit": "acres",
            "primary_length_unit": "kilometers",
            "secondary_area_unit": null,
            "secondary_length_unit": null
          }
        },
        "3300275199494514b7399f0d18303ff2": {
          "model_module": "jupyter-leaflet",
          "model_name": "LeafletWidgetControlModel",
          "model_module_version": "^0.18",
          "state": {
            "_model_module": "jupyter-leaflet",
            "_model_module_version": "^0.18",
            "_model_name": "LeafletWidgetControlModel",
            "_view_count": null,
            "_view_module": "jupyter-leaflet",
            "_view_module_version": "^0.18",
            "_view_name": "LeafletWidgetControlView",
            "max_height": null,
            "max_width": null,
            "min_height": null,
            "min_width": null,
            "options": [
              "position",
              "transparent_bg"
            ],
            "position": "topright",
            "transparent_bg": false,
            "widget": "IPY_MODEL_df325dad9ad54f57af6990f8506596c2"
          }
        },
        "a38fd9262c59430b858ba7e1f4add70d": {
          "model_module": "jupyter-leaflet",
          "model_name": "LeafletAttributionControlModel",
          "model_module_version": "^0.18",
          "state": {
            "_model_module": "jupyter-leaflet",
            "_model_module_version": "^0.18",
            "_model_name": "LeafletAttributionControlModel",
            "_view_count": null,
            "_view_module": "jupyter-leaflet",
            "_view_module_version": "^0.18",
            "_view_name": "LeafletAttributionControlView",
            "options": [
              "position",
              "prefix"
            ],
            "position": "bottomright",
            "prefix": "ipyleaflet"
          }
        },
        "907482b6ab204ceab44d940e696c79c9": {
          "model_module": "jupyter-leaflet",
          "model_name": "LeafletMapStyleModel",
          "model_module_version": "^0.18",
          "state": {
            "_model_module": "jupyter-leaflet",
            "_model_module_version": "^0.18",
            "_model_name": "LeafletMapStyleModel",
            "_view_count": null,
            "_view_module": "@jupyter-widgets/base",
            "_view_module_version": "1.2.0",
            "_view_name": "StyleView",
            "cursor": "grab"
          }
        },
        "7f14a6b3add64f469b2b1dd4116d58f1": {
          "model_module": "jupyter-leaflet",
          "model_name": "LeafletMapStyleModel",
          "model_module_version": "^0.18",
          "state": {
            "_model_module": "jupyter-leaflet",
            "_model_module_version": "^0.18",
            "_model_name": "LeafletMapStyleModel",
            "_view_count": null,
            "_view_module": "@jupyter-widgets/base",
            "_view_module_version": "1.2.0",
            "_view_name": "StyleView",
            "cursor": "move"
          }
        },
        "1227fe1d7c0f4f65aca7631ce94aa413": {
          "model_module": "jupyter-leaflet",
          "model_name": "LeafletTileLayerModel",
          "model_module_version": "^0.18",
          "state": {
            "_model_module": "jupyter-leaflet",
            "_model_module_version": "^0.18",
            "_model_name": "LeafletTileLayerModel",
            "_view_count": null,
            "_view_module": "jupyter-leaflet",
            "_view_module_version": "^0.18",
            "_view_name": "LeafletTileLayerView",
            "attribution": "&copy; <a href=\"https://www.openstreetmap.org/copyright\">OpenStreetMap</a> contributors",
            "base": true,
            "bottom": true,
            "bounds": null,
            "detect_retina": false,
            "loading": false,
            "max_native_zoom": null,
            "max_zoom": 19,
            "min_native_zoom": null,
            "min_zoom": 1,
            "name": "OpenStreetMap.Mapnik",
            "no_wrap": false,
            "opacity": 1,
            "options": [
              "attribution",
              "bounds",
              "detect_retina",
              "max_native_zoom",
              "max_zoom",
              "min_native_zoom",
              "min_zoom",
              "no_wrap",
              "tile_size",
              "tms",
              "zoom_offset"
            ],
            "pane": "",
            "popup": null,
            "popup_max_height": null,
            "popup_max_width": 300,
            "popup_min_width": 50,
            "show_loading": false,
            "subitems": [],
            "tile_size": 256,
            "tms": false,
            "url": "https://tile.openstreetmap.org/{z}/{x}/{y}.png",
            "visible": true,
            "zoom_offset": 0
          }
        },
        "c5e80b4a3dc74b3a8d38a85b0b60d7cc": {
          "model_module": "jupyter-leaflet",
          "model_name": "LeafletTileLayerModel",
          "model_module_version": "^0.18",
          "state": {
            "_model_module": "jupyter-leaflet",
            "_model_module_version": "^0.18",
            "_model_name": "LeafletTileLayerModel",
            "_view_count": null,
            "_view_module": "jupyter-leaflet",
            "_view_module_version": "^0.18",
            "_view_name": "LeafletTileLayerView",
            "attribution": "Google Earth Engine",
            "base": false,
            "bottom": true,
            "bounds": null,
            "detect_retina": false,
            "loading": false,
            "max_native_zoom": null,
            "max_zoom": 24,
            "min_native_zoom": null,
            "min_zoom": 0,
            "name": "Imagen RGB",
            "no_wrap": false,
            "opacity": 1,
            "options": [
              "attribution",
              "bounds",
              "detect_retina",
              "max_native_zoom",
              "max_zoom",
              "min_native_zoom",
              "min_zoom",
              "no_wrap",
              "tile_size",
              "tms",
              "zoom_offset"
            ],
            "pane": "",
            "popup": null,
            "popup_max_height": null,
            "popup_max_width": 300,
            "popup_min_width": 50,
            "show_loading": false,
            "subitems": [],
            "tile_size": 256,
            "tms": false,
            "url": "https://earthengine.googleapis.com/v1/projects/earthengine-legacy/maps/7e033cdd60f75acfbadf406df0115316-2c7433b614b1021119c727bda57040fb/tiles/{z}/{x}/{y}",
            "visible": true,
            "zoom_offset": 0
          }
        },
        "0998b2d44a4240fbb326a897f2b3ce4f": {
          "model_module": "jupyter-leaflet",
          "model_name": "LeafletTileLayerModel",
          "model_module_version": "^0.18",
          "state": {
            "_model_module": "jupyter-leaflet",
            "_model_module_version": "^0.18",
            "_model_name": "LeafletTileLayerModel",
            "_view_count": null,
            "_view_module": "jupyter-leaflet",
            "_view_module_version": "^0.18",
            "_view_name": "LeafletTileLayerView",
            "attribution": "Google Earth Engine",
            "base": false,
            "bottom": true,
            "bounds": null,
            "detect_retina": false,
            "loading": false,
            "max_native_zoom": null,
            "max_zoom": 24,
            "min_native_zoom": null,
            "min_zoom": 0,
            "name": "Outline",
            "no_wrap": false,
            "opacity": 1,
            "options": [
              "attribution",
              "bounds",
              "detect_retina",
              "max_native_zoom",
              "max_zoom",
              "min_native_zoom",
              "min_zoom",
              "no_wrap",
              "tile_size",
              "tms",
              "zoom_offset"
            ],
            "pane": "",
            "popup": null,
            "popup_max_height": null,
            "popup_max_width": 300,
            "popup_min_width": 50,
            "show_loading": false,
            "subitems": [],
            "tile_size": 256,
            "tms": false,
            "url": "https://earthengine.googleapis.com/v1/projects/earthengine-legacy/maps/c5410d3262f9100f0b370c4345f8e0d0-d5488cc17b09a4ecee862fbc8ddb5237/tiles/{z}/{x}/{y}",
            "visible": true,
            "zoom_offset": 0
          }
        },
        "e7d80b8b8aba4ec5ab6e56624d6bfeaf": {
          "model_module": "@jupyter-widgets/base",
          "model_name": "LayoutModel",
          "model_module_version": "1.2.0",
          "state": {
            "_model_module": "@jupyter-widgets/base",
            "_model_module_version": "1.2.0",
            "_model_name": "LayoutModel",
            "_view_count": null,
            "_view_module": "@jupyter-widgets/base",
            "_view_module_version": "1.2.0",
            "_view_name": "LayoutView",
            "align_content": null,
            "align_items": null,
            "align_self": null,
            "border": null,
            "bottom": null,
            "display": null,
            "flex": null,
            "flex_flow": null,
            "grid_area": null,
            "grid_auto_columns": null,
            "grid_auto_flow": null,
            "grid_auto_rows": null,
            "grid_column": null,
            "grid_gap": null,
            "grid_row": null,
            "grid_template_areas": null,
            "grid_template_columns": null,
            "grid_template_rows": null,
            "height": "600px",
            "justify_content": null,
            "justify_items": null,
            "left": null,
            "margin": null,
            "max_height": null,
            "max_width": null,
            "min_height": null,
            "min_width": null,
            "object_fit": null,
            "object_position": null,
            "order": null,
            "overflow": null,
            "overflow_x": null,
            "overflow_y": null,
            "padding": null,
            "right": null,
            "top": null,
            "visibility": null,
            "width": null
          }
        },
        "fd18b5ffb57547e6a93efd4b3934b8e2": {
          "model_module": "jupyter-leaflet",
          "model_name": "LeafletMapStyleModel",
          "model_module_version": "^0.18",
          "state": {
            "_model_module": "jupyter-leaflet",
            "_model_module_version": "^0.18",
            "_model_name": "LeafletMapStyleModel",
            "_view_count": null,
            "_view_module": "@jupyter-widgets/base",
            "_view_module_version": "1.2.0",
            "_view_name": "StyleView",
            "cursor": "grab"
          }
        },
        "df4d845e85634380ad393668116e54ac": {
          "model_module": "@jupyter-widgets/controls",
          "model_name": "HBoxModel",
          "model_module_version": "1.5.0",
          "state": {
            "_dom_classes": [
              "geemap-colab"
            ],
            "_model_module": "@jupyter-widgets/controls",
            "_model_module_version": "1.5.0",
            "_model_name": "HBoxModel",
            "_view_count": null,
            "_view_module": "@jupyter-widgets/controls",
            "_view_module_version": "1.5.0",
            "_view_name": "HBoxView",
            "box_style": "",
            "children": [
              "IPY_MODEL_8e0d17967d51439a82a21c98b11dc96f"
            ],
            "layout": "IPY_MODEL_d18c488cce5f43cf939c82a48b22227c"
          }
        },
        "df325dad9ad54f57af6990f8506596c2": {
          "model_module": "@jupyter-widgets/controls",
          "model_name": "VBoxModel",
          "model_module_version": "1.5.0",
          "state": {
            "_dom_classes": [
              "geemap-colab"
            ],
            "_model_module": "@jupyter-widgets/controls",
            "_model_module_version": "1.5.0",
            "_model_name": "VBoxModel",
            "_view_count": null,
            "_view_module": "@jupyter-widgets/controls",
            "_view_module_version": "1.5.0",
            "_view_name": "VBoxView",
            "box_style": "",
            "children": [
              "IPY_MODEL_3a7da2cf6db54943b9e67e329179c153"
            ],
            "layout": "IPY_MODEL_f5a679639b79489789481d828bf2d407"
          }
        },
        "8e0d17967d51439a82a21c98b11dc96f": {
          "model_module": "@jupyter-widgets/controls",
          "model_name": "ToggleButtonModel",
          "model_module_version": "1.5.0",
          "state": {
            "_dom_classes": [],
            "_model_module": "@jupyter-widgets/controls",
            "_model_module_version": "1.5.0",
            "_model_name": "ToggleButtonModel",
            "_view_count": null,
            "_view_module": "@jupyter-widgets/controls",
            "_view_module_version": "1.5.0",
            "_view_name": "ToggleButtonView",
            "button_style": "",
            "description": "",
            "description_tooltip": null,
            "disabled": false,
            "icon": "globe",
            "layout": "IPY_MODEL_d25751bca3904b76bc72dd4fc3a925d5",
            "style": "IPY_MODEL_2c529fbfc4474f4f89696a313e58109c",
            "tooltip": "Search location/data",
            "value": false
          }
        },
        "d18c488cce5f43cf939c82a48b22227c": {
          "model_module": "@jupyter-widgets/base",
          "model_name": "LayoutModel",
          "model_module_version": "1.2.0",
          "state": {
            "_model_module": "@jupyter-widgets/base",
            "_model_module_version": "1.2.0",
            "_model_name": "LayoutModel",
            "_view_count": null,
            "_view_module": "@jupyter-widgets/base",
            "_view_module_version": "1.2.0",
            "_view_name": "LayoutView",
            "align_content": null,
            "align_items": null,
            "align_self": null,
            "border": null,
            "bottom": null,
            "display": null,
            "flex": null,
            "flex_flow": null,
            "grid_area": null,
            "grid_auto_columns": null,
            "grid_auto_flow": null,
            "grid_auto_rows": null,
            "grid_column": null,
            "grid_gap": null,
            "grid_row": null,
            "grid_template_areas": null,
            "grid_template_columns": null,
            "grid_template_rows": null,
            "height": null,
            "justify_content": null,
            "justify_items": null,
            "left": null,
            "margin": null,
            "max_height": null,
            "max_width": null,
            "min_height": null,
            "min_width": null,
            "object_fit": null,
            "object_position": null,
            "order": null,
            "overflow": null,
            "overflow_x": null,
            "overflow_y": null,
            "padding": null,
            "right": null,
            "top": null,
            "visibility": null,
            "width": null
          }
        },
        "3a7da2cf6db54943b9e67e329179c153": {
          "model_module": "@jupyter-widgets/controls",
          "model_name": "ToggleButtonModel",
          "model_module_version": "1.5.0",
          "state": {
            "_dom_classes": [],
            "_model_module": "@jupyter-widgets/controls",
            "_model_module_version": "1.5.0",
            "_model_name": "ToggleButtonModel",
            "_view_count": null,
            "_view_module": "@jupyter-widgets/controls",
            "_view_module_version": "1.5.0",
            "_view_name": "ToggleButtonView",
            "button_style": "",
            "description": "",
            "description_tooltip": null,
            "disabled": false,
            "icon": "wrench",
            "layout": "IPY_MODEL_e7ea7924345a4445b86539ed85b2a112",
            "style": "IPY_MODEL_68f704f5733346ef8e83bbcfd1e78335",
            "tooltip": "Toolbar",
            "value": false
          }
        },
        "f5a679639b79489789481d828bf2d407": {
          "model_module": "@jupyter-widgets/base",
          "model_name": "LayoutModel",
          "model_module_version": "1.2.0",
          "state": {
            "_model_module": "@jupyter-widgets/base",
            "_model_module_version": "1.2.0",
            "_model_name": "LayoutModel",
            "_view_count": null,
            "_view_module": "@jupyter-widgets/base",
            "_view_module_version": "1.2.0",
            "_view_name": "LayoutView",
            "align_content": null,
            "align_items": null,
            "align_self": null,
            "border": null,
            "bottom": null,
            "display": null,
            "flex": null,
            "flex_flow": null,
            "grid_area": null,
            "grid_auto_columns": null,
            "grid_auto_flow": null,
            "grid_auto_rows": null,
            "grid_column": null,
            "grid_gap": null,
            "grid_row": null,
            "grid_template_areas": null,
            "grid_template_columns": null,
            "grid_template_rows": null,
            "height": null,
            "justify_content": null,
            "justify_items": null,
            "left": null,
            "margin": null,
            "max_height": null,
            "max_width": null,
            "min_height": null,
            "min_width": null,
            "object_fit": null,
            "object_position": null,
            "order": null,
            "overflow": null,
            "overflow_x": null,
            "overflow_y": null,
            "padding": null,
            "right": null,
            "top": null,
            "visibility": null,
            "width": null
          }
        },
        "d25751bca3904b76bc72dd4fc3a925d5": {
          "model_module": "@jupyter-widgets/base",
          "model_name": "LayoutModel",
          "model_module_version": "1.2.0",
          "state": {
            "_model_module": "@jupyter-widgets/base",
            "_model_module_version": "1.2.0",
            "_model_name": "LayoutModel",
            "_view_count": null,
            "_view_module": "@jupyter-widgets/base",
            "_view_module_version": "1.2.0",
            "_view_name": "LayoutView",
            "align_content": null,
            "align_items": null,
            "align_self": null,
            "border": null,
            "bottom": null,
            "display": null,
            "flex": null,
            "flex_flow": null,
            "grid_area": null,
            "grid_auto_columns": null,
            "grid_auto_flow": null,
            "grid_auto_rows": null,
            "grid_column": null,
            "grid_gap": null,
            "grid_row": null,
            "grid_template_areas": null,
            "grid_template_columns": null,
            "grid_template_rows": null,
            "height": "28px",
            "justify_content": null,
            "justify_items": null,
            "left": null,
            "margin": null,
            "max_height": null,
            "max_width": null,
            "min_height": null,
            "min_width": null,
            "object_fit": null,
            "object_position": null,
            "order": null,
            "overflow": null,
            "overflow_x": null,
            "overflow_y": null,
            "padding": "0px 0px 0px 4px",
            "right": null,
            "top": null,
            "visibility": null,
            "width": "28px"
          }
        },
        "2c529fbfc4474f4f89696a313e58109c": {
          "model_module": "@jupyter-widgets/controls",
          "model_name": "DescriptionStyleModel",
          "model_module_version": "1.5.0",
          "state": {
            "_model_module": "@jupyter-widgets/controls",
            "_model_module_version": "1.5.0",
            "_model_name": "DescriptionStyleModel",
            "_view_count": null,
            "_view_module": "@jupyter-widgets/base",
            "_view_module_version": "1.2.0",
            "_view_name": "StyleView",
            "description_width": ""
          }
        },
        "e7ea7924345a4445b86539ed85b2a112": {
          "model_module": "@jupyter-widgets/base",
          "model_name": "LayoutModel",
          "model_module_version": "1.2.0",
          "state": {
            "_model_module": "@jupyter-widgets/base",
            "_model_module_version": "1.2.0",
            "_model_name": "LayoutModel",
            "_view_count": null,
            "_view_module": "@jupyter-widgets/base",
            "_view_module_version": "1.2.0",
            "_view_name": "LayoutView",
            "align_content": null,
            "align_items": null,
            "align_self": null,
            "border": null,
            "bottom": null,
            "display": null,
            "flex": null,
            "flex_flow": null,
            "grid_area": null,
            "grid_auto_columns": null,
            "grid_auto_flow": null,
            "grid_auto_rows": null,
            "grid_column": null,
            "grid_gap": null,
            "grid_row": null,
            "grid_template_areas": null,
            "grid_template_columns": null,
            "grid_template_rows": null,
            "height": "28px",
            "justify_content": null,
            "justify_items": null,
            "left": null,
            "margin": null,
            "max_height": null,
            "max_width": null,
            "min_height": null,
            "min_width": null,
            "object_fit": null,
            "object_position": null,
            "order": null,
            "overflow": null,
            "overflow_x": null,
            "overflow_y": null,
            "padding": "0px 0px 0px 4px",
            "right": null,
            "top": null,
            "visibility": null,
            "width": "28px"
          }
        },
        "68f704f5733346ef8e83bbcfd1e78335": {
          "model_module": "@jupyter-widgets/controls",
          "model_name": "DescriptionStyleModel",
          "model_module_version": "1.5.0",
          "state": {
            "_model_module": "@jupyter-widgets/controls",
            "_model_module_version": "1.5.0",
            "_model_name": "DescriptionStyleModel",
            "_view_count": null,
            "_view_module": "@jupyter-widgets/base",
            "_view_module_version": "1.2.0",
            "_view_name": "StyleView",
            "description_width": ""
          }
        },
        "7e720d716eb54dd49a7fcfa6744fae09": {
          "model_module": "jupyter-leaflet",
          "model_name": "LeafletMapModel",
          "model_module_version": "^0.18",
          "state": {
            "_dom_classes": [],
            "_model_module": "jupyter-leaflet",
            "_model_module_version": "^0.18",
            "_model_name": "LeafletMapModel",
            "_view_count": null,
            "_view_module": "jupyter-leaflet",
            "_view_module_version": "^0.18",
            "_view_name": "LeafletMapView",
            "bottom": 3899,
            "bounce_at_zoom_limits": true,
            "box_zoom": true,
            "center": [
              21.3303150734318,
              -94.72412109375001
            ],
            "close_popup_on_click": true,
            "controls": [
              "IPY_MODEL_e2168ffcf6fd4e04b62d7eaae67e81a2",
              "IPY_MODEL_86f73f60b768424282a9a1d892836ec8",
              "IPY_MODEL_987f208e8ffc49f6bec84f557122560b",
              "IPY_MODEL_5badbf63b14a43a081f73d3d58120ec2",
              "IPY_MODEL_b9e313be905849248d8455bf3d023394",
              "IPY_MODEL_a1a7c0a5b2ee4971a6a68650dd959001",
              "IPY_MODEL_0b59c5d159804766a37dd1c00a3dfbe4",
              "IPY_MODEL_20498f2f1d8c4370938d1a72f6addb55"
            ],
            "crs": {
              "name": "EPSG3857",
              "custom": false
            },
            "default_style": "IPY_MODEL_349b6776f583447a913a0f742a2a3671",
            "double_click_zoom": true,
            "dragging": true,
            "dragging_style": "IPY_MODEL_444e93303afa4414adabc63e25f04369",
            "east": -72.50976562500001,
            "fullscreen": false,
            "inertia": true,
            "inertia_deceleration": 3000,
            "inertia_max_speed": 1500,
            "interpolation": "bilinear",
            "keyboard": true,
            "keyboard_pan_offset": 80,
            "keyboard_zoom_offset": 1,
            "layers": [
              "IPY_MODEL_f8ad0629b4d4454bb1ac229ec1e8d256",
              "IPY_MODEL_7ff6f93cf2124079839eba1a265f63d4",
              "IPY_MODEL_3dd2e3b232834b6386b8d30582fd5a0c",
              "IPY_MODEL_dcf0c42b958b49598bfc1f994ca65859"
            ],
            "layout": "IPY_MODEL_dd5adcaddefe451580992c0efb94a105",
            "left": 1435,
            "max_zoom": 24,
            "min_zoom": null,
            "modisdate": "2023-12-05",
            "north": 33.02708758002874,
            "options": [
              "bounce_at_zoom_limits",
              "box_zoom",
              "center",
              "close_popup_on_click",
              "double_click_zoom",
              "dragging",
              "fullscreen",
              "inertia",
              "inertia_deceleration",
              "inertia_max_speed",
              "interpolation",
              "keyboard",
              "keyboard_pan_offset",
              "keyboard_zoom_offset",
              "max_zoom",
              "min_zoom",
              "prefer_canvas",
              "scroll_wheel_zoom",
              "tap",
              "tap_tolerance",
              "touch_zoom",
              "world_copy_jump",
              "zoom",
              "zoom_animation_threshold",
              "zoom_delta",
              "zoom_snap"
            ],
            "panes": {},
            "prefer_canvas": false,
            "right": 2446,
            "scroll_wheel_zoom": true,
            "south": 8.624472107633936,
            "style": "IPY_MODEL_349b6776f583447a913a0f742a2a3671",
            "tap": true,
            "tap_tolerance": 15,
            "top": 3299,
            "touch_zoom": true,
            "west": -116.9384765625,
            "window_url": "https://7fz12plcydm-496ff2e9c6d22116-0-colab.googleusercontent.com/outputframe.html?vrz=colab_20231205-060105_RC00_587982197",
            "world_copy_jump": false,
            "zoom": 5,
            "zoom_animation_threshold": 4,
            "zoom_delta": 1,
            "zoom_snap": 1
          }
        },
        "e2168ffcf6fd4e04b62d7eaae67e81a2": {
          "model_module": "jupyter-leaflet",
          "model_name": "LeafletWidgetControlModel",
          "model_module_version": "^0.18",
          "state": {
            "_model_module": "jupyter-leaflet",
            "_model_module_version": "^0.18",
            "_model_name": "LeafletWidgetControlModel",
            "_view_count": null,
            "_view_module": "jupyter-leaflet",
            "_view_module_version": "^0.18",
            "_view_name": "LeafletWidgetControlView",
            "max_height": null,
            "max_width": null,
            "min_height": null,
            "min_width": null,
            "options": [
              "position",
              "transparent_bg"
            ],
            "position": "topleft",
            "transparent_bg": false,
            "widget": "IPY_MODEL_e719196321fb4908938d593d3febdacb"
          }
        },
        "86f73f60b768424282a9a1d892836ec8": {
          "model_module": "jupyter-leaflet",
          "model_name": "LeafletZoomControlModel",
          "model_module_version": "^0.18",
          "state": {
            "_model_module": "jupyter-leaflet",
            "_model_module_version": "^0.18",
            "_model_name": "LeafletZoomControlModel",
            "_view_count": null,
            "_view_module": "jupyter-leaflet",
            "_view_module_version": "^0.18",
            "_view_name": "LeafletZoomControlView",
            "options": [
              "position",
              "zoom_in_text",
              "zoom_in_title",
              "zoom_out_text",
              "zoom_out_title"
            ],
            "position": "topleft",
            "zoom_in_text": "+",
            "zoom_in_title": "Zoom in",
            "zoom_out_text": "-",
            "zoom_out_title": "Zoom out"
          }
        },
        "987f208e8ffc49f6bec84f557122560b": {
          "model_module": "jupyter-leaflet",
          "model_name": "LeafletFullScreenControlModel",
          "model_module_version": "^0.18",
          "state": {
            "_model_module": "jupyter-leaflet",
            "_model_module_version": "^0.18",
            "_model_name": "LeafletFullScreenControlModel",
            "_view_count": null,
            "_view_module": "jupyter-leaflet",
            "_view_module_version": "^0.18",
            "_view_name": "LeafletFullScreenControlView",
            "options": [
              "position"
            ],
            "position": "topleft"
          }
        },
        "5badbf63b14a43a081f73d3d58120ec2": {
          "model_module": "jupyter-leaflet",
          "model_name": "LeafletDrawControlModel",
          "model_module_version": "^0.18",
          "state": {
            "_model_module": "jupyter-leaflet",
            "_model_module_version": "^0.18",
            "_model_name": "LeafletDrawControlModel",
            "_view_count": null,
            "_view_module": "jupyter-leaflet",
            "_view_module_version": "^0.18",
            "_view_name": "LeafletDrawControlView",
            "circle": {},
            "circlemarker": {},
            "data": [],
            "edit": true,
            "marker": {
              "shapeOptions": {
                "color": "#3388ff"
              }
            },
            "options": [
              "position"
            ],
            "polygon": {
              "shapeOptions": {}
            },
            "polyline": {
              "shapeOptions": {}
            },
            "position": "topleft",
            "rectangle": {
              "shapeOptions": {
                "color": "#3388ff"
              }
            },
            "remove": true
          }
        },
        "b9e313be905849248d8455bf3d023394": {
          "model_module": "jupyter-leaflet",
          "model_name": "LeafletScaleControlModel",
          "model_module_version": "^0.18",
          "state": {
            "_model_module": "jupyter-leaflet",
            "_model_module_version": "^0.18",
            "_model_name": "LeafletScaleControlModel",
            "_view_count": null,
            "_view_module": "jupyter-leaflet",
            "_view_module_version": "^0.18",
            "_view_name": "LeafletScaleControlView",
            "imperial": true,
            "max_width": 100,
            "metric": true,
            "options": [
              "imperial",
              "max_width",
              "metric",
              "position",
              "update_when_idle"
            ],
            "position": "bottomleft",
            "update_when_idle": false
          }
        },
        "a1a7c0a5b2ee4971a6a68650dd959001": {
          "model_module": "jupyter-leaflet",
          "model_name": "LeafletMeasureControlModel",
          "model_module_version": "^0.18",
          "state": {
            "_custom_units": {},
            "_model_module": "jupyter-leaflet",
            "_model_module_version": "^0.18",
            "_model_name": "LeafletMeasureControlModel",
            "_view_count": null,
            "_view_module": "jupyter-leaflet",
            "_view_module_version": "^0.18",
            "_view_name": "LeafletMeasureControlView",
            "active_color": "orange",
            "capture_z_index": 10000,
            "completed_color": "#C8F2BE",
            "options": [
              "active_color",
              "capture_z_index",
              "completed_color",
              "popup_options",
              "position",
              "primary_area_unit",
              "primary_length_unit",
              "secondary_area_unit",
              "secondary_length_unit"
            ],
            "popup_options": {
              "className": "leaflet-measure-resultpopup",
              "autoPanPadding": [
                10,
                10
              ]
            },
            "position": "bottomleft",
            "primary_area_unit": "acres",
            "primary_length_unit": "kilometers",
            "secondary_area_unit": null,
            "secondary_length_unit": null
          }
        },
        "0b59c5d159804766a37dd1c00a3dfbe4": {
          "model_module": "jupyter-leaflet",
          "model_name": "LeafletWidgetControlModel",
          "model_module_version": "^0.18",
          "state": {
            "_model_module": "jupyter-leaflet",
            "_model_module_version": "^0.18",
            "_model_name": "LeafletWidgetControlModel",
            "_view_count": null,
            "_view_module": "jupyter-leaflet",
            "_view_module_version": "^0.18",
            "_view_name": "LeafletWidgetControlView",
            "max_height": null,
            "max_width": null,
            "min_height": null,
            "min_width": null,
            "options": [
              "position",
              "transparent_bg"
            ],
            "position": "topright",
            "transparent_bg": false,
            "widget": "IPY_MODEL_5a8c07401e614152ac11616dc45b2576"
          }
        },
        "20498f2f1d8c4370938d1a72f6addb55": {
          "model_module": "jupyter-leaflet",
          "model_name": "LeafletAttributionControlModel",
          "model_module_version": "^0.18",
          "state": {
            "_model_module": "jupyter-leaflet",
            "_model_module_version": "^0.18",
            "_model_name": "LeafletAttributionControlModel",
            "_view_count": null,
            "_view_module": "jupyter-leaflet",
            "_view_module_version": "^0.18",
            "_view_name": "LeafletAttributionControlView",
            "options": [
              "position",
              "prefix"
            ],
            "position": "bottomright",
            "prefix": "ipyleaflet"
          }
        },
        "349b6776f583447a913a0f742a2a3671": {
          "model_module": "jupyter-leaflet",
          "model_name": "LeafletMapStyleModel",
          "model_module_version": "^0.18",
          "state": {
            "_model_module": "jupyter-leaflet",
            "_model_module_version": "^0.18",
            "_model_name": "LeafletMapStyleModel",
            "_view_count": null,
            "_view_module": "@jupyter-widgets/base",
            "_view_module_version": "1.2.0",
            "_view_name": "StyleView",
            "cursor": "grab"
          }
        },
        "444e93303afa4414adabc63e25f04369": {
          "model_module": "jupyter-leaflet",
          "model_name": "LeafletMapStyleModel",
          "model_module_version": "^0.18",
          "state": {
            "_model_module": "jupyter-leaflet",
            "_model_module_version": "^0.18",
            "_model_name": "LeafletMapStyleModel",
            "_view_count": null,
            "_view_module": "@jupyter-widgets/base",
            "_view_module_version": "1.2.0",
            "_view_name": "StyleView",
            "cursor": "move"
          }
        },
        "f8ad0629b4d4454bb1ac229ec1e8d256": {
          "model_module": "jupyter-leaflet",
          "model_name": "LeafletTileLayerModel",
          "model_module_version": "^0.18",
          "state": {
            "_model_module": "jupyter-leaflet",
            "_model_module_version": "^0.18",
            "_model_name": "LeafletTileLayerModel",
            "_view_count": null,
            "_view_module": "jupyter-leaflet",
            "_view_module_version": "^0.18",
            "_view_name": "LeafletTileLayerView",
            "attribution": "&copy; <a href=\"https://www.openstreetmap.org/copyright\">OpenStreetMap</a> contributors",
            "base": true,
            "bottom": true,
            "bounds": null,
            "detect_retina": false,
            "loading": false,
            "max_native_zoom": null,
            "max_zoom": 19,
            "min_native_zoom": null,
            "min_zoom": 1,
            "name": "OpenStreetMap.Mapnik",
            "no_wrap": false,
            "opacity": 1,
            "options": [
              "attribution",
              "bounds",
              "detect_retina",
              "max_native_zoom",
              "max_zoom",
              "min_native_zoom",
              "min_zoom",
              "no_wrap",
              "tile_size",
              "tms",
              "zoom_offset"
            ],
            "pane": "",
            "popup": null,
            "popup_max_height": null,
            "popup_max_width": 300,
            "popup_min_width": 50,
            "show_loading": false,
            "subitems": [],
            "tile_size": 256,
            "tms": false,
            "url": "https://tile.openstreetmap.org/{z}/{x}/{y}.png",
            "visible": true,
            "zoom_offset": 0
          }
        },
        "7ff6f93cf2124079839eba1a265f63d4": {
          "model_module": "jupyter-leaflet",
          "model_name": "LeafletTileLayerModel",
          "model_module_version": "^0.18",
          "state": {
            "_model_module": "jupyter-leaflet",
            "_model_module_version": "^0.18",
            "_model_name": "LeafletTileLayerModel",
            "_view_count": null,
            "_view_module": "jupyter-leaflet",
            "_view_module_version": "^0.18",
            "_view_name": "LeafletTileLayerView",
            "attribution": "Google Earth Engine",
            "base": false,
            "bottom": true,
            "bounds": null,
            "detect_retina": false,
            "loading": false,
            "max_native_zoom": null,
            "max_zoom": 24,
            "min_native_zoom": null,
            "min_zoom": 0,
            "name": "Imagen RGB",
            "no_wrap": false,
            "opacity": 1,
            "options": [
              "attribution",
              "bounds",
              "detect_retina",
              "max_native_zoom",
              "max_zoom",
              "min_native_zoom",
              "min_zoom",
              "no_wrap",
              "tile_size",
              "tms",
              "zoom_offset"
            ],
            "pane": "",
            "popup": null,
            "popup_max_height": null,
            "popup_max_width": 300,
            "popup_min_width": 50,
            "show_loading": false,
            "subitems": [],
            "tile_size": 256,
            "tms": false,
            "url": "https://earthengine.googleapis.com/v1/projects/earthengine-legacy/maps/7e033cdd60f75acfbadf406df0115316-fefed0877e8e0ece62b2816b0505e2c0/tiles/{z}/{x}/{y}",
            "visible": true,
            "zoom_offset": 0
          }
        },
        "3dd2e3b232834b6386b8d30582fd5a0c": {
          "model_module": "jupyter-leaflet",
          "model_name": "LeafletTileLayerModel",
          "model_module_version": "^0.18",
          "state": {
            "_model_module": "jupyter-leaflet",
            "_model_module_version": "^0.18",
            "_model_name": "LeafletTileLayerModel",
            "_view_count": null,
            "_view_module": "jupyter-leaflet",
            "_view_module_version": "^0.18",
            "_view_name": "LeafletTileLayerView",
            "attribution": "Google Earth Engine",
            "base": false,
            "bottom": true,
            "bounds": null,
            "detect_retina": false,
            "loading": false,
            "max_native_zoom": null,
            "max_zoom": 24,
            "min_native_zoom": null,
            "min_zoom": 0,
            "name": "Masked image Meth1",
            "no_wrap": false,
            "opacity": 1,
            "options": [
              "attribution",
              "bounds",
              "detect_retina",
              "max_native_zoom",
              "max_zoom",
              "min_native_zoom",
              "min_zoom",
              "no_wrap",
              "tile_size",
              "tms",
              "zoom_offset"
            ],
            "pane": "",
            "popup": null,
            "popup_max_height": null,
            "popup_max_width": 300,
            "popup_min_width": 50,
            "show_loading": false,
            "subitems": [],
            "tile_size": 256,
            "tms": false,
            "url": "https://earthengine.googleapis.com/v1/projects/earthengine-legacy/maps/a999815a99f4d8a1c3791f739d8b4161-eac2f8888023fba04067e7dd32009318/tiles/{z}/{x}/{y}",
            "visible": true,
            "zoom_offset": 0
          }
        },
        "dcf0c42b958b49598bfc1f994ca65859": {
          "model_module": "jupyter-leaflet",
          "model_name": "LeafletTileLayerModel",
          "model_module_version": "^0.18",
          "state": {
            "_model_module": "jupyter-leaflet",
            "_model_module_version": "^0.18",
            "_model_name": "LeafletTileLayerModel",
            "_view_count": null,
            "_view_module": "jupyter-leaflet",
            "_view_module_version": "^0.18",
            "_view_name": "LeafletTileLayerView",
            "attribution": "Google Earth Engine",
            "base": false,
            "bottom": true,
            "bounds": null,
            "detect_retina": false,
            "loading": false,
            "max_native_zoom": null,
            "max_zoom": 24,
            "min_native_zoom": null,
            "min_zoom": 0,
            "name": "Outline",
            "no_wrap": false,
            "opacity": 1,
            "options": [
              "attribution",
              "bounds",
              "detect_retina",
              "max_native_zoom",
              "max_zoom",
              "min_native_zoom",
              "min_zoom",
              "no_wrap",
              "tile_size",
              "tms",
              "zoom_offset"
            ],
            "pane": "",
            "popup": null,
            "popup_max_height": null,
            "popup_max_width": 300,
            "popup_min_width": 50,
            "show_loading": false,
            "subitems": [],
            "tile_size": 256,
            "tms": false,
            "url": "https://earthengine.googleapis.com/v1/projects/earthengine-legacy/maps/c5410d3262f9100f0b370c4345f8e0d0-30c720cd5c1934d5e61ff2f2fd7fc227/tiles/{z}/{x}/{y}",
            "visible": true,
            "zoom_offset": 0
          }
        },
        "dd5adcaddefe451580992c0efb94a105": {
          "model_module": "@jupyter-widgets/base",
          "model_name": "LayoutModel",
          "model_module_version": "1.2.0",
          "state": {
            "_model_module": "@jupyter-widgets/base",
            "_model_module_version": "1.2.0",
            "_model_name": "LayoutModel",
            "_view_count": null,
            "_view_module": "@jupyter-widgets/base",
            "_view_module_version": "1.2.0",
            "_view_name": "LayoutView",
            "align_content": null,
            "align_items": null,
            "align_self": null,
            "border": null,
            "bottom": null,
            "display": null,
            "flex": null,
            "flex_flow": null,
            "grid_area": null,
            "grid_auto_columns": null,
            "grid_auto_flow": null,
            "grid_auto_rows": null,
            "grid_column": null,
            "grid_gap": null,
            "grid_row": null,
            "grid_template_areas": null,
            "grid_template_columns": null,
            "grid_template_rows": null,
            "height": "600px",
            "justify_content": null,
            "justify_items": null,
            "left": null,
            "margin": null,
            "max_height": null,
            "max_width": null,
            "min_height": null,
            "min_width": null,
            "object_fit": null,
            "object_position": null,
            "order": null,
            "overflow": null,
            "overflow_x": null,
            "overflow_y": null,
            "padding": null,
            "right": null,
            "top": null,
            "visibility": null,
            "width": null
          }
        },
        "ccb9000c4f7045a2ace560ceea482e31": {
          "model_module": "jupyter-leaflet",
          "model_name": "LeafletMapStyleModel",
          "model_module_version": "^0.18",
          "state": {
            "_model_module": "jupyter-leaflet",
            "_model_module_version": "^0.18",
            "_model_name": "LeafletMapStyleModel",
            "_view_count": null,
            "_view_module": "@jupyter-widgets/base",
            "_view_module_version": "1.2.0",
            "_view_name": "StyleView",
            "cursor": "grab"
          }
        },
        "e719196321fb4908938d593d3febdacb": {
          "model_module": "@jupyter-widgets/controls",
          "model_name": "HBoxModel",
          "model_module_version": "1.5.0",
          "state": {
            "_dom_classes": [
              "geemap-colab"
            ],
            "_model_module": "@jupyter-widgets/controls",
            "_model_module_version": "1.5.0",
            "_model_name": "HBoxModel",
            "_view_count": null,
            "_view_module": "@jupyter-widgets/controls",
            "_view_module_version": "1.5.0",
            "_view_name": "HBoxView",
            "box_style": "",
            "children": [
              "IPY_MODEL_386950a32f534e1db1d096cdc05dc964"
            ],
            "layout": "IPY_MODEL_fdd4ba8b00854d6ead613a0b5740e232"
          }
        },
        "5a8c07401e614152ac11616dc45b2576": {
          "model_module": "@jupyter-widgets/controls",
          "model_name": "VBoxModel",
          "model_module_version": "1.5.0",
          "state": {
            "_dom_classes": [
              "geemap-colab"
            ],
            "_model_module": "@jupyter-widgets/controls",
            "_model_module_version": "1.5.0",
            "_model_name": "VBoxModel",
            "_view_count": null,
            "_view_module": "@jupyter-widgets/controls",
            "_view_module_version": "1.5.0",
            "_view_name": "VBoxView",
            "box_style": "",
            "children": [
              "IPY_MODEL_13eed89fc7674bbba31adb8b23cf2713"
            ],
            "layout": "IPY_MODEL_f7ee503d2fbc45d7b51a6906d8778f8a"
          }
        },
        "386950a32f534e1db1d096cdc05dc964": {
          "model_module": "@jupyter-widgets/controls",
          "model_name": "ToggleButtonModel",
          "model_module_version": "1.5.0",
          "state": {
            "_dom_classes": [],
            "_model_module": "@jupyter-widgets/controls",
            "_model_module_version": "1.5.0",
            "_model_name": "ToggleButtonModel",
            "_view_count": null,
            "_view_module": "@jupyter-widgets/controls",
            "_view_module_version": "1.5.0",
            "_view_name": "ToggleButtonView",
            "button_style": "",
            "description": "",
            "description_tooltip": null,
            "disabled": false,
            "icon": "globe",
            "layout": "IPY_MODEL_620dedc470eb4de6a117740f21cd55b9",
            "style": "IPY_MODEL_bc321670234449ccb04ca9446bfe4782",
            "tooltip": "Search location/data",
            "value": false
          }
        },
        "fdd4ba8b00854d6ead613a0b5740e232": {
          "model_module": "@jupyter-widgets/base",
          "model_name": "LayoutModel",
          "model_module_version": "1.2.0",
          "state": {
            "_model_module": "@jupyter-widgets/base",
            "_model_module_version": "1.2.0",
            "_model_name": "LayoutModel",
            "_view_count": null,
            "_view_module": "@jupyter-widgets/base",
            "_view_module_version": "1.2.0",
            "_view_name": "LayoutView",
            "align_content": null,
            "align_items": null,
            "align_self": null,
            "border": null,
            "bottom": null,
            "display": null,
            "flex": null,
            "flex_flow": null,
            "grid_area": null,
            "grid_auto_columns": null,
            "grid_auto_flow": null,
            "grid_auto_rows": null,
            "grid_column": null,
            "grid_gap": null,
            "grid_row": null,
            "grid_template_areas": null,
            "grid_template_columns": null,
            "grid_template_rows": null,
            "height": null,
            "justify_content": null,
            "justify_items": null,
            "left": null,
            "margin": null,
            "max_height": null,
            "max_width": null,
            "min_height": null,
            "min_width": null,
            "object_fit": null,
            "object_position": null,
            "order": null,
            "overflow": null,
            "overflow_x": null,
            "overflow_y": null,
            "padding": null,
            "right": null,
            "top": null,
            "visibility": null,
            "width": null
          }
        },
        "13eed89fc7674bbba31adb8b23cf2713": {
          "model_module": "@jupyter-widgets/controls",
          "model_name": "ToggleButtonModel",
          "model_module_version": "1.5.0",
          "state": {
            "_dom_classes": [],
            "_model_module": "@jupyter-widgets/controls",
            "_model_module_version": "1.5.0",
            "_model_name": "ToggleButtonModel",
            "_view_count": null,
            "_view_module": "@jupyter-widgets/controls",
            "_view_module_version": "1.5.0",
            "_view_name": "ToggleButtonView",
            "button_style": "",
            "description": "",
            "description_tooltip": null,
            "disabled": false,
            "icon": "wrench",
            "layout": "IPY_MODEL_f8d11470213949bd8a0117a6b98acbf2",
            "style": "IPY_MODEL_12be402522ca4c73a4ce9e232fdaf08c",
            "tooltip": "Toolbar",
            "value": false
          }
        },
        "f7ee503d2fbc45d7b51a6906d8778f8a": {
          "model_module": "@jupyter-widgets/base",
          "model_name": "LayoutModel",
          "model_module_version": "1.2.0",
          "state": {
            "_model_module": "@jupyter-widgets/base",
            "_model_module_version": "1.2.0",
            "_model_name": "LayoutModel",
            "_view_count": null,
            "_view_module": "@jupyter-widgets/base",
            "_view_module_version": "1.2.0",
            "_view_name": "LayoutView",
            "align_content": null,
            "align_items": null,
            "align_self": null,
            "border": null,
            "bottom": null,
            "display": null,
            "flex": null,
            "flex_flow": null,
            "grid_area": null,
            "grid_auto_columns": null,
            "grid_auto_flow": null,
            "grid_auto_rows": null,
            "grid_column": null,
            "grid_gap": null,
            "grid_row": null,
            "grid_template_areas": null,
            "grid_template_columns": null,
            "grid_template_rows": null,
            "height": null,
            "justify_content": null,
            "justify_items": null,
            "left": null,
            "margin": null,
            "max_height": null,
            "max_width": null,
            "min_height": null,
            "min_width": null,
            "object_fit": null,
            "object_position": null,
            "order": null,
            "overflow": null,
            "overflow_x": null,
            "overflow_y": null,
            "padding": null,
            "right": null,
            "top": null,
            "visibility": null,
            "width": null
          }
        },
        "620dedc470eb4de6a117740f21cd55b9": {
          "model_module": "@jupyter-widgets/base",
          "model_name": "LayoutModel",
          "model_module_version": "1.2.0",
          "state": {
            "_model_module": "@jupyter-widgets/base",
            "_model_module_version": "1.2.0",
            "_model_name": "LayoutModel",
            "_view_count": null,
            "_view_module": "@jupyter-widgets/base",
            "_view_module_version": "1.2.0",
            "_view_name": "LayoutView",
            "align_content": null,
            "align_items": null,
            "align_self": null,
            "border": null,
            "bottom": null,
            "display": null,
            "flex": null,
            "flex_flow": null,
            "grid_area": null,
            "grid_auto_columns": null,
            "grid_auto_flow": null,
            "grid_auto_rows": null,
            "grid_column": null,
            "grid_gap": null,
            "grid_row": null,
            "grid_template_areas": null,
            "grid_template_columns": null,
            "grid_template_rows": null,
            "height": "28px",
            "justify_content": null,
            "justify_items": null,
            "left": null,
            "margin": null,
            "max_height": null,
            "max_width": null,
            "min_height": null,
            "min_width": null,
            "object_fit": null,
            "object_position": null,
            "order": null,
            "overflow": null,
            "overflow_x": null,
            "overflow_y": null,
            "padding": "0px 0px 0px 4px",
            "right": null,
            "top": null,
            "visibility": null,
            "width": "28px"
          }
        },
        "bc321670234449ccb04ca9446bfe4782": {
          "model_module": "@jupyter-widgets/controls",
          "model_name": "DescriptionStyleModel",
          "model_module_version": "1.5.0",
          "state": {
            "_model_module": "@jupyter-widgets/controls",
            "_model_module_version": "1.5.0",
            "_model_name": "DescriptionStyleModel",
            "_view_count": null,
            "_view_module": "@jupyter-widgets/base",
            "_view_module_version": "1.2.0",
            "_view_name": "StyleView",
            "description_width": ""
          }
        },
        "f8d11470213949bd8a0117a6b98acbf2": {
          "model_module": "@jupyter-widgets/base",
          "model_name": "LayoutModel",
          "model_module_version": "1.2.0",
          "state": {
            "_model_module": "@jupyter-widgets/base",
            "_model_module_version": "1.2.0",
            "_model_name": "LayoutModel",
            "_view_count": null,
            "_view_module": "@jupyter-widgets/base",
            "_view_module_version": "1.2.0",
            "_view_name": "LayoutView",
            "align_content": null,
            "align_items": null,
            "align_self": null,
            "border": null,
            "bottom": null,
            "display": null,
            "flex": null,
            "flex_flow": null,
            "grid_area": null,
            "grid_auto_columns": null,
            "grid_auto_flow": null,
            "grid_auto_rows": null,
            "grid_column": null,
            "grid_gap": null,
            "grid_row": null,
            "grid_template_areas": null,
            "grid_template_columns": null,
            "grid_template_rows": null,
            "height": "28px",
            "justify_content": null,
            "justify_items": null,
            "left": null,
            "margin": null,
            "max_height": null,
            "max_width": null,
            "min_height": null,
            "min_width": null,
            "object_fit": null,
            "object_position": null,
            "order": null,
            "overflow": null,
            "overflow_x": null,
            "overflow_y": null,
            "padding": "0px 0px 0px 4px",
            "right": null,
            "top": null,
            "visibility": null,
            "width": "28px"
          }
        },
        "12be402522ca4c73a4ce9e232fdaf08c": {
          "model_module": "@jupyter-widgets/controls",
          "model_name": "DescriptionStyleModel",
          "model_module_version": "1.5.0",
          "state": {
            "_model_module": "@jupyter-widgets/controls",
            "_model_module_version": "1.5.0",
            "_model_name": "DescriptionStyleModel",
            "_view_count": null,
            "_view_module": "@jupyter-widgets/base",
            "_view_module_version": "1.2.0",
            "_view_name": "StyleView",
            "description_width": ""
          }
        },
        "f5672c8365664eff847a209bc429d8ae": {
          "model_module": "jupyter-leaflet",
          "model_name": "LeafletMapModel",
          "model_module_version": "^0.18",
          "state": {
            "_dom_classes": [],
            "_model_module": "jupyter-leaflet",
            "_model_module_version": "^0.18",
            "_model_name": "LeafletMapModel",
            "_view_count": null,
            "_view_module": "jupyter-leaflet",
            "_view_module_version": "^0.18",
            "_view_name": "LeafletMapView",
            "bottom": 29540,
            "bounce_at_zoom_limits": true,
            "box_zoom": true,
            "center": [
              19.022685,
              -98.623038
            ],
            "close_popup_on_click": true,
            "controls": [
              "IPY_MODEL_2d7eb512675a4d928b42595539eac5fa",
              "IPY_MODEL_f9b6b91c1e8d41b785eb014325441a9d",
              "IPY_MODEL_4659bd5266a74da3a415a74469478fbb",
              "IPY_MODEL_ce433116f0174b4a8fd9b47f74eb521d",
              "IPY_MODEL_3f0e6f459e39461ea6115c12584a88d0",
              "IPY_MODEL_fbcb0024702f429bbe182d26127f44c8",
              "IPY_MODEL_57c63df20bac445388b7bd3011939852",
              "IPY_MODEL_d294f9e56f69450e919d7481db2907f5"
            ],
            "crs": {
              "name": "EPSG3857",
              "custom": false
            },
            "default_style": "IPY_MODEL_c117b28665c04964a4bb03e97f5da47c",
            "double_click_zoom": true,
            "dragging": true,
            "dragging_style": "IPY_MODEL_a84271d24b6b4037bfeda3225b139467",
            "east": -95.84472656250001,
            "fullscreen": false,
            "inertia": true,
            "inertia_deceleration": 3000,
            "inertia_max_speed": 1500,
            "interpolation": "bilinear",
            "keyboard": true,
            "keyboard_pan_offset": 80,
            "keyboard_zoom_offset": 1,
            "layers": [
              "IPY_MODEL_a88deb5cacb64530ab5de0f98b148d95",
              "IPY_MODEL_232e6492d6d34a65baefa0276a4f8dab",
              "IPY_MODEL_e195930e46dc4fb489581d7cbb6b5478",
              "IPY_MODEL_ffeabd288ba14267918896debd09b9f9"
            ],
            "layout": "IPY_MODEL_f7bcd17e38d643ef83a816f5cf6de9ef",
            "left": 14309,
            "max_zoom": 24,
            "min_zoom": null,
            "modisdate": "2023-12-05",
            "north": 20.571081893508193,
            "options": [
              "bounce_at_zoom_limits",
              "box_zoom",
              "center",
              "close_popup_on_click",
              "double_click_zoom",
              "dragging",
              "fullscreen",
              "inertia",
              "inertia_deceleration",
              "inertia_max_speed",
              "interpolation",
              "keyboard",
              "keyboard_pan_offset",
              "keyboard_zoom_offset",
              "max_zoom",
              "min_zoom",
              "prefer_canvas",
              "scroll_wheel_zoom",
              "tap",
              "tap_tolerance",
              "touch_zoom",
              "world_copy_jump",
              "zoom",
              "zoom_animation_threshold",
              "zoom_delta",
              "zoom_snap"
            ],
            "panes": {},
            "prefer_canvas": false,
            "right": 15320,
            "scroll_wheel_zoom": true,
            "south": 17.45547257997284,
            "style": "IPY_MODEL_feceed4ceb1840498f09aec55cae7ac8",
            "tap": true,
            "tap_tolerance": 15,
            "top": 28940,
            "touch_zoom": true,
            "west": -101.39831542968751,
            "window_url": "https://7fz12plcydm-496ff2e9c6d22116-0-colab.googleusercontent.com/outputframe.html?vrz=colab_20231205-060105_RC00_587982197",
            "world_copy_jump": false,
            "zoom": 8,
            "zoom_animation_threshold": 4,
            "zoom_delta": 1,
            "zoom_snap": 1
          }
        },
        "2d7eb512675a4d928b42595539eac5fa": {
          "model_module": "jupyter-leaflet",
          "model_name": "LeafletWidgetControlModel",
          "model_module_version": "^0.18",
          "state": {
            "_model_module": "jupyter-leaflet",
            "_model_module_version": "^0.18",
            "_model_name": "LeafletWidgetControlModel",
            "_view_count": null,
            "_view_module": "jupyter-leaflet",
            "_view_module_version": "^0.18",
            "_view_name": "LeafletWidgetControlView",
            "max_height": null,
            "max_width": null,
            "min_height": null,
            "min_width": null,
            "options": [
              "position",
              "transparent_bg"
            ],
            "position": "topleft",
            "transparent_bg": false,
            "widget": "IPY_MODEL_359cfbe946d749e599b593eda21bb6f4"
          }
        },
        "f9b6b91c1e8d41b785eb014325441a9d": {
          "model_module": "jupyter-leaflet",
          "model_name": "LeafletZoomControlModel",
          "model_module_version": "^0.18",
          "state": {
            "_model_module": "jupyter-leaflet",
            "_model_module_version": "^0.18",
            "_model_name": "LeafletZoomControlModel",
            "_view_count": null,
            "_view_module": "jupyter-leaflet",
            "_view_module_version": "^0.18",
            "_view_name": "LeafletZoomControlView",
            "options": [
              "position",
              "zoom_in_text",
              "zoom_in_title",
              "zoom_out_text",
              "zoom_out_title"
            ],
            "position": "topleft",
            "zoom_in_text": "+",
            "zoom_in_title": "Zoom in",
            "zoom_out_text": "-",
            "zoom_out_title": "Zoom out"
          }
        },
        "4659bd5266a74da3a415a74469478fbb": {
          "model_module": "jupyter-leaflet",
          "model_name": "LeafletFullScreenControlModel",
          "model_module_version": "^0.18",
          "state": {
            "_model_module": "jupyter-leaflet",
            "_model_module_version": "^0.18",
            "_model_name": "LeafletFullScreenControlModel",
            "_view_count": null,
            "_view_module": "jupyter-leaflet",
            "_view_module_version": "^0.18",
            "_view_name": "LeafletFullScreenControlView",
            "options": [
              "position"
            ],
            "position": "topleft"
          }
        },
        "ce433116f0174b4a8fd9b47f74eb521d": {
          "model_module": "jupyter-leaflet",
          "model_name": "LeafletDrawControlModel",
          "model_module_version": "^0.18",
          "state": {
            "_model_module": "jupyter-leaflet",
            "_model_module_version": "^0.18",
            "_model_name": "LeafletDrawControlModel",
            "_view_count": null,
            "_view_module": "jupyter-leaflet",
            "_view_module_version": "^0.18",
            "_view_name": "LeafletDrawControlView",
            "circle": {},
            "circlemarker": {},
            "data": [],
            "edit": true,
            "marker": {
              "shapeOptions": {
                "color": "#3388ff"
              }
            },
            "options": [
              "position"
            ],
            "polygon": {
              "shapeOptions": {}
            },
            "polyline": {
              "shapeOptions": {}
            },
            "position": "topleft",
            "rectangle": {
              "shapeOptions": {
                "color": "#3388ff"
              }
            },
            "remove": true
          }
        },
        "3f0e6f459e39461ea6115c12584a88d0": {
          "model_module": "jupyter-leaflet",
          "model_name": "LeafletScaleControlModel",
          "model_module_version": "^0.18",
          "state": {
            "_model_module": "jupyter-leaflet",
            "_model_module_version": "^0.18",
            "_model_name": "LeafletScaleControlModel",
            "_view_count": null,
            "_view_module": "jupyter-leaflet",
            "_view_module_version": "^0.18",
            "_view_name": "LeafletScaleControlView",
            "imperial": true,
            "max_width": 100,
            "metric": true,
            "options": [
              "imperial",
              "max_width",
              "metric",
              "position",
              "update_when_idle"
            ],
            "position": "bottomleft",
            "update_when_idle": false
          }
        },
        "fbcb0024702f429bbe182d26127f44c8": {
          "model_module": "jupyter-leaflet",
          "model_name": "LeafletMeasureControlModel",
          "model_module_version": "^0.18",
          "state": {
            "_custom_units": {},
            "_model_module": "jupyter-leaflet",
            "_model_module_version": "^0.18",
            "_model_name": "LeafletMeasureControlModel",
            "_view_count": null,
            "_view_module": "jupyter-leaflet",
            "_view_module_version": "^0.18",
            "_view_name": "LeafletMeasureControlView",
            "active_color": "orange",
            "capture_z_index": 10000,
            "completed_color": "#C8F2BE",
            "options": [
              "active_color",
              "capture_z_index",
              "completed_color",
              "popup_options",
              "position",
              "primary_area_unit",
              "primary_length_unit",
              "secondary_area_unit",
              "secondary_length_unit"
            ],
            "popup_options": {
              "className": "leaflet-measure-resultpopup",
              "autoPanPadding": [
                10,
                10
              ]
            },
            "position": "bottomleft",
            "primary_area_unit": "acres",
            "primary_length_unit": "kilometers",
            "secondary_area_unit": null,
            "secondary_length_unit": null
          }
        },
        "57c63df20bac445388b7bd3011939852": {
          "model_module": "jupyter-leaflet",
          "model_name": "LeafletWidgetControlModel",
          "model_module_version": "^0.18",
          "state": {
            "_model_module": "jupyter-leaflet",
            "_model_module_version": "^0.18",
            "_model_name": "LeafletWidgetControlModel",
            "_view_count": null,
            "_view_module": "jupyter-leaflet",
            "_view_module_version": "^0.18",
            "_view_name": "LeafletWidgetControlView",
            "max_height": null,
            "max_width": null,
            "min_height": null,
            "min_width": null,
            "options": [
              "position",
              "transparent_bg"
            ],
            "position": "topright",
            "transparent_bg": false,
            "widget": "IPY_MODEL_3daab882cc8f4fc997d71ef10f020570"
          }
        },
        "d294f9e56f69450e919d7481db2907f5": {
          "model_module": "jupyter-leaflet",
          "model_name": "LeafletAttributionControlModel",
          "model_module_version": "^0.18",
          "state": {
            "_model_module": "jupyter-leaflet",
            "_model_module_version": "^0.18",
            "_model_name": "LeafletAttributionControlModel",
            "_view_count": null,
            "_view_module": "jupyter-leaflet",
            "_view_module_version": "^0.18",
            "_view_name": "LeafletAttributionControlView",
            "options": [
              "position",
              "prefix"
            ],
            "position": "bottomright",
            "prefix": "ipyleaflet"
          }
        },
        "c117b28665c04964a4bb03e97f5da47c": {
          "model_module": "jupyter-leaflet",
          "model_name": "LeafletMapStyleModel",
          "model_module_version": "^0.18",
          "state": {
            "_model_module": "jupyter-leaflet",
            "_model_module_version": "^0.18",
            "_model_name": "LeafletMapStyleModel",
            "_view_count": null,
            "_view_module": "@jupyter-widgets/base",
            "_view_module_version": "1.2.0",
            "_view_name": "StyleView",
            "cursor": "grab"
          }
        },
        "a84271d24b6b4037bfeda3225b139467": {
          "model_module": "jupyter-leaflet",
          "model_name": "LeafletMapStyleModel",
          "model_module_version": "^0.18",
          "state": {
            "_model_module": "jupyter-leaflet",
            "_model_module_version": "^0.18",
            "_model_name": "LeafletMapStyleModel",
            "_view_count": null,
            "_view_module": "@jupyter-widgets/base",
            "_view_module_version": "1.2.0",
            "_view_name": "StyleView",
            "cursor": "move"
          }
        },
        "a88deb5cacb64530ab5de0f98b148d95": {
          "model_module": "jupyter-leaflet",
          "model_name": "LeafletTileLayerModel",
          "model_module_version": "^0.18",
          "state": {
            "_model_module": "jupyter-leaflet",
            "_model_module_version": "^0.18",
            "_model_name": "LeafletTileLayerModel",
            "_view_count": null,
            "_view_module": "jupyter-leaflet",
            "_view_module_version": "^0.18",
            "_view_name": "LeafletTileLayerView",
            "attribution": "&copy; <a href=\"https://www.openstreetmap.org/copyright\">OpenStreetMap</a> contributors",
            "base": true,
            "bottom": true,
            "bounds": null,
            "detect_retina": false,
            "loading": false,
            "max_native_zoom": null,
            "max_zoom": 19,
            "min_native_zoom": null,
            "min_zoom": 1,
            "name": "OpenStreetMap.Mapnik",
            "no_wrap": false,
            "opacity": 1,
            "options": [
              "attribution",
              "bounds",
              "detect_retina",
              "max_native_zoom",
              "max_zoom",
              "min_native_zoom",
              "min_zoom",
              "no_wrap",
              "tile_size",
              "tms",
              "zoom_offset"
            ],
            "pane": "",
            "popup": null,
            "popup_max_height": null,
            "popup_max_width": 300,
            "popup_min_width": 50,
            "show_loading": false,
            "subitems": [],
            "tile_size": 256,
            "tms": false,
            "url": "https://tile.openstreetmap.org/{z}/{x}/{y}.png",
            "visible": true,
            "zoom_offset": 0
          }
        },
        "232e6492d6d34a65baefa0276a4f8dab": {
          "model_module": "jupyter-leaflet",
          "model_name": "LeafletTileLayerModel",
          "model_module_version": "^0.18",
          "state": {
            "_model_module": "jupyter-leaflet",
            "_model_module_version": "^0.18",
            "_model_name": "LeafletTileLayerModel",
            "_view_count": null,
            "_view_module": "jupyter-leaflet",
            "_view_module_version": "^0.18",
            "_view_name": "LeafletTileLayerView",
            "attribution": "Google Earth Engine",
            "base": false,
            "bottom": true,
            "bounds": null,
            "detect_retina": false,
            "loading": false,
            "max_native_zoom": null,
            "max_zoom": 24,
            "min_native_zoom": null,
            "min_zoom": 0,
            "name": "Imagen RGB",
            "no_wrap": false,
            "opacity": 1,
            "options": [
              "attribution",
              "bounds",
              "detect_retina",
              "max_native_zoom",
              "max_zoom",
              "min_native_zoom",
              "min_zoom",
              "no_wrap",
              "tile_size",
              "tms",
              "zoom_offset"
            ],
            "pane": "",
            "popup": null,
            "popup_max_height": null,
            "popup_max_width": 300,
            "popup_min_width": 50,
            "show_loading": false,
            "subitems": [],
            "tile_size": 256,
            "tms": false,
            "url": "https://earthengine.googleapis.com/v1/projects/earthengine-legacy/maps/7e033cdd60f75acfbadf406df0115316-87a910ec2baf92dd9e293c8e4aab5884/tiles/{z}/{x}/{y}",
            "visible": true,
            "zoom_offset": 0
          }
        },
        "e195930e46dc4fb489581d7cbb6b5478": {
          "model_module": "jupyter-leaflet",
          "model_name": "LeafletTileLayerModel",
          "model_module_version": "^0.18",
          "state": {
            "_model_module": "jupyter-leaflet",
            "_model_module_version": "^0.18",
            "_model_name": "LeafletTileLayerModel",
            "_view_count": null,
            "_view_module": "jupyter-leaflet",
            "_view_module_version": "^0.18",
            "_view_name": "LeafletTileLayerView",
            "attribution": "Google Earth Engine",
            "base": false,
            "bottom": true,
            "bounds": null,
            "detect_retina": false,
            "loading": false,
            "max_native_zoom": null,
            "max_zoom": 24,
            "min_native_zoom": null,
            "min_zoom": 0,
            "name": "Selfmask Meth2",
            "no_wrap": false,
            "opacity": 1,
            "options": [
              "attribution",
              "bounds",
              "detect_retina",
              "max_native_zoom",
              "max_zoom",
              "min_native_zoom",
              "min_zoom",
              "no_wrap",
              "tile_size",
              "tms",
              "zoom_offset"
            ],
            "pane": "",
            "popup": null,
            "popup_max_height": null,
            "popup_max_width": 300,
            "popup_min_width": 50,
            "show_loading": false,
            "subitems": [],
            "tile_size": 256,
            "tms": false,
            "url": "https://earthengine.googleapis.com/v1/projects/earthengine-legacy/maps/3ce89ce867529907d28637f22c2806a7-2e0bf5bd515238d54dfb98481942b338/tiles/{z}/{x}/{y}",
            "visible": true,
            "zoom_offset": 0
          }
        },
        "ffeabd288ba14267918896debd09b9f9": {
          "model_module": "jupyter-leaflet",
          "model_name": "LeafletTileLayerModel",
          "model_module_version": "^0.18",
          "state": {
            "_model_module": "jupyter-leaflet",
            "_model_module_version": "^0.18",
            "_model_name": "LeafletTileLayerModel",
            "_view_count": null,
            "_view_module": "jupyter-leaflet",
            "_view_module_version": "^0.18",
            "_view_name": "LeafletTileLayerView",
            "attribution": "Google Earth Engine",
            "base": false,
            "bottom": true,
            "bounds": null,
            "detect_retina": false,
            "loading": false,
            "max_native_zoom": null,
            "max_zoom": 24,
            "min_native_zoom": null,
            "min_zoom": 0,
            "name": "Outline",
            "no_wrap": false,
            "opacity": 1,
            "options": [
              "attribution",
              "bounds",
              "detect_retina",
              "max_native_zoom",
              "max_zoom",
              "min_native_zoom",
              "min_zoom",
              "no_wrap",
              "tile_size",
              "tms",
              "zoom_offset"
            ],
            "pane": "",
            "popup": null,
            "popup_max_height": null,
            "popup_max_width": 300,
            "popup_min_width": 50,
            "show_loading": false,
            "subitems": [],
            "tile_size": 256,
            "tms": false,
            "url": "https://earthengine.googleapis.com/v1/projects/earthengine-legacy/maps/c5410d3262f9100f0b370c4345f8e0d0-b08abf30934b015ecdaf264d8bc8c21b/tiles/{z}/{x}/{y}",
            "visible": true,
            "zoom_offset": 0
          }
        },
        "f7bcd17e38d643ef83a816f5cf6de9ef": {
          "model_module": "@jupyter-widgets/base",
          "model_name": "LayoutModel",
          "model_module_version": "1.2.0",
          "state": {
            "_model_module": "@jupyter-widgets/base",
            "_model_module_version": "1.2.0",
            "_model_name": "LayoutModel",
            "_view_count": null,
            "_view_module": "@jupyter-widgets/base",
            "_view_module_version": "1.2.0",
            "_view_name": "LayoutView",
            "align_content": null,
            "align_items": null,
            "align_self": null,
            "border": null,
            "bottom": null,
            "display": null,
            "flex": null,
            "flex_flow": null,
            "grid_area": null,
            "grid_auto_columns": null,
            "grid_auto_flow": null,
            "grid_auto_rows": null,
            "grid_column": null,
            "grid_gap": null,
            "grid_row": null,
            "grid_template_areas": null,
            "grid_template_columns": null,
            "grid_template_rows": null,
            "height": "600px",
            "justify_content": null,
            "justify_items": null,
            "left": null,
            "margin": null,
            "max_height": null,
            "max_width": null,
            "min_height": null,
            "min_width": null,
            "object_fit": null,
            "object_position": null,
            "order": null,
            "overflow": null,
            "overflow_x": null,
            "overflow_y": null,
            "padding": null,
            "right": null,
            "top": null,
            "visibility": null,
            "width": null
          }
        },
        "feceed4ceb1840498f09aec55cae7ac8": {
          "model_module": "jupyter-leaflet",
          "model_name": "LeafletMapStyleModel",
          "model_module_version": "^0.18",
          "state": {
            "_model_module": "jupyter-leaflet",
            "_model_module_version": "^0.18",
            "_model_name": "LeafletMapStyleModel",
            "_view_count": null,
            "_view_module": "@jupyter-widgets/base",
            "_view_module_version": "1.2.0",
            "_view_name": "StyleView",
            "cursor": "grab"
          }
        },
        "359cfbe946d749e599b593eda21bb6f4": {
          "model_module": "@jupyter-widgets/controls",
          "model_name": "HBoxModel",
          "model_module_version": "1.5.0",
          "state": {
            "_dom_classes": [
              "geemap-colab"
            ],
            "_model_module": "@jupyter-widgets/controls",
            "_model_module_version": "1.5.0",
            "_model_name": "HBoxModel",
            "_view_count": null,
            "_view_module": "@jupyter-widgets/controls",
            "_view_module_version": "1.5.0",
            "_view_name": "HBoxView",
            "box_style": "",
            "children": [
              "IPY_MODEL_9ac61c2099844df8a61a49e1aa22aee4"
            ],
            "layout": "IPY_MODEL_daedc3328d0443acac01b301d98039e8"
          }
        },
        "3daab882cc8f4fc997d71ef10f020570": {
          "model_module": "@jupyter-widgets/controls",
          "model_name": "VBoxModel",
          "model_module_version": "1.5.0",
          "state": {
            "_dom_classes": [
              "geemap-colab"
            ],
            "_model_module": "@jupyter-widgets/controls",
            "_model_module_version": "1.5.0",
            "_model_name": "VBoxModel",
            "_view_count": null,
            "_view_module": "@jupyter-widgets/controls",
            "_view_module_version": "1.5.0",
            "_view_name": "VBoxView",
            "box_style": "",
            "children": [
              "IPY_MODEL_432001e0b9bb476ebea64d1efb8969b2"
            ],
            "layout": "IPY_MODEL_e3c7d66f7a634c2495bc04da0f1cf12e"
          }
        },
        "9ac61c2099844df8a61a49e1aa22aee4": {
          "model_module": "@jupyter-widgets/controls",
          "model_name": "ToggleButtonModel",
          "model_module_version": "1.5.0",
          "state": {
            "_dom_classes": [],
            "_model_module": "@jupyter-widgets/controls",
            "_model_module_version": "1.5.0",
            "_model_name": "ToggleButtonModel",
            "_view_count": null,
            "_view_module": "@jupyter-widgets/controls",
            "_view_module_version": "1.5.0",
            "_view_name": "ToggleButtonView",
            "button_style": "",
            "description": "",
            "description_tooltip": null,
            "disabled": false,
            "icon": "globe",
            "layout": "IPY_MODEL_a8958b3f36e94783a99298f968fb9f2a",
            "style": "IPY_MODEL_ca4d7bd7900544b1b2aaec64c2a3e85d",
            "tooltip": "Search location/data",
            "value": false
          }
        },
        "daedc3328d0443acac01b301d98039e8": {
          "model_module": "@jupyter-widgets/base",
          "model_name": "LayoutModel",
          "model_module_version": "1.2.0",
          "state": {
            "_model_module": "@jupyter-widgets/base",
            "_model_module_version": "1.2.0",
            "_model_name": "LayoutModel",
            "_view_count": null,
            "_view_module": "@jupyter-widgets/base",
            "_view_module_version": "1.2.0",
            "_view_name": "LayoutView",
            "align_content": null,
            "align_items": null,
            "align_self": null,
            "border": null,
            "bottom": null,
            "display": null,
            "flex": null,
            "flex_flow": null,
            "grid_area": null,
            "grid_auto_columns": null,
            "grid_auto_flow": null,
            "grid_auto_rows": null,
            "grid_column": null,
            "grid_gap": null,
            "grid_row": null,
            "grid_template_areas": null,
            "grid_template_columns": null,
            "grid_template_rows": null,
            "height": null,
            "justify_content": null,
            "justify_items": null,
            "left": null,
            "margin": null,
            "max_height": null,
            "max_width": null,
            "min_height": null,
            "min_width": null,
            "object_fit": null,
            "object_position": null,
            "order": null,
            "overflow": null,
            "overflow_x": null,
            "overflow_y": null,
            "padding": null,
            "right": null,
            "top": null,
            "visibility": null,
            "width": null
          }
        },
        "432001e0b9bb476ebea64d1efb8969b2": {
          "model_module": "@jupyter-widgets/controls",
          "model_name": "ToggleButtonModel",
          "model_module_version": "1.5.0",
          "state": {
            "_dom_classes": [],
            "_model_module": "@jupyter-widgets/controls",
            "_model_module_version": "1.5.0",
            "_model_name": "ToggleButtonModel",
            "_view_count": null,
            "_view_module": "@jupyter-widgets/controls",
            "_view_module_version": "1.5.0",
            "_view_name": "ToggleButtonView",
            "button_style": "",
            "description": "",
            "description_tooltip": null,
            "disabled": false,
            "icon": "wrench",
            "layout": "IPY_MODEL_655cf6623a504070986de751e0e8fe92",
            "style": "IPY_MODEL_0e0fbbc1390e41c1b895845199391b8f",
            "tooltip": "Toolbar",
            "value": false
          }
        },
        "e3c7d66f7a634c2495bc04da0f1cf12e": {
          "model_module": "@jupyter-widgets/base",
          "model_name": "LayoutModel",
          "model_module_version": "1.2.0",
          "state": {
            "_model_module": "@jupyter-widgets/base",
            "_model_module_version": "1.2.0",
            "_model_name": "LayoutModel",
            "_view_count": null,
            "_view_module": "@jupyter-widgets/base",
            "_view_module_version": "1.2.0",
            "_view_name": "LayoutView",
            "align_content": null,
            "align_items": null,
            "align_self": null,
            "border": null,
            "bottom": null,
            "display": null,
            "flex": null,
            "flex_flow": null,
            "grid_area": null,
            "grid_auto_columns": null,
            "grid_auto_flow": null,
            "grid_auto_rows": null,
            "grid_column": null,
            "grid_gap": null,
            "grid_row": null,
            "grid_template_areas": null,
            "grid_template_columns": null,
            "grid_template_rows": null,
            "height": null,
            "justify_content": null,
            "justify_items": null,
            "left": null,
            "margin": null,
            "max_height": null,
            "max_width": null,
            "min_height": null,
            "min_width": null,
            "object_fit": null,
            "object_position": null,
            "order": null,
            "overflow": null,
            "overflow_x": null,
            "overflow_y": null,
            "padding": null,
            "right": null,
            "top": null,
            "visibility": null,
            "width": null
          }
        },
        "a8958b3f36e94783a99298f968fb9f2a": {
          "model_module": "@jupyter-widgets/base",
          "model_name": "LayoutModel",
          "model_module_version": "1.2.0",
          "state": {
            "_model_module": "@jupyter-widgets/base",
            "_model_module_version": "1.2.0",
            "_model_name": "LayoutModel",
            "_view_count": null,
            "_view_module": "@jupyter-widgets/base",
            "_view_module_version": "1.2.0",
            "_view_name": "LayoutView",
            "align_content": null,
            "align_items": null,
            "align_self": null,
            "border": null,
            "bottom": null,
            "display": null,
            "flex": null,
            "flex_flow": null,
            "grid_area": null,
            "grid_auto_columns": null,
            "grid_auto_flow": null,
            "grid_auto_rows": null,
            "grid_column": null,
            "grid_gap": null,
            "grid_row": null,
            "grid_template_areas": null,
            "grid_template_columns": null,
            "grid_template_rows": null,
            "height": "28px",
            "justify_content": null,
            "justify_items": null,
            "left": null,
            "margin": null,
            "max_height": null,
            "max_width": null,
            "min_height": null,
            "min_width": null,
            "object_fit": null,
            "object_position": null,
            "order": null,
            "overflow": null,
            "overflow_x": null,
            "overflow_y": null,
            "padding": "0px 0px 0px 4px",
            "right": null,
            "top": null,
            "visibility": null,
            "width": "28px"
          }
        },
        "ca4d7bd7900544b1b2aaec64c2a3e85d": {
          "model_module": "@jupyter-widgets/controls",
          "model_name": "DescriptionStyleModel",
          "model_module_version": "1.5.0",
          "state": {
            "_model_module": "@jupyter-widgets/controls",
            "_model_module_version": "1.5.0",
            "_model_name": "DescriptionStyleModel",
            "_view_count": null,
            "_view_module": "@jupyter-widgets/base",
            "_view_module_version": "1.2.0",
            "_view_name": "StyleView",
            "description_width": ""
          }
        },
        "655cf6623a504070986de751e0e8fe92": {
          "model_module": "@jupyter-widgets/base",
          "model_name": "LayoutModel",
          "model_module_version": "1.2.0",
          "state": {
            "_model_module": "@jupyter-widgets/base",
            "_model_module_version": "1.2.0",
            "_model_name": "LayoutModel",
            "_view_count": null,
            "_view_module": "@jupyter-widgets/base",
            "_view_module_version": "1.2.0",
            "_view_name": "LayoutView",
            "align_content": null,
            "align_items": null,
            "align_self": null,
            "border": null,
            "bottom": null,
            "display": null,
            "flex": null,
            "flex_flow": null,
            "grid_area": null,
            "grid_auto_columns": null,
            "grid_auto_flow": null,
            "grid_auto_rows": null,
            "grid_column": null,
            "grid_gap": null,
            "grid_row": null,
            "grid_template_areas": null,
            "grid_template_columns": null,
            "grid_template_rows": null,
            "height": "28px",
            "justify_content": null,
            "justify_items": null,
            "left": null,
            "margin": null,
            "max_height": null,
            "max_width": null,
            "min_height": null,
            "min_width": null,
            "object_fit": null,
            "object_position": null,
            "order": null,
            "overflow": null,
            "overflow_x": null,
            "overflow_y": null,
            "padding": "0px 0px 0px 4px",
            "right": null,
            "top": null,
            "visibility": null,
            "width": "28px"
          }
        },
        "0e0fbbc1390e41c1b895845199391b8f": {
          "model_module": "@jupyter-widgets/controls",
          "model_name": "DescriptionStyleModel",
          "model_module_version": "1.5.0",
          "state": {
            "_model_module": "@jupyter-widgets/controls",
            "_model_module_version": "1.5.0",
            "_model_name": "DescriptionStyleModel",
            "_view_count": null,
            "_view_module": "@jupyter-widgets/base",
            "_view_module_version": "1.2.0",
            "_view_name": "StyleView",
            "description_width": ""
          }
        },
        "1ae7c74017734149a30a3e408744765a": {
          "model_module": "jupyter-leaflet",
          "model_name": "LeafletMapModel",
          "model_module_version": "^0.18",
          "state": {
            "_dom_classes": [],
            "_model_module": "jupyter-leaflet",
            "_model_module_version": "^0.18",
            "_model_name": "LeafletMapModel",
            "_view_count": null,
            "_view_module": "jupyter-leaflet",
            "_view_module_version": "^0.18",
            "_view_name": "LeafletMapView",
            "bottom": 29540,
            "bounce_at_zoom_limits": true,
            "box_zoom": true,
            "center": [
              19.022685,
              -98.623038
            ],
            "close_popup_on_click": true,
            "controls": [
              "IPY_MODEL_5d2ed2419fc24578a6574e515a898498",
              "IPY_MODEL_ea6bcc1b35b947d4963c28e0ebfc56c0",
              "IPY_MODEL_984894ac200f4a99b6cfc316addde7a2",
              "IPY_MODEL_1a22c982366d4da6b711e8ad94c6602e",
              "IPY_MODEL_081b4ca560984085a690febedb04e081",
              "IPY_MODEL_539cfebbe91d481abcb702cee34c5b29",
              "IPY_MODEL_39dc2c59abb4440892b30b63db614206",
              "IPY_MODEL_eb3b3c8d2bc342f5aa48a68f4836ffab"
            ],
            "crs": {
              "name": "EPSG3857",
              "custom": false
            },
            "default_style": "IPY_MODEL_a5b9c926e28a45898eabfe39ef9eaae0",
            "double_click_zoom": true,
            "dragging": true,
            "dragging_style": "IPY_MODEL_037dca3b74b8425488a147cf4b629a5f",
            "east": -95.84472656250001,
            "fullscreen": false,
            "inertia": true,
            "inertia_deceleration": 3000,
            "inertia_max_speed": 1500,
            "interpolation": "bilinear",
            "keyboard": true,
            "keyboard_pan_offset": 80,
            "keyboard_zoom_offset": 1,
            "layers": [
              "IPY_MODEL_66a2213ff6d74aa1bac1e4bb430c224e",
              "IPY_MODEL_9ce74be457c449ee8b4b3988e829f12b",
              "IPY_MODEL_c6f3153bcb1e440ab9a321d40f1182e3",
              "IPY_MODEL_ecd5e58edb624dacb8d07ae266b75e6f",
              "IPY_MODEL_35c90d6449e04f1cb46e98612a661a3b",
              "IPY_MODEL_2660534a14ec40cd8e844961a6f197f9"
            ],
            "layout": "IPY_MODEL_c56e138a989242309bc09c4967c920c1",
            "left": 14309,
            "max_zoom": 24,
            "min_zoom": null,
            "modisdate": "2023-12-05",
            "north": 20.571081893508193,
            "options": [
              "bounce_at_zoom_limits",
              "box_zoom",
              "center",
              "close_popup_on_click",
              "double_click_zoom",
              "dragging",
              "fullscreen",
              "inertia",
              "inertia_deceleration",
              "inertia_max_speed",
              "interpolation",
              "keyboard",
              "keyboard_pan_offset",
              "keyboard_zoom_offset",
              "max_zoom",
              "min_zoom",
              "prefer_canvas",
              "scroll_wheel_zoom",
              "tap",
              "tap_tolerance",
              "touch_zoom",
              "world_copy_jump",
              "zoom",
              "zoom_animation_threshold",
              "zoom_delta",
              "zoom_snap"
            ],
            "panes": {},
            "prefer_canvas": false,
            "right": 15320,
            "scroll_wheel_zoom": true,
            "south": 17.45547257997284,
            "style": "IPY_MODEL_8169dfd892dc4e8aad3faefdd8d9b4a7",
            "tap": true,
            "tap_tolerance": 15,
            "top": 28940,
            "touch_zoom": true,
            "west": -101.39831542968751,
            "window_url": "https://7fz12plcydm-496ff2e9c6d22116-0-colab.googleusercontent.com/outputframe.html?vrz=colab_20231205-060105_RC00_587982197",
            "world_copy_jump": false,
            "zoom": 8,
            "zoom_animation_threshold": 4,
            "zoom_delta": 1,
            "zoom_snap": 1
          }
        },
        "5d2ed2419fc24578a6574e515a898498": {
          "model_module": "jupyter-leaflet",
          "model_name": "LeafletWidgetControlModel",
          "model_module_version": "^0.18",
          "state": {
            "_model_module": "jupyter-leaflet",
            "_model_module_version": "^0.18",
            "_model_name": "LeafletWidgetControlModel",
            "_view_count": null,
            "_view_module": "jupyter-leaflet",
            "_view_module_version": "^0.18",
            "_view_name": "LeafletWidgetControlView",
            "max_height": null,
            "max_width": null,
            "min_height": null,
            "min_width": null,
            "options": [
              "position",
              "transparent_bg"
            ],
            "position": "topleft",
            "transparent_bg": false,
            "widget": "IPY_MODEL_6e58e8e61ec04cf4841897b8c71a5f3a"
          }
        },
        "ea6bcc1b35b947d4963c28e0ebfc56c0": {
          "model_module": "jupyter-leaflet",
          "model_name": "LeafletZoomControlModel",
          "model_module_version": "^0.18",
          "state": {
            "_model_module": "jupyter-leaflet",
            "_model_module_version": "^0.18",
            "_model_name": "LeafletZoomControlModel",
            "_view_count": null,
            "_view_module": "jupyter-leaflet",
            "_view_module_version": "^0.18",
            "_view_name": "LeafletZoomControlView",
            "options": [
              "position",
              "zoom_in_text",
              "zoom_in_title",
              "zoom_out_text",
              "zoom_out_title"
            ],
            "position": "topleft",
            "zoom_in_text": "+",
            "zoom_in_title": "Zoom in",
            "zoom_out_text": "-",
            "zoom_out_title": "Zoom out"
          }
        },
        "984894ac200f4a99b6cfc316addde7a2": {
          "model_module": "jupyter-leaflet",
          "model_name": "LeafletFullScreenControlModel",
          "model_module_version": "^0.18",
          "state": {
            "_model_module": "jupyter-leaflet",
            "_model_module_version": "^0.18",
            "_model_name": "LeafletFullScreenControlModel",
            "_view_count": null,
            "_view_module": "jupyter-leaflet",
            "_view_module_version": "^0.18",
            "_view_name": "LeafletFullScreenControlView",
            "options": [
              "position"
            ],
            "position": "topleft"
          }
        },
        "1a22c982366d4da6b711e8ad94c6602e": {
          "model_module": "jupyter-leaflet",
          "model_name": "LeafletDrawControlModel",
          "model_module_version": "^0.18",
          "state": {
            "_model_module": "jupyter-leaflet",
            "_model_module_version": "^0.18",
            "_model_name": "LeafletDrawControlModel",
            "_view_count": null,
            "_view_module": "jupyter-leaflet",
            "_view_module_version": "^0.18",
            "_view_name": "LeafletDrawControlView",
            "circle": {},
            "circlemarker": {},
            "data": [],
            "edit": true,
            "marker": {
              "shapeOptions": {
                "color": "#3388ff"
              }
            },
            "options": [
              "position"
            ],
            "polygon": {
              "shapeOptions": {}
            },
            "polyline": {
              "shapeOptions": {}
            },
            "position": "topleft",
            "rectangle": {
              "shapeOptions": {
                "color": "#3388ff"
              }
            },
            "remove": true
          }
        },
        "081b4ca560984085a690febedb04e081": {
          "model_module": "jupyter-leaflet",
          "model_name": "LeafletScaleControlModel",
          "model_module_version": "^0.18",
          "state": {
            "_model_module": "jupyter-leaflet",
            "_model_module_version": "^0.18",
            "_model_name": "LeafletScaleControlModel",
            "_view_count": null,
            "_view_module": "jupyter-leaflet",
            "_view_module_version": "^0.18",
            "_view_name": "LeafletScaleControlView",
            "imperial": true,
            "max_width": 100,
            "metric": true,
            "options": [
              "imperial",
              "max_width",
              "metric",
              "position",
              "update_when_idle"
            ],
            "position": "bottomleft",
            "update_when_idle": false
          }
        },
        "539cfebbe91d481abcb702cee34c5b29": {
          "model_module": "jupyter-leaflet",
          "model_name": "LeafletMeasureControlModel",
          "model_module_version": "^0.18",
          "state": {
            "_custom_units": {},
            "_model_module": "jupyter-leaflet",
            "_model_module_version": "^0.18",
            "_model_name": "LeafletMeasureControlModel",
            "_view_count": null,
            "_view_module": "jupyter-leaflet",
            "_view_module_version": "^0.18",
            "_view_name": "LeafletMeasureControlView",
            "active_color": "orange",
            "capture_z_index": 10000,
            "completed_color": "#C8F2BE",
            "options": [
              "active_color",
              "capture_z_index",
              "completed_color",
              "popup_options",
              "position",
              "primary_area_unit",
              "primary_length_unit",
              "secondary_area_unit",
              "secondary_length_unit"
            ],
            "popup_options": {
              "className": "leaflet-measure-resultpopup",
              "autoPanPadding": [
                10,
                10
              ]
            },
            "position": "bottomleft",
            "primary_area_unit": "acres",
            "primary_length_unit": "kilometers",
            "secondary_area_unit": null,
            "secondary_length_unit": null
          }
        },
        "39dc2c59abb4440892b30b63db614206": {
          "model_module": "jupyter-leaflet",
          "model_name": "LeafletWidgetControlModel",
          "model_module_version": "^0.18",
          "state": {
            "_model_module": "jupyter-leaflet",
            "_model_module_version": "^0.18",
            "_model_name": "LeafletWidgetControlModel",
            "_view_count": null,
            "_view_module": "jupyter-leaflet",
            "_view_module_version": "^0.18",
            "_view_name": "LeafletWidgetControlView",
            "max_height": null,
            "max_width": null,
            "min_height": null,
            "min_width": null,
            "options": [
              "position",
              "transparent_bg"
            ],
            "position": "topright",
            "transparent_bg": false,
            "widget": "IPY_MODEL_f0ba22fe061348b380198c07615c435b"
          }
        },
        "eb3b3c8d2bc342f5aa48a68f4836ffab": {
          "model_module": "jupyter-leaflet",
          "model_name": "LeafletAttributionControlModel",
          "model_module_version": "^0.18",
          "state": {
            "_model_module": "jupyter-leaflet",
            "_model_module_version": "^0.18",
            "_model_name": "LeafletAttributionControlModel",
            "_view_count": null,
            "_view_module": "jupyter-leaflet",
            "_view_module_version": "^0.18",
            "_view_name": "LeafletAttributionControlView",
            "options": [
              "position",
              "prefix"
            ],
            "position": "bottomright",
            "prefix": "ipyleaflet"
          }
        },
        "a5b9c926e28a45898eabfe39ef9eaae0": {
          "model_module": "jupyter-leaflet",
          "model_name": "LeafletMapStyleModel",
          "model_module_version": "^0.18",
          "state": {
            "_model_module": "jupyter-leaflet",
            "_model_module_version": "^0.18",
            "_model_name": "LeafletMapStyleModel",
            "_view_count": null,
            "_view_module": "@jupyter-widgets/base",
            "_view_module_version": "1.2.0",
            "_view_name": "StyleView",
            "cursor": "grab"
          }
        },
        "037dca3b74b8425488a147cf4b629a5f": {
          "model_module": "jupyter-leaflet",
          "model_name": "LeafletMapStyleModel",
          "model_module_version": "^0.18",
          "state": {
            "_model_module": "jupyter-leaflet",
            "_model_module_version": "^0.18",
            "_model_name": "LeafletMapStyleModel",
            "_view_count": null,
            "_view_module": "@jupyter-widgets/base",
            "_view_module_version": "1.2.0",
            "_view_name": "StyleView",
            "cursor": "move"
          }
        },
        "66a2213ff6d74aa1bac1e4bb430c224e": {
          "model_module": "jupyter-leaflet",
          "model_name": "LeafletTileLayerModel",
          "model_module_version": "^0.18",
          "state": {
            "_model_module": "jupyter-leaflet",
            "_model_module_version": "^0.18",
            "_model_name": "LeafletTileLayerModel",
            "_view_count": null,
            "_view_module": "jupyter-leaflet",
            "_view_module_version": "^0.18",
            "_view_name": "LeafletTileLayerView",
            "attribution": "&copy; <a href=\"https://www.openstreetmap.org/copyright\">OpenStreetMap</a> contributors",
            "base": true,
            "bottom": true,
            "bounds": null,
            "detect_retina": false,
            "loading": false,
            "max_native_zoom": null,
            "max_zoom": 19,
            "min_native_zoom": null,
            "min_zoom": 1,
            "name": "OpenStreetMap.Mapnik",
            "no_wrap": false,
            "opacity": 1,
            "options": [
              "attribution",
              "bounds",
              "detect_retina",
              "max_native_zoom",
              "max_zoom",
              "min_native_zoom",
              "min_zoom",
              "no_wrap",
              "tile_size",
              "tms",
              "zoom_offset"
            ],
            "pane": "",
            "popup": null,
            "popup_max_height": null,
            "popup_max_width": 300,
            "popup_min_width": 50,
            "show_loading": false,
            "subitems": [],
            "tile_size": 256,
            "tms": false,
            "url": "https://tile.openstreetmap.org/{z}/{x}/{y}.png",
            "visible": true,
            "zoom_offset": 0
          }
        },
        "9ce74be457c449ee8b4b3988e829f12b": {
          "model_module": "jupyter-leaflet",
          "model_name": "LeafletTileLayerModel",
          "model_module_version": "^0.18",
          "state": {
            "_model_module": "jupyter-leaflet",
            "_model_module_version": "^0.18",
            "_model_name": "LeafletTileLayerModel",
            "_view_count": null,
            "_view_module": "jupyter-leaflet",
            "_view_module_version": "^0.18",
            "_view_name": "LeafletTileLayerView",
            "attribution": "Google Earth Engine",
            "base": false,
            "bottom": true,
            "bounds": null,
            "detect_retina": false,
            "loading": false,
            "max_native_zoom": null,
            "max_zoom": 24,
            "min_native_zoom": null,
            "min_zoom": 0,
            "name": "Imagen RGB",
            "no_wrap": false,
            "opacity": 1,
            "options": [
              "attribution",
              "bounds",
              "detect_retina",
              "max_native_zoom",
              "max_zoom",
              "min_native_zoom",
              "min_zoom",
              "no_wrap",
              "tile_size",
              "tms",
              "zoom_offset"
            ],
            "pane": "",
            "popup": null,
            "popup_max_height": null,
            "popup_max_width": 300,
            "popup_min_width": 50,
            "show_loading": false,
            "subitems": [],
            "tile_size": 256,
            "tms": false,
            "url": "https://earthengine.googleapis.com/v1/projects/earthengine-legacy/maps/7e033cdd60f75acfbadf406df0115316-9644fbef60c18e48d77fb1246babdcff/tiles/{z}/{x}/{y}",
            "visible": true,
            "zoom_offset": 0
          }
        },
        "c6f3153bcb1e440ab9a321d40f1182e3": {
          "model_module": "jupyter-leaflet",
          "model_name": "LeafletTileLayerModel",
          "model_module_version": "^0.18",
          "state": {
            "_model_module": "jupyter-leaflet",
            "_model_module_version": "^0.18",
            "_model_name": "LeafletTileLayerModel",
            "_view_count": null,
            "_view_module": "jupyter-leaflet",
            "_view_module_version": "^0.18",
            "_view_name": "LeafletTileLayerView",
            "attribution": "Google Earth Engine",
            "base": false,
            "bottom": true,
            "bounds": null,
            "detect_retina": false,
            "loading": false,
            "max_native_zoom": null,
            "max_zoom": 24,
            "min_native_zoom": null,
            "min_zoom": 0,
            "name": "Image Mask",
            "no_wrap": false,
            "opacity": 1,
            "options": [
              "attribution",
              "bounds",
              "detect_retina",
              "max_native_zoom",
              "max_zoom",
              "min_native_zoom",
              "min_zoom",
              "no_wrap",
              "tile_size",
              "tms",
              "zoom_offset"
            ],
            "pane": "",
            "popup": null,
            "popup_max_height": null,
            "popup_max_width": 300,
            "popup_min_width": 50,
            "show_loading": false,
            "subitems": [],
            "tile_size": 256,
            "tms": false,
            "url": "https://earthengine.googleapis.com/v1/projects/earthengine-legacy/maps/4480a6f409325e9b7ae197a9bb10bded-a0bffe1c7706413fbecc461a12ee14d5/tiles/{z}/{x}/{y}",
            "visible": true,
            "zoom_offset": 0
          }
        },
        "ecd5e58edb624dacb8d07ae266b75e6f": {
          "model_module": "jupyter-leaflet",
          "model_name": "LeafletTileLayerModel",
          "model_module_version": "^0.18",
          "state": {
            "_model_module": "jupyter-leaflet",
            "_model_module_version": "^0.18",
            "_model_name": "LeafletTileLayerModel",
            "_view_count": null,
            "_view_module": "jupyter-leaflet",
            "_view_module_version": "^0.18",
            "_view_name": "LeafletTileLayerView",
            "attribution": "Google Earth Engine",
            "base": false,
            "bottom": true,
            "bounds": null,
            "detect_retina": false,
            "loading": false,
            "max_native_zoom": null,
            "max_zoom": 24,
            "min_native_zoom": null,
            "min_zoom": 0,
            "name": "Selfmask Meth2",
            "no_wrap": false,
            "opacity": 1,
            "options": [
              "attribution",
              "bounds",
              "detect_retina",
              "max_native_zoom",
              "max_zoom",
              "min_native_zoom",
              "min_zoom",
              "no_wrap",
              "tile_size",
              "tms",
              "zoom_offset"
            ],
            "pane": "",
            "popup": null,
            "popup_max_height": null,
            "popup_max_width": 300,
            "popup_min_width": 50,
            "show_loading": false,
            "subitems": [],
            "tile_size": 256,
            "tms": false,
            "url": "https://earthengine.googleapis.com/v1/projects/earthengine-legacy/maps/3ce89ce867529907d28637f22c2806a7-e47527e23899e8c6602cab3642502186/tiles/{z}/{x}/{y}",
            "visible": true,
            "zoom_offset": 0
          }
        },
        "35c90d6449e04f1cb46e98612a661a3b": {
          "model_module": "jupyter-leaflet",
          "model_name": "LeafletTileLayerModel",
          "model_module_version": "^0.18",
          "state": {
            "_model_module": "jupyter-leaflet",
            "_model_module_version": "^0.18",
            "_model_name": "LeafletTileLayerModel",
            "_view_count": null,
            "_view_module": "jupyter-leaflet",
            "_view_module_version": "^0.18",
            "_view_name": "LeafletTileLayerView",
            "attribution": "Google Earth Engine",
            "base": false,
            "bottom": true,
            "bounds": null,
            "detect_retina": false,
            "loading": false,
            "max_native_zoom": null,
            "max_zoom": 24,
            "min_native_zoom": null,
            "min_zoom": 0,
            "name": "Selfmask Meth2 Extendida",
            "no_wrap": false,
            "opacity": 1,
            "options": [
              "attribution",
              "bounds",
              "detect_retina",
              "max_native_zoom",
              "max_zoom",
              "min_native_zoom",
              "min_zoom",
              "no_wrap",
              "tile_size",
              "tms",
              "zoom_offset"
            ],
            "pane": "",
            "popup": null,
            "popup_max_height": null,
            "popup_max_width": 300,
            "popup_min_width": 50,
            "show_loading": false,
            "subitems": [],
            "tile_size": 256,
            "tms": false,
            "url": "https://earthengine.googleapis.com/v1/projects/earthengine-legacy/maps/e7e55dacba9f4acbb5ff0901eef331d1-895ee958bf5c98a3476700507e4e7df3/tiles/{z}/{x}/{y}",
            "visible": true,
            "zoom_offset": 0
          }
        },
        "2660534a14ec40cd8e844961a6f197f9": {
          "model_module": "jupyter-leaflet",
          "model_name": "LeafletTileLayerModel",
          "model_module_version": "^0.18",
          "state": {
            "_model_module": "jupyter-leaflet",
            "_model_module_version": "^0.18",
            "_model_name": "LeafletTileLayerModel",
            "_view_count": null,
            "_view_module": "jupyter-leaflet",
            "_view_module_version": "^0.18",
            "_view_name": "LeafletTileLayerView",
            "attribution": "Google Earth Engine",
            "base": false,
            "bottom": true,
            "bounds": null,
            "detect_retina": false,
            "loading": false,
            "max_native_zoom": null,
            "max_zoom": 24,
            "min_native_zoom": null,
            "min_zoom": 0,
            "name": "Outline",
            "no_wrap": false,
            "opacity": 1,
            "options": [
              "attribution",
              "bounds",
              "detect_retina",
              "max_native_zoom",
              "max_zoom",
              "min_native_zoom",
              "min_zoom",
              "no_wrap",
              "tile_size",
              "tms",
              "zoom_offset"
            ],
            "pane": "",
            "popup": null,
            "popup_max_height": null,
            "popup_max_width": 300,
            "popup_min_width": 50,
            "show_loading": false,
            "subitems": [],
            "tile_size": 256,
            "tms": false,
            "url": "https://earthengine.googleapis.com/v1/projects/earthengine-legacy/maps/c5410d3262f9100f0b370c4345f8e0d0-0f9616144e3a88f5f6bcccc2c24ae053/tiles/{z}/{x}/{y}",
            "visible": true,
            "zoom_offset": 0
          }
        },
        "c56e138a989242309bc09c4967c920c1": {
          "model_module": "@jupyter-widgets/base",
          "model_name": "LayoutModel",
          "model_module_version": "1.2.0",
          "state": {
            "_model_module": "@jupyter-widgets/base",
            "_model_module_version": "1.2.0",
            "_model_name": "LayoutModel",
            "_view_count": null,
            "_view_module": "@jupyter-widgets/base",
            "_view_module_version": "1.2.0",
            "_view_name": "LayoutView",
            "align_content": null,
            "align_items": null,
            "align_self": null,
            "border": null,
            "bottom": null,
            "display": null,
            "flex": null,
            "flex_flow": null,
            "grid_area": null,
            "grid_auto_columns": null,
            "grid_auto_flow": null,
            "grid_auto_rows": null,
            "grid_column": null,
            "grid_gap": null,
            "grid_row": null,
            "grid_template_areas": null,
            "grid_template_columns": null,
            "grid_template_rows": null,
            "height": "600px",
            "justify_content": null,
            "justify_items": null,
            "left": null,
            "margin": null,
            "max_height": null,
            "max_width": null,
            "min_height": null,
            "min_width": null,
            "object_fit": null,
            "object_position": null,
            "order": null,
            "overflow": null,
            "overflow_x": null,
            "overflow_y": null,
            "padding": null,
            "right": null,
            "top": null,
            "visibility": null,
            "width": null
          }
        },
        "8169dfd892dc4e8aad3faefdd8d9b4a7": {
          "model_module": "jupyter-leaflet",
          "model_name": "LeafletMapStyleModel",
          "model_module_version": "^0.18",
          "state": {
            "_model_module": "jupyter-leaflet",
            "_model_module_version": "^0.18",
            "_model_name": "LeafletMapStyleModel",
            "_view_count": null,
            "_view_module": "@jupyter-widgets/base",
            "_view_module_version": "1.2.0",
            "_view_name": "StyleView",
            "cursor": "grab"
          }
        },
        "6e58e8e61ec04cf4841897b8c71a5f3a": {
          "model_module": "@jupyter-widgets/controls",
          "model_name": "HBoxModel",
          "model_module_version": "1.5.0",
          "state": {
            "_dom_classes": [
              "geemap-colab"
            ],
            "_model_module": "@jupyter-widgets/controls",
            "_model_module_version": "1.5.0",
            "_model_name": "HBoxModel",
            "_view_count": null,
            "_view_module": "@jupyter-widgets/controls",
            "_view_module_version": "1.5.0",
            "_view_name": "HBoxView",
            "box_style": "",
            "children": [
              "IPY_MODEL_a70a3c7ce5314ae3b22ec07f23baed45"
            ],
            "layout": "IPY_MODEL_18f939fdcd314955a812d80e1464f93d"
          }
        },
        "f0ba22fe061348b380198c07615c435b": {
          "model_module": "@jupyter-widgets/controls",
          "model_name": "VBoxModel",
          "model_module_version": "1.5.0",
          "state": {
            "_dom_classes": [
              "geemap-colab"
            ],
            "_model_module": "@jupyter-widgets/controls",
            "_model_module_version": "1.5.0",
            "_model_name": "VBoxModel",
            "_view_count": null,
            "_view_module": "@jupyter-widgets/controls",
            "_view_module_version": "1.5.0",
            "_view_name": "VBoxView",
            "box_style": "",
            "children": [
              "IPY_MODEL_a7f6603be3da46b896274db0d7ed3463"
            ],
            "layout": "IPY_MODEL_cea2821b5d87468f8659dcce50781cd5"
          }
        },
        "a70a3c7ce5314ae3b22ec07f23baed45": {
          "model_module": "@jupyter-widgets/controls",
          "model_name": "ToggleButtonModel",
          "model_module_version": "1.5.0",
          "state": {
            "_dom_classes": [],
            "_model_module": "@jupyter-widgets/controls",
            "_model_module_version": "1.5.0",
            "_model_name": "ToggleButtonModel",
            "_view_count": null,
            "_view_module": "@jupyter-widgets/controls",
            "_view_module_version": "1.5.0",
            "_view_name": "ToggleButtonView",
            "button_style": "",
            "description": "",
            "description_tooltip": null,
            "disabled": false,
            "icon": "globe",
            "layout": "IPY_MODEL_e1ceb886d19c40bdb172f3f052cfcafc",
            "style": "IPY_MODEL_8c44860866174b1c8e600babff137a2d",
            "tooltip": "Search location/data",
            "value": false
          }
        },
        "18f939fdcd314955a812d80e1464f93d": {
          "model_module": "@jupyter-widgets/base",
          "model_name": "LayoutModel",
          "model_module_version": "1.2.0",
          "state": {
            "_model_module": "@jupyter-widgets/base",
            "_model_module_version": "1.2.0",
            "_model_name": "LayoutModel",
            "_view_count": null,
            "_view_module": "@jupyter-widgets/base",
            "_view_module_version": "1.2.0",
            "_view_name": "LayoutView",
            "align_content": null,
            "align_items": null,
            "align_self": null,
            "border": null,
            "bottom": null,
            "display": null,
            "flex": null,
            "flex_flow": null,
            "grid_area": null,
            "grid_auto_columns": null,
            "grid_auto_flow": null,
            "grid_auto_rows": null,
            "grid_column": null,
            "grid_gap": null,
            "grid_row": null,
            "grid_template_areas": null,
            "grid_template_columns": null,
            "grid_template_rows": null,
            "height": null,
            "justify_content": null,
            "justify_items": null,
            "left": null,
            "margin": null,
            "max_height": null,
            "max_width": null,
            "min_height": null,
            "min_width": null,
            "object_fit": null,
            "object_position": null,
            "order": null,
            "overflow": null,
            "overflow_x": null,
            "overflow_y": null,
            "padding": null,
            "right": null,
            "top": null,
            "visibility": null,
            "width": null
          }
        },
        "a7f6603be3da46b896274db0d7ed3463": {
          "model_module": "@jupyter-widgets/controls",
          "model_name": "ToggleButtonModel",
          "model_module_version": "1.5.0",
          "state": {
            "_dom_classes": [],
            "_model_module": "@jupyter-widgets/controls",
            "_model_module_version": "1.5.0",
            "_model_name": "ToggleButtonModel",
            "_view_count": null,
            "_view_module": "@jupyter-widgets/controls",
            "_view_module_version": "1.5.0",
            "_view_name": "ToggleButtonView",
            "button_style": "",
            "description": "",
            "description_tooltip": null,
            "disabled": false,
            "icon": "wrench",
            "layout": "IPY_MODEL_4fa16d121a99428db6488e883aa18cc7",
            "style": "IPY_MODEL_195e83d0b84b4dd08a40aca8c3147973",
            "tooltip": "Toolbar",
            "value": false
          }
        },
        "cea2821b5d87468f8659dcce50781cd5": {
          "model_module": "@jupyter-widgets/base",
          "model_name": "LayoutModel",
          "model_module_version": "1.2.0",
          "state": {
            "_model_module": "@jupyter-widgets/base",
            "_model_module_version": "1.2.0",
            "_model_name": "LayoutModel",
            "_view_count": null,
            "_view_module": "@jupyter-widgets/base",
            "_view_module_version": "1.2.0",
            "_view_name": "LayoutView",
            "align_content": null,
            "align_items": null,
            "align_self": null,
            "border": null,
            "bottom": null,
            "display": null,
            "flex": null,
            "flex_flow": null,
            "grid_area": null,
            "grid_auto_columns": null,
            "grid_auto_flow": null,
            "grid_auto_rows": null,
            "grid_column": null,
            "grid_gap": null,
            "grid_row": null,
            "grid_template_areas": null,
            "grid_template_columns": null,
            "grid_template_rows": null,
            "height": null,
            "justify_content": null,
            "justify_items": null,
            "left": null,
            "margin": null,
            "max_height": null,
            "max_width": null,
            "min_height": null,
            "min_width": null,
            "object_fit": null,
            "object_position": null,
            "order": null,
            "overflow": null,
            "overflow_x": null,
            "overflow_y": null,
            "padding": null,
            "right": null,
            "top": null,
            "visibility": null,
            "width": null
          }
        },
        "e1ceb886d19c40bdb172f3f052cfcafc": {
          "model_module": "@jupyter-widgets/base",
          "model_name": "LayoutModel",
          "model_module_version": "1.2.0",
          "state": {
            "_model_module": "@jupyter-widgets/base",
            "_model_module_version": "1.2.0",
            "_model_name": "LayoutModel",
            "_view_count": null,
            "_view_module": "@jupyter-widgets/base",
            "_view_module_version": "1.2.0",
            "_view_name": "LayoutView",
            "align_content": null,
            "align_items": null,
            "align_self": null,
            "border": null,
            "bottom": null,
            "display": null,
            "flex": null,
            "flex_flow": null,
            "grid_area": null,
            "grid_auto_columns": null,
            "grid_auto_flow": null,
            "grid_auto_rows": null,
            "grid_column": null,
            "grid_gap": null,
            "grid_row": null,
            "grid_template_areas": null,
            "grid_template_columns": null,
            "grid_template_rows": null,
            "height": "28px",
            "justify_content": null,
            "justify_items": null,
            "left": null,
            "margin": null,
            "max_height": null,
            "max_width": null,
            "min_height": null,
            "min_width": null,
            "object_fit": null,
            "object_position": null,
            "order": null,
            "overflow": null,
            "overflow_x": null,
            "overflow_y": null,
            "padding": "0px 0px 0px 4px",
            "right": null,
            "top": null,
            "visibility": null,
            "width": "28px"
          }
        },
        "8c44860866174b1c8e600babff137a2d": {
          "model_module": "@jupyter-widgets/controls",
          "model_name": "DescriptionStyleModel",
          "model_module_version": "1.5.0",
          "state": {
            "_model_module": "@jupyter-widgets/controls",
            "_model_module_version": "1.5.0",
            "_model_name": "DescriptionStyleModel",
            "_view_count": null,
            "_view_module": "@jupyter-widgets/base",
            "_view_module_version": "1.2.0",
            "_view_name": "StyleView",
            "description_width": ""
          }
        },
        "4fa16d121a99428db6488e883aa18cc7": {
          "model_module": "@jupyter-widgets/base",
          "model_name": "LayoutModel",
          "model_module_version": "1.2.0",
          "state": {
            "_model_module": "@jupyter-widgets/base",
            "_model_module_version": "1.2.0",
            "_model_name": "LayoutModel",
            "_view_count": null,
            "_view_module": "@jupyter-widgets/base",
            "_view_module_version": "1.2.0",
            "_view_name": "LayoutView",
            "align_content": null,
            "align_items": null,
            "align_self": null,
            "border": null,
            "bottom": null,
            "display": null,
            "flex": null,
            "flex_flow": null,
            "grid_area": null,
            "grid_auto_columns": null,
            "grid_auto_flow": null,
            "grid_auto_rows": null,
            "grid_column": null,
            "grid_gap": null,
            "grid_row": null,
            "grid_template_areas": null,
            "grid_template_columns": null,
            "grid_template_rows": null,
            "height": "28px",
            "justify_content": null,
            "justify_items": null,
            "left": null,
            "margin": null,
            "max_height": null,
            "max_width": null,
            "min_height": null,
            "min_width": null,
            "object_fit": null,
            "object_position": null,
            "order": null,
            "overflow": null,
            "overflow_x": null,
            "overflow_y": null,
            "padding": "0px 0px 0px 4px",
            "right": null,
            "top": null,
            "visibility": null,
            "width": "28px"
          }
        },
        "195e83d0b84b4dd08a40aca8c3147973": {
          "model_module": "@jupyter-widgets/controls",
          "model_name": "DescriptionStyleModel",
          "model_module_version": "1.5.0",
          "state": {
            "_model_module": "@jupyter-widgets/controls",
            "_model_module_version": "1.5.0",
            "_model_name": "DescriptionStyleModel",
            "_view_count": null,
            "_view_module": "@jupyter-widgets/base",
            "_view_module_version": "1.2.0",
            "_view_name": "StyleView",
            "description_width": ""
          }
        },
        "e0cd8c16aafe4a86ac633fa2884970a0": {
          "model_module": "jupyter-leaflet",
          "model_name": "LeafletMapModel",
          "model_module_version": "^0.18",
          "state": {
            "_dom_classes": [],
            "_model_module": "jupyter-leaflet",
            "_model_module_version": "^0.18",
            "_model_name": "LeafletMapModel",
            "_view_count": null,
            "_view_module": "jupyter-leaflet",
            "_view_module_version": "^0.18",
            "_view_name": "LeafletMapView",
            "bottom": 29540,
            "bounce_at_zoom_limits": true,
            "box_zoom": true,
            "center": [
              19.022685,
              -98.623038
            ],
            "close_popup_on_click": true,
            "controls": [
              "IPY_MODEL_fad73ecc1d3047b2905de2d2bd3f47cb",
              "IPY_MODEL_e51a140a81ba4432814928f41cc79292",
              "IPY_MODEL_1444beb09ffa458588b62cd1c6255452",
              "IPY_MODEL_edc21b2e490d43aea039ac7af88afc4a",
              "IPY_MODEL_cd32141854db4145a6be27f2a42aadae",
              "IPY_MODEL_9af6a4bd3f184dcf848845bb084e58be",
              "IPY_MODEL_09d631981391406f8dcdc5b4592b260e",
              "IPY_MODEL_2ff13943a32f48f3928411a7492ece77"
            ],
            "crs": {
              "name": "EPSG3857",
              "custom": false
            },
            "default_style": "IPY_MODEL_9050cbee1aa04242b9f378ef09ecc72d",
            "double_click_zoom": true,
            "dragging": true,
            "dragging_style": "IPY_MODEL_0a4d3171716a405fb27ad696cde44321",
            "east": -95.84472656250001,
            "fullscreen": false,
            "inertia": true,
            "inertia_deceleration": 3000,
            "inertia_max_speed": 1500,
            "interpolation": "bilinear",
            "keyboard": true,
            "keyboard_pan_offset": 80,
            "keyboard_zoom_offset": 1,
            "layers": [
              "IPY_MODEL_e163ece5103c44c5a6ab932ef60d7b41",
              "IPY_MODEL_5e16c67b9ebe40d7b9804a710ed92019",
              "IPY_MODEL_6b65928efcc1490c9b8c5db33d6c7c02",
              "IPY_MODEL_3fd2c22f6b1c4add933019cf0337acb3",
              "IPY_MODEL_e672d5116b78479e87dc113d1a611b9f"
            ],
            "layout": "IPY_MODEL_81a4f706c1594aff983e32345e92f8a8",
            "left": 14309,
            "max_zoom": 24,
            "min_zoom": null,
            "modisdate": "2023-12-05",
            "north": 20.571081893508193,
            "options": [
              "bounce_at_zoom_limits",
              "box_zoom",
              "center",
              "close_popup_on_click",
              "double_click_zoom",
              "dragging",
              "fullscreen",
              "inertia",
              "inertia_deceleration",
              "inertia_max_speed",
              "interpolation",
              "keyboard",
              "keyboard_pan_offset",
              "keyboard_zoom_offset",
              "max_zoom",
              "min_zoom",
              "prefer_canvas",
              "scroll_wheel_zoom",
              "tap",
              "tap_tolerance",
              "touch_zoom",
              "world_copy_jump",
              "zoom",
              "zoom_animation_threshold",
              "zoom_delta",
              "zoom_snap"
            ],
            "panes": {},
            "prefer_canvas": false,
            "right": 15320,
            "scroll_wheel_zoom": true,
            "south": 17.45547257997284,
            "style": "IPY_MODEL_afb2e80b84e045d5a5d99822f43848f5",
            "tap": true,
            "tap_tolerance": 15,
            "top": 28940,
            "touch_zoom": true,
            "west": -101.39831542968751,
            "window_url": "https://7fz12plcydm-496ff2e9c6d22116-0-colab.googleusercontent.com/outputframe.html?vrz=colab_20231205-060105_RC00_587982197",
            "world_copy_jump": false,
            "zoom": 8,
            "zoom_animation_threshold": 4,
            "zoom_delta": 1,
            "zoom_snap": 1
          }
        },
        "fad73ecc1d3047b2905de2d2bd3f47cb": {
          "model_module": "jupyter-leaflet",
          "model_name": "LeafletWidgetControlModel",
          "model_module_version": "^0.18",
          "state": {
            "_model_module": "jupyter-leaflet",
            "_model_module_version": "^0.18",
            "_model_name": "LeafletWidgetControlModel",
            "_view_count": null,
            "_view_module": "jupyter-leaflet",
            "_view_module_version": "^0.18",
            "_view_name": "LeafletWidgetControlView",
            "max_height": null,
            "max_width": null,
            "min_height": null,
            "min_width": null,
            "options": [
              "position",
              "transparent_bg"
            ],
            "position": "topleft",
            "transparent_bg": false,
            "widget": "IPY_MODEL_7c35e733a8224e5fa2d6deb24619c973"
          }
        },
        "e51a140a81ba4432814928f41cc79292": {
          "model_module": "jupyter-leaflet",
          "model_name": "LeafletZoomControlModel",
          "model_module_version": "^0.18",
          "state": {
            "_model_module": "jupyter-leaflet",
            "_model_module_version": "^0.18",
            "_model_name": "LeafletZoomControlModel",
            "_view_count": null,
            "_view_module": "jupyter-leaflet",
            "_view_module_version": "^0.18",
            "_view_name": "LeafletZoomControlView",
            "options": [
              "position",
              "zoom_in_text",
              "zoom_in_title",
              "zoom_out_text",
              "zoom_out_title"
            ],
            "position": "topleft",
            "zoom_in_text": "+",
            "zoom_in_title": "Zoom in",
            "zoom_out_text": "-",
            "zoom_out_title": "Zoom out"
          }
        },
        "1444beb09ffa458588b62cd1c6255452": {
          "model_module": "jupyter-leaflet",
          "model_name": "LeafletFullScreenControlModel",
          "model_module_version": "^0.18",
          "state": {
            "_model_module": "jupyter-leaflet",
            "_model_module_version": "^0.18",
            "_model_name": "LeafletFullScreenControlModel",
            "_view_count": null,
            "_view_module": "jupyter-leaflet",
            "_view_module_version": "^0.18",
            "_view_name": "LeafletFullScreenControlView",
            "options": [
              "position"
            ],
            "position": "topleft"
          }
        },
        "edc21b2e490d43aea039ac7af88afc4a": {
          "model_module": "jupyter-leaflet",
          "model_name": "LeafletDrawControlModel",
          "model_module_version": "^0.18",
          "state": {
            "_model_module": "jupyter-leaflet",
            "_model_module_version": "^0.18",
            "_model_name": "LeafletDrawControlModel",
            "_view_count": null,
            "_view_module": "jupyter-leaflet",
            "_view_module_version": "^0.18",
            "_view_name": "LeafletDrawControlView",
            "circle": {},
            "circlemarker": {},
            "data": [],
            "edit": true,
            "marker": {
              "shapeOptions": {
                "color": "#3388ff"
              }
            },
            "options": [
              "position"
            ],
            "polygon": {
              "shapeOptions": {}
            },
            "polyline": {
              "shapeOptions": {}
            },
            "position": "topleft",
            "rectangle": {
              "shapeOptions": {
                "color": "#3388ff"
              }
            },
            "remove": true
          }
        },
        "cd32141854db4145a6be27f2a42aadae": {
          "model_module": "jupyter-leaflet",
          "model_name": "LeafletScaleControlModel",
          "model_module_version": "^0.18",
          "state": {
            "_model_module": "jupyter-leaflet",
            "_model_module_version": "^0.18",
            "_model_name": "LeafletScaleControlModel",
            "_view_count": null,
            "_view_module": "jupyter-leaflet",
            "_view_module_version": "^0.18",
            "_view_name": "LeafletScaleControlView",
            "imperial": true,
            "max_width": 100,
            "metric": true,
            "options": [
              "imperial",
              "max_width",
              "metric",
              "position",
              "update_when_idle"
            ],
            "position": "bottomleft",
            "update_when_idle": false
          }
        },
        "9af6a4bd3f184dcf848845bb084e58be": {
          "model_module": "jupyter-leaflet",
          "model_name": "LeafletMeasureControlModel",
          "model_module_version": "^0.18",
          "state": {
            "_custom_units": {},
            "_model_module": "jupyter-leaflet",
            "_model_module_version": "^0.18",
            "_model_name": "LeafletMeasureControlModel",
            "_view_count": null,
            "_view_module": "jupyter-leaflet",
            "_view_module_version": "^0.18",
            "_view_name": "LeafletMeasureControlView",
            "active_color": "orange",
            "capture_z_index": 10000,
            "completed_color": "#C8F2BE",
            "options": [
              "active_color",
              "capture_z_index",
              "completed_color",
              "popup_options",
              "position",
              "primary_area_unit",
              "primary_length_unit",
              "secondary_area_unit",
              "secondary_length_unit"
            ],
            "popup_options": {
              "className": "leaflet-measure-resultpopup",
              "autoPanPadding": [
                10,
                10
              ]
            },
            "position": "bottomleft",
            "primary_area_unit": "acres",
            "primary_length_unit": "kilometers",
            "secondary_area_unit": null,
            "secondary_length_unit": null
          }
        },
        "09d631981391406f8dcdc5b4592b260e": {
          "model_module": "jupyter-leaflet",
          "model_name": "LeafletWidgetControlModel",
          "model_module_version": "^0.18",
          "state": {
            "_model_module": "jupyter-leaflet",
            "_model_module_version": "^0.18",
            "_model_name": "LeafletWidgetControlModel",
            "_view_count": null,
            "_view_module": "jupyter-leaflet",
            "_view_module_version": "^0.18",
            "_view_name": "LeafletWidgetControlView",
            "max_height": null,
            "max_width": null,
            "min_height": null,
            "min_width": null,
            "options": [
              "position",
              "transparent_bg"
            ],
            "position": "topright",
            "transparent_bg": false,
            "widget": "IPY_MODEL_72b1e03536a54468824b7547a522ad31"
          }
        },
        "2ff13943a32f48f3928411a7492ece77": {
          "model_module": "jupyter-leaflet",
          "model_name": "LeafletAttributionControlModel",
          "model_module_version": "^0.18",
          "state": {
            "_model_module": "jupyter-leaflet",
            "_model_module_version": "^0.18",
            "_model_name": "LeafletAttributionControlModel",
            "_view_count": null,
            "_view_module": "jupyter-leaflet",
            "_view_module_version": "^0.18",
            "_view_name": "LeafletAttributionControlView",
            "options": [
              "position",
              "prefix"
            ],
            "position": "bottomright",
            "prefix": "ipyleaflet"
          }
        },
        "9050cbee1aa04242b9f378ef09ecc72d": {
          "model_module": "jupyter-leaflet",
          "model_name": "LeafletMapStyleModel",
          "model_module_version": "^0.18",
          "state": {
            "_model_module": "jupyter-leaflet",
            "_model_module_version": "^0.18",
            "_model_name": "LeafletMapStyleModel",
            "_view_count": null,
            "_view_module": "@jupyter-widgets/base",
            "_view_module_version": "1.2.0",
            "_view_name": "StyleView",
            "cursor": "grab"
          }
        },
        "0a4d3171716a405fb27ad696cde44321": {
          "model_module": "jupyter-leaflet",
          "model_name": "LeafletMapStyleModel",
          "model_module_version": "^0.18",
          "state": {
            "_model_module": "jupyter-leaflet",
            "_model_module_version": "^0.18",
            "_model_name": "LeafletMapStyleModel",
            "_view_count": null,
            "_view_module": "@jupyter-widgets/base",
            "_view_module_version": "1.2.0",
            "_view_name": "StyleView",
            "cursor": "move"
          }
        },
        "e163ece5103c44c5a6ab932ef60d7b41": {
          "model_module": "jupyter-leaflet",
          "model_name": "LeafletTileLayerModel",
          "model_module_version": "^0.18",
          "state": {
            "_model_module": "jupyter-leaflet",
            "_model_module_version": "^0.18",
            "_model_name": "LeafletTileLayerModel",
            "_view_count": null,
            "_view_module": "jupyter-leaflet",
            "_view_module_version": "^0.18",
            "_view_name": "LeafletTileLayerView",
            "attribution": "&copy; <a href=\"https://www.openstreetmap.org/copyright\">OpenStreetMap</a> contributors",
            "base": true,
            "bottom": true,
            "bounds": null,
            "detect_retina": false,
            "loading": false,
            "max_native_zoom": null,
            "max_zoom": 19,
            "min_native_zoom": null,
            "min_zoom": 1,
            "name": "OpenStreetMap.Mapnik",
            "no_wrap": false,
            "opacity": 1,
            "options": [
              "attribution",
              "bounds",
              "detect_retina",
              "max_native_zoom",
              "max_zoom",
              "min_native_zoom",
              "min_zoom",
              "no_wrap",
              "tile_size",
              "tms",
              "zoom_offset"
            ],
            "pane": "",
            "popup": null,
            "popup_max_height": null,
            "popup_max_width": 300,
            "popup_min_width": 50,
            "show_loading": false,
            "subitems": [],
            "tile_size": 256,
            "tms": false,
            "url": "https://tile.openstreetmap.org/{z}/{x}/{y}.png",
            "visible": true,
            "zoom_offset": 0
          }
        },
        "5e16c67b9ebe40d7b9804a710ed92019": {
          "model_module": "jupyter-leaflet",
          "model_name": "LeafletTileLayerModel",
          "model_module_version": "^0.18",
          "state": {
            "_model_module": "jupyter-leaflet",
            "_model_module_version": "^0.18",
            "_model_name": "LeafletTileLayerModel",
            "_view_count": null,
            "_view_module": "jupyter-leaflet",
            "_view_module_version": "^0.18",
            "_view_name": "LeafletTileLayerView",
            "attribution": "Google Earth Engine",
            "base": false,
            "bottom": true,
            "bounds": null,
            "detect_retina": false,
            "loading": false,
            "max_native_zoom": null,
            "max_zoom": 24,
            "min_native_zoom": null,
            "min_zoom": 0,
            "name": "Imagen RGB",
            "no_wrap": false,
            "opacity": 1,
            "options": [
              "attribution",
              "bounds",
              "detect_retina",
              "max_native_zoom",
              "max_zoom",
              "min_native_zoom",
              "min_zoom",
              "no_wrap",
              "tile_size",
              "tms",
              "zoom_offset"
            ],
            "pane": "",
            "popup": null,
            "popup_max_height": null,
            "popup_max_width": 300,
            "popup_min_width": 50,
            "show_loading": false,
            "subitems": [],
            "tile_size": 256,
            "tms": false,
            "url": "https://earthengine.googleapis.com/v1/projects/earthengine-legacy/maps/af6b5b6e9ce091ada476698a2acd4658-557258e7c0168381d6887a7b657a4725/tiles/{z}/{x}/{y}",
            "visible": true,
            "zoom_offset": 0
          }
        },
        "6b65928efcc1490c9b8c5db33d6c7c02": {
          "model_module": "jupyter-leaflet",
          "model_name": "LeafletTileLayerModel",
          "model_module_version": "^0.18",
          "state": {
            "_model_module": "jupyter-leaflet",
            "_model_module_version": "^0.18",
            "_model_name": "LeafletTileLayerModel",
            "_view_count": null,
            "_view_module": "jupyter-leaflet",
            "_view_module_version": "^0.18",
            "_view_name": "LeafletTileLayerView",
            "attribution": "Google Earth Engine",
            "base": false,
            "bottom": true,
            "bounds": null,
            "detect_retina": false,
            "loading": false,
            "max_native_zoom": null,
            "max_zoom": 24,
            "min_native_zoom": null,
            "min_zoom": 0,
            "name": "Imagen RGB fake",
            "no_wrap": false,
            "opacity": 1,
            "options": [
              "attribution",
              "bounds",
              "detect_retina",
              "max_native_zoom",
              "max_zoom",
              "min_native_zoom",
              "min_zoom",
              "no_wrap",
              "tile_size",
              "tms",
              "zoom_offset"
            ],
            "pane": "",
            "popup": null,
            "popup_max_height": null,
            "popup_max_width": 300,
            "popup_min_width": 50,
            "show_loading": false,
            "subitems": [],
            "tile_size": 256,
            "tms": false,
            "url": "https://earthengine.googleapis.com/v1/projects/earthengine-legacy/maps/bfec81015fe132e0a36eadbe27625c04-7b2ae97f96b66779235b834072cf7b4a/tiles/{z}/{x}/{y}",
            "visible": true,
            "zoom_offset": 0
          }
        },
        "3fd2c22f6b1c4add933019cf0337acb3": {
          "model_module": "jupyter-leaflet",
          "model_name": "LeafletTileLayerModel",
          "model_module_version": "^0.18",
          "state": {
            "_model_module": "jupyter-leaflet",
            "_model_module_version": "^0.18",
            "_model_name": "LeafletTileLayerModel",
            "_view_count": null,
            "_view_module": "jupyter-leaflet",
            "_view_module_version": "^0.18",
            "_view_name": "LeafletTileLayerView",
            "attribution": "Google Earth Engine",
            "base": false,
            "bottom": true,
            "bounds": null,
            "detect_retina": false,
            "loading": false,
            "max_native_zoom": null,
            "max_zoom": 24,
            "min_native_zoom": null,
            "min_zoom": 0,
            "name": "Selfmask Meth2 Extendida",
            "no_wrap": false,
            "opacity": 1,
            "options": [
              "attribution",
              "bounds",
              "detect_retina",
              "max_native_zoom",
              "max_zoom",
              "min_native_zoom",
              "min_zoom",
              "no_wrap",
              "tile_size",
              "tms",
              "zoom_offset"
            ],
            "pane": "",
            "popup": null,
            "popup_max_height": null,
            "popup_max_width": 300,
            "popup_min_width": 50,
            "show_loading": false,
            "subitems": [],
            "tile_size": 256,
            "tms": false,
            "url": "https://earthengine.googleapis.com/v1/projects/earthengine-legacy/maps/e7e55dacba9f4acbb5ff0901eef331d1-be94cfd9e38169305d6d991446f43a89/tiles/{z}/{x}/{y}",
            "visible": true,
            "zoom_offset": 0
          }
        },
        "e672d5116b78479e87dc113d1a611b9f": {
          "model_module": "jupyter-leaflet",
          "model_name": "LeafletTileLayerModel",
          "model_module_version": "^0.18",
          "state": {
            "_model_module": "jupyter-leaflet",
            "_model_module_version": "^0.18",
            "_model_name": "LeafletTileLayerModel",
            "_view_count": null,
            "_view_module": "jupyter-leaflet",
            "_view_module_version": "^0.18",
            "_view_name": "LeafletTileLayerView",
            "attribution": "Google Earth Engine",
            "base": false,
            "bottom": true,
            "bounds": null,
            "detect_retina": false,
            "loading": false,
            "max_native_zoom": null,
            "max_zoom": 24,
            "min_native_zoom": null,
            "min_zoom": 0,
            "name": "Outline",
            "no_wrap": false,
            "opacity": 1,
            "options": [
              "attribution",
              "bounds",
              "detect_retina",
              "max_native_zoom",
              "max_zoom",
              "min_native_zoom",
              "min_zoom",
              "no_wrap",
              "tile_size",
              "tms",
              "zoom_offset"
            ],
            "pane": "",
            "popup": null,
            "popup_max_height": null,
            "popup_max_width": 300,
            "popup_min_width": 50,
            "show_loading": false,
            "subitems": [],
            "tile_size": 256,
            "tms": false,
            "url": "https://earthengine.googleapis.com/v1/projects/earthengine-legacy/maps/c5410d3262f9100f0b370c4345f8e0d0-a3a31e36e2cf4bdcbb9f62f4dddb7327/tiles/{z}/{x}/{y}",
            "visible": true,
            "zoom_offset": 0
          }
        },
        "81a4f706c1594aff983e32345e92f8a8": {
          "model_module": "@jupyter-widgets/base",
          "model_name": "LayoutModel",
          "model_module_version": "1.2.0",
          "state": {
            "_model_module": "@jupyter-widgets/base",
            "_model_module_version": "1.2.0",
            "_model_name": "LayoutModel",
            "_view_count": null,
            "_view_module": "@jupyter-widgets/base",
            "_view_module_version": "1.2.0",
            "_view_name": "LayoutView",
            "align_content": null,
            "align_items": null,
            "align_self": null,
            "border": null,
            "bottom": null,
            "display": null,
            "flex": null,
            "flex_flow": null,
            "grid_area": null,
            "grid_auto_columns": null,
            "grid_auto_flow": null,
            "grid_auto_rows": null,
            "grid_column": null,
            "grid_gap": null,
            "grid_row": null,
            "grid_template_areas": null,
            "grid_template_columns": null,
            "grid_template_rows": null,
            "height": "600px",
            "justify_content": null,
            "justify_items": null,
            "left": null,
            "margin": null,
            "max_height": null,
            "max_width": null,
            "min_height": null,
            "min_width": null,
            "object_fit": null,
            "object_position": null,
            "order": null,
            "overflow": null,
            "overflow_x": null,
            "overflow_y": null,
            "padding": null,
            "right": null,
            "top": null,
            "visibility": null,
            "width": null
          }
        },
        "afb2e80b84e045d5a5d99822f43848f5": {
          "model_module": "jupyter-leaflet",
          "model_name": "LeafletMapStyleModel",
          "model_module_version": "^0.18",
          "state": {
            "_model_module": "jupyter-leaflet",
            "_model_module_version": "^0.18",
            "_model_name": "LeafletMapStyleModel",
            "_view_count": null,
            "_view_module": "@jupyter-widgets/base",
            "_view_module_version": "1.2.0",
            "_view_name": "StyleView",
            "cursor": "grab"
          }
        },
        "7c35e733a8224e5fa2d6deb24619c973": {
          "model_module": "@jupyter-widgets/controls",
          "model_name": "HBoxModel",
          "model_module_version": "1.5.0",
          "state": {
            "_dom_classes": [
              "geemap-colab"
            ],
            "_model_module": "@jupyter-widgets/controls",
            "_model_module_version": "1.5.0",
            "_model_name": "HBoxModel",
            "_view_count": null,
            "_view_module": "@jupyter-widgets/controls",
            "_view_module_version": "1.5.0",
            "_view_name": "HBoxView",
            "box_style": "",
            "children": [
              "IPY_MODEL_3c533e364bda47e2a76f1632d7b081e5"
            ],
            "layout": "IPY_MODEL_af5d31b37ab24e11911e60c776e1dffe"
          }
        },
        "72b1e03536a54468824b7547a522ad31": {
          "model_module": "@jupyter-widgets/controls",
          "model_name": "VBoxModel",
          "model_module_version": "1.5.0",
          "state": {
            "_dom_classes": [
              "geemap-colab"
            ],
            "_model_module": "@jupyter-widgets/controls",
            "_model_module_version": "1.5.0",
            "_model_name": "VBoxModel",
            "_view_count": null,
            "_view_module": "@jupyter-widgets/controls",
            "_view_module_version": "1.5.0",
            "_view_name": "VBoxView",
            "box_style": "",
            "children": [
              "IPY_MODEL_60570c7b2014436ea6d25813c5bf490c"
            ],
            "layout": "IPY_MODEL_4e45b4851a094f8899445b919b3cb572"
          }
        },
        "3c533e364bda47e2a76f1632d7b081e5": {
          "model_module": "@jupyter-widgets/controls",
          "model_name": "ToggleButtonModel",
          "model_module_version": "1.5.0",
          "state": {
            "_dom_classes": [],
            "_model_module": "@jupyter-widgets/controls",
            "_model_module_version": "1.5.0",
            "_model_name": "ToggleButtonModel",
            "_view_count": null,
            "_view_module": "@jupyter-widgets/controls",
            "_view_module_version": "1.5.0",
            "_view_name": "ToggleButtonView",
            "button_style": "",
            "description": "",
            "description_tooltip": null,
            "disabled": false,
            "icon": "globe",
            "layout": "IPY_MODEL_ac8747e2cb2c4665aec645509592c935",
            "style": "IPY_MODEL_ae3fdc2056714ba5b691db557555ebcb",
            "tooltip": "Search location/data",
            "value": false
          }
        },
        "af5d31b37ab24e11911e60c776e1dffe": {
          "model_module": "@jupyter-widgets/base",
          "model_name": "LayoutModel",
          "model_module_version": "1.2.0",
          "state": {
            "_model_module": "@jupyter-widgets/base",
            "_model_module_version": "1.2.0",
            "_model_name": "LayoutModel",
            "_view_count": null,
            "_view_module": "@jupyter-widgets/base",
            "_view_module_version": "1.2.0",
            "_view_name": "LayoutView",
            "align_content": null,
            "align_items": null,
            "align_self": null,
            "border": null,
            "bottom": null,
            "display": null,
            "flex": null,
            "flex_flow": null,
            "grid_area": null,
            "grid_auto_columns": null,
            "grid_auto_flow": null,
            "grid_auto_rows": null,
            "grid_column": null,
            "grid_gap": null,
            "grid_row": null,
            "grid_template_areas": null,
            "grid_template_columns": null,
            "grid_template_rows": null,
            "height": null,
            "justify_content": null,
            "justify_items": null,
            "left": null,
            "margin": null,
            "max_height": null,
            "max_width": null,
            "min_height": null,
            "min_width": null,
            "object_fit": null,
            "object_position": null,
            "order": null,
            "overflow": null,
            "overflow_x": null,
            "overflow_y": null,
            "padding": null,
            "right": null,
            "top": null,
            "visibility": null,
            "width": null
          }
        },
        "60570c7b2014436ea6d25813c5bf490c": {
          "model_module": "@jupyter-widgets/controls",
          "model_name": "ToggleButtonModel",
          "model_module_version": "1.5.0",
          "state": {
            "_dom_classes": [],
            "_model_module": "@jupyter-widgets/controls",
            "_model_module_version": "1.5.0",
            "_model_name": "ToggleButtonModel",
            "_view_count": null,
            "_view_module": "@jupyter-widgets/controls",
            "_view_module_version": "1.5.0",
            "_view_name": "ToggleButtonView",
            "button_style": "",
            "description": "",
            "description_tooltip": null,
            "disabled": false,
            "icon": "wrench",
            "layout": "IPY_MODEL_cc2b7afd74d84d079341760fab1d0657",
            "style": "IPY_MODEL_4165389dc7e5432eb0727d49d3de6303",
            "tooltip": "Toolbar",
            "value": false
          }
        },
        "4e45b4851a094f8899445b919b3cb572": {
          "model_module": "@jupyter-widgets/base",
          "model_name": "LayoutModel",
          "model_module_version": "1.2.0",
          "state": {
            "_model_module": "@jupyter-widgets/base",
            "_model_module_version": "1.2.0",
            "_model_name": "LayoutModel",
            "_view_count": null,
            "_view_module": "@jupyter-widgets/base",
            "_view_module_version": "1.2.0",
            "_view_name": "LayoutView",
            "align_content": null,
            "align_items": null,
            "align_self": null,
            "border": null,
            "bottom": null,
            "display": null,
            "flex": null,
            "flex_flow": null,
            "grid_area": null,
            "grid_auto_columns": null,
            "grid_auto_flow": null,
            "grid_auto_rows": null,
            "grid_column": null,
            "grid_gap": null,
            "grid_row": null,
            "grid_template_areas": null,
            "grid_template_columns": null,
            "grid_template_rows": null,
            "height": null,
            "justify_content": null,
            "justify_items": null,
            "left": null,
            "margin": null,
            "max_height": null,
            "max_width": null,
            "min_height": null,
            "min_width": null,
            "object_fit": null,
            "object_position": null,
            "order": null,
            "overflow": null,
            "overflow_x": null,
            "overflow_y": null,
            "padding": null,
            "right": null,
            "top": null,
            "visibility": null,
            "width": null
          }
        },
        "ac8747e2cb2c4665aec645509592c935": {
          "model_module": "@jupyter-widgets/base",
          "model_name": "LayoutModel",
          "model_module_version": "1.2.0",
          "state": {
            "_model_module": "@jupyter-widgets/base",
            "_model_module_version": "1.2.0",
            "_model_name": "LayoutModel",
            "_view_count": null,
            "_view_module": "@jupyter-widgets/base",
            "_view_module_version": "1.2.0",
            "_view_name": "LayoutView",
            "align_content": null,
            "align_items": null,
            "align_self": null,
            "border": null,
            "bottom": null,
            "display": null,
            "flex": null,
            "flex_flow": null,
            "grid_area": null,
            "grid_auto_columns": null,
            "grid_auto_flow": null,
            "grid_auto_rows": null,
            "grid_column": null,
            "grid_gap": null,
            "grid_row": null,
            "grid_template_areas": null,
            "grid_template_columns": null,
            "grid_template_rows": null,
            "height": "28px",
            "justify_content": null,
            "justify_items": null,
            "left": null,
            "margin": null,
            "max_height": null,
            "max_width": null,
            "min_height": null,
            "min_width": null,
            "object_fit": null,
            "object_position": null,
            "order": null,
            "overflow": null,
            "overflow_x": null,
            "overflow_y": null,
            "padding": "0px 0px 0px 4px",
            "right": null,
            "top": null,
            "visibility": null,
            "width": "28px"
          }
        },
        "ae3fdc2056714ba5b691db557555ebcb": {
          "model_module": "@jupyter-widgets/controls",
          "model_name": "DescriptionStyleModel",
          "model_module_version": "1.5.0",
          "state": {
            "_model_module": "@jupyter-widgets/controls",
            "_model_module_version": "1.5.0",
            "_model_name": "DescriptionStyleModel",
            "_view_count": null,
            "_view_module": "@jupyter-widgets/base",
            "_view_module_version": "1.2.0",
            "_view_name": "StyleView",
            "description_width": ""
          }
        },
        "cc2b7afd74d84d079341760fab1d0657": {
          "model_module": "@jupyter-widgets/base",
          "model_name": "LayoutModel",
          "model_module_version": "1.2.0",
          "state": {
            "_model_module": "@jupyter-widgets/base",
            "_model_module_version": "1.2.0",
            "_model_name": "LayoutModel",
            "_view_count": null,
            "_view_module": "@jupyter-widgets/base",
            "_view_module_version": "1.2.0",
            "_view_name": "LayoutView",
            "align_content": null,
            "align_items": null,
            "align_self": null,
            "border": null,
            "bottom": null,
            "display": null,
            "flex": null,
            "flex_flow": null,
            "grid_area": null,
            "grid_auto_columns": null,
            "grid_auto_flow": null,
            "grid_auto_rows": null,
            "grid_column": null,
            "grid_gap": null,
            "grid_row": null,
            "grid_template_areas": null,
            "grid_template_columns": null,
            "grid_template_rows": null,
            "height": "28px",
            "justify_content": null,
            "justify_items": null,
            "left": null,
            "margin": null,
            "max_height": null,
            "max_width": null,
            "min_height": null,
            "min_width": null,
            "object_fit": null,
            "object_position": null,
            "order": null,
            "overflow": null,
            "overflow_x": null,
            "overflow_y": null,
            "padding": "0px 0px 0px 4px",
            "right": null,
            "top": null,
            "visibility": null,
            "width": "28px"
          }
        },
        "4165389dc7e5432eb0727d49d3de6303": {
          "model_module": "@jupyter-widgets/controls",
          "model_name": "DescriptionStyleModel",
          "model_module_version": "1.5.0",
          "state": {
            "_model_module": "@jupyter-widgets/controls",
            "_model_module_version": "1.5.0",
            "_model_name": "DescriptionStyleModel",
            "_view_count": null,
            "_view_module": "@jupyter-widgets/base",
            "_view_module_version": "1.2.0",
            "_view_name": "StyleView",
            "description_width": ""
          }
        },
        "d936bb56e576419caae6da49fb41e10e": {
          "model_module": "@jupyter-widgets/output",
          "model_name": "OutputModel",
          "model_module_version": "1.0.0",
          "state": {
            "_dom_classes": [],
            "_model_module": "@jupyter-widgets/output",
            "_model_module_version": "1.0.0",
            "_model_name": "OutputModel",
            "_view_count": null,
            "_view_module": "@jupyter-widgets/output",
            "_view_module_version": "1.0.0",
            "_view_name": "OutputView",
            "layout": "IPY_MODEL_9c6a2d400c8e42acbcd28ec436eb6f18",
            "msg_id": "",
            "outputs": [
              {
                "output_type": "display_data",
                "data": {
                  "text/plain": "Image(value=b'GIF89a\\x00\\x03\\xe6\\x01\\x87\\x1f\\x00\\xff\\xff\\xff\\xfe\\xff\\xff\\xfd\\xfe\\xff\\xfc\\xfc\\xff\\xfe\\xfe\\xfe\\x…",
                  "application/vnd.jupyter.widget-view+json": {
                    "version_major": 2,
                    "version_minor": 0,
                    "model_id": "1164c78ef6fd4e549b21d8b688eaee8c"
                  }
                },
                "metadata": {
                  "application/vnd.jupyter.widget-view+json": {
                    "colab": {
                      "custom_widget_manager": {
                        "url": "https://ssl.gstatic.com/colaboratory-static/widgets/colab-cdn-widget-manager/b3e629b1971e1542/manager.min.js"
                      }
                    }
                  }
                }
              }
            ]
          }
        },
        "9c6a2d400c8e42acbcd28ec436eb6f18": {
          "model_module": "@jupyter-widgets/base",
          "model_name": "LayoutModel",
          "model_module_version": "1.2.0",
          "state": {
            "_model_module": "@jupyter-widgets/base",
            "_model_module_version": "1.2.0",
            "_model_name": "LayoutModel",
            "_view_count": null,
            "_view_module": "@jupyter-widgets/base",
            "_view_module_version": "1.2.0",
            "_view_name": "LayoutView",
            "align_content": null,
            "align_items": null,
            "align_self": null,
            "border": null,
            "bottom": null,
            "display": null,
            "flex": null,
            "flex_flow": null,
            "grid_area": null,
            "grid_auto_columns": null,
            "grid_auto_flow": null,
            "grid_auto_rows": null,
            "grid_column": null,
            "grid_gap": null,
            "grid_row": null,
            "grid_template_areas": null,
            "grid_template_columns": null,
            "grid_template_rows": null,
            "height": null,
            "justify_content": null,
            "justify_items": null,
            "left": null,
            "margin": null,
            "max_height": null,
            "max_width": null,
            "min_height": null,
            "min_width": null,
            "object_fit": null,
            "object_position": null,
            "order": null,
            "overflow": null,
            "overflow_x": null,
            "overflow_y": null,
            "padding": null,
            "right": null,
            "top": null,
            "visibility": null,
            "width": null
          }
        },
        "1164c78ef6fd4e549b21d8b688eaee8c": {
          "model_module": "@jupyter-widgets/controls",
          "model_name": "ImageModel",
          "model_module_version": "1.5.0",
          "state": {
            "_dom_classes": [],
            "_model_module": "@jupyter-widgets/controls",
            "_model_module_version": "1.5.0",
            "_model_name": "ImageModel",
            "_view_count": null,
            "_view_module": "@jupyter-widgets/controls",
            "_view_module_version": "1.5.0",
            "_view_name": "ImageView",
            "format": "png",
            "height": "",
            "layout": "IPY_MODEL_1c527d6b08bb43d389f7d93084a3acde",
            "width": ""
          }
        },
        "1c527d6b08bb43d389f7d93084a3acde": {
          "model_module": "@jupyter-widgets/base",
          "model_name": "LayoutModel",
          "model_module_version": "1.2.0",
          "state": {
            "_model_module": "@jupyter-widgets/base",
            "_model_module_version": "1.2.0",
            "_model_name": "LayoutModel",
            "_view_count": null,
            "_view_module": "@jupyter-widgets/base",
            "_view_module_version": "1.2.0",
            "_view_name": "LayoutView",
            "align_content": null,
            "align_items": null,
            "align_self": null,
            "border": null,
            "bottom": null,
            "display": null,
            "flex": null,
            "flex_flow": null,
            "grid_area": null,
            "grid_auto_columns": null,
            "grid_auto_flow": null,
            "grid_auto_rows": null,
            "grid_column": null,
            "grid_gap": null,
            "grid_row": null,
            "grid_template_areas": null,
            "grid_template_columns": null,
            "grid_template_rows": null,
            "height": null,
            "justify_content": null,
            "justify_items": null,
            "left": null,
            "margin": null,
            "max_height": null,
            "max_width": null,
            "min_height": null,
            "min_width": null,
            "object_fit": null,
            "object_position": null,
            "order": null,
            "overflow": null,
            "overflow_x": null,
            "overflow_y": null,
            "padding": null,
            "right": null,
            "top": null,
            "visibility": null,
            "width": null
          }
        }
      }
    }
  },
  "cells": [
    {
      "cell_type": "markdown",
      "source": [
        "___\n",
        "___\n",
        "# **Importando imagenes GOES-16**\n",
        "**Google Earth Engine**\n",
        "\n",
        "\n",
        "---\n",
        "___\n"
      ],
      "metadata": {
        "id": "a67EDmnvumij"
      }
    },
    {
      "cell_type": "markdown",
      "source": [
        "En este Notebook, se exploran diferentes algoritmos de detección de ceniza utilizando imágenes capturadas por el sensor multiespectral ABI de la red satelital GOES-16.\n",
        "\n",
        "Utilizamos el evento de paroxismo del volcán Popocatépetl como objeto de estudio. Este código permite exportar imágenes y *time-lapses* de una ventana temporal de nuestra elección.\n",
        "\n",
        "\\\n"
      ],
      "metadata": {
        "id": "7lxe7pS49KYK"
      }
    },
    {
      "cell_type": "markdown",
      "source": [
        "___\n",
        "___\n",
        "## **Creando el ambiente de trabajo**\n",
        "___\n",
        "___"
      ],
      "metadata": {
        "id": "2AcMZA1_9s26"
      }
    },
    {
      "cell_type": "markdown",
      "source": [
        "### **Autenticación**"
      ],
      "metadata": {
        "id": "Uz9gWXzVApBL"
      }
    },
    {
      "cell_type": "markdown",
      "source": [
        "El primer paso es autorizar este Notebook para poder acceder a la base de datos de Google Earth Engine (GEE). Este bloque de código nos arrojará un link que nos rediccionará a la página de GEE, donde necesitamos iniciar sesión y autorizar los permisos que pide. Al final nos dará un token de acceso que copiaremos en el recuadro de input."
      ],
      "metadata": {
        "id": "kQH_wKkIA1rd"
      }
    },
    {
      "cell_type": "code",
      "source": [
        "import ee\n",
        "\n",
        "ee.Authenticate()\n",
        "ee.Initialize(project='san-pinon') # Usar tu project ID"
      ],
      "metadata": {
        "id": "nAaFa6gDwCJi",
        "colab": {
          "base_uri": "https://localhost:8080/"
        },
        "outputId": "d32ae530-124b-46ef-9893-d575f9923487"
      },
      "execution_count": null,
      "outputs": [
        {
          "output_type": "stream",
          "name": "stdout",
          "text": [
            "Authenticating using Notebook auth...\n",
            "To authorize access needed by Earth Engine, open the following URL in a web browser and follow the instructions. If the web browser does not start automatically, please manually browse the URL below.\n",
            "\n",
            "    https://code.earthengine.google.com/client-auth?scopes=https%3A//www.googleapis.com/auth/earthengine%20https%3A//www.googleapis.com/auth/devstorage.full_control&request_id=Fc_8E3CKmWm97k04L9Ic15XhUQvixngMB21CJwpoCcY&tc=gRg10j5hrgGwkRyG_2Kb0zYwMgO5jtowY8lUykokiAA&cc=QmgOo2UWc2XaLdafuNWfgPdjq082e7nJbmKY_gk8Ppc\n",
            "\n",
            "The authorization workflow will generate a code, which you should paste in the box below.\n",
            "Enter verification code: 4/1AfJohXnNgqbBI9UyYVmavOJXgIXwii191l6mTBbYA8uaEhi9YD9QBxGinnc\n",
            "\n",
            "Successfully saved authorization token.\n",
            "✓ Successfully initialized!\n"
          ]
        }
      ]
    },
    {
      "cell_type": "markdown",
      "source": [
        "### **Instalación de paqueterías extras**"
      ],
      "metadata": {
        "id": "d5XKk3RgAyAt"
      }
    },
    {
      "cell_type": "markdown",
      "source": [
        "La siguiente librería es necesaria para generar mapas."
      ],
      "metadata": {
        "id": "gNOYdQiDLjSD"
      }
    },
    {
      "cell_type": "code",
      "source": [
        "import geemap         # Improved mapping library"
      ],
      "metadata": {
        "id": "4fTnLkqC-fIb"
      },
      "execution_count": null,
      "outputs": []
    },
    {
      "cell_type": "markdown",
      "source": [
        "___\n",
        "___\n",
        "\n",
        "## **Visualización de imágenes**\n",
        "\n",
        "___\n",
        "___"
      ],
      "metadata": {
        "id": "PeY7lTPUBAWW"
      }
    },
    {
      "cell_type": "markdown",
      "source": [
        "### **Data import**"
      ],
      "metadata": {
        "id": "fFJUnqj1QZh_"
      }
    },
    {
      "cell_type": "markdown",
      "source": [
        "Lo que sigue es seleccionar la colección de datos satelitales de nuestro interés desde la base de datos de GEE, que en este caso serán los del GOES-16 (CONUS) Conus & Moisture Imagery. Estas imágenes tienen resolución de 2Km p/ píxel.\n",
        "\n",
        "Para saber el código de la colección de imágenes que quiero exportar necesito buscar en la [base de datos](https://developers.google.com/earth-engine/datasets/catalog) de Earth Engine"
      ],
      "metadata": {
        "id": "RA00YosaBEHf"
      }
    },
    {
      "cell_type": "code",
      "source": [
        "# Importa la colección de imagenes satelitales\n",
        "image_collection = ee.ImageCollection(\"NOAA/GOES/16/MCMIPC\")"
      ],
      "metadata": {
        "id": "Jd7vPAiADd-C",
        "colab": {
          "base_uri": "https://localhost:8080/",
          "height": 17
        },
        "outputId": "78338d04-b8e9-4b65-f81c-d90718e0ba3d"
      },
      "execution_count": null,
      "outputs": [
        {
          "output_type": "display_data",
          "data": {
            "text/plain": [
              "<IPython.core.display.HTML object>"
            ],
            "text/html": [
              "\n",
              "            <style>\n",
              "                .geemap-dark {\n",
              "                    --jp-widgets-color: white;\n",
              "                    --jp-widgets-label-color: white;\n",
              "                    --jp-ui-font-color1: white;\n",
              "                    --jp-layout-color2: #454545;\n",
              "                    background-color: #383838;\n",
              "                }\n",
              "                    \n",
              "                .geemap-dark .jupyter-button {\n",
              "                    --jp-layout-color3: #383838;\n",
              "                }\n",
              "                \n",
              "                .geemap-colab {\n",
              "                    background-color: var(--colab-primary-surface-color, white);\n",
              "                }\n",
              "                    \n",
              "                .geemap-colab .jupyter-button {\n",
              "                    --jp-layout-color3: var(--colab-primary-surface-color, white);\n",
              "                }\n",
              "            </style>\n",
              "            "
            ]
          },
          "metadata": {}
        }
      ]
    },
    {
      "cell_type": "markdown",
      "source": [
        "Para filtrar esta colección, al ser una imagen muy grande, además de saber las coordenadas de nuestra zona de interés, es importante indicar la fecha y hora en la que queremos extraer imagenes porque esta red satelital geoestacionaria registra una imagen cada 5-15 minutos.\n",
        "\\\n",
        "\\\n",
        "En nuestro caso, tomaremos la actividad de paroxismo que comenzó el 21 de mayo de 2023, pero debemos dar un rango de hora en el que queremos importar imagenes (usando *.filterDate* en nuestra colección de imágenes). También tomaremos un rango de las 16:30-17:00 hrs UTC y le diremos que tome la primer imagen.\n",
        "\n",
        "\n",
        "Para filtrar la zona que queremos estudiar usamos *.filterBounds* con la herramienta *ee.Geometry.Point*, pero hay que tener **cuidado** porque tiene los índices invertidos; en vez de ser lat-long, es long-lat.\n",
        "\n",
        "\n",
        "Como no especificamos qué bandas quiero, el código importa todas las que tiene el ABI.\n",
        "\n",
        "\n",
        "Entonces para generar esta imagen, la mando buscar en la *image_collection* que contiene las imágenes satelitales que seleccioné.\n"
      ],
      "metadata": {
        "id": "GFMsa4aLH2E3"
      }
    },
    {
      "cell_type": "code",
      "source": [
        "# lat, long\n",
        "lat = 19.022685\n",
        "lng = -98.623038\n",
        "# Coords copiadas de Google\n",
        "coords_latlong = [lat, lng]          # [lat, long]\n",
        "# Coords en formato long-lat\n",
        "coords_longlat = list(reversed(coords_latlong))   # [long, lat]\n",
        "\n",
        "\n",
        "# Filtrado de image_collections para extraer la imagen de interés\n",
        "imagen = ee.Image(image_collection\n",
        "                 .filterDate('2023-05-21T18:30:00', '2023-05-21T19:00:00')\n",
        "                            # Tiempos en UTC (México tiene UTC-6hrs)\n",
        "                 .filterBounds(ee.Geometry.Point(coords_longlat))\n",
        "                 .first()) # Primer imagen de la lista"
      ],
      "metadata": {
        "id": "YBPaSfv6FOGQ",
        "colab": {
          "base_uri": "https://localhost:8080/",
          "height": 17
        },
        "outputId": "667ac52a-c32b-4825-c940-abeeaa6ebff1"
      },
      "execution_count": null,
      "outputs": [
        {
          "output_type": "display_data",
          "data": {
            "text/plain": [
              "<IPython.core.display.HTML object>"
            ],
            "text/html": [
              "\n",
              "            <style>\n",
              "                .geemap-dark {\n",
              "                    --jp-widgets-color: white;\n",
              "                    --jp-widgets-label-color: white;\n",
              "                    --jp-ui-font-color1: white;\n",
              "                    --jp-layout-color2: #454545;\n",
              "                    background-color: #383838;\n",
              "                }\n",
              "                    \n",
              "                .geemap-dark .jupyter-button {\n",
              "                    --jp-layout-color3: #383838;\n",
              "                }\n",
              "                \n",
              "                .geemap-colab {\n",
              "                    background-color: var(--colab-primary-surface-color, white);\n",
              "                }\n",
              "                    \n",
              "                .geemap-colab .jupyter-button {\n",
              "                    --jp-layout-color3: var(--colab-primary-surface-color, white);\n",
              "                }\n",
              "            </style>\n",
              "            "
            ]
          },
          "metadata": {}
        }
      ]
    },
    {
      "cell_type": "markdown",
      "source": [
        "### **Image pre-processing**"
      ],
      "metadata": {
        "id": "Uy-_JultG-Hv"
      }
    },
    {
      "cell_type": "markdown",
      "source": [
        "Al ser un satélite geoestacionario, el ángulo azimutal cambia todo el tiempo, por lo que debemos normalizar las bandas usando este ángulo. Tambien se le aplica un *offset* a la nueva imagen escalada para que no haya distorción.\n",
        "\n",
        "\\\n",
        "\n",
        "También es necesario generar una banda *GREEN* porque el sensor ABI sólo registra *RED* y *BLUE*. Nos ayudaremos de una banda en el NIR para generar un verde sintético."
      ],
      "metadata": {
        "id": "0oUdyyt_HGaz"
      }
    },
    {
      "cell_type": "code",
      "source": [
        "NUM_BANDS = 33\n",
        "BLUE_BAND_INDEX = (1 - 1) * 2\n",
        "RED_BAND_INDEX = (2 - 1) * 2\n",
        "NIR_BAND_INDEX = (3 - 1) * 2\n",
        "GREEN_BAND_INDEX = NUM_BANDS - 1\n",
        "\n",
        "def applyScaleAndOffset(img):\n",
        "\n",
        "  bands = [0] * NUM_BANDS\n",
        "\n",
        "  names = img.select('CMI_C..').bandNames()\n",
        "  for i in range (1, 17):\n",
        "    num = 100+i\n",
        "    bandName = 'CMI_C' + str(num)[1:3]\n",
        "    offset = ee.Number(img.get(bandName + '_offset'))\n",
        "    scale =  ee.Number(img.get(bandName + '_scale'))\n",
        "    bands[(i-1) * 2] = img.select(bandName).multiply(scale).add(offset)\n",
        "\n",
        "    dqfName = 'DQF_C' + str(num)[1:3]\n",
        "    bands[(i-1) * 2 + 1] = img.select(dqfName)\n",
        "\n",
        "\n",
        "  green = img.expression(\n",
        "        ' 0.45 * red + 0.10 * nir + 0.45 * blue ', {\n",
        "        'nir' : bands[NIR_BAND_INDEX],\n",
        "        'red' : bands[RED_BAND_INDEX],\n",
        "        'blue': bands[BLUE_BAND_INDEX]\n",
        "        }\n",
        "        ).rename('GREEN')\n",
        "  bands[GREEN_BAND_INDEX] = green\n",
        "\n",
        "\n",
        "  return ee.Image(ee.Image(bands).copyProperties(img, img.propertyNames()))\n",
        "\n",
        "image = applyScaleAndOffset(imagen)"
      ],
      "metadata": {
        "colab": {
          "base_uri": "https://localhost:8080/",
          "height": 17
        },
        "id": "9PSY0UFgHYif",
        "outputId": "64a2ee57-7a7c-41f7-cc0c-59e1fc9d00cd"
      },
      "execution_count": null,
      "outputs": [
        {
          "output_type": "display_data",
          "data": {
            "text/plain": [
              "<IPython.core.display.HTML object>"
            ],
            "text/html": [
              "\n",
              "            <style>\n",
              "                .geemap-dark {\n",
              "                    --jp-widgets-color: white;\n",
              "                    --jp-widgets-label-color: white;\n",
              "                    --jp-ui-font-color1: white;\n",
              "                    --jp-layout-color2: #454545;\n",
              "                    background-color: #383838;\n",
              "                }\n",
              "                    \n",
              "                .geemap-dark .jupyter-button {\n",
              "                    --jp-layout-color3: #383838;\n",
              "                }\n",
              "                \n",
              "                .geemap-colab {\n",
              "                    background-color: var(--colab-primary-surface-color, white);\n",
              "                }\n",
              "                    \n",
              "                .geemap-colab .jupyter-button {\n",
              "                    --jp-layout-color3: var(--colab-primary-surface-color, white);\n",
              "                }\n",
              "            </style>\n",
              "            "
            ]
          },
          "metadata": {}
        }
      ]
    },
    {
      "cell_type": "markdown",
      "source": [
        "### **Generando el mapa**"
      ],
      "metadata": {
        "id": "0GeQGWuaUSn1"
      }
    },
    {
      "cell_type": "markdown",
      "source": [
        "Ahora, para generar el mapa interactivo, debemos introducir las coordenadas en las que queremos que esté centrado, donde tambíen necesitamos coordenadas *long-lat*."
      ],
      "metadata": {
        "id": "x_HaBePHUWl4"
      }
    },
    {
      "cell_type": "code",
      "source": [
        "# Creamos el mapa\n",
        "map1 = geemap.Map()\n",
        "# Configuramos dónde estará centrado\n",
        "map1.set_center(lng, lat, 8) #long, lat, zoom"
      ],
      "metadata": {
        "colab": {
          "base_uri": "https://localhost:8080/",
          "height": 17
        },
        "id": "5yo-pj8GB8DN",
        "outputId": "d02b4ee5-0b0f-41d2-8032-7242a6cadb9a"
      },
      "execution_count": null,
      "outputs": [
        {
          "output_type": "display_data",
          "data": {
            "text/plain": [
              "<IPython.core.display.HTML object>"
            ],
            "text/html": [
              "\n",
              "            <style>\n",
              "                .geemap-dark {\n",
              "                    --jp-widgets-color: white;\n",
              "                    --jp-widgets-label-color: white;\n",
              "                    --jp-ui-font-color1: white;\n",
              "                    --jp-layout-color2: #454545;\n",
              "                    background-color: #383838;\n",
              "                }\n",
              "                    \n",
              "                .geemap-dark .jupyter-button {\n",
              "                    --jp-layout-color3: #383838;\n",
              "                }\n",
              "                \n",
              "                .geemap-colab {\n",
              "                    background-color: var(--colab-primary-surface-color, white);\n",
              "                }\n",
              "                    \n",
              "                .geemap-colab .jupyter-button {\n",
              "                    --jp-layout-color3: var(--colab-primary-surface-color, white);\n",
              "                }\n",
              "            </style>\n",
              "            "
            ]
          },
          "metadata": {}
        }
      ]
    },
    {
      "cell_type": "markdown",
      "source": [
        "Ahora debemos mandar llamar la imagen que importamos para que también se vea en el mapa.\n",
        "\n",
        "Antes de esto, debemos delimitar las bandas (y su rango dinámico) que queremos importar en el mapa para poder verlas, en este caso serán las bandas RGB y les asignamos un rango arbitrario.\n",
        "\\\n",
        "\\\n",
        "GOES es un caso particular porque no existe una banda *verde* como tal , por lo que debemos simularla con BLUE, RED y NIR. [[1](https://doi.org/10.1029/2018EA000379)]"
      ],
      "metadata": {
        "id": "YzC8JV0sMqJt"
      }
    },
    {
      "cell_type": "code",
      "source": [
        "# Defino las bandas correspondientes a RGB para tener una imagen \"true color\"\n",
        "BLUE = 'CMI_C01'\n",
        "RED  = 'CMI_C02'\n",
        "NIR  = 'CMI_C03'\n",
        "GREEN = 'GREEN'\n",
        "\n",
        "\n",
        "# Para conseguir true-color, se tiene que acomodar en el orden R,G,B\n",
        "rgb_params = {\n",
        "    'bands': [RED, GREEN, BLUE],\n",
        "    'min': 0,\n",
        "    'max': 0.6,\n",
        "    'gamma' : 1.3,\n",
        "}\n",
        "\n",
        "# Los parámetros 'min' y 'max' filtran los valores que puede tomar\n",
        "# cada subpixel en la imagen respecto a un máximo (gamma)"
      ],
      "metadata": {
        "id": "sQTkddMVo1yV",
        "colab": {
          "base_uri": "https://localhost:8080/",
          "height": 17
        },
        "outputId": "ec8240c3-d5bb-4df0-ebae-6aa70ffa973b"
      },
      "execution_count": null,
      "outputs": [
        {
          "output_type": "display_data",
          "data": {
            "text/plain": [
              "<IPython.core.display.HTML object>"
            ],
            "text/html": [
              "\n",
              "            <style>\n",
              "                .geemap-dark {\n",
              "                    --jp-widgets-color: white;\n",
              "                    --jp-widgets-label-color: white;\n",
              "                    --jp-ui-font-color1: white;\n",
              "                    --jp-layout-color2: #454545;\n",
              "                    background-color: #383838;\n",
              "                }\n",
              "                    \n",
              "                .geemap-dark .jupyter-button {\n",
              "                    --jp-layout-color3: #383838;\n",
              "                }\n",
              "                \n",
              "                .geemap-colab {\n",
              "                    background-color: var(--colab-primary-surface-color, white);\n",
              "                }\n",
              "                    \n",
              "                .geemap-colab .jupyter-button {\n",
              "                    --jp-layout-color3: var(--colab-primary-surface-color, white);\n",
              "                }\n",
              "            </style>\n",
              "            "
            ]
          },
          "metadata": {}
        }
      ]
    },
    {
      "cell_type": "markdown",
      "source": [
        "Finalmente, añadimos al mapa la imagen con los parámetros que acabamos de definir y lo mandamos llamar:"
      ],
      "metadata": {
        "id": "oCL0sdskS7yC"
      }
    },
    {
      "cell_type": "code",
      "source": [
        "shapef = ee.FeatureCollection(\"FAO/GAUL/2015/level1\")\n",
        "shapef = shapef.style(\n",
        "    color = 'white',\n",
        "    width = 1.5,\n",
        "    fillColor = 'ff475700'  # with alpha set for partial transparency\n",
        ")"
      ],
      "metadata": {
        "colab": {
          "base_uri": "https://localhost:8080/",
          "height": 17
        },
        "id": "0eX9DQfMtd-H",
        "outputId": "423f76cc-9784-4a67-f096-974029d8fdf4"
      },
      "execution_count": null,
      "outputs": [
        {
          "output_type": "display_data",
          "data": {
            "text/plain": [
              "<IPython.core.display.HTML object>"
            ],
            "text/html": [
              "\n",
              "            <style>\n",
              "                .geemap-dark {\n",
              "                    --jp-widgets-color: white;\n",
              "                    --jp-widgets-label-color: white;\n",
              "                    --jp-ui-font-color1: white;\n",
              "                    --jp-layout-color2: #454545;\n",
              "                    background-color: #383838;\n",
              "                }\n",
              "                    \n",
              "                .geemap-dark .jupyter-button {\n",
              "                    --jp-layout-color3: #383838;\n",
              "                }\n",
              "                \n",
              "                .geemap-colab {\n",
              "                    background-color: var(--colab-primary-surface-color, white);\n",
              "                }\n",
              "                    \n",
              "                .geemap-colab .jupyter-button {\n",
              "                    --jp-layout-color3: var(--colab-primary-surface-color, white);\n",
              "                }\n",
              "            </style>\n",
              "            "
            ]
          },
          "metadata": {}
        }
      ]
    },
    {
      "cell_type": "code",
      "source": [
        "# Añade la capa con la imagen RGB (se puede cambiar la opacidad desde el mapa)\n",
        "map1.add_layer(image, rgb_params, 'Imagen RGB')\n",
        "map1.addLayer(shapef, None, 'Outline')\n",
        "# Manda llamar plotear el mapa\n",
        "map1"
      ],
      "metadata": {
        "id": "zIk3CblR86qM",
        "colab": {
          "base_uri": "https://localhost:8080/",
          "height": 621,
          "referenced_widgets": [
            "55c1722e0a6e4fb9b3309b8b70fc12f9",
            "3254971efeb74712a616ec3900576e30",
            "a8ccfb967d294698a3505a3d2088c19f",
            "fe72517eb330485eab290f739fd1a17e",
            "db73be5c697e460d8265655ecffa4992",
            "e4ec0c3ae00344f28dad5cbcad8e5d4e",
            "87d6bb333430424993dfc0d55dc97dff",
            "3300275199494514b7399f0d18303ff2",
            "a38fd9262c59430b858ba7e1f4add70d",
            "907482b6ab204ceab44d940e696c79c9",
            "7f14a6b3add64f469b2b1dd4116d58f1",
            "1227fe1d7c0f4f65aca7631ce94aa413",
            "c5e80b4a3dc74b3a8d38a85b0b60d7cc",
            "0998b2d44a4240fbb326a897f2b3ce4f",
            "e7d80b8b8aba4ec5ab6e56624d6bfeaf",
            "fd18b5ffb57547e6a93efd4b3934b8e2",
            "df4d845e85634380ad393668116e54ac",
            "df325dad9ad54f57af6990f8506596c2",
            "8e0d17967d51439a82a21c98b11dc96f",
            "d18c488cce5f43cf939c82a48b22227c",
            "3a7da2cf6db54943b9e67e329179c153",
            "f5a679639b79489789481d828bf2d407",
            "d25751bca3904b76bc72dd4fc3a925d5",
            "2c529fbfc4474f4f89696a313e58109c",
            "e7ea7924345a4445b86539ed85b2a112",
            "68f704f5733346ef8e83bbcfd1e78335"
          ]
        },
        "outputId": "b55e7e37-122b-457f-8656-22a73468fe8d"
      },
      "execution_count": null,
      "outputs": [
        {
          "output_type": "display_data",
          "data": {
            "text/plain": [
              "<IPython.core.display.HTML object>"
            ],
            "text/html": [
              "\n",
              "            <style>\n",
              "                .geemap-dark {\n",
              "                    --jp-widgets-color: white;\n",
              "                    --jp-widgets-label-color: white;\n",
              "                    --jp-ui-font-color1: white;\n",
              "                    --jp-layout-color2: #454545;\n",
              "                    background-color: #383838;\n",
              "                }\n",
              "                    \n",
              "                .geemap-dark .jupyter-button {\n",
              "                    --jp-layout-color3: #383838;\n",
              "                }\n",
              "                \n",
              "                .geemap-colab {\n",
              "                    background-color: var(--colab-primary-surface-color, white);\n",
              "                }\n",
              "                    \n",
              "                .geemap-colab .jupyter-button {\n",
              "                    --jp-layout-color3: var(--colab-primary-surface-color, white);\n",
              "                }\n",
              "            </style>\n",
              "            "
            ]
          },
          "metadata": {}
        },
        {
          "output_type": "display_data",
          "data": {
            "text/plain": [
              "Map(center=[19.022685, -98.623038], controls=(WidgetControl(options=['position', 'transparent_bg'], widget=Sea…"
            ],
            "application/vnd.jupyter.widget-view+json": {
              "version_major": 2,
              "version_minor": 0,
              "model_id": "55c1722e0a6e4fb9b3309b8b70fc12f9"
            }
          },
          "metadata": {
            "application/vnd.jupyter.widget-view+json": {
              "colab": {
                "custom_widget_manager": {
                  "url": "https://ssl.gstatic.com/colaboratory-static/widgets/colab-cdn-widget-manager/b3e629b1971e1542/manager.min.js"
                }
              }
            }
          }
        }
      ]
    },
    {
      "cell_type": "markdown",
      "source": [
        "---\n",
        "---\n",
        "## **Ash Cloud Algorithm**\n",
        "---\n",
        "---"
      ],
      "metadata": {
        "id": "qt_nkaO45bna"
      }
    },
    {
      "cell_type": "markdown",
      "source": [
        "### **Physics of the problem**"
      ],
      "metadata": {
        "id": "p7v_pqFz5ro5"
      }
    },
    {
      "cell_type": "markdown",
      "source": [
        "La detección de ceniza volcánica utiliza bandas en el IR con longitudes de onda de unos cuantos $\\mu m$. Las diferentes propiedades *microfísicas* de las partículas de ceniza nos ayudan a distinguirlas de otras partículas de agua/hielo/polvo en la atmósfera.\n",
        "\\\n",
        "\\\n",
        "Existen múltiples algoritmos que nos permiten detectar las nubes de ceniza volcánica, la misma NOAA nos provee de uno muy poderoso que se puede usar con el GOES-16, pero que ha mostrado requerir de un gran poder computacional debido a la complejidad de este.\n",
        "\\\n",
        "\\\n",
        "En este proyecto, exploraremos la calidad 3 algoritmos relativamente sencillos, en el que se usan 2, 3 y 5 bandas. Conforme más información tomamos del sistema, más seguros podemos estar de que lo que estamos observando es ceniza volcánica.\n",
        "\\\n",
        "\\\n",
        "Las bandas espectrales (y la λ en la que están centradas) del sensor ABI que utilizaremos son:\n",
        "\n",
        "\n",
        "* Banda 11 [CMI_C11] (8.5 μm)\n",
        "* Banda 13 [CMI_C13] (10.3 μm)\n",
        "* Banda 15 [CMI_C15] (12.3 μm)\n",
        "* Banda 16 [CMI_C16] (13.2 μm)\n",
        "\n",
        "El algoritmo consiste principalmente en calcular la diferencia entre temperaturas de brillo a diferentes longitudes de onda. Esta *brightness temperature* tiene unidades de $K$[Kelvin] y nos las dan las bandas en el infrarrojo, como las antes mencionadas."
      ],
      "metadata": {
        "id": "gWZu-nxR6eoW"
      }
    },
    {
      "cell_type": "markdown",
      "source": [
        "### **Método de las 2 bandas (Método 1)**"
      ],
      "metadata": {
        "id": "ljGi_icCD_0d"
      }
    },
    {
      "cell_type": "markdown",
      "source": [
        "El primer método propuesto para la detección de ceniza volcánica busca la *Brightness Temperature Difference* (BTD) entre las bandas con longitudes de onda ~10 y ~12 μm, correspondiento a las bandas 13 y 15 del sensor ABI.\n",
        "\\\n",
        "\\\n",
        "La condición que tiene que cumplir el pixel para que se considere que SÍ contine ceniza es:\n",
        "\n",
        "\\begin{align}\n",
        "  \\text{BT}(10) - \\text{BT}(12) < 0\\text{K}\n",
        "\\end{align}\n",
        "\n",
        "Es decir, esta diferencia es negativa cuando el pixel contiene ceniza, mientras que es positiva cuando este no tiene (la suficiente).\n",
        "\\\n",
        "\\\n",
        "Para poder filtrar bien la imagen y sólo ver los pixeles con ceniza, debemos poner esta conidición como una *máscara* en nuestra imagen.\n",
        "\\\n",
        "La condición es:"
      ],
      "metadata": {
        "id": "ryIrTs2qEE0a"
      }
    },
    {
      "cell_type": "code",
      "source": [
        "# La siguiente linea [a ? b : c] se lee \"if a then b, otherwise c\", donde:\n",
        "#   a := BT11 - BT12 < K\n",
        "#   b := 1\n",
        "#   c := 0\n",
        "# Aquí K depende depende de la humedad de la zona\n",
        "meth1mask = image.expression(\n",
        "    \"(BT10 - BT12 < 0) ? 1 \"\n",
        "    \": 0\", {\n",
        "        'BT10' : image.select('CMI_C13'),\n",
        "        'BT12' : image.select('CMI_C15')\n",
        "    }\n",
        ")\n",
        "\n",
        "# Esta ^ máscara le asigna valor 1 a los pixeles que nos interesan\n",
        "# y 0 a los que no cumplen la condición.\n",
        "\n",
        "\n",
        "# Para separar los pixeles que nos interesan en otra capa,\n",
        "# aplicamos .selfMask() a la máscara, es decir:\n",
        "\n",
        "imgmasked1 = meth1mask.selfMask()\n",
        "# Aquí los pixeles con vlaor 0 se vuelven transparentes"
      ],
      "metadata": {
        "colab": {
          "base_uri": "https://localhost:8080/",
          "height": 17
        },
        "id": "SkpF5yATRyRD",
        "outputId": "d58ada9f-ad87-4a7f-dcc8-9deec555ff15"
      },
      "execution_count": null,
      "outputs": [
        {
          "output_type": "display_data",
          "data": {
            "text/plain": [
              "<IPython.core.display.HTML object>"
            ],
            "text/html": [
              "\n",
              "            <style>\n",
              "                .geemap-dark {\n",
              "                    --jp-widgets-color: white;\n",
              "                    --jp-widgets-label-color: white;\n",
              "                    --jp-ui-font-color1: white;\n",
              "                    --jp-layout-color2: #454545;\n",
              "                    background-color: #383838;\n",
              "                }\n",
              "                    \n",
              "                .geemap-dark .jupyter-button {\n",
              "                    --jp-layout-color3: #383838;\n",
              "                }\n",
              "                \n",
              "                .geemap-colab {\n",
              "                    background-color: var(--colab-primary-surface-color, white);\n",
              "                }\n",
              "                    \n",
              "                .geemap-colab .jupyter-button {\n",
              "                    --jp-layout-color3: var(--colab-primary-surface-color, white);\n",
              "                }\n",
              "            </style>\n",
              "            "
            ]
          },
          "metadata": {}
        }
      ]
    },
    {
      "cell_type": "markdown",
      "source": [
        "Ya que tenemos nuestra máscara, debemos aplicarla a nuestro mapa, para que los pixeles que cumplen la condición, se muestren."
      ],
      "metadata": {
        "id": "7u5kV_wO34Aw"
      }
    },
    {
      "cell_type": "code",
      "source": [
        "# Creamos el mapa con una capa true color de fondo\n",
        "map2 = geemap.Map()\n",
        "map2.set_center(lng, lat, 8)\n",
        "map2.addLayer(image, rgb_params, 'Imagen RGB')\n",
        "\n",
        "# Añadimos la capa con la mascara y la resaltamos de rojo\n",
        "palette = ['red']\n",
        "map2.addLayer(imgmasked1, {'palette': palette}, 'Masked image Meth1')\n",
        "map2.addLayer(shapef, None, 'Outline')\n",
        "map2"
      ],
      "metadata": {
        "id": "NTM7wqp14FwQ",
        "colab": {
          "base_uri": "https://localhost:8080/",
          "height": 621,
          "referenced_widgets": [
            "7e720d716eb54dd49a7fcfa6744fae09",
            "e2168ffcf6fd4e04b62d7eaae67e81a2",
            "86f73f60b768424282a9a1d892836ec8",
            "987f208e8ffc49f6bec84f557122560b",
            "5badbf63b14a43a081f73d3d58120ec2",
            "b9e313be905849248d8455bf3d023394",
            "a1a7c0a5b2ee4971a6a68650dd959001",
            "0b59c5d159804766a37dd1c00a3dfbe4",
            "20498f2f1d8c4370938d1a72f6addb55",
            "349b6776f583447a913a0f742a2a3671",
            "444e93303afa4414adabc63e25f04369",
            "f8ad0629b4d4454bb1ac229ec1e8d256",
            "7ff6f93cf2124079839eba1a265f63d4",
            "3dd2e3b232834b6386b8d30582fd5a0c",
            "dcf0c42b958b49598bfc1f994ca65859",
            "dd5adcaddefe451580992c0efb94a105",
            "ccb9000c4f7045a2ace560ceea482e31",
            "e719196321fb4908938d593d3febdacb",
            "5a8c07401e614152ac11616dc45b2576",
            "386950a32f534e1db1d096cdc05dc964",
            "fdd4ba8b00854d6ead613a0b5740e232",
            "13eed89fc7674bbba31adb8b23cf2713",
            "f7ee503d2fbc45d7b51a6906d8778f8a",
            "620dedc470eb4de6a117740f21cd55b9",
            "bc321670234449ccb04ca9446bfe4782",
            "f8d11470213949bd8a0117a6b98acbf2",
            "12be402522ca4c73a4ce9e232fdaf08c"
          ]
        },
        "outputId": "5af5f6bf-bd0f-4cf3-db20-3e70f6e40963"
      },
      "execution_count": null,
      "outputs": [
        {
          "output_type": "display_data",
          "data": {
            "text/plain": [
              "<IPython.core.display.HTML object>"
            ],
            "text/html": [
              "\n",
              "            <style>\n",
              "                .geemap-dark {\n",
              "                    --jp-widgets-color: white;\n",
              "                    --jp-widgets-label-color: white;\n",
              "                    --jp-ui-font-color1: white;\n",
              "                    --jp-layout-color2: #454545;\n",
              "                    background-color: #383838;\n",
              "                }\n",
              "                    \n",
              "                .geemap-dark .jupyter-button {\n",
              "                    --jp-layout-color3: #383838;\n",
              "                }\n",
              "                \n",
              "                .geemap-colab {\n",
              "                    background-color: var(--colab-primary-surface-color, white);\n",
              "                }\n",
              "                    \n",
              "                .geemap-colab .jupyter-button {\n",
              "                    --jp-layout-color3: var(--colab-primary-surface-color, white);\n",
              "                }\n",
              "            </style>\n",
              "            "
            ]
          },
          "metadata": {}
        },
        {
          "output_type": "display_data",
          "data": {
            "text/plain": [
              "Map(center=[19.022685, -98.623038], controls=(WidgetControl(options=['position', 'transparent_bg'], widget=Sea…"
            ],
            "application/vnd.jupyter.widget-view+json": {
              "version_major": 2,
              "version_minor": 0,
              "model_id": "7e720d716eb54dd49a7fcfa6744fae09"
            }
          },
          "metadata": {
            "application/vnd.jupyter.widget-view+json": {
              "colab": {
                "custom_widget_manager": {
                  "url": "https://ssl.gstatic.com/colaboratory-static/widgets/colab-cdn-widget-manager/b3e629b1971e1542/manager.min.js"
                }
              }
            }
          }
        }
      ]
    },
    {
      "cell_type": "markdown",
      "source": [
        "### **Método de las 3 bandas (Método 2)**"
      ],
      "metadata": {
        "id": "89vFbeRXMiOa"
      }
    },
    {
      "cell_type": "markdown",
      "source": [
        "El Método 1 tiene limitaciones, existen la sobre-estimaciones y las sub-estimaciones. Dentro de las sub-estimaciones, en el caso de regiones tropicales (lat = $\\pm 20°$) como en donde se encuentra el Popocatépetl, la columna de vapor de agua encima o debajo de la nube de ceniza desplaza la BTD hacia los positivos; en los climas fríos también pueden generar sub-estimaciones, desplazando la diferencia BTD a los positivos. La sobreestimación ocurre en zonas áridas y cuando hay muchas presencia de minerales en el aire. En nuestro caso, se debe a una posible sub-estimación, por lo que debe contemplar que hay pixeles que no están.\n",
        "\n",
        "\\\n",
        "\n",
        "Entonces, el siguiente paso para optimizar el código es considerar una tercera banda espectrar, que remueve los *artifacts*, i.e. pixeles con detección falso-positivo o falso-negativo. Esto se consigue con la BTD entre las longitudes de $11\\mu m$ y $8.5 \\mu m$, en donde los pixeles, no sólo deben cumplir la condición del Método 1 si no que, también deben cumplir la condición:\n",
        "\n",
        "\\begin{align}\n",
        "  \\text{BT}(8.5) - \\text{BT}(11) > 0\\text{K}\n",
        "\\end{align}\n",
        "\n",
        "Por lo que nuestra máscara se ve como:"
      ],
      "metadata": {
        "id": "taFqZHudMs6H"
      }
    },
    {
      "cell_type": "code",
      "source": [
        "# Siguiendo la condición anterior la expresión queda como:\n",
        "meth2mask = image.expression(\n",
        "    \"((BT10-BT12 < 0) && (BT85-BT10 > 0)) ? 1 \"\n",
        "    \": 0\", {\n",
        "        'BT85' : image.select('CMI_C11'),\n",
        "        'BT10' : image.select('CMI_C13'),\n",
        "        'BT12' : image.select('CMI_C15')\n",
        "    }\n",
        ")\n",
        "\n",
        "\n",
        "# Volvemos a aplicar la .selfMask() a la nueva máscara\n",
        "# para separar los pixeles que cumplen la condición.\n",
        "\n",
        "imgmasked2 = meth2mask.selfMask()"
      ],
      "metadata": {
        "colab": {
          "base_uri": "https://localhost:8080/",
          "height": 17
        },
        "id": "HKYWtt5cPDTe",
        "outputId": "45273c39-6218-4e73-fe21-0199ac8adb75"
      },
      "execution_count": null,
      "outputs": [
        {
          "output_type": "display_data",
          "data": {
            "text/plain": [
              "<IPython.core.display.HTML object>"
            ],
            "text/html": [
              "\n",
              "            <style>\n",
              "                .geemap-dark {\n",
              "                    --jp-widgets-color: white;\n",
              "                    --jp-widgets-label-color: white;\n",
              "                    --jp-ui-font-color1: white;\n",
              "                    --jp-layout-color2: #454545;\n",
              "                    background-color: #383838;\n",
              "                }\n",
              "                    \n",
              "                .geemap-dark .jupyter-button {\n",
              "                    --jp-layout-color3: #383838;\n",
              "                }\n",
              "                \n",
              "                .geemap-colab {\n",
              "                    background-color: var(--colab-primary-surface-color, white);\n",
              "                }\n",
              "                    \n",
              "                .geemap-colab .jupyter-button {\n",
              "                    --jp-layout-color3: var(--colab-primary-surface-color, white);\n",
              "                }\n",
              "            </style>\n",
              "            "
            ]
          },
          "metadata": {}
        }
      ]
    },
    {
      "cell_type": "markdown",
      "source": [
        "Ahora creamos un nuevo mapa con esta nueva máscara"
      ],
      "metadata": {
        "id": "dutigymHQca2"
      }
    },
    {
      "cell_type": "code",
      "source": [
        "# Creamos el mapa con una capa true color de fondo\n",
        "map3 = geemap.Map()\n",
        "map3.set_center(lng, lat, 8)\n",
        "map3.addLayer(image, rgb_params, 'Imagen RGB')\n",
        "\n",
        "# Añadimos la capa con la mask\n",
        "palette = ['red']\n",
        "map3.addLayer(imgmasked2, {'palette': palette}, 'Selfmask Meth2')\n",
        "map3.addLayer(shapef, None, 'Outline')\n",
        "\n",
        "map3"
      ],
      "metadata": {
        "id": "PHidSIujQid_",
        "colab": {
          "base_uri": "https://localhost:8080/",
          "height": 621,
          "referenced_widgets": [
            "f5672c8365664eff847a209bc429d8ae",
            "2d7eb512675a4d928b42595539eac5fa",
            "f9b6b91c1e8d41b785eb014325441a9d",
            "4659bd5266a74da3a415a74469478fbb",
            "ce433116f0174b4a8fd9b47f74eb521d",
            "3f0e6f459e39461ea6115c12584a88d0",
            "fbcb0024702f429bbe182d26127f44c8",
            "57c63df20bac445388b7bd3011939852",
            "d294f9e56f69450e919d7481db2907f5",
            "c117b28665c04964a4bb03e97f5da47c",
            "a84271d24b6b4037bfeda3225b139467",
            "a88deb5cacb64530ab5de0f98b148d95",
            "232e6492d6d34a65baefa0276a4f8dab",
            "e195930e46dc4fb489581d7cbb6b5478",
            "ffeabd288ba14267918896debd09b9f9",
            "f7bcd17e38d643ef83a816f5cf6de9ef",
            "feceed4ceb1840498f09aec55cae7ac8",
            "359cfbe946d749e599b593eda21bb6f4",
            "3daab882cc8f4fc997d71ef10f020570",
            "9ac61c2099844df8a61a49e1aa22aee4",
            "daedc3328d0443acac01b301d98039e8",
            "432001e0b9bb476ebea64d1efb8969b2",
            "e3c7d66f7a634c2495bc04da0f1cf12e",
            "a8958b3f36e94783a99298f968fb9f2a",
            "ca4d7bd7900544b1b2aaec64c2a3e85d",
            "655cf6623a504070986de751e0e8fe92",
            "0e0fbbc1390e41c1b895845199391b8f"
          ]
        },
        "outputId": "84dc8882-f1bf-4c65-d987-6dea63796943"
      },
      "execution_count": null,
      "outputs": [
        {
          "output_type": "display_data",
          "data": {
            "text/plain": [
              "<IPython.core.display.HTML object>"
            ],
            "text/html": [
              "\n",
              "            <style>\n",
              "                .geemap-dark {\n",
              "                    --jp-widgets-color: white;\n",
              "                    --jp-widgets-label-color: white;\n",
              "                    --jp-ui-font-color1: white;\n",
              "                    --jp-layout-color2: #454545;\n",
              "                    background-color: #383838;\n",
              "                }\n",
              "                    \n",
              "                .geemap-dark .jupyter-button {\n",
              "                    --jp-layout-color3: #383838;\n",
              "                }\n",
              "                \n",
              "                .geemap-colab {\n",
              "                    background-color: var(--colab-primary-surface-color, white);\n",
              "                }\n",
              "                    \n",
              "                .geemap-colab .jupyter-button {\n",
              "                    --jp-layout-color3: var(--colab-primary-surface-color, white);\n",
              "                }\n",
              "            </style>\n",
              "            "
            ]
          },
          "metadata": {}
        },
        {
          "output_type": "display_data",
          "data": {
            "text/plain": [
              "Map(center=[19.022685, -98.623038], controls=(WidgetControl(options=['position', 'transparent_bg'], widget=Sea…"
            ],
            "application/vnd.jupyter.widget-view+json": {
              "version_major": 2,
              "version_minor": 0,
              "model_id": "f5672c8365664eff847a209bc429d8ae"
            }
          },
          "metadata": {
            "application/vnd.jupyter.widget-view+json": {
              "colab": {
                "custom_widget_manager": {
                  "url": "https://ssl.gstatic.com/colaboratory-static/widgets/colab-cdn-widget-manager/b3e629b1971e1542/manager.min.js"
                }
              }
            }
          }
        }
      ]
    },
    {
      "cell_type": "markdown",
      "source": [
        "#### **Reduce Neighborhood**"
      ],
      "metadata": {
        "id": "EKpu7y9tNsZQ"
      }
    },
    {
      "cell_type": "markdown",
      "source": [
        "Para mejorar el algoritmo, aplicamos condiciones más tenues en la frontera de la nube. Para esto, es necesario utilizar la función [*ee.Image.reduceNeighborhood*](https://developers.google.com/earth-engine/apidocs/ee-image-reduceneighborhood) en donde podemos aplicar una función (reducer) a una región (kernel) que rodea un pixel.\n",
        "\n",
        "\\\n",
        "\n",
        "* El reducer que utilizaremos se llama [*ee.Reducer.anyNonZero*](https://developers.google.com/earth-engine/apidocs/ee-reducer-anynonzero) y nos arroja el valor 1 cuando cualquier pixel dentro del kernel es no-nulo.\n",
        "\n",
        "* El kernel que usaremos es [*ee.Kernel.square*](https://developers.google.com/earth-engine/apidocs/ee-kernel-square) y considera una zona con $r$ pixeles/metros de radio sobre un pixel, en nuestro caso queremos un radio de 1pixel/2Kmetros\n",
        "\n",
        "\n",
        "Una vez tenemos la nueva región extendida, aplicamos *.updateMask()* a la imagen original para sólo aplicar las condiciones tenues a los nuevos pixels"
      ],
      "metadata": {
        "id": "IgPLGFMKfl9v"
      }
    },
    {
      "cell_type": "code",
      "source": [
        "# Aplicamos .reduceNeighborhood() para conseguir la máscara extendida en 1 pixel\n",
        "mask2_ext1 = meth2mask.reduceNeighborhood(\n",
        "            reducer = ee.Reducer.anyNonZero(),\n",
        "            kernel = ee.Kernel.square(4000, units='meters') # 1pixel = 2000meters\n",
        ") # Con meters funciona mejor que con pixels ¿why?\n",
        "\n",
        "# Me recorta la imagen con un pixel más que la mascara2\n",
        "imgmask2_ext1 = image.updateMask(mask2_ext1)"
      ],
      "metadata": {
        "colab": {
          "base_uri": "https://localhost:8080/",
          "height": 17
        },
        "id": "ysowR5s2hbaa",
        "outputId": "018b2723-e55b-48ca-c758-b7c5eee151f5"
      },
      "execution_count": null,
      "outputs": [
        {
          "output_type": "display_data",
          "data": {
            "text/plain": [
              "<IPython.core.display.HTML object>"
            ],
            "text/html": [
              "\n",
              "            <style>\n",
              "                .geemap-dark {\n",
              "                    --jp-widgets-color: white;\n",
              "                    --jp-widgets-label-color: white;\n",
              "                    --jp-ui-font-color1: white;\n",
              "                    --jp-layout-color2: #454545;\n",
              "                    background-color: #383838;\n",
              "                }\n",
              "                    \n",
              "                .geemap-dark .jupyter-button {\n",
              "                    --jp-layout-color3: #383838;\n",
              "                }\n",
              "                \n",
              "                .geemap-colab {\n",
              "                    background-color: var(--colab-primary-surface-color, white);\n",
              "                }\n",
              "                    \n",
              "                .geemap-colab .jupyter-button {\n",
              "                    --jp-layout-color3: var(--colab-primary-surface-color, white);\n",
              "                }\n",
              "            </style>\n",
              "            "
            ]
          },
          "metadata": {}
        }
      ]
    },
    {
      "cell_type": "markdown",
      "source": [
        "Ahora, aplicamos condiciones más tenues a todos los pixels de la nueva máscara (los que pasaron la primera prueba, cumplen esta). Podemos diferenciarlos de los otros al aplicar condiciones del tipo:\n",
        "\n",
        "\\begin{align*}\n",
        "\\text{Cond_antigua} < \\text{BTD} < \\text{Cond_nueva}\n",
        "\\end{align*}"
      ],
      "metadata": {
        "id": "I-nxkEzTiEPb"
      }
    },
    {
      "cell_type": "code",
      "source": [
        "# Aplica condiciones más tenues sólo a la nueva imagen recortada\n",
        "meth2mask_ext1 = imgmask2_ext1.expression(\n",
        "    \"((BT10-BT12 < 0) && (BT85-BT11 > 0)) ? 1 \" # Primeras condiciones\n",
        "    \": ((0 < BT10-BT12 < 1) && (0 > BT85-BT11 > -1)) ? 2 \" # Cond tenues\n",
        "    \": 0\", {\n",
        "        'BT85' : imgmask2_ext1.select('CMI_C11'),\n",
        "        'BT10' : imgmask2_ext1.select('CMI_C13'),\n",
        "        'BT11' : imgmask2_ext1.select('CMI_C14'),\n",
        "        'BT12' : imgmask2_ext1.select('CMI_C15')\n",
        "    }\n",
        ")\n",
        "\n",
        "# Esta máscara le dará un valor diferente a cada caso\n",
        "# 1 p/ condiciones estrictas\n",
        "# 2 p/ condiciones tenues\n",
        "\n",
        "\n",
        "# Aplicamos .selfMask() a la máscara para extraer la máscara\n",
        "imgmasked2_ext1 = meth2mask_ext1.selfMask()"
      ],
      "metadata": {
        "colab": {
          "base_uri": "https://localhost:8080/",
          "height": 17
        },
        "id": "m2N_LQfHi4q3",
        "outputId": "b28c9aa4-89c4-4088-aa4b-ef61f5d666e4"
      },
      "execution_count": null,
      "outputs": [
        {
          "output_type": "display_data",
          "data": {
            "text/plain": [
              "<IPython.core.display.HTML object>"
            ],
            "text/html": [
              "\n",
              "            <style>\n",
              "                .geemap-dark {\n",
              "                    --jp-widgets-color: white;\n",
              "                    --jp-widgets-label-color: white;\n",
              "                    --jp-ui-font-color1: white;\n",
              "                    --jp-layout-color2: #454545;\n",
              "                    background-color: #383838;\n",
              "                }\n",
              "                    \n",
              "                .geemap-dark .jupyter-button {\n",
              "                    --jp-layout-color3: #383838;\n",
              "                }\n",
              "                \n",
              "                .geemap-colab {\n",
              "                    background-color: var(--colab-primary-surface-color, white);\n",
              "                }\n",
              "                    \n",
              "                .geemap-colab .jupyter-button {\n",
              "                    --jp-layout-color3: var(--colab-primary-surface-color, white);\n",
              "                }\n",
              "            </style>\n",
              "            "
            ]
          },
          "metadata": {}
        }
      ]
    },
    {
      "cell_type": "markdown",
      "source": [
        "Finalmete, podemos hacer el mapa con todas las capas que nos importan para corroborar que funciona el code\n",
        "\n",
        "Nota: Quitar la RGB si se quiere ver el contorno de la selfmask del método 2 estricto"
      ],
      "metadata": {
        "id": "uThLL3fUmyp1"
      }
    },
    {
      "cell_type": "code",
      "source": [
        "# Creamos el mapa con una capa true color de fondo\n",
        "map5 = geemap.Map()\n",
        "map5.set_center(lng, lat, 8)\n",
        "map5.addLayer(image, rgb_params, 'Imagen RGB')\n",
        "map5.addLayer(imgmask2_ext1, rgb_params, 'Image Mask') # nuevos pixels (original+contorno)\n",
        "\n",
        "# Añadimos la capa con la mask\n",
        "palette = ['red'] # paleta Maks2\n",
        "palette2 = ['black', 'red', 'orange'] #paleta Mask2 extendida\n",
        "map5.addLayer(imgmasked2, {'palette': palette}, 'Selfmask Meth2') # Mask2 estricta\n",
        "map5.addLayer(imgmasked2_ext1, {'palette': palette2}, 'Selfmask Meth2 Extendida') # Mask2 extendida\n",
        "map5.addLayer(shapef, None, 'Outline')\n",
        "\n",
        "map5"
      ],
      "metadata": {
        "id": "o0RoVSJ0pbvA",
        "colab": {
          "base_uri": "https://localhost:8080/",
          "height": 621,
          "referenced_widgets": [
            "1ae7c74017734149a30a3e408744765a",
            "5d2ed2419fc24578a6574e515a898498",
            "ea6bcc1b35b947d4963c28e0ebfc56c0",
            "984894ac200f4a99b6cfc316addde7a2",
            "1a22c982366d4da6b711e8ad94c6602e",
            "081b4ca560984085a690febedb04e081",
            "539cfebbe91d481abcb702cee34c5b29",
            "39dc2c59abb4440892b30b63db614206",
            "eb3b3c8d2bc342f5aa48a68f4836ffab",
            "a5b9c926e28a45898eabfe39ef9eaae0",
            "037dca3b74b8425488a147cf4b629a5f",
            "66a2213ff6d74aa1bac1e4bb430c224e",
            "9ce74be457c449ee8b4b3988e829f12b",
            "c6f3153bcb1e440ab9a321d40f1182e3",
            "ecd5e58edb624dacb8d07ae266b75e6f",
            "35c90d6449e04f1cb46e98612a661a3b",
            "2660534a14ec40cd8e844961a6f197f9",
            "c56e138a989242309bc09c4967c920c1",
            "8169dfd892dc4e8aad3faefdd8d9b4a7",
            "6e58e8e61ec04cf4841897b8c71a5f3a",
            "f0ba22fe061348b380198c07615c435b",
            "a70a3c7ce5314ae3b22ec07f23baed45",
            "18f939fdcd314955a812d80e1464f93d",
            "a7f6603be3da46b896274db0d7ed3463",
            "cea2821b5d87468f8659dcce50781cd5",
            "e1ceb886d19c40bdb172f3f052cfcafc",
            "8c44860866174b1c8e600babff137a2d",
            "4fa16d121a99428db6488e883aa18cc7",
            "195e83d0b84b4dd08a40aca8c3147973"
          ]
        },
        "outputId": "89f611af-085e-4391-c21e-9de1363a822a"
      },
      "execution_count": null,
      "outputs": [
        {
          "output_type": "display_data",
          "data": {
            "text/plain": [
              "<IPython.core.display.HTML object>"
            ],
            "text/html": [
              "\n",
              "            <style>\n",
              "                .geemap-dark {\n",
              "                    --jp-widgets-color: white;\n",
              "                    --jp-widgets-label-color: white;\n",
              "                    --jp-ui-font-color1: white;\n",
              "                    --jp-layout-color2: #454545;\n",
              "                    background-color: #383838;\n",
              "                }\n",
              "                    \n",
              "                .geemap-dark .jupyter-button {\n",
              "                    --jp-layout-color3: #383838;\n",
              "                }\n",
              "                \n",
              "                .geemap-colab {\n",
              "                    background-color: var(--colab-primary-surface-color, white);\n",
              "                }\n",
              "                    \n",
              "                .geemap-colab .jupyter-button {\n",
              "                    --jp-layout-color3: var(--colab-primary-surface-color, white);\n",
              "                }\n",
              "            </style>\n",
              "            "
            ]
          },
          "metadata": {}
        },
        {
          "output_type": "display_data",
          "data": {
            "text/plain": [
              "Map(center=[19.022685, -98.623038], controls=(WidgetControl(options=['position', 'transparent_bg'], widget=Sea…"
            ],
            "application/vnd.jupyter.widget-view+json": {
              "version_major": 2,
              "version_minor": 0,
              "model_id": "1ae7c74017734149a30a3e408744765a"
            }
          },
          "metadata": {
            "application/vnd.jupyter.widget-view+json": {
              "colab": {
                "custom_widget_manager": {
                  "url": "https://ssl.gstatic.com/colaboratory-static/widgets/colab-cdn-widget-manager/b3e629b1971e1542/manager.min.js"
                }
              }
            }
          }
        }
      ]
    },
    {
      "cell_type": "markdown",
      "source": [],
      "metadata": {
        "id": "3QpjMT4B73tM"
      }
    },
    {
      "cell_type": "markdown",
      "source": [
        "### **RGB modificado**"
      ],
      "metadata": {
        "id": "TBa8GmG-oNty"
      }
    },
    {
      "cell_type": "markdown",
      "source": [
        "Considerando las secciones anteriores, podemos construir una nueva imagen RGB que nos permita ver mejor la nube de ceniza. Podemos ayudarnos de la documentación que nos ofrece GOES en el archivo [Ash RGB](https://rammb2.cira.colostate.edu/wp-content/uploads/2020/01/GOES_Ash_RGB-1.pdf) en la que modifica las bandas que le damos como imput a la imagen para resaltar la nube de ceniza\n",
        "\n",
        "\\\n",
        "\n",
        "Considera algunas de las bandas espectrales que utilizamos en este análisis, tomando:\n",
        "\n",
        "\\begin{align*}\n",
        "\\text{NRED} &= \\text{BT12.3}-\\text{BT10.3} \\\\\n",
        "\\text{RGREEN} &= \\text{BT11.2}-\\text{BT8.4} \\\\\n",
        "\\text{NBLUE} &= \\text{BT10.3}\n",
        "\\end{align*}\n",
        "\n",
        "Por lo que los pixeles que cumplan la condición del Método 1, resaltarán en roj. Las bandas NGREEN y NBLUE nos ayudaran a identificar el S02 y ciertas nubes.\n",
        "\n",
        "\\\n",
        "\n",
        "Entonces, al construir estas nuevas bandas, podemos aplicarlas a la nueva imagen como:"
      ],
      "metadata": {
        "id": "k3gTRGS7oRGq"
      }
    },
    {
      "cell_type": "code",
      "source": [
        "# Defino las bandas correspondientes a RGB para tener una imagen \"true color\"\n",
        "NRED = image.select('CMI_C15').subtract(image.select('CMI_C13')).rename('NRED')\n",
        "NGREEN  = image.select('CMI_C14').subtract(image.select('CMI_C11')).rename('NGREEN')\n",
        "NBLUE = image.select('CMI_C13').rename('NBLUE')\n",
        "new_bands = ee.Image([NRED, NGREEN, NBLUE])\n",
        "image = image.addBands(new_bands)\n",
        "\n",
        "\n",
        "# Para conseguir true-color, se tiene que acomodar en el orden R,G,B\n",
        "rgb_fake = {\n",
        "    'bands': ['NRED', 'NGREEN', 'NBLUE'],\n",
        "    'min': [-6.7, -6, 243.6],\n",
        "    'max': [2.6, 6.3, 302.4],\n",
        "    'gamma' : [1, 1, 1],\n",
        "}\n",
        "\n",
        "# Los parámetros 'min' y 'max' filtran los valores que puede tomar\n",
        "# cada subpixel en la imagen respecto a un máximo (gamma)"
      ],
      "metadata": {
        "colab": {
          "base_uri": "https://localhost:8080/",
          "height": 17
        },
        "id": "temx5Ir42xb5",
        "outputId": "0817175e-6590-45a6-e794-364b9d78944a"
      },
      "execution_count": null,
      "outputs": [
        {
          "output_type": "display_data",
          "data": {
            "text/plain": [
              "<IPython.core.display.HTML object>"
            ],
            "text/html": [
              "\n",
              "            <style>\n",
              "                .geemap-dark {\n",
              "                    --jp-widgets-color: white;\n",
              "                    --jp-widgets-label-color: white;\n",
              "                    --jp-ui-font-color1: white;\n",
              "                    --jp-layout-color2: #454545;\n",
              "                    background-color: #383838;\n",
              "                }\n",
              "                    \n",
              "                .geemap-dark .jupyter-button {\n",
              "                    --jp-layout-color3: #383838;\n",
              "                }\n",
              "                \n",
              "                .geemap-colab {\n",
              "                    background-color: var(--colab-primary-surface-color, white);\n",
              "                }\n",
              "                    \n",
              "                .geemap-colab .jupyter-button {\n",
              "                    --jp-layout-color3: var(--colab-primary-surface-color, white);\n",
              "                }\n",
              "            </style>\n",
              "            "
            ]
          },
          "metadata": {}
        }
      ]
    },
    {
      "cell_type": "markdown",
      "source": [
        "Construimos el mapa con la banda RGB *fake* y le ponemos la última máscara que construimos para poder comparar resultados"
      ],
      "metadata": {
        "id": "svbTnXzUAFYs"
      }
    },
    {
      "cell_type": "code",
      "source": [
        "# Creamos el mapa con una capa true color de fondo\n",
        "map6 = geemap.Map()\n",
        "map6.set_center(-98.623038, 19.022685, 8)\n",
        "map6.addLayer(image, rgb_params, 'Imagen RGB')\n",
        "map6.addLayer(image, rgb_fake, 'Imagen RGB fake')\n",
        "\n",
        "# Añadimos la capa con la mask\n",
        "palette = ['red']\n",
        "map6.addLayer(imgmasked2_ext1, {'palette': palette2}, 'Selfmask Meth2 Extendida') # Mask2 extendida\n",
        "map6.addLayer(shapef, None, 'Outline')\n",
        "\n",
        "map6"
      ],
      "metadata": {
        "colab": {
          "base_uri": "https://localhost:8080/",
          "height": 621,
          "referenced_widgets": [
            "e0cd8c16aafe4a86ac633fa2884970a0",
            "fad73ecc1d3047b2905de2d2bd3f47cb",
            "e51a140a81ba4432814928f41cc79292",
            "1444beb09ffa458588b62cd1c6255452",
            "edc21b2e490d43aea039ac7af88afc4a",
            "cd32141854db4145a6be27f2a42aadae",
            "9af6a4bd3f184dcf848845bb084e58be",
            "09d631981391406f8dcdc5b4592b260e",
            "2ff13943a32f48f3928411a7492ece77",
            "9050cbee1aa04242b9f378ef09ecc72d",
            "0a4d3171716a405fb27ad696cde44321",
            "e163ece5103c44c5a6ab932ef60d7b41",
            "5e16c67b9ebe40d7b9804a710ed92019",
            "6b65928efcc1490c9b8c5db33d6c7c02",
            "3fd2c22f6b1c4add933019cf0337acb3",
            "e672d5116b78479e87dc113d1a611b9f",
            "81a4f706c1594aff983e32345e92f8a8",
            "afb2e80b84e045d5a5d99822f43848f5",
            "7c35e733a8224e5fa2d6deb24619c973",
            "72b1e03536a54468824b7547a522ad31",
            "3c533e364bda47e2a76f1632d7b081e5",
            "af5d31b37ab24e11911e60c776e1dffe",
            "60570c7b2014436ea6d25813c5bf490c",
            "4e45b4851a094f8899445b919b3cb572",
            "ac8747e2cb2c4665aec645509592c935",
            "ae3fdc2056714ba5b691db557555ebcb",
            "cc2b7afd74d84d079341760fab1d0657",
            "4165389dc7e5432eb0727d49d3de6303"
          ]
        },
        "id": "hA0vO4c-oq-4",
        "outputId": "cac3d05f-d016-4195-cff4-70922d51caff"
      },
      "execution_count": null,
      "outputs": [
        {
          "output_type": "display_data",
          "data": {
            "text/plain": [
              "<IPython.core.display.HTML object>"
            ],
            "text/html": [
              "\n",
              "            <style>\n",
              "                .geemap-dark {\n",
              "                    --jp-widgets-color: white;\n",
              "                    --jp-widgets-label-color: white;\n",
              "                    --jp-ui-font-color1: white;\n",
              "                    --jp-layout-color2: #454545;\n",
              "                    background-color: #383838;\n",
              "                }\n",
              "                    \n",
              "                .geemap-dark .jupyter-button {\n",
              "                    --jp-layout-color3: #383838;\n",
              "                }\n",
              "                \n",
              "                .geemap-colab {\n",
              "                    background-color: var(--colab-primary-surface-color, white);\n",
              "                }\n",
              "                    \n",
              "                .geemap-colab .jupyter-button {\n",
              "                    --jp-layout-color3: var(--colab-primary-surface-color, white);\n",
              "                }\n",
              "            </style>\n",
              "            "
            ]
          },
          "metadata": {}
        },
        {
          "output_type": "display_data",
          "data": {
            "text/plain": [
              "Map(center=[19.022685, -98.623038], controls=(WidgetControl(options=['position', 'transparent_bg'], widget=Sea…"
            ],
            "application/vnd.jupyter.widget-view+json": {
              "version_major": 2,
              "version_minor": 0,
              "model_id": "e0cd8c16aafe4a86ac633fa2884970a0"
            }
          },
          "metadata": {
            "application/vnd.jupyter.widget-view+json": {
              "colab": {
                "custom_widget_manager": {
                  "url": "https://ssl.gstatic.com/colaboratory-static/widgets/colab-cdn-widget-manager/b3e629b1971e1542/manager.min.js"
                }
              }
            }
          }
        }
      ]
    },
    {
      "cell_type": "markdown",
      "source": [
        "---\n",
        "---\n",
        "## **Animación**\n",
        "---\n",
        "---"
      ],
      "metadata": {
        "id": "d1xTqIX7sFdM"
      }
    },
    {
      "cell_type": "markdown",
      "source": [
        "En esta sección aplicaremos el algoritmo a una colección de imágenes que abarcará aproximadamente 4hrs de tiempo real.\n",
        "\n",
        "\\\n",
        "\n",
        "Construimos nuestra colección como:"
      ],
      "metadata": {
        "id": "OPHiHzZ8sRFh"
      }
    },
    {
      "cell_type": "code",
      "source": [
        "# Filtramos la colección de GOES16 por fecha y hora\n",
        "img_col = image_collection.filterDate('2023-05-21T14:00:00', '2023-05-21T19:40:00')"
      ],
      "metadata": {
        "colab": {
          "base_uri": "https://localhost:8080/",
          "height": 17
        },
        "id": "zsR2eJg-m-pg",
        "outputId": "643aeeb0-3ca4-43f5-956a-45392bae94fe"
      },
      "execution_count": null,
      "outputs": [
        {
          "output_type": "display_data",
          "data": {
            "text/plain": [
              "<IPython.core.display.HTML object>"
            ],
            "text/html": [
              "\n",
              "            <style>\n",
              "                .geemap-dark {\n",
              "                    --jp-widgets-color: white;\n",
              "                    --jp-widgets-label-color: white;\n",
              "                    --jp-ui-font-color1: white;\n",
              "                    --jp-layout-color2: #454545;\n",
              "                    background-color: #383838;\n",
              "                }\n",
              "                    \n",
              "                .geemap-dark .jupyter-button {\n",
              "                    --jp-layout-color3: #383838;\n",
              "                }\n",
              "                \n",
              "                .geemap-colab {\n",
              "                    background-color: var(--colab-primary-surface-color, white);\n",
              "                }\n",
              "                    \n",
              "                .geemap-colab .jupyter-button {\n",
              "                    --jp-layout-color3: var(--colab-primary-surface-color, white);\n",
              "                }\n",
              "            </style>\n",
              "            "
            ]
          },
          "metadata": {}
        }
      ]
    },
    {
      "cell_type": "markdown",
      "source": [
        "### **Funciones sobre una colección**"
      ],
      "metadata": {
        "id": "MOdQwrBur07y"
      }
    },
    {
      "cell_type": "markdown",
      "source": [
        "Para aplicar una función sobre todas las imágenes de la colección, debemos construirlas como funciones de Python del tipo:\n",
        "```\n",
        "def function(image):\n",
        "  new_img = image.algoritmo()\n",
        "  return new_img\n",
        "```\n",
        "Y para aplicarlas, usamos la función *ee.ImageCollection.map(function)*. La primera función (*applyScaleAndOffset*) ya la tenemos, que nos aplica correcciones de escalamiento y de offset.\n",
        "\n",
        "Por lo que:\n",
        "\n"
      ],
      "metadata": {
        "id": "TXlmV58sr4tt"
      }
    },
    {
      "cell_type": "code",
      "source": [
        "# Aplica la función applyScaleAndOffset a toda la colección\n",
        "img_col = img_col.map(applyScaleAndOffset)"
      ],
      "metadata": {
        "id": "44Ojg_ips_lm",
        "colab": {
          "base_uri": "https://localhost:8080/",
          "height": 17
        },
        "outputId": "efee1fb6-a50f-4733-8406-a7bda706e01b"
      },
      "execution_count": null,
      "outputs": [
        {
          "output_type": "display_data",
          "data": {
            "text/plain": [
              "<IPython.core.display.HTML object>"
            ],
            "text/html": [
              "\n",
              "            <style>\n",
              "                .geemap-dark {\n",
              "                    --jp-widgets-color: white;\n",
              "                    --jp-widgets-label-color: white;\n",
              "                    --jp-ui-font-color1: white;\n",
              "                    --jp-layout-color2: #454545;\n",
              "                    background-color: #383838;\n",
              "                }\n",
              "                    \n",
              "                .geemap-dark .jupyter-button {\n",
              "                    --jp-layout-color3: #383838;\n",
              "                }\n",
              "                \n",
              "                .geemap-colab {\n",
              "                    background-color: var(--colab-primary-surface-color, white);\n",
              "                }\n",
              "                    \n",
              "                .geemap-colab .jupyter-button {\n",
              "                    --jp-layout-color3: var(--colab-primary-surface-color, white);\n",
              "                }\n",
              "            </style>\n",
              "            "
            ]
          },
          "metadata": {}
        }
      ]
    },
    {
      "cell_type": "markdown",
      "source": [
        "### **Imágenes RGB**"
      ],
      "metadata": {
        "id": "7nhUmt-MNQUE"
      }
    },
    {
      "cell_type": "markdown",
      "source": [
        "Ya que sabemos que el *nuevo* RGB nos permite identificar mejor la nube de ceniza volcánica, construiremos 2 colecciones rgb, una normal y la optimizada para poder compararlas. Estas serían de la forma:"
      ],
      "metadata": {
        "id": "hlc3ifFXKfY6"
      }
    },
    {
      "cell_type": "code",
      "source": [
        "Longitude: -98.45397949218751\n",
        "Latitude: 19.606368915776006\n",
        "text_coords = [-98.45397949218751, 19.606368915776006] #[long, lat]\n",
        "# Función que genera imagen RGB\n",
        "def IMGRGB(img):\n",
        "  # Asignamos parámetros de la imagen\n",
        "\n",
        "  img_rgb = img.visualize(\n",
        "      bands = [RED, GREEN, BLUE], # Los definimos desde antes\n",
        "      min = 0,\n",
        "      max = 0.6,\n",
        "      gamma = 1.3\n",
        "  )\n",
        "  return  img_rgb.blend(shapef)\n",
        "\n",
        "# Colección RGB normal\n",
        "rgb_col = img_col.map(IMGRGB)"
      ],
      "metadata": {
        "colab": {
          "base_uri": "https://localhost:8080/",
          "height": 17
        },
        "id": "GIojf2ZELXuz",
        "outputId": "cd1b97bc-a2b9-4a19-d4b1-b208bf5a606b"
      },
      "execution_count": null,
      "outputs": [
        {
          "output_type": "display_data",
          "data": {
            "text/plain": [
              "<IPython.core.display.HTML object>"
            ],
            "text/html": [
              "\n",
              "            <style>\n",
              "                .geemap-dark {\n",
              "                    --jp-widgets-color: white;\n",
              "                    --jp-widgets-label-color: white;\n",
              "                    --jp-ui-font-color1: white;\n",
              "                    --jp-layout-color2: #454545;\n",
              "                    background-color: #383838;\n",
              "                }\n",
              "                    \n",
              "                .geemap-dark .jupyter-button {\n",
              "                    --jp-layout-color3: #383838;\n",
              "                }\n",
              "                \n",
              "                .geemap-colab {\n",
              "                    background-color: var(--colab-primary-surface-color, white);\n",
              "                }\n",
              "                    \n",
              "                .geemap-colab .jupyter-button {\n",
              "                    --jp-layout-color3: var(--colab-primary-surface-color, white);\n",
              "                }\n",
              "            </style>\n",
              "            "
            ]
          },
          "metadata": {}
        }
      ]
    },
    {
      "cell_type": "markdown",
      "source": [
        "Y para el RGB modificado tenemos:"
      ],
      "metadata": {
        "id": "y3zawJGLMYtt"
      }
    },
    {
      "cell_type": "code",
      "source": [
        "# Función que añade las bandas RGB modificadas a la colección de imágenes\n",
        "def NewRGB(img):\n",
        "  NRED = img.select('CMI_C15').subtract(img.select('CMI_C13')).rename('NRED')\n",
        "  NGREEN  = img.select('CMI_C14').subtract(img.select('CMI_C11')).rename('NGREEN')\n",
        "  NBLUE = img.select('CMI_C13').rename('NBLUE')\n",
        "  new_bands = ee.Image([NRED, NGREEN, NBLUE])\n",
        "  return img.addBands(new_bands)\n",
        "\n",
        "# Aplicamos la función de las nuevas bandas\n",
        "newimg_col = img_col.map(NewRGB)\n",
        "\n",
        "\n",
        "# Generamos la colección de imágenes RGB, con la mismas propiedades de la col. original\n",
        "def NewRGBCol(img):\n",
        "  newrgbimg = img.visualize(\n",
        "      bands = ['NRED', 'NGREEN', 'NBLUE'],\n",
        "      min = [-6.7, -6, 243.6],\n",
        "      max = [2.6, 6.3, 302.4],      # Parámetros paraa que resalte lo que queremos\n",
        "      gamma = [1,1,1]\n",
        "      )\n",
        "  return newrgbimg.blend(shapef)\n",
        "\n",
        "# Aplicamos la función para sólo tener la col. de imgs RGB\n",
        "newrgb_col = newimg_col.map(NewRGBCol)"
      ],
      "metadata": {
        "colab": {
          "base_uri": "https://localhost:8080/",
          "height": 17
        },
        "id": "HHYpRyTlMbbp",
        "outputId": "0402a013-ba2a-481f-b281-9d24600c5fcd"
      },
      "execution_count": null,
      "outputs": [
        {
          "output_type": "display_data",
          "data": {
            "text/plain": [
              "<IPython.core.display.HTML object>"
            ],
            "text/html": [
              "\n",
              "            <style>\n",
              "                .geemap-dark {\n",
              "                    --jp-widgets-color: white;\n",
              "                    --jp-widgets-label-color: white;\n",
              "                    --jp-ui-font-color1: white;\n",
              "                    --jp-layout-color2: #454545;\n",
              "                    background-color: #383838;\n",
              "                }\n",
              "                    \n",
              "                .geemap-dark .jupyter-button {\n",
              "                    --jp-layout-color3: #383838;\n",
              "                }\n",
              "                \n",
              "                .geemap-colab {\n",
              "                    background-color: var(--colab-primary-surface-color, white);\n",
              "                }\n",
              "                    \n",
              "                .geemap-colab .jupyter-button {\n",
              "                    --jp-layout-color3: var(--colab-primary-surface-color, white);\n",
              "                }\n",
              "            </style>\n",
              "            "
            ]
          },
          "metadata": {}
        }
      ]
    },
    {
      "cell_type": "markdown",
      "source": [
        "### **Imágenes RGB + MASK**"
      ],
      "metadata": {
        "id": "0-Jc8z54NX47"
      }
    },
    {
      "cell_type": "markdown",
      "source": [
        "Si queremos conseguir una imagen de la máscara y que en el fondo se vea la imagen RGB, debemos aplicar todas estas condiciones dentro de una misma función para que se pueda hacer una unión **1-1**."
      ],
      "metadata": {
        "id": "khhW8AHbNgsr"
      }
    },
    {
      "cell_type": "markdown",
      "source": [
        "#### **Método 1**"
      ],
      "metadata": {
        "id": "ADlkU3VvXUs-"
      }
    },
    {
      "cell_type": "code",
      "source": [
        "# Función de RGB_mod + MASK 1\n",
        "def RGBMASK1(img):\n",
        "  # Asignamos parámetros a la img rgb modificada\n",
        "  rgbimg = img.visualize(\n",
        "      bands = ['NRED', 'NGREEN', 'NBLUE'],\n",
        "      min = [-6.7, -6, 243.6],\n",
        "      max = [2.6, 6.3, 302.4],\n",
        "      gamma = [1,1,1]\n",
        "      )\n",
        "  # Conseguimos los pixeles de la máscara\n",
        "  methmask1 = img.expression(\n",
        "      \"(BT10-BT12 < 0) ? 1 \"\n",
        "      \": 0\", {\n",
        "         'BT10' : img.select('CMI_C13'),\n",
        "         'BT12' : img.select('CMI_C15')\n",
        "     }).selfMask()\n",
        "  # Asignamos parámetros a la máscara\n",
        "  mask1 = methmask1.visualize(\n",
        "      palette = ['red'],\n",
        "      opacity = 0.5\n",
        "  )\n",
        "  return rgbimg.blend(mask1).set('system:time_start', img.get('system:time_start')).blend(shapef)\n",
        "\n",
        "# Aplicamos la función para conseguir la imagen con rgb+msk1\n",
        "rgbmask1_col = newimg_col.map(RGBMASK1)"
      ],
      "metadata": {
        "colab": {
          "base_uri": "https://localhost:8080/",
          "height": 17
        },
        "id": "9A9LbR9XN5Q1",
        "outputId": "a4839804-b668-4608-bd1f-f1cd50717c08"
      },
      "execution_count": null,
      "outputs": [
        {
          "output_type": "display_data",
          "data": {
            "text/plain": [
              "<IPython.core.display.HTML object>"
            ],
            "text/html": [
              "\n",
              "            <style>\n",
              "                .geemap-dark {\n",
              "                    --jp-widgets-color: white;\n",
              "                    --jp-widgets-label-color: white;\n",
              "                    --jp-ui-font-color1: white;\n",
              "                    --jp-layout-color2: #454545;\n",
              "                    background-color: #383838;\n",
              "                }\n",
              "                    \n",
              "                .geemap-dark .jupyter-button {\n",
              "                    --jp-layout-color3: #383838;\n",
              "                }\n",
              "                \n",
              "                .geemap-colab {\n",
              "                    background-color: var(--colab-primary-surface-color, white);\n",
              "                }\n",
              "                    \n",
              "                .geemap-colab .jupyter-button {\n",
              "                    --jp-layout-color3: var(--colab-primary-surface-color, white);\n",
              "                }\n",
              "            </style>\n",
              "            "
            ]
          },
          "metadata": {}
        }
      ]
    },
    {
      "cell_type": "markdown",
      "source": [
        "#### **Método 2**"
      ],
      "metadata": {
        "id": "XK6PHNp9Xj1-"
      }
    },
    {
      "cell_type": "code",
      "source": [
        "# Función de RGB_mod + MASK 1\n",
        "def RGBMASK2(img):\n",
        "  # Asignamos parámetros a la img rgb modificada\n",
        "  rgbimg = img.visualize(\n",
        "      bands = ['NRED', 'NGREEN', 'NBLUE'],\n",
        "      min = [-6.7, -6, 243.6],\n",
        "      max = [2.6, 6.3, 302.4],\n",
        "      gamma = [1,1,1]\n",
        "      )\n",
        "  # Conseguimos los pixeles de la máscara\n",
        "  methmask2 = img.expression(\n",
        "      \"((BT10-BT12 < 0) && (BT85-BT10 > 0)) ? 1 \"\n",
        "      \": 0\", {\n",
        "         'BT85' : img.select('CMI_C11'),\n",
        "         'BT10' : img.select('CMI_C13'),\n",
        "         'BT12' : img.select('CMI_C15')\n",
        "     }).selfMask()\n",
        "  # Asignamos parámetros a la máscara\n",
        "  mask2 = methmask2.visualize(\n",
        "      palette = ['red'],\n",
        "      opacity = 0.5\n",
        "  )\n",
        "  return rgbimg.blend(mask2).set('system:time_start', img.get('system:time_start')).blend(shapef)\n",
        "\n",
        "# Aplicamos la función para conseguir la imagen con rgb+msk1\n",
        "rgbmask2_col = newimg_col.map(RGBMASK2)"
      ],
      "metadata": {
        "colab": {
          "base_uri": "https://localhost:8080/",
          "height": 17
        },
        "id": "_cigAa30XmBt",
        "outputId": "2bb653dc-e264-4ef3-c23e-2df986d8fdda"
      },
      "execution_count": null,
      "outputs": [
        {
          "output_type": "display_data",
          "data": {
            "text/plain": [
              "<IPython.core.display.HTML object>"
            ],
            "text/html": [
              "\n",
              "            <style>\n",
              "                .geemap-dark {\n",
              "                    --jp-widgets-color: white;\n",
              "                    --jp-widgets-label-color: white;\n",
              "                    --jp-ui-font-color1: white;\n",
              "                    --jp-layout-color2: #454545;\n",
              "                    background-color: #383838;\n",
              "                }\n",
              "                    \n",
              "                .geemap-dark .jupyter-button {\n",
              "                    --jp-layout-color3: #383838;\n",
              "                }\n",
              "                \n",
              "                .geemap-colab {\n",
              "                    background-color: var(--colab-primary-surface-color, white);\n",
              "                }\n",
              "                    \n",
              "                .geemap-colab .jupyter-button {\n",
              "                    --jp-layout-color3: var(--colab-primary-surface-color, white);\n",
              "                }\n",
              "            </style>\n",
              "            "
            ]
          },
          "metadata": {}
        }
      ]
    },
    {
      "cell_type": "markdown",
      "source": [
        "#### **Método 2 modificado**"
      ],
      "metadata": {
        "id": "6tKqhsPNYM6C"
      }
    },
    {
      "cell_type": "code",
      "source": [
        "# Función de RGB_mod + MASK 1\n",
        "def RGBMASK2M(img):\n",
        "  # Asignamos parámetros a la img rgb modificada\n",
        "  rgbimg = img.visualize(\n",
        "      bands = ['NRED', 'NGREEN', 'NBLUE'],\n",
        "      min = [-6.7, -6, 243.6],\n",
        "      max = [2.6, 6.3, 302.4],\n",
        "      gamma = [1,1,1]\n",
        "      )\n",
        "  # Conseguimos la máscara\n",
        "  methmask2 = img.expression(\n",
        "      \"((BT10-BT12 < 0) && (BT85-BT10 > 0)) ? 1 \"\n",
        "      \": 0\", {\n",
        "         'BT85' : img.select('CMI_C11'),\n",
        "         'BT10' : img.select('CMI_C13'),\n",
        "         'BT12' : img.select('CMI_C15')\n",
        "     })\n",
        "  # Expandimos la máscara\n",
        "  mask2_ext = methmask2.reduceNeighborhood(\n",
        "      reducer = ee.Reducer.anyNonZero(),\n",
        "      kernel = ee.Kernel.square(4000, units='meters') # 1pixel = 2000meters\n",
        "  )\n",
        "  # Recortamos la imagen\n",
        "  img_ext = img.updateMask(mask2_ext)\n",
        "  # Conseguimos los pixeles de la nueva máscara\n",
        "  methmask2m = img_ext.expression(\n",
        "      \"((BT10-BT12 < 0) && (BT85-BT10 > 0)) ? 1 \" # Cond estrictas\n",
        "      \": ((0 < BT10-BT12 < 1) && (0 > BT85-BT10 > -1)) ? 2 \" # Cond tenues\n",
        "      \": 0\", {\n",
        "          'BT85' : img_ext.select('CMI_C11'),\n",
        "          'BT10' : img_ext.select('CMI_C13'),\n",
        "          'BT12' : img_ext.select('CMI_C15')\n",
        "      }).selfMask()\n",
        "  # Asignamos parámetros a la máscara\n",
        "  mask2m = methmask2m.visualize(\n",
        "      palette = ['black', 'red', 'orange'],\n",
        "      opacity = 0.5\n",
        "  )\n",
        "  return rgbimg.blend(mask2m).set('system:time_start', img.get('system:time_start')).blend(shapef)\n",
        "\n",
        "# Aplicamos la función para conseguir la imagen con rgb+msk1\n",
        "rgbmask2m_col = newimg_col.map(RGBMASK2M)"
      ],
      "metadata": {
        "colab": {
          "base_uri": "https://localhost:8080/",
          "height": 17
        },
        "id": "wWVnVPUcYPSz",
        "outputId": "4560bcd8-60fe-47ff-e280-5410987f92a7"
      },
      "execution_count": null,
      "outputs": [
        {
          "output_type": "display_data",
          "data": {
            "text/plain": [
              "<IPython.core.display.HTML object>"
            ],
            "text/html": [
              "\n",
              "            <style>\n",
              "                .geemap-dark {\n",
              "                    --jp-widgets-color: white;\n",
              "                    --jp-widgets-label-color: white;\n",
              "                    --jp-ui-font-color1: white;\n",
              "                    --jp-layout-color2: #454545;\n",
              "                    background-color: #383838;\n",
              "                }\n",
              "                    \n",
              "                .geemap-dark .jupyter-button {\n",
              "                    --jp-layout-color3: #383838;\n",
              "                }\n",
              "                \n",
              "                .geemap-colab {\n",
              "                    background-color: var(--colab-primary-surface-color, white);\n",
              "                }\n",
              "                    \n",
              "                .geemap-colab .jupyter-button {\n",
              "                    --jp-layout-color3: var(--colab-primary-surface-color, white);\n",
              "                }\n",
              "            </style>\n",
              "            "
            ]
          },
          "metadata": {}
        }
      ]
    },
    {
      "cell_type": "markdown",
      "source": [
        "### **Generando el GIF**"
      ],
      "metadata": {
        "id": "kZdBxJL2QLot"
      }
    },
    {
      "cell_type": "markdown",
      "source": [
        "Conseguimos coordenadas de las esquinas opuestas que comprenden nuestra *box* del GIF:\n",
        "\n",
        "\n",
        "* Longitude: -99.98657226562501\n",
        "Latitude: 20.179723502765153\n",
        "\n",
        "* Longitude: -96.7236328125\n",
        "Latitude: 18.312810846425457\n",
        "\n",
        "\\\n",
        "Longitude: -96.54785156250001\n",
        "Latitude: 20.179723502765153\n",
        "\n",
        "* Longitude: -98.80004882812501\n",
        "Latitude: 18.838714379258032\n",
        "\n",
        "* Longitude: -96.83898925781251\n",
        "Latitude: 20.195190636474504"
      ],
      "metadata": {
        "id": "xm4-vcu17a0M"
      }
    },
    {
      "cell_type": "code",
      "source": [
        "# Definimos nuestra Area-Of-Interest\n",
        "aoi = ee.Geometry.BBox(-98.80004882812501, 18.838714379258032,\n",
        "                       -96.54785156250001, 20.179723502765153)  # (west, south, east, north)\n",
        "\n",
        "# Le damos parámetros al video\n",
        "videoArgs = {\n",
        "  'dimensions': 768,\n",
        "  'region': aoi,\n",
        "  'framesPerSecond': 3,\n",
        "  'crs': 'EPSG:3857',\n",
        "  }"
      ],
      "metadata": {
        "id": "VUgBxV8f97SS",
        "colab": {
          "base_uri": "https://localhost:8080/",
          "height": 17
        },
        "outputId": "f2e90213-d8af-431d-a9f1-942e28d2a542"
      },
      "execution_count": null,
      "outputs": [
        {
          "output_type": "display_data",
          "data": {
            "text/plain": [
              "<IPython.core.display.HTML object>"
            ],
            "text/html": [
              "\n",
              "            <style>\n",
              "                .geemap-dark {\n",
              "                    --jp-widgets-color: white;\n",
              "                    --jp-widgets-label-color: white;\n",
              "                    --jp-ui-font-color1: white;\n",
              "                    --jp-layout-color2: #454545;\n",
              "                    background-color: #383838;\n",
              "                }\n",
              "                    \n",
              "                .geemap-dark .jupyter-button {\n",
              "                    --jp-layout-color3: #383838;\n",
              "                }\n",
              "                \n",
              "                .geemap-colab {\n",
              "                    background-color: var(--colab-primary-surface-color, white);\n",
              "                }\n",
              "                    \n",
              "                .geemap-colab .jupyter-button {\n",
              "                    --jp-layout-color3: var(--colab-primary-surface-color, white);\n",
              "                }\n",
              "            </style>\n",
              "            "
            ]
          },
          "metadata": {}
        }
      ]
    },
    {
      "cell_type": "markdown",
      "source": [
        "Mandamos imprimir una URL que nos lleva al video/GIF generado"
      ],
      "metadata": {
        "id": "pI87eWWCeNzG"
      }
    },
    {
      "cell_type": "code",
      "source": [
        "def timelist(img):\n",
        "  #return ee.Date(img).format('H:m', 'America/Mexico_City')\n",
        "  return ee.Feature(None, {'time': img.date().format('H:m', 'America/Mexico_City')})\n",
        "\n",
        "\n",
        "times = img_col.map(timelist).aggregate_array('time').getInfo()\n"
      ],
      "metadata": {
        "colab": {
          "base_uri": "https://localhost:8080/",
          "height": 17
        },
        "id": "l_skHPXag6Te",
        "outputId": "c954b23f-f4dc-4e98-f22d-bb79f4507e5f"
      },
      "execution_count": null,
      "outputs": [
        {
          "output_type": "display_data",
          "data": {
            "text/plain": [
              "<IPython.core.display.HTML object>"
            ],
            "text/html": [
              "\n",
              "            <style>\n",
              "                .geemap-dark {\n",
              "                    --jp-widgets-color: white;\n",
              "                    --jp-widgets-label-color: white;\n",
              "                    --jp-ui-font-color1: white;\n",
              "                    --jp-layout-color2: #454545;\n",
              "                    background-color: #383838;\n",
              "                }\n",
              "                    \n",
              "                .geemap-dark .jupyter-button {\n",
              "                    --jp-layout-color3: #383838;\n",
              "                }\n",
              "                \n",
              "                .geemap-colab {\n",
              "                    background-color: var(--colab-primary-surface-color, white);\n",
              "                }\n",
              "                    \n",
              "                .geemap-colab .jupyter-button {\n",
              "                    --jp-layout-color3: var(--colab-primary-surface-color, white);\n",
              "                }\n",
              "            </style>\n",
              "            "
            ]
          },
          "metadata": {}
        }
      ]
    },
    {
      "cell_type": "code",
      "source": [
        "saved_gif = 'goes.gif'\n",
        "geemap.download_ee_video(newrgb_col, videoArgs, saved_gif)\n",
        "#geemap.show_image(saved_gif)"
      ],
      "metadata": {
        "colab": {
          "base_uri": "https://localhost:8080/",
          "height": 105
        },
        "id": "ij7ZeX6GFEuV",
        "outputId": "6ad2a92a-a3c6-4879-86c9-f25db5ce3969"
      },
      "execution_count": null,
      "outputs": [
        {
          "output_type": "display_data",
          "data": {
            "text/plain": [
              "<IPython.core.display.HTML object>"
            ],
            "text/html": [
              "\n",
              "            <style>\n",
              "                .geemap-dark {\n",
              "                    --jp-widgets-color: white;\n",
              "                    --jp-widgets-label-color: white;\n",
              "                    --jp-ui-font-color1: white;\n",
              "                    --jp-layout-color2: #454545;\n",
              "                    background-color: #383838;\n",
              "                }\n",
              "                    \n",
              "                .geemap-dark .jupyter-button {\n",
              "                    --jp-layout-color3: #383838;\n",
              "                }\n",
              "                \n",
              "                .geemap-colab {\n",
              "                    background-color: var(--colab-primary-surface-color, white);\n",
              "                }\n",
              "                    \n",
              "                .geemap-colab .jupyter-button {\n",
              "                    --jp-layout-color3: var(--colab-primary-surface-color, white);\n",
              "                }\n",
              "            </style>\n",
              "            "
            ]
          },
          "metadata": {}
        },
        {
          "output_type": "stream",
          "name": "stdout",
          "text": [
            "Generating URL...\n",
            "Downloading GIF image from https://earthengine.googleapis.com/v1/projects/earthengine-legacy/videoThumbnails/81c7c4d33007630f94f755649f03c470-3a291a56c6a3fbd83207c1cd1bc70d81:getPixels\n",
            "Please wait ...\n",
            "The GIF image has been saved to: /content/goes.gif\n"
          ]
        }
      ]
    },
    {
      "cell_type": "code",
      "source": [
        "text = times\n",
        "out_gif = 'goesrgbm_time.gif'\n",
        "geemap.add_text_to_gif(\n",
        "    saved_gif,\n",
        "    out_gif,\n",
        "    xy=('3%', '5%'),\n",
        "    text_sequence=text,\n",
        "    font_size=30,\n",
        "    font_color='#ffffff',\n",
        ")\n",
        "geemap.show_image(out_gif)"
      ],
      "metadata": {
        "id": "hWpTzk-4HkFx",
        "colab": {
          "base_uri": "https://localhost:8080/",
          "height": 511,
          "referenced_widgets": [
            "d936bb56e576419caae6da49fb41e10e",
            "9c6a2d400c8e42acbcd28ec436eb6f18",
            "1164c78ef6fd4e549b21d8b688eaee8c",
            "1c527d6b08bb43d389f7d93084a3acde"
          ]
        },
        "outputId": "9fef8400-23fb-42e8-ac67-204c94ea0252"
      },
      "execution_count": null,
      "outputs": [
        {
          "output_type": "display_data",
          "data": {
            "text/plain": [
              "<IPython.core.display.HTML object>"
            ],
            "text/html": [
              "\n",
              "            <style>\n",
              "                .geemap-dark {\n",
              "                    --jp-widgets-color: white;\n",
              "                    --jp-widgets-label-color: white;\n",
              "                    --jp-ui-font-color1: white;\n",
              "                    --jp-layout-color2: #454545;\n",
              "                    background-color: #383838;\n",
              "                }\n",
              "                    \n",
              "                .geemap-dark .jupyter-button {\n",
              "                    --jp-layout-color3: #383838;\n",
              "                }\n",
              "                \n",
              "                .geemap-colab {\n",
              "                    background-color: var(--colab-primary-surface-color, white);\n",
              "                }\n",
              "                    \n",
              "                .geemap-colab .jupyter-button {\n",
              "                    --jp-layout-color3: var(--colab-primary-surface-color, white);\n",
              "                }\n",
              "            </style>\n",
              "            "
            ]
          },
          "metadata": {}
        },
        {
          "output_type": "display_data",
          "data": {
            "text/plain": [
              "Output()"
            ],
            "application/vnd.jupyter.widget-view+json": {
              "version_major": 2,
              "version_minor": 0,
              "model_id": "d936bb56e576419caae6da49fb41e10e"
            }
          },
          "metadata": {
            "application/vnd.jupyter.widget-view+json": {
              "colab": {
                "custom_widget_manager": {
                  "url": "https://ssl.gstatic.com/colaboratory-static/widgets/colab-cdn-widget-manager/b3e629b1971e1542/manager.min.js"
                }
              }
            }
          }
        }
      ]
    },
    {
      "cell_type": "markdown",
      "source": [
        "### **Generando thumbnails**"
      ],
      "metadata": {
        "id": "eEwKUpcsNfQW"
      }
    },
    {
      "cell_type": "markdown",
      "source": [
        "Aquí, podemos exportar los mapas de la primera sección, donde se vió el efecto de los algoritmos para una sola imagen. Utilizamos la funciones que se aplican a las colecciones de imágenes porque estas nos formatean la imagen con las layers que queremos, lo que facilita el uso de la función *ee.Image.getThumbURL()*.\n",
        "\n",
        "\\\n",
        "\n",
        "Aplicamos las funciones a nuestra imagen, tomando la misma región de interés que la que usamos en la animación."
      ],
      "metadata": {
        "id": "yHx3F84-Q68v"
      }
    },
    {
      "cell_type": "code",
      "source": [
        "# Generamos nuestras imagenes\n",
        "rgb_thumb = IMGRGB(image)\n",
        "newrgb_thumb = NewRGBCol(image)\n",
        "mask1_thumb = RGBMASK1(image)\n",
        "mask2_thumb = RGBMASK2(image)\n",
        "mask2m_thumb = RGBMASK2M(image)\n",
        "\n",
        "# Convertimos las ee.Image en imágenes PNG\n",
        "print(rgb_thumb.getThumbURL({'region': aoi, 'scale': 200, 'format': 'png'}))"
      ],
      "metadata": {
        "colab": {
          "base_uri": "https://localhost:8080/",
          "height": 54
        },
        "id": "tu76uHxvLfSU",
        "outputId": "bdf40fbc-49b4-40b3-bc61-5542da0219db"
      },
      "execution_count": null,
      "outputs": [
        {
          "output_type": "display_data",
          "data": {
            "text/plain": [
              "<IPython.core.display.HTML object>"
            ],
            "text/html": [
              "\n",
              "            <style>\n",
              "                .geemap-dark {\n",
              "                    --jp-widgets-color: white;\n",
              "                    --jp-widgets-label-color: white;\n",
              "                    --jp-ui-font-color1: white;\n",
              "                    --jp-layout-color2: #454545;\n",
              "                    background-color: #383838;\n",
              "                }\n",
              "                    \n",
              "                .geemap-dark .jupyter-button {\n",
              "                    --jp-layout-color3: #383838;\n",
              "                }\n",
              "                \n",
              "                .geemap-colab {\n",
              "                    background-color: var(--colab-primary-surface-color, white);\n",
              "                }\n",
              "                    \n",
              "                .geemap-colab .jupyter-button {\n",
              "                    --jp-layout-color3: var(--colab-primary-surface-color, white);\n",
              "                }\n",
              "            </style>\n",
              "            "
            ]
          },
          "metadata": {}
        },
        {
          "output_type": "stream",
          "name": "stdout",
          "text": [
            "https://earthengine.googleapis.com/v1/projects/earthengine-legacy/thumbnails/ade104cec2f464609d4ec7467a0e1765-23c70967d4937d233dbf3323dfda8539:getPixels\n"
          ]
        }
      ]
    },
    {
      "cell_type": "code",
      "source": [
        "projection = rgb_thumb.select(0).projection().getInfo()\n",
        "projection\n",
        "#crs = projection['crs']\n",
        "crs_transform = projection['transform']"
      ],
      "metadata": {
        "id": "WL6wLc-Ne5bR"
      },
      "execution_count": null,
      "outputs": []
    },
    {
      "cell_type": "code",
      "source": [
        "#geemap.ee_export_image(rgb_thumb, filename=\"rgb.tif\", scale=30, region=aoi)\n",
        "geemap.ee_export_image(\n",
        "    rgb_thumb,\n",
        "    filename=\"rgb.tif\",\n",
        "    crs='EPSG:3857',\n",
        "    crs_transform=crs_transform,\n",
        "    region=aoi,\n",
        ")"
      ],
      "metadata": {
        "colab": {
          "base_uri": "https://localhost:8080/",
          "height": 105
        },
        "id": "Ym76DSVfg3PP",
        "outputId": "e11710b1-6f29-4ac8-e225-6a363919c5fc"
      },
      "execution_count": null,
      "outputs": [
        {
          "output_type": "display_data",
          "data": {
            "text/plain": [
              "<IPython.core.display.HTML object>"
            ],
            "text/html": [
              "\n",
              "            <style>\n",
              "                .geemap-dark {\n",
              "                    --jp-widgets-color: white;\n",
              "                    --jp-widgets-label-color: white;\n",
              "                    --jp-ui-font-color1: white;\n",
              "                    --jp-layout-color2: #454545;\n",
              "                    background-color: #383838;\n",
              "                }\n",
              "                    \n",
              "                .geemap-dark .jupyter-button {\n",
              "                    --jp-layout-color3: #383838;\n",
              "                }\n",
              "                \n",
              "                .geemap-colab {\n",
              "                    background-color: var(--colab-primary-surface-color, white);\n",
              "                }\n",
              "                    \n",
              "                .geemap-colab .jupyter-button {\n",
              "                    --jp-layout-color3: var(--colab-primary-surface-color, white);\n",
              "                }\n",
              "            </style>\n",
              "            "
            ]
          },
          "metadata": {}
        },
        {
          "output_type": "stream",
          "name": "stdout",
          "text": [
            "Generating URL ...\n",
            "Downloading data from https://earthengine.googleapis.com/v1/projects/earthengine-legacy/thumbnails/3bb46aa770351265da67ef52de27dcbd-3c321532aa57fcddc6925812744add1e:getPixels\n",
            "Please wait ...\n",
            "Data downloaded to /content/rgb.tif\n"
          ]
        }
      ]
    }
  ]
}
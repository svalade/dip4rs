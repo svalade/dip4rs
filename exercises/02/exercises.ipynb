{
 "cells": [
  {
   "cell_type": "markdown",
   "metadata": {},
   "source": [
    "<font size=\"5\"><b>Lecture 02: Image Basics (exercises)</b></font>"
   ]
  },
  {
   "cell_type": "markdown",
   "metadata": {},
   "source": [
    "## EX1: open image"
   ]
  },
  {
   "cell_type": "markdown",
   "metadata": {},
   "source": [
    "<div class=\"alert alert-success\">\n",
    "    <b>1.</b> Open the image 'Popocatepetl_HD.jpg' located the subfolder /images, using various libraries: <a href=\"https://scikit-image.org/docs/0.8.0/api/skimage.io.html#skimage.io.imread\" target=\"_blank\">scikit-image</a>, \n",
    "    <a href=\"https://matplotlib.org/3.3.4/api/_as_gen/matplotlib.pyplot.imread.html\" target=\"_blank\">matplotlib</a>, \n",
    "    <a href=\"https://pillow.readthedocs.io/en/stable/reference/Image.html\" target=\"_blank\">PIL</a>, \n",
    "    <a href=\"https://imageio.readthedocs.io/en/stable/userapi.html\" target=\"_blank\">imageio</a>. \n",
    "    <br>\n",
    "    Notice any difference (what variable type is returned)?\n",
    "</div>"
   ]
  },
  {
   "cell_type": "markdown",
   "metadata": {},
   "source": [
    "## EX2: get image charactaristics"
   ]
  },
  {
   "cell_type": "markdown",
   "metadata": {},
   "source": [
    "<div class=\"alert alert-success\">\n",
    "    <b>2.</b> Find image characteristics:<br> \n",
    "    - what data type does it contain?<br> \n",
    "    - how many bands?<br> \n",
    "    - image size width/height? \n",
    "</div>"
   ]
  },
  {
   "cell_type": "markdown",
   "metadata": {},
   "source": [
    "## EX3: plot image"
   ]
  },
  {
   "cell_type": "markdown",
   "metadata": {},
   "source": [
    "<div class=\"alert alert-success\">\n",
    "    <b>3.</b> Plot image using matplotlib. Add axis labels and title.<br>\n",
    "    <u>Hint</u>: use matplotlib's <a href=\"https://matplotlib.org/stable/api/_as_gen/matplotlib.pyplot.imshow.html\" target=\"_blank\">pyplot.imshow()</a> function<br>\n",
    "</div>"
   ]
  },
  {
   "cell_type": "markdown",
   "metadata": {},
   "source": [
    "## EX4: plot individual bands, play with colormaps"
   ]
  },
  {
   "cell_type": "markdown",
   "metadata": {},
   "source": [
    "<div class=\"alert alert-success\">\n",
    "    <b>4.</b> Unpack the Red, Green, and Blue bands from the 3D array, and plot in seperate plots.\n",
    "</div>"
   ]
  },
  {
   "cell_type": "markdown",
   "metadata": {},
   "source": [
    "## EX5: crop image"
   ]
  },
  {
   "cell_type": "markdown",
   "metadata": {},
   "source": [
    "<div class=\"alert alert-success\">\n",
    "    <b>5.</b> Crop image to see only summit and ash plume\n",
    "    (<u>Hint</u>: use numpy array \"slicing\")<br>\n",
    "    Save the resulting image using <a href=\"https://matplotlib.org/stable/api/_as_gen/matplotlib.pyplot.imsave.html\" target=\"_blank\" rel=\"noopener noreferrer\">plt.imsave()</a>\n",
    "</div>"
   ]
  },
  {
   "cell_type": "markdown",
   "metadata": {},
   "source": [
    "<div class=\"alert alert-success\">\n",
    "    <b>5 bis.</b> Get the RGB values of the blue sky (take the top-left pixel in the image) and the grass (bottom-left pixel).<br>\n",
    "</div>"
   ]
  },
  {
   "cell_type": "markdown",
   "metadata": {},
   "source": [
    "## EX6: plot crop box on image"
   ]
  },
  {
   "cell_type": "markdown",
   "metadata": {},
   "source": [
    "<div class=\"alert alert-success\">\n",
    "    <b>6.</b> Plot the cropped region as a red rectangle on full resolution image.<br>\n",
    "    <u>Hint</u>: use matplotlib's <a href=\"https://matplotlib.org/stable/api/patches_api.html\" target=\"_blank\">patches</a> module \n",
    "</div>"
   ]
  },
  {
   "cell_type": "markdown",
   "metadata": {},
   "source": [
    "<div class=\"alert alert-success\">\n",
    "    <b>6-bis.</b> Plot full resolution + crop box in one subplot, and the zoomed image in a second subplot.<br>\n",
    "    <u>Hint</u>: use matplotlib's pyplot.subplots() function\n",
    "</div>"
   ]
  },
  {
   "cell_type": "markdown",
   "metadata": {},
   "source": [
    "## EX7: plot histogram"
   ]
  },
  {
   "cell_type": "markdown",
   "metadata": {},
   "source": [
    "<div class=\"alert alert-success\">\n",
    "    <b>7.</b> Plot histogram of the red, green, and blue bands on a single plot.<br>\n",
    "    <u>Hint</u>: use matplotlib's <a href=\"https://matplotlib.org/stable/api/_as_gen/matplotlib.pyplot.hist.html?highlight=hist#matplotlib.pyplot.hist\" target=\"_blank\">pyplot.hist()</a> function\n",
    "</div>"
   ]
  },
  {
   "cell_type": "markdown",
   "metadata": {},
   "source": [
    "## EX8: convert image to grayscale"
   ]
  },
  {
   "cell_type": "markdown",
   "metadata": {},
   "source": [
    "<div class=\"alert alert-success\">\n",
    "    <b>8.</b> Convert the color image to grayscale and plot.<br>\n",
    "    1. try an equally weighted mean of the R,G,B bands. Is this satisfying?<br>\n",
    "    2. try a weighted mean of the R,G,B bands, using <a href=\"https://matplotlib.org/stable/tutorials/colors/colormaps.html\" target=\"_blank\" rel=\"noopener noreferrer\">luma</a>'s linear combination to approximate the luminance: Y = 0.2126*R + 0.7152*G + .0722 B. Is more satisfying?<br>\n",
    "    3. try using scikit-image  \n",
    "    <a href=\"https://scikit-image.org/docs/dev/api/skimage.color.html\" target=\"_blank\" rel=\"noopener noreferrer\">color.rgb2gray()</a> function<br>\n",
    "    <br>\n",
    "    <b>8 bis.</b> Notice what happens to the data type? Plot a histogram of the grayscale image.\n",
    "</div>"
   ]
  },
  {
   "cell_type": "markdown",
   "metadata": {},
   "source": [
    "## EX09: plot profile"
   ]
  },
  {
   "cell_type": "markdown",
   "metadata": {},
   "source": [
    "<div class=\"alert alert-success\">\n",
    "    <b>09.</b> Plot a profile going through image, horizontally across the ash plume.<br>\n",
    "</div>"
   ]
  },
  {
   "cell_type": "markdown",
   "metadata": {},
   "source": [
    "## EX10: reduce the number of grayscale levels"
   ]
  },
  {
   "cell_type": "markdown",
   "metadata": {},
   "source": [
    "<div class=\"alert alert-success\">\n",
    "    <b>10.</b> Reduce the number of colors used to 4 (=2 bits). Plot the histogram of the resulting image.<br>\n",
    "    <u>Hint</u>: have a float image ranging between 0-1, and multiply by the number of wanted gray levels (remember value=0 counts as 1). Round the resulting image. Convert to range 0-255, and set to uint8 datatype.\n",
    "</div>"
   ]
  },
  {
   "cell_type": "markdown",
   "metadata": {},
   "source": [
    "## EX11: shift colors from color image"
   ]
  },
  {
   "cell_type": "markdown",
   "metadata": {},
   "source": [
    "<div class=\"alert alert-success\">\n",
    "    <b>11.</b> Enhance colors by changing values of each band.    \n",
    "    <ol>\n",
    "        <li> try shifting all channels in the image by 40%, and plot. Is this what you expected?</li>\n",
    "        <li> try clamping the channels, so that you end up with values in the range 0-255 with data type uin8 (or in the range 0-1 with data type float).<br>Plot and compare with the original image.</li>\n",
    "         <li> Create new bands R_f, G_f and B_f, altering the pixel color to red (R=255, G=0, B=0) where mask=1.<br>Use numpy's where() function to create these new bands.</li>\n",
    "         <li> plot histograms of both the original and modified image. Explain.</li>\n",
    "    </ol>\n",
    "</div>"
   ]
  },
  {
   "cell_type": "markdown",
   "metadata": {},
   "source": [
    "## EX12: segment from colors"
   ]
  },
  {
   "cell_type": "markdown",
   "metadata": {},
   "source": [
    "<div class=\"alert alert-success\">\n",
    "    <b>12.</b> Turn the sky red!<br>\n",
    "    <ol>\n",
    "        <li> Crop a portion of the sky and analyze the histograms of the three bands.</li>\n",
    "        <li> Create a mask to isolate the sky pixels.<br>Use numpy's where() function with as many thresholds wanted, and assign 1 where conditions are True, 0 where conditions are false.<br>EX: mask = np.where((R < 150) & (G > 100) & (B > 200), 1, 0)<br>Plot the mask with a color bar to see if you are happy with the isolated pixels.</li>\n",
    "         <li> Create new bands R_f, G_f and B_f, altering the pixel color to red (R=255, G=0, B=0) where mask=1.<br>Use numpy's where() function to create these new bands.</li>\n",
    "         <li> Plot the resulting image. Is your sky red?</li>\n",
    "    </ol>\n",
    "</div>"
   ]
  }
 ],
 "metadata": {
  "kernelspec": {
   "display_name": "Python 3 (ipykernel)",
   "language": "python",
   "name": "python3"
  },
  "language_info": {
   "codemirror_mode": {
    "name": "ipython",
    "version": 3
   },
   "file_extension": ".py",
   "mimetype": "text/x-python",
   "name": "python",
   "nbconvert_exporter": "python",
   "pygments_lexer": "ipython3",
   "version": "3.9.12"
  },
  "toc": {
   "base_numbering": 1,
   "nav_menu": {},
   "number_sections": true,
   "sideBar": true,
   "skip_h1_title": false,
   "title_cell": "Table of Contents",
   "title_sidebar": "Contents",
   "toc_cell": false,
   "toc_position": {
    "height": "calc(100% - 180px)",
    "left": "10px",
    "top": "150px",
    "width": "262.6px"
   },
   "toc_section_display": true,
   "toc_window_display": true
  }
 },
 "nbformat": 4,
 "nbformat_minor": 4
}

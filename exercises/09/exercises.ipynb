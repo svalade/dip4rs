{
  "nbformat": 4,
  "nbformat_minor": 0,
  "metadata": {
    "colab": {
      "provenance": [],
      "toc_visible": true
    },
    "kernelspec": {
      "name": "python3",
      "display_name": "Python 3"
    },
    "language_info": {
      "name": "python"
    }
  },
  "cells": [
    {
      "cell_type": "markdown",
      "source": [
        "# Initialize"
      ],
      "metadata": {
        "id": "fOc9mnU6Y-BG"
      }
    },
    {
      "cell_type": "code",
      "execution_count": null,
      "metadata": {
        "id": "YJskLSpK_Sn2"
      },
      "outputs": [],
      "source": [
        "import ee\n",
        "ee.Authenticate()\n",
        "ee.Initialize(project='gee-dip-418420')  # <--- replace with your project ID"
      ]
    },
    {
      "cell_type": "code",
      "source": [
        "import geemap"
      ],
      "metadata": {
        "id": "fRLug6gC_cLs"
      },
      "execution_count": null,
      "outputs": []
    },
    {
      "cell_type": "markdown",
      "source": [
        "# EX: dummy .map example"
      ],
      "metadata": {
        "id": "osLqfdiOBSIX"
      }
    },
    {
      "cell_type": "markdown",
      "source": [
        "## Map function"
      ],
      "metadata": {
        "id": "wnUnOxH6BV4j"
      }
    },
    {
      "cell_type": "markdown",
      "metadata": {
        "id": "FN9UB_VJrujA"
      },
      "source": [
        "## Map lambda function"
      ]
    },
    {
      "cell_type": "markdown",
      "source": [
        "# EX: Kutupalong refugee camp"
      ],
      "metadata": {
        "id": "5qFSZuL4_Gyj"
      }
    },
    {
      "cell_type": "markdown",
      "source": [
        "## Get AOI\n",
        "\n",
        "Camp boundaries KML: https://data.humdata.org/dataset/outline-of-camps-sites-of-rohingya-refugees-in-cox-s-bazar-bangladesh?"
      ],
      "metadata": {
        "id": "9-kq5YoMzcNK"
      }
    },
    {
      "cell_type": "markdown",
      "source": [
        "## Get image collections VIIRS\n",
        "\n",
        "VIIRS Nighttime Day/Night Band Composites: [NOAA/VIIRS/DNB/MONTHLY_V1/VCMCFG](https://developers.google.com/earth-engine/datasets/catalog/NOAA_VIIRS_DNB_MONTHLY_V1_VCMCFG#bands)"
      ],
      "metadata": {
        "id": "b_au-4IZzgB9"
      }
    },
    {
      "cell_type": "markdown",
      "source": [
        "## Map through image collection"
      ],
      "metadata": {
        "id": "AAo1A55OLU7R"
      }
    },
    {
      "cell_type": "markdown",
      "source": [
        "## Get time series as DataFrame"
      ],
      "metadata": {
        "id": "Z00c7k2QzkUO"
      }
    },
    {
      "cell_type": "markdown",
      "source": [
        "### Plot"
      ],
      "metadata": {
        "id": "rrykFkbZSHVj"
      }
    },
    {
      "cell_type": "markdown",
      "source": [
        "### Get min/max"
      ],
      "metadata": {
        "id": "7_LRXy1lPdqn"
      }
    },
    {
      "cell_type": "markdown",
      "source": [
        "### Display associated images"
      ],
      "metadata": {
        "id": "HqEIynuJIyln"
      }
    },
    {
      "cell_type": "markdown",
      "source": [
        "## Export timelapse"
      ],
      "metadata": {
        "id": "MQ56oxZ9-tE-"
      }
    },
    {
      "cell_type": "markdown",
      "source": [
        "## Plot split map"
      ],
      "metadata": {
        "id": "TkenT_5Xzo8d"
      }
    },
    {
      "cell_type": "code",
      "source": [],
      "metadata": {
        "id": "ojX3t9fd_5Tn"
      },
      "execution_count": null,
      "outputs": []
    }
  ]
}
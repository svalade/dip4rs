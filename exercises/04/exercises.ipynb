{
 "cells": [
  {
   "cell_type": "markdown",
   "metadata": {},
   "source": [
    "<font size=\"5\"><b>Lecture 04: Morphology and Segmentation (exercises)</b></font>"
   ]
  },
  {
   "cell_type": "markdown",
   "metadata": {},
   "source": [
    "## EX 1: histogram-based segmentation"
   ]
  },
  {
   "cell_type": "markdown",
   "metadata": {},
   "source": [
    "<div class=\"alert alert-success\">\n",
    "    <b>Turn the sky red!</b><br>\n",
    "    <ol>\n",
    "        <li> Crop a portion of the sky and analyze the histograms of the three bands.</li>\n",
    "        <li> Create a mask to isolate the sky pixels.<br><u>Hint</u>: use numpy's <a href=\"https://numpy.org/doc/stable/reference/generated/numpy.where.html\" target=\"_blank\">where()</a> function with as many thresholds wanted, and assign 1 where conditions are True, 0 where conditions are false. Plot the mask with a color bar to see if you are happy with the isolated pixels.<br>\n",
    "        <u>Hint</u>: try with a threshold on the blue band only: is this satisfying? Try with multiple thresholds (EX: mask = np.where((R < 150) & (G > 100) & (B > 200), 1, 0)): is this better?<br></li>\n",
    "         <li> Create new bands R_f, G_f and B_f, altering the pixel color to red (R=255, G=0, B=0) where mask=1.<br>Use numpy's where() function to create these new bands.</li>\n",
    "         <li> Plot the resulting image. Is your sky red?</li>\n",
    "    </ol>\n",
    "</div>"
   ]
  },
  {
   "cell_type": "markdown",
   "metadata": {},
   "source": [
    "# EX 2: analyze agricultural fields"
   ]
  },
  {
   "cell_type": "markdown",
   "metadata": {},
   "source": [
    "## 2.1. open image"
   ]
  },
  {
   "cell_type": "markdown",
   "metadata": {},
   "source": [
    "<div class=\"alert alert-success\">\n",
    "The image is a satellite image of agricultural fields in California, Meridian County, acquired on 8 July 2016 (Source: <a href=\"https://www.gettyimages.es/fotos/digitalglobe-meridian-county?family=editorial&assettype=image&sort=mostpopular&phrase=digitalglobe%20meridian%20county\" target=\"_blank\">DigitalGlobe/Getty Images</a>).<br>\n",
    "\n",
    "<br>\n",
    "Open the image \"fields.jpg\" using <a href=\"https://scikit-image.org/docs/stable/api/skimage.io.html#skimage.io.imread\" target=\"_blank\">skimage.io.imread</a>.<br>\n",
    "</div>"
   ]
  },
  {
   "cell_type": "markdown",
   "metadata": {},
   "source": [
    "## 2.2. segment fields using histogram thresholding"
   ]
  },
  {
   "cell_type": "markdown",
   "metadata": {},
   "source": [
    "<div class=\"alert alert-success\">\n",
    "The goal of this section is to segment the fields from the roads: play around with color thresholds to try to isolate the fields from the roads (binarize image).<br>\n",
    "Try setting threshold values manually.<br>\n",
    "<br>\n",
    "<u>Tip</u>: manipulating the image converted to grayscale might be easier than the RGB image.<br>\n",
    "<u>Tip</u>: try filtering the image using a low-pass gaussian filter (<a href=\"https://scikit-image.org/docs/stable/api/skimage.filters.html#skimage.filters.gaussian\" target=\"_blank\">skimage.filters.gaussian</a>) prior to binarization.\n",
    "<!--Try <a href=\"https://scikit-image.org/docs/stable/api/skimage.filters.html#skimage.filters.threshold_otsu\" target=\"_blank\">Otsu's threshold</a>. Can you reach satisfying results? -->\n",
    "</div>"
   ]
  },
  {
   "cell_type": "markdown",
   "metadata": {},
   "source": [
    "### 2.3. clean image using mathematical morphology"
   ]
  },
  {
   "cell_type": "markdown",
   "metadata": {},
   "source": [
    "<div class=\"alert alert-success\">\n",
    "    Mathematical morphology can be used used \"clean\" your image, by removing small undesired regions.<br>\n",
    "    Explore scikit-image's <a href=\"https://scikit-image.org/docs/dev/api/skimage.morphology.html\" target=\"_blank\">morphology</a> module to find a function that suits your needs.<br>\n",
    "    <br>\n",
    "    <u>Tip</u>: consider removing bright structures smaller than an area threshold.\n",
    "</div>"
   ]
  },
  {
   "cell_type": "markdown",
   "metadata": {},
   "source": [
    "### 2.4. label isolated image regions"
   ]
  },
  {
   "cell_type": "markdown",
   "metadata": {},
   "source": [
    "<div class=\"alert alert-success\">\n",
    "    Once you are satisfied with your binarized image, you are ready to \"label\" the connected regions.<br>\n",
    "    You can use scikit-image's <a href=\"https://scikit-image.org/docs/dev/api/skimage.measure.html#skimage.measure.label\" target=\"_blank\">measure.label()</a> function. (or <a href=\"https://docs.scipy.org/doc/scipy/reference/generated/scipy.ndimage.label.html\" target=\"_blank\">scipy.ndimage.label()</a>).<br>\n",
    "    <br>\n",
    "    <u>Tip</u>: these functions will label pixels different than the background, which by default is defined as pixels with value 0. So adjust the background parameter to your image (or adapt your image to the function ;)\n",
    "</div>"
   ]
  },
  {
   "cell_type": "markdown",
   "metadata": {},
   "source": [
    "### 2.5. analyze fields"
   ]
  },
  {
   "cell_type": "markdown",
   "metadata": {},
   "source": [
    "<div class=\"alert alert-success\">\n",
    "    Scikit-image provides a convenient <a href=\"https://scikit-image.org/docs/dev/api/skimage.measure.html#skimage.measure.regionprops\" target=\"_blank\">measure.regionprops()</a> function to analyze basic parameters from the labeled image components.<br>\n",
    "    <br>\n",
    "    <b>1.</b> Use the function to get the fields's centroids, and plot them on top of your labeled image.\n",
    "</div>"
   ]
  },
  {
   "cell_type": "markdown",
   "metadata": {},
   "source": [
    "<div class=\"alert alert-success\">\n",
    "    <b>2.</b> Use scikit-image's <a href=\"https://scikit-image.org/docs/dev/api/skimage.measure.html#skimage.measure.regionprops_table\" target=\"_blank\">measure.regionprops_table()</a> function to return the label properties as a pandas table.<br> \n",
    "    Plot a histogram of the plate's area.\n",
    "</div>"
   ]
  },
  {
   "cell_type": "markdown",
   "metadata": {},
   "source": [
    "## 2.3. segment using \"flood fill\" algorithm"
   ]
  },
  {
   "cell_type": "markdown",
   "metadata": {},
   "source": [
    "<div class=\"alert alert-success\">\n",
    "Try using scikit-image's <a href=\"https://scikit-image.org/docs/dev/auto_examples/segmentation/plot_floodfill.html#sphx-glr-auto-examples-segmentation-plot-floodfill-py\" target=\"_blank\">flood_fill()</a> segmentation algorithm\": by selecting a <b>seed point</b> (= pixel where flooding start), you can <b>segment neighboring pixels</b> sharing the same pixel value (within a selected tolerance). The conceptual analogy of this segmentation algorithm is the ‘paint bucket’ tool in many graphic editors)<br>\n",
    "<br>\n",
    "<b>1.</b> <u>Segment an agricultural field</u> of your choice: use the gray-scale image, select the seed point in the field, and segment. Play around with the tolerance threshold.\n",
    "</div>"
   ]
  },
  {
   "cell_type": "markdown",
   "metadata": {},
   "source": [
    "<div class=\"alert alert-success\">\n",
    "    <b>2.</b> <u>Segment the roads</u> by selecting a seed-point positioned on a road pixel.<br>\n",
    "    <br>Is this working properly? Probably not, due to the fact that the gray-scale image shares too many similar values between roads and fields. Instead, we can use the color image where the dirt roads clearly stand out from the green fields.<br>\n",
    "     <br>\n",
    "     However since flood fill operates on single-channel images only, we can transform the image to the HSV (Hue Saturation Value) space and perform the flood-fill segmentation on the Hue band.\n",
    "</div>"
   ]
  },
  {
   "cell_type": "markdown",
   "metadata": {},
   "source": [
    "# EX3: analyze an infrared image of a lava lake"
   ]
  },
  {
   "cell_type": "markdown",
   "metadata": {},
   "source": [
    "## open image"
   ]
  },
  {
   "cell_type": "markdown",
   "metadata": {},
   "source": [
    "<div class=\"alert alert-success\">\n",
    "The image is a radiometric image of Mount Nyiragongo's (D.R.C) active lava lake, acquired with a FLIR camera operating in the infrared 7.5–14 μm spectral range, and returning temperatures in Kelvin [<a href=\"https://www.sciencedirect.com/science/article/pii/S0012821X18304631?via%3Dihub\" target=\"_blank\">ref</a>]. The image and associated metadata are saved as a .MAT file.<br>\n",
    "<br>\n",
    "Use the <a href=\"https://docs.scipy.org/doc/scipy/reference/generated/scipy.io.loadmat.html\" target=\"_blank\">scipy.io.loadmat()</a> function to open the .MAT file. The returned object is a Python dictionary. The image is stored in a key defined by the frame number (e.g., \"frame_320\")<br>\n",
    "</div>"
   ]
  },
  {
   "cell_type": "markdown",
   "metadata": {},
   "source": [
    "## segment lake from background"
   ]
  },
  {
   "cell_type": "markdown",
   "metadata": {},
   "source": [
    "<div class=\"alert alert-success\">\n",
    "    <b>1.</b> Crop the image to focus on the lava lake.<br>\n",
    "    <br>\n",
    "    <b>2.</b> Plot the histogram of the cropped image. Based on the temperature distribution, isolate the pixels corresponding to the lava lake.<br>\n",
    "    <u>Tip</u>: use <a href=\"https://numpy.org/doc/stable/reference/generated/numpy.where.html\" target=\"_blank\">numpy.where()</a> function to generate a new array, keeping the temperatures for the pixels corresponding to the lake, and attributing \"np.nan\" values elsewhere.<br>\n",
    "</div>"
   ]
  },
  {
   "cell_type": "markdown",
   "metadata": {},
   "source": [
    "## segment plates using histogram thresholding\n",
    "The lake surface consists of a mosaic of dark (cool) crustal plates, separated by narrow incandescent (hot) cracks. The goal of this section is to segment the plates from the cracks."
   ]
  },
  {
   "cell_type": "markdown",
   "metadata": {},
   "source": [
    "### try global thresholding"
   ]
  },
  {
   "cell_type": "markdown",
   "metadata": {},
   "source": [
    "<div class=\"alert alert-success\">\n",
    "Play around with temperature thresholds to try to isolate the cold plates from the hot cracks (binarize image).<br>\n",
    "Try setting threshold values manually. Try <a href=\"https://scikit-image.org/docs/stable/api/skimage.filters.html#skimage.filters.threshold_otsu\" target=\"_blank\">Otsu's threshold</a>. Can you reach satisfying results?\n",
    "</div>"
   ]
  },
  {
   "cell_type": "markdown",
   "metadata": {},
   "source": [
    "### try local thresholding"
   ]
  },
  {
   "cell_type": "markdown",
   "metadata": {},
   "source": [
    "<div class=\"alert alert-success\">\n",
    "    The plates display a relatively wide range of temperatures, making it difficult to seperate them from the hot cracks using a single global temperature threshold. <u>Local thresholding</u> (a.k.a. adaptive thresholding) can be useful to overcome this, as multiple thresholds are calulated in small regions surrounding each pixel.<br>\n",
    "    <br>\n",
    "    <u>Tip</u>: you can use scikit-image's <a href=\"https://scikit-image.org/docs/dev/api/skimage.filters.html#skimage.filters.threshold_local\" target=\"_blank\">filters.threshold_local()</a> to test this.<br>\n",
    "    <u>Tip</u>: once the image has been binarized with local thresholds, you can keep only the lake like you did in section 1.1.\n",
    "</div>"
   ]
  },
  {
   "cell_type": "markdown",
   "metadata": {},
   "source": [
    "### clean image using mathematical morphology"
   ]
  },
  {
   "cell_type": "markdown",
   "metadata": {},
   "source": [
    "<div class=\"alert alert-success\">\n",
    "    Mathematical morphology can be used used \"clean\" your image, by removing small undesired regions (e.g., \"false cracks\").<br>\n",
    "    Explore scikit-image's <a href=\"https://scikit-image.org/docs/dev/api/skimage.morphology.html\" target=\"_blank\">morphology</a> module to find a function that suits your needs.<br>\n",
    "    <br>\n",
    "    <u>Tip</u>: consider removing bright structures smaller than an area threshold.\n",
    "</div>"
   ]
  },
  {
   "cell_type": "markdown",
   "metadata": {},
   "source": [
    "### label isolated image regions"
   ]
  },
  {
   "cell_type": "markdown",
   "metadata": {},
   "source": [
    "<div class=\"alert alert-success\">\n",
    "    Once you are satisfied with your binarized image, you are ready to \"label\" the connected regions.<br>\n",
    "    You can use scikit-image's <a href=\"https://scikit-image.org/docs/dev/api/skimage.measure.html#skimage.measure.label\" target=\"_blank\">measure.label()</a> function. (or <a href=\"https://docs.scipy.org/doc/scipy/reference/generated/scipy.ndimage.label.html\" target=\"_blank\">scipy.ndimage.label()</a>).<br>\n",
    "    <br>\n",
    "    <u>Tip</u>: these functions will label pixels different than the background, which by default is defined as pixels with value 0. So adjust the background parameter to your image (or adapt your image to the function ;)\n",
    "</div>"
   ]
  },
  {
   "cell_type": "markdown",
   "metadata": {},
   "source": [
    "### analyze plates"
   ]
  },
  {
   "cell_type": "markdown",
   "metadata": {},
   "source": [
    "<div class=\"alert alert-success\">\n",
    "    Scikit-image provides a convenient <a href=\"https://scikit-image.org/docs/dev/api/skimage.measure.html#skimage.measure.regionprops\" target=\"_blank\">measure.regionprops()</a> function to analyze basic parameters from the labeled image components.<br>\n",
    "    <br>\n",
    "    <b>1.</b> Use the function to get the plates's centroids, and plot them on top of your labeled image.\n",
    "</div>"
   ]
  },
  {
   "cell_type": "markdown",
   "metadata": {},
   "source": [
    "<div class=\"alert alert-success\">\n",
    "    <b>2.</b> Use scikit-image's <a href=\"https://scikit-image.org/docs/dev/api/skimage.measure.html#skimage.measure.regionprops_table\" target=\"_blank\">measure.regionprops_table()</a> function to return the label properties as a pandas table.<br> \n",
    "    Plot a histogram of the plate's area.\n",
    "</div>"
   ]
  },
  {
   "cell_type": "markdown",
   "metadata": {},
   "source": [
    "## (optional) experiment \"flood fill\" segmentation"
   ]
  },
  {
   "cell_type": "markdown",
   "metadata": {},
   "source": [
    "<div class=\"alert alert-success\">\n",
    "You can plan around with scikit-image's <a href=\"https://scikit-image.org/docs/dev/auto_examples/segmentation/plot_floodfill.html#sphx-glr-auto-examples-segmentation-plot-floodfill-py\" target=\"_blank\">flood_fill()</a> algorithm. By selecting a seed point (= pixel where flooding start), you can segment neighboring pixels sharing the same temperatures (within a selected temperature tolerance).<br>\n",
    "</div>"
   ]
  }
 ],
 "metadata": {
  "kernelspec": {
   "display_name": "Python 3 (ipykernel)",
   "language": "python",
   "name": "python3"
  },
  "language_info": {
   "codemirror_mode": {
    "name": "ipython",
    "version": 3
   },
   "file_extension": ".py",
   "mimetype": "text/x-python",
   "name": "python",
   "nbconvert_exporter": "python",
   "pygments_lexer": "ipython3",
   "version": "3.9.12"
  },
  "toc": {
   "base_numbering": 1,
   "nav_menu": {},
   "number_sections": true,
   "sideBar": true,
   "skip_h1_title": false,
   "title_cell": "Table of Contents",
   "title_sidebar": "Contents",
   "toc_cell": false,
   "toc_position": {
    "height": "calc(100% - 180px)",
    "left": "10px",
    "top": "150px",
    "width": "282.883px"
   },
   "toc_section_display": true,
   "toc_window_display": true
  }
 },
 "nbformat": 4,
 "nbformat_minor": 4
}

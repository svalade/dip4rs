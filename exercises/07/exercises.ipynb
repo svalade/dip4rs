{
  "nbformat": 4,
  "nbformat_minor": 0,
  "metadata": {
    "colab": {
      "provenance": [],
      "toc_visible": true
    },
    "kernelspec": {
      "name": "python3",
      "display_name": "Python 3"
    },
    "language_info": {
      "name": "python"
    }
  },
  "cells": [
    {
      "cell_type": "markdown",
      "source": [
        "# Initialize"
      ],
      "metadata": {
        "id": "fOc9mnU6Y-BG"
      }
    },
    {
      "cell_type": "code",
      "execution_count": null,
      "metadata": {
        "id": "YJskLSpK_Sn2"
      },
      "outputs": [],
      "source": [
        "import ee\n",
        "ee.Authenticate()\n",
        "ee.Initialize(project='gee-dip-418420')  # <--- replace with your project ID"
      ]
    },
    {
      "cell_type": "code",
      "source": [
        "import geemap"
      ],
      "metadata": {
        "id": "fRLug6gC_cLs"
      },
      "execution_count": null,
      "outputs": []
    },
    {
      "cell_type": "markdown",
      "source": [
        "# EX1: Supervised classification"
      ],
      "metadata": {
        "id": "QvKyVtjvIJTC"
      }
    },
    {
      "cell_type": "markdown",
      "source": [
        "## Step 1: select the image to classify"
      ],
      "metadata": {
        "id": "c0LPihm5JiDK"
      }
    },
    {
      "cell_type": "markdown",
      "source": [
        "## Step 2: collect training samples"
      ],
      "metadata": {
        "id": "JoBtqAR0Jqb-"
      }
    },
    {
      "cell_type": "markdown",
      "source": [
        "### 2.1. Select training pixels\n",
        "Select training pixels using the Draw a marker tool on the interactive map."
      ],
      "metadata": {
        "id": "UhEcroQJpFTN"
      }
    },
    {
      "cell_type": "markdown",
      "source": [
        "### 2.2. Convert training pixels to gdf\n",
        "Convert the collected samples (Map.user rois) to a GeoPandasDataframe, and create a new column called\n",
        "“class” storing the numeric value corresponding to the land cover class"
      ],
      "metadata": {
        "id": "B1MdtzTOpJ6p"
      }
    },
    {
      "cell_type": "markdown",
      "source": [
        "### 2.3. Export gdf to geojson\n",
        "Export the GeoPandasDataframe to a GeoJson file on your Google Drive for future use"
      ],
      "metadata": {
        "id": "wHWEk-XS1z9J"
      }
    },
    {
      "cell_type": "markdown",
      "source": [
        "### 2.4. Import & combine all training data\n",
        "Import all GeoJson files and combine in a unique FeatureCollection, which will store all the\n",
        "collected samples along with their class"
      ],
      "metadata": {
        "id": "eaDZYR5tpObp"
      }
    },
    {
      "cell_type": "markdown",
      "source": [
        "## Step 3: select prediction bands\n",
        "Select the prediction bands to be used for the classification and sample the training data points.\n",
        "\n",
        "Refs: [Sentinel-2 bands](https://developers.google.com/earth-engine/datasets/catalog/COPERNICUS_S2_SR_HARMONIZED#bands)"
      ],
      "metadata": {
        "id": "_fyfJfn6prRO"
      }
    },
    {
      "cell_type": "markdown",
      "source": [
        "## Step 4: select/train classifier\n",
        "Instantiate and train a CART classifier."
      ],
      "metadata": {
        "id": "TtvHLd-Yax-1"
      }
    },
    {
      "cell_type": "markdown",
      "source": [
        "## Step 5: classify entire image"
      ],
      "metadata": {
        "id": "i-QAzw657SIU"
      }
    },
    {
      "cell_type": "markdown",
      "source": [
        "## Step 6: compare with ESA landcover dataset"
      ],
      "metadata": {
        "id": "CVh1bPxo7Bvg"
      }
    },
    {
      "cell_type": "markdown",
      "source": [
        "# EX2: Unsupervised classification"
      ],
      "metadata": {
        "id": "nlyniCY-zNpe"
      }
    },
    {
      "cell_type": "markdown",
      "source": [
        "## Step 1: select the image to classify"
      ],
      "metadata": {
        "id": "msEu5jaVVODc"
      }
    },
    {
      "cell_type": "markdown",
      "source": [
        "## Step 2: collect training samples"
      ],
      "metadata": {
        "id": "39Yj5eViVODe"
      }
    },
    {
      "cell_type": "markdown",
      "source": [
        "## Step 3: select clustering algorithm and “train” it on the unlabeled data"
      ],
      "metadata": {
        "id": "Jtc4t4X0BPGC"
      }
    },
    {
      "cell_type": "markdown",
      "source": [
        "## Step 4: classify the image"
      ],
      "metadata": {
        "id": "Oi259jCFBSH1"
      }
    }
  ]
}
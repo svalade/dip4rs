{
  "nbformat": 4,
  "nbformat_minor": 0,
  "metadata": {
    "colab": {
      "provenance": [],
      "toc_visible": true
    },
    "kernelspec": {
      "name": "python3",
      "display_name": "Python 3"
    },
    "language_info": {
      "name": "python"
    }
  },
  "cells": [
    {
      "cell_type": "markdown",
      "source": [
        "# Initialize"
      ],
      "metadata": {
        "id": "fOc9mnU6Y-BG"
      }
    },
    {
      "cell_type": "code",
      "execution_count": null,
      "metadata": {
        "id": "YJskLSpK_Sn2"
      },
      "outputs": [],
      "source": [
        "import ee\n",
        "ee.Authenticate()\n",
        "ee.Initialize(project='gee-dip-418420')  # <--- replace with your project ID"
      ]
    },
    {
      "cell_type": "code",
      "source": [
        "import geemap"
      ],
      "metadata": {
        "id": "fRLug6gC_cLs"
      },
      "execution_count": null,
      "outputs": []
    },
    {
      "cell_type": "markdown",
      "source": [
        "# EX: two-date image differencing\n",
        "**Application to the detection of wild fire**"
      ],
      "metadata": {
        "id": "4NrP4qjE_X0-"
      }
    },
    {
      "cell_type": "markdown",
      "source": [
        "## Step 1: Image selection and preprocessing"
      ],
      "metadata": {
        "id": "GaIdvP2hQSbi"
      }
    },
    {
      "cell_type": "markdown",
      "source": [
        "### select images pre/post"
      ],
      "metadata": {
        "id": "idEJA4TunqIk"
      }
    },
    {
      "cell_type": "markdown",
      "source": [
        "### clip region of interest"
      ],
      "metadata": {
        "id": "9jWxVf97fYkv"
      }
    },
    {
      "cell_type": "markdown",
      "source": [
        "## Step 2: Compute change map\n",
        "=> Apply the naive two-date image differencing.\n",
        "\n",
        "Identify the spectral index which best highlights the land cover variations before and after the event:\n",
        "- NDWI (normalized difference water index) => map water level changes during flooding events\n",
        "- NBR (normalized burned ratio) =>  detect soil brightness changes during fires\n",
        "- NDVI (normalized difference vegetation index) => map vegetation greenness variations\n",
        "- NDFI (normalized difference fraction index) => derived band combinations => monitor forest degradation"
      ],
      "metadata": {
        "id": "7EB6X5FrSMR6"
      }
    },
    {
      "cell_type": "markdown",
      "source": [
        "## Step 3: Threshold change map\n"
      ],
      "metadata": {
        "id": "fhKYJkTscq0Q"
      }
    }
  ]
}
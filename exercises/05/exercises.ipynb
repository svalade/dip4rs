{
  "nbformat": 4,
  "nbformat_minor": 0,
  "metadata": {
    "colab": {
      "provenance": [],
      "toc_visible": true
    },
    "kernelspec": {
      "name": "python3",
      "display_name": "Python 3"
    },
    "language_info": {
      "name": "python"
    }
  },
  "cells": [
    {
      "cell_type": "markdown",
      "source": [
        "<font size=\"6\"><b>Lecture 05: GEE introduction (exercises)</b></font>"
      ],
      "metadata": {
        "id": "1MeVLBPAYj4Q"
      }
    },
    {
      "cell_type": "markdown",
      "source": [
        "# Initialize"
      ],
      "metadata": {
        "id": "fOc9mnU6Y-BG"
      }
    },
    {
      "cell_type": "code",
      "execution_count": null,
      "metadata": {
        "id": "YJskLSpK_Sn2"
      },
      "outputs": [],
      "source": [
        "import ee\n",
        "ee.Authenticate()\n",
        "ee.Initialize(project='gee-dip-418420')  # <--- replace with your project ID"
      ]
    },
    {
      "cell_type": "code",
      "source": [
        "import geemap"
      ],
      "metadata": {
        "id": "fRLug6gC_cLs"
      },
      "execution_count": null,
      "outputs": []
    },
    {
      "cell_type": "markdown",
      "source": [
        "# EX1: jumpstart into Image visualization"
      ],
      "metadata": {
        "id": "DUvccJ6HYeVn"
      }
    },
    {
      "cell_type": "markdown",
      "source": [
        "## 1. Get image from Popocatépetl\n",
        "Ref gee collection: Landsat 8 / Collection 2 / Tier 1 TOA ([link](https://developers.google.com/earth-engine/datasets/catalog/LANDSAT_LC08_C02_T1_TOA))"
      ],
      "metadata": {
        "id": "rjnp_iGzgZWd"
      }
    },
    {
      "cell_type": "code",
      "source": [
        "image = ee.Image('LANDSAT/LC08/C02/T1_TOA/LC08_026047_20200116');"
      ],
      "metadata": {
        "id": "5O1Zy9dWZZ29"
      },
      "execution_count": null,
      "outputs": []
    },
    {
      "cell_type": "markdown",
      "source": [
        "## 2. Display image information\n",
        "\n",
        "Landsat 8 description from [usgs](https://www.usgs.gov/landsat-missions/landsat-8)\n",
        "\n",
        "Landsat 8 bands (table from [gee](https://developers.google.com/earth-engine/datasets/catalog/LANDSAT_LC08_C02_T1_TOA)):\n",
        "<br>\n",
        "\n",
        "<table class=\"eecat\">\n",
        "<tbody><tr>\n",
        "<th scope=\"col\">Name</th>\n",
        "<th scope=\"col\">Pixel Size</th>\n",
        "<th scope=\"col\">Wavelength</th>\n",
        "<th scope=\"col\">Description</th>\n",
        "</tr>\n",
        "<tr>\n",
        "<td><code translate=\"no\" dir=\"ltr\">B1</code></td>\n",
        "<td>\n",
        "      30 meters\n",
        "</td>\n",
        "<td>0.43 - 0.45 μm</td>\n",
        "<td><p>Coastal aerosol</p></td>\n",
        "</tr>\n",
        "<tr>\n",
        "<td><code translate=\"no\" dir=\"ltr\">B2</code></td>\n",
        "<td>\n",
        "      30 meters\n",
        "</td>\n",
        "<td>0.45 - 0.51 μm</td>\n",
        "<td><p>Blue</p></td>\n",
        "</tr>\n",
        "<tr>\n",
        "<td><code translate=\"no\" dir=\"ltr\">B3</code></td>\n",
        "<td>\n",
        "      30 meters\n",
        "</td>\n",
        "<td>0.53 - 0.59 μm</td>\n",
        "<td><p>Green</p></td>\n",
        "</tr>\n",
        "<tr>\n",
        "<td><code translate=\"no\" dir=\"ltr\">B4</code></td>\n",
        "<td>\n",
        "      30 meters\n",
        "</td>\n",
        "<td>0.64 - 0.67 μm</td>\n",
        "<td><p>Red</p></td>\n",
        "</tr>\n",
        "<tr>\n",
        "<td><code translate=\"no\" dir=\"ltr\">B5</code></td>\n",
        "<td>\n",
        "      30 meters\n",
        "</td>\n",
        "<td>0.85 - 0.88 μm</td>\n",
        "<td><p>Near infrared</p></td>\n",
        "</tr>\n",
        "<tr>\n",
        "<td><code translate=\"no\" dir=\"ltr\">B6</code></td>\n",
        "<td>\n",
        "      30 meters\n",
        "</td>\n",
        "<td>1.57 - 1.65 μm</td>\n",
        "<td><p>Shortwave infrared 1</p></td>\n",
        "</tr>\n",
        "<tr>\n",
        "<td><code translate=\"no\" dir=\"ltr\">B7</code></td>\n",
        "<td>\n",
        "      30 meters\n",
        "</td>\n",
        "<td>2.11 - 2.29 μm</td>\n",
        "<td><p>Shortwave infrared 2</p></td>\n",
        "</tr>\n",
        "<tr>\n",
        "<td><code translate=\"no\" dir=\"ltr\">B8</code></td>\n",
        "<td>\n",
        "      15 meters\n",
        "</td>\n",
        "<td>0.52 - 0.90 μm</td>\n",
        "<td><p>Band 8 Panchromatic</p></td>\n",
        "</tr>\n",
        "<tr>\n",
        "<td><code translate=\"no\" dir=\"ltr\">B9</code></td>\n",
        "<td>\n",
        "      15 meters\n",
        "</td>\n",
        "<td>1.36 - 1.38 μm</td>\n",
        "<td><p>Cirrus</p></td>\n",
        "</tr>\n",
        "<tr>\n",
        "<td><code translate=\"no\" dir=\"ltr\">B10</code></td>\n",
        "<td>\n",
        "      30 meters\n",
        "</td>\n",
        "<td>10.60 - 11.19 μm</td>\n",
        "<td><p>Thermal infrared 1, resampled from 100m to 30m</p></td>\n",
        "</tr>\n",
        "<tr>\n",
        "<td><code translate=\"no\" dir=\"ltr\">B11</code></td>\n",
        "<td>\n",
        "      30 meters\n",
        "</td>\n",
        "<td>11.50 - 12.51 μm</td>\n",
        "<td><p>Thermal infrared 2, resampled from 100m to 30m</p></td>\n",
        "</tr>\n",
        "</tbody></table>"
      ],
      "metadata": {
        "id": "y_uojU6WhCIb"
      }
    },
    {
      "cell_type": "code",
      "source": [
        "# Explore Image object\n",
        "image"
      ],
      "metadata": {
        "id": "hNnZprBDapBl"
      },
      "execution_count": null,
      "outputs": []
    },
    {
      "cell_type": "code",
      "source": [
        "# Get image properties (EX: acquisition date)\n",
        "\n",
        "date = image.get('DATE_ACQUIRED')\n",
        "print(date.getInfo())"
      ],
      "metadata": {
        "id": "LdaVfzYfJZvn"
      },
      "execution_count": null,
      "outputs": []
    },
    {
      "cell_type": "code",
      "source": [
        "# Get bands info\n",
        "image.getInfo()['bands']"
      ],
      "metadata": {
        "id": "9YFWHio8yXN0"
      },
      "execution_count": null,
      "outputs": []
    },
    {
      "cell_type": "markdown",
      "source": [
        "## 3. Plot RGB composites"
      ],
      "metadata": {
        "id": "_82QLuiehJc7"
      }
    },
    {
      "cell_type": "markdown",
      "source": [
        "**Image visualization parameters** for map.addLayer\n",
        "(ref. [gee](https://developers.google.com/earth-engine/guides/image_visualization))\n",
        "<table>\n",
        "      \n",
        "<tr>\n",
        "        <th>Parameter</th>\n",
        "        <th>Description</th>\n",
        "        <th>Type</th>\n",
        "      </tr>\n",
        "      <tr>\n",
        "        <td><i>bands</i></td>\n",
        "        <td>Comma-delimited list of three band names to be mapped to RGB</td>\n",
        "        <td>list</td>\n",
        "      </tr>\n",
        "      <tr>\n",
        "        <td><i>min</i></td>\n",
        "        <td>Value(s) to map to 0</td>\n",
        "        <td>number or list of three numbers, one for each band</td>\n",
        "      </tr>\n",
        "      <tr>\n",
        "        <td><i>max</i></td>\n",
        "        <td>Value(s) to map to 255</td>\n",
        "        <td>number or list of three numbers, one for each band</td>\n",
        "      </tr>\n",
        "      <tr>\n",
        "        <td><i>gain</i></td>\n",
        "        <td>Value(s) by which to multiply each pixel value</td>\n",
        "        <td>number or list of three numbers, one for each band</td>\n",
        "      </tr>\n",
        "      <tr>\n",
        "        <td><i>bias</i></td>\n",
        "        <td>Value(s) to add to each DN</td>\n",
        "        <td>number or list of three numbers, one for each band</td>\n",
        "      </tr>\n",
        "      <tr>\n",
        "        <td><i>gamma</i></td>\n",
        "        <td>Gamma correction factor(s)</td>\n",
        "        <td>number or list of three numbers, one for each band</td>\n",
        "      </tr>\n",
        "      <tr>\n",
        "        <td><i>palette</i></td>\n",
        "        <td>List of CSS-style color strings (single-band images only)</td>\n",
        "        <td>comma-separated list of hex strings</td>\n",
        "      </tr>\n",
        "      <tr>\n",
        "        <td><i>opacity</i></td>\n",
        "        <td>The opacity of the layer (0.0 is fully transparent and 1.0 is fully opaque)</td>\n",
        "        <td>number</td>\n",
        "      </tr>\n",
        "      <tr>\n",
        "        <td><i>format</i></td>\n",
        "        <td>Either \"jpg\" or \"png\"</td>\n",
        "        <td>string</td>\n",
        "      </tr>\n",
        "\n",
        "</table>"
      ],
      "metadata": {
        "id": "8QC7fYufhRf-"
      }
    },
    {
      "cell_type": "code",
      "source": [
        "# Select visualization parameters for Natural color RGB\n",
        "vis_param = {'bands': ['B4', 'B3', 'B2'],\n",
        "             'min': 0,\n",
        "             'max': 0.3,\n",
        "             }\n",
        "\n",
        "# Center map on image and display\n",
        "Map = geemap.Map()\n",
        "Map.addLayerControl()  # Adds a layer control icon to the map\n",
        "Map.centerObject(image, zoom=9)  # zoom level ranges from 0 to 24 (if unspecified, computed based on the object's bounding box)\n",
        "Map.addLayer(image, vis_param, name='Natural color Landsat 8 ({})'.format(date.getInfo()))\n",
        "Map"
      ],
      "metadata": {
        "id": "8wI3jDfCaa1f"
      },
      "execution_count": null,
      "outputs": []
    },
    {
      "cell_type": "markdown",
      "source": [
        "## 4. Plot single band with color palette"
      ],
      "metadata": {
        "id": "8_mcw1HA6bfy"
      }
    },
    {
      "cell_type": "code",
      "source": [
        "# Select visualization parameters for single band\n",
        "palette = \"magma\"  # pre-defined colormaps\n",
        "palette = ['FFFFFF', '0000FF'] # custom colormaps (e.g. from white to blue)\n",
        "\n",
        "vis_param = {'bands': ['B2'], # blue band\n",
        "             'min': 0,\n",
        "             'max': 0.3,\n",
        "             'palette': palette,\n",
        "             }\n",
        "\n",
        "# Add layer to previous Map object\n",
        "Map.centerObject(image, zoom=9)  # zoom level ranges from 0 to 24 (if unspecified, computed based on the object's bounding box)\n",
        "Map.addLayer(image, vis_param, name='band B2 (blue)')\n",
        "Map\n",
        "\n"
      ],
      "metadata": {
        "id": "A6fi-9tE4pVv"
      },
      "execution_count": null,
      "outputs": []
    },
    {
      "cell_type": "markdown",
      "source": [
        "## 5. Clip region of interest"
      ],
      "metadata": {
        "id": "Tmz-Dr4v7H63"
      }
    },
    {
      "cell_type": "code",
      "source": [
        "# Create Geometry object of the region of interest (roi): 10x10 km around Popocatépetl\n",
        "lon_min, lon_max = -98.67, -98.574\n",
        "lat_min, lat_max = 18.978, 19.068\n",
        "roi = ee.Geometry.Rectangle([lon_min, lat_min, lon_max, lat_max])\n",
        "\n",
        "# Clip image\n",
        "image_c = image.clip(roi)\n",
        "\n",
        "# Select visualization parameters\n",
        "vis_param = {'bands': ['B4', 'B3', 'B2'],\n",
        "             'min': 0,\n",
        "             'max': 0.3,\n",
        "             }\n",
        "\n",
        "# Center map on image and display\n",
        "Map = geemap.Map()\n",
        "Map.addLayerControl()\n",
        "Map.centerObject(image_c, zoom=13)\n",
        "Map.addLayer(image_c, vis_param, name='True color clip')\n",
        "Map"
      ],
      "metadata": {
        "id": "OlWDt7V67KR7"
      },
      "execution_count": null,
      "outputs": []
    },
    {
      "cell_type": "markdown",
      "source": [
        "## Export image (thumbnail)\n",
        "\n",
        "Ref. [gee](https://developers.google.com/earth-engine/guides/image_visualization#mapVisParamTable)\n",
        "<table style=\"width:100%\">\n",
        "        <tbody><tr>\n",
        "          <th>Parameter</th>\n",
        "          <th>Description</th>\n",
        "          <th>Type</th>\n",
        "        </tr>\n",
        "        <tr>\n",
        "          <td><i>dimensions</i></td>\n",
        "          <td>Thumbnail dimensions in pixel units. If a single integer is provided, it defines the\n",
        "            size of the image's larger aspect dimension and scales the smaller dimension proportionally.\n",
        "            Defaults to 512 pixels for the larger image aspect dimension.</td>\n",
        "          <td>A single integer or string in the format:\n",
        "            'WIDTHxHEIGHT'</td>\n",
        "        </tr>\n",
        "        <tr>\n",
        "          <td><i>region</i></td>\n",
        "          <td>The geospatial region of the image to render. The whole image by default, or the bounds\n",
        "            of a provided geometry.\n",
        "          </td>\n",
        "          <td>GeoJSON or a 2-D list of at least three point coordinates that define a linear ring</td>\n",
        "        </tr>\n",
        "        <tr>\n",
        "          <td><i>crs</i></td>\n",
        "          <td>The target projection e.g. 'EPSG:3857'. Defaults to WGS84 ('EPSG:4326').\n",
        "          </td>\n",
        "          <td>String</td>\n",
        "        </tr>\n",
        "        <tr>\n",
        "          <td><i>format </i></td>\n",
        "          <td>Defines thumbnail format as either PNG or JPEG. The default PNG format is implemented as\n",
        "            RGBA, where the alpha channel represents valid and invalid pixels, defined by the\n",
        "            image's <code translate=\"no\" dir=\"ltr\">mask()</code>. Invalid pixels are transparent. The optional JPEG format\n",
        "            is implemented as RGB, where invalid image pixels are zero filled across RGB channels.\n",
        "          </td>\n",
        "          <td>String; either 'png' or 'jpg'</td>\n",
        "        </tr>\n",
        "      </tbody></table>\n"
      ],
      "metadata": {
        "id": "nNMT9oe5ENQX"
      }
    },
    {
      "cell_type": "code",
      "source": [
        "dimensions = 1000 # thumbnail dimensions in pixel units\n",
        "format = 'JPG'\n",
        "\n",
        "thumbnail_url = image_c.getThumbURL({\n",
        "  'bands': ['B4', 'B3', 'B2'],\n",
        "  'min': 0,\n",
        "  'max': 0.3,\n",
        "  'dimensions': dimensions,\n",
        "  'format': format\n",
        "  # 'crs': 'EPSG:3857'\n",
        "});\n",
        "\n",
        "print(\"Thumbnail URL:\", thumbnail_url)"
      ],
      "metadata": {
        "id": "wz1c_VzvERhx"
      },
      "execution_count": null,
      "outputs": []
    },
    {
      "cell_type": "markdown",
      "source": [
        "# EX2: Search images (filter ImageCollections)"
      ],
      "metadata": {
        "id": "8f3GpHPoZnAy"
      }
    },
    {
      "cell_type": "markdown",
      "metadata": {
        "id": "9_Hxji__ZWxN"
      },
      "source": [
        "## Filter by location\n",
        "Refs API:\n",
        "- [Geometry.Point](https://developers.google.com/earth-engine/apidocs/ee-geometry-point)\n",
        "- [filterBounds](https://developers.google.com/earth-engine/apidocs/ee-imagecollection-filterbounds)"
      ]
    },
    {
      "cell_type": "code",
      "execution_count": null,
      "metadata": {
        "id": "3Be5imKiZWxO"
      },
      "outputs": [],
      "source": [
        "# Create geometry\n",
        "lon, lat = -98.622, 19.023  # Popocatépetl\n",
        "roi = ee.Geometry.Point(lon, lat)\n",
        "\n",
        "# Filter collection by location\n",
        "collection = ee.ImageCollection('LANDSAT/LC08/C02/T1_TOA').filterBounds(roi)\n",
        "\n",
        "print(collection.size().getInfo())"
      ]
    },
    {
      "cell_type": "code",
      "source": [
        "collection"
      ],
      "metadata": {
        "id": "45kJZsRTIYfy"
      },
      "execution_count": null,
      "outputs": []
    },
    {
      "cell_type": "code",
      "source": [
        "# Plot first image\n",
        "image = collection.first()\n",
        "image_date = image.get('DATE_ACQUIRED').getInfo()\n",
        "print(image_date)\n",
        "\n",
        "vis_param = {'bands': ['B4', 'B3', 'B2'], 'min': 0, 'max': 0.3, 'gamma': 1.3}\n",
        "\n",
        "Map.addLayer(image, vis_param, name=image_date)\n",
        "Map.centerObject(image, 8)\n",
        "\n",
        "Map"
      ],
      "metadata": {
        "id": "EFCD7nIcIge5"
      },
      "execution_count": null,
      "outputs": []
    },
    {
      "cell_type": "markdown",
      "source": [
        "## Filter by date\n",
        "Ref API: https://developers.google.com/earth-engine/apidocs/ee-imagecollection-filterdate"
      ],
      "metadata": {
        "id": "-EH9wCP6MXvE"
      }
    },
    {
      "cell_type": "code",
      "execution_count": null,
      "metadata": {
        "id": "DnUlhOtxZWxP"
      },
      "outputs": [],
      "source": [
        "lon, lat = -98.622, 19.023  # Popocatépetl\n",
        "roi = ee.Geometry.Point(lon, lat)\n",
        "\n",
        "# Filter collection by date + location\n",
        "collection = (\n",
        "    ee.ImageCollection('LANDSAT/LC08/C02/T1_TOA')\n",
        "    .filterDate('2020-01-01', '2020-12-31')  # Select year\n",
        "    .filter(ee.Filter.calendarRange(11, 2, 'month'))  # Only Nov-Feb observations\n",
        "    .filterBounds(roi)\n",
        "    )\n",
        "\n",
        "print(collection.size().getInfo())"
      ]
    },
    {
      "cell_type": "code",
      "source": [
        "collection"
      ],
      "metadata": {
        "id": "9AR9qtYhdHyz"
      },
      "execution_count": null,
      "outputs": []
    },
    {
      "cell_type": "code",
      "source": [
        "# Plot first image\n",
        "image = collection.first()\n",
        "image_date = image.get('DATE_ACQUIRED').getInfo()\n",
        "print(image_date)\n",
        "\n",
        "vis_param = {'bands': ['B4', 'B3', 'B2'], 'min': 0, 'max': 0.3, 'gamma': 1.3}\n",
        "\n",
        "Map.addLayer(image, vis_param, name=image_date)\n",
        "Map.centerObject(image, 8)\n",
        "\n",
        "Map"
      ],
      "metadata": {
        "id": "KC9_ciI0_1Fn"
      },
      "execution_count": null,
      "outputs": []
    },
    {
      "cell_type": "markdown",
      "source": [
        "## Filter by metadata\n",
        "Ref: https://developers.google.com/earth-engine/guides/ic_filtering#colab-python"
      ],
      "metadata": {
        "id": "jXNeX6TzNA99"
      }
    },
    {
      "cell_type": "code",
      "source": [
        "lon, lat = -98.622, 19.023  # Popocatépetl\n",
        "roi = ee.Geometry.Point(lon, lat)\n",
        "\n",
        "\n",
        "collection = (\n",
        "    ee.ImageCollection('LANDSAT/LC08/C02/T1_TOA')\n",
        "    .filterDate('2020-01-01', '2020-12-31')\n",
        "    .filterBounds(roi)\n",
        ")\n",
        "# collection = collection.filter(ee.Filter.eq('CLOUD_COVER', 10)).sort(\"CLOUD_COVER\")\n",
        "# collection = collection.filter(ee.Filter.gt('CLOUD_COVER', 10)).sort(\"CLOUD_COVER\")\n",
        "collection = collection.filter(ee.Filter.lt('CLOUD_COVER', 10)).sort(\"CLOUD_COVER\")\n",
        "\n",
        "print(collection.size().getInfo())"
      ],
      "metadata": {
        "id": "CSECImg5OYrh"
      },
      "execution_count": null,
      "outputs": []
    },
    {
      "cell_type": "code",
      "source": [
        "collection"
      ],
      "metadata": {
        "id": "WV-oKHJaNZOR"
      },
      "execution_count": null,
      "outputs": []
    },
    {
      "cell_type": "code",
      "source": [
        "# Plot first image\n",
        "image = collection.first()\n",
        "image_date = image.get('DATE_ACQUIRED').getInfo()\n",
        "print(image_date)\n",
        "\n",
        "vis_param = {'bands': ['B4', 'B3', 'B2'], 'min': 0, 'max': 0.3, 'gamma': 1.3}\n",
        "\n",
        "Map.addLayer(image, vis_param, name=image_date)\n",
        "Map.centerObject(image, 8)\n",
        "\n",
        "Map"
      ],
      "metadata": {
        "id": "PGIUqJCHNrIr"
      },
      "execution_count": null,
      "outputs": []
    }
  ]
}
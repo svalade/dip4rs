{
 "cells": [
  {
   "cell_type": "markdown",
   "id": "452a6b12",
   "metadata": {},
   "source": [
    "<font size=\"10\"><b>Partial Exam</b></font>"
   ]
  },
  {
   "cell_type": "markdown",
   "id": "2fc7b865",
   "metadata": {},
   "source": [
    "**Compile your answers inside this notebook (Spanish or English). Your answers can be written either in markdown cells (M) or Python cells (Y).**<br>\n",
    "<br>\n",
    "**You have 2 hours. At the end of this time, send your notebook file .ipynb to valade@igeofisica.unam.mx**<br>\n",
    "<br>\n",
    "<u>Note</u>: if you encounter difficulties to implement your answers, you can write \"pseudo-code\" (explain the steps your algorithm would need to solve the problem).<br>\n",
    "<br>\n",
    "<u>Reminder</u>: your final grade will be the average of the 2 partial exams you will give throughout this course.<br>\n",
    "<br>\n",
    "Don't stress, this exam is not meant to trick you, but rather to test your knowledge up until now!"
   ]
  },
  {
   "cell_type": "markdown",
   "id": "071aa01a",
   "metadata": {},
   "source": [
    "# Theory (3 pts)"
   ]
  },
  {
   "cell_type": "markdown",
   "id": "e0cf5d0e",
   "metadata": {},
   "source": [
    "<div class=\"alert alert-success\">\n",
    "    <b>1.</b> If an image is encoded in 8-bits, how many values can the pixels have (discretization steps)?<br>\n",
    "    Show how you calculate it.\n",
    "    <br><b>(0.5 pts)</b>\n",
    "</div>"
   ]
  },
  {
   "cell_type": "markdown",
   "id": "db27cfff",
   "metadata": {},
   "source": [
    "<div class=\"alert alert-success\">\n",
    "    <b>2.</b> What is the \"color space representation\" most commonly used to for color images? What other can you think of?\n",
    "    <br><b>(0.5 pts)</b> \n",
    "</div>"
   ]
  },
  {
   "cell_type": "markdown",
   "id": "8fa466ec",
   "metadata": {},
   "source": [
    "<div class=\"alert alert-success\">\n",
    "    <b>3.</b> What are the key steps of \"linear spatial filtering\" of an image?\n",
    "    <br><b>(0.5 pts)</b> \n",
    "</div>"
   ]
  },
  {
   "cell_type": "markdown",
   "id": "ae2dbb52",
   "metadata": {},
   "source": [
    "<div class=\"alert alert-success\">\n",
    "    <b>4.</b> Describe what you would expect if you were to convolve an image with the following filter kernels:<br>\n",
    "    <img src=\"images/kernel_1.png\" width=\"100\"><img src=\"images/kernel_2.png\" width=\"100\">\n",
    "    <br><b>(0.5 pts)</b> \n",
    "</div>"
   ]
  },
  {
   "cell_type": "markdown",
   "id": "da22b126",
   "metadata": {},
   "source": [
    "<div class=\"alert alert-success\">\n",
    "    <b>5.</b> What are the 2 primitive morphological operations, and what are they used for?\n",
    "    <br><b>(0.5 pts)</b> \n",
    "</div>"
   ]
  },
  {
   "cell_type": "markdown",
   "id": "1eeb2ca9",
   "metadata": {},
   "source": [
    "<div class=\"alert alert-success\">\n",
    "    <b>6.</b> What is the objective of histogram-based image segmentation?\n",
    "    <br><b>(0.5 pts)</b> \n",
    "</div>"
   ]
  },
  {
   "cell_type": "markdown",
   "id": "d290bb95",
   "metadata": {},
   "source": [
    "# Practice (7 pts)"
   ]
  },
  {
   "cell_type": "markdown",
   "id": "ce3688c6",
   "metadata": {},
   "source": [
    "<div class=\"alert alert-success\">\n",
    "    <b>1.</b> The file \"pacaya_20210114T163716_sentinel2_B12B11B8A.png\" is a satellite image taken of Pacaya volcano in Guatemala on 14 January 2021.<br>\n",
    "    <br>\n",
    "    - Open the image using the skimage library, and plot it using the matplotlib library.<br>\n",
    "    - How many bands does the image have? What is the image encoding? What are the min/max values in the image? Show the code used to find the answers.<br>\n",
    "    <br>\n",
    "    <b>(1 pt)</b>\n",
    "</div>"
   ]
  },
  {
   "cell_type": "markdown",
   "id": "585eb252",
   "metadata": {},
   "source": [
    "<div class=\"alert alert-success\">\n",
    "    <b>2.</b> Crop the image to include just the lava flow, and plot the resulting image.<br>\n",
    "    <br>\n",
    "    <u>Hint</u>: you can use y-range (lines) between 260 and 320, and x-range (columns) between 195 and 245.<br>\n",
    "    <br>\n",
    "    <b>(1 pt)</b> \n",
    "</div>"
   ]
  },
  {
   "cell_type": "markdown",
   "id": "84026f6c",
   "metadata": {},
   "source": [
    "<div class=\"alert alert-success\">\n",
    "    <b>3.</b> Extract each band of the cropped image as a distinct variable, and plot a histogram of each band in a separate figure. For each histogram, set the number of bins as the number of pixel values the image can take based on its encoding.<br>\n",
    "    <br>\n",
    "    <b>(1 pt)</b>\n",
    "</div>"
   ]
  },
  {
   "cell_type": "markdown",
   "id": "6bf6f210",
   "metadata": {},
   "source": [
    "<div class=\"alert alert-success\">\n",
    "    <b>4.</b> Based on the histograms you plotted, create a mask to isolate the lava flow pixels. To do so, use numpy's <a href=\"https://numpy.org/doc/stable/reference/generated/numpy.where.html\" target=\"_blank\">where()</a> with as many conditions as needed, and assign 1 where conditions are True (= lava pixels), 0 where conditions are false.<br>\n",
    "    <u>Hint</u>: for simplicity, you can apply a single condition on the red band with a treshold value of 255.<br>\n",
    "    <br>\n",
    "    Plot the mask with a color bar.<br>\n",
    "    <br>\n",
    "    <b>(1 pt)</b>\n",
    "    <!-- Based on the histograms you plotted, use color thresholding (histogram-based segmentation) to isolate the lava flow in the image. Store your result as an array where pixels corresponding to the lava flow are given the value 1, and the value 0 elsewhere. Plot your segmented image, and add a color bar -->\n",
    "</div>"
   ]
  },
  {
   "cell_type": "markdown",
   "id": "2ff66733",
   "metadata": {},
   "source": [
    "<div class=\"alert alert-success\">\n",
    "    <b>5.</b> Use mathematical morphology to \"clean\" your mask, by removing small undesired segmented pixels.\n",
    "    <br>\n",
    "    <u>Hint</u>: use scikit-image's <a href=\"https://scikit-image.org/docs/dev/api/skimage.morphology.html\" target=\"_blank\">morphology.erosion</a> operation. Only parse the mask to the function, without specifying any of the other optional arguments supported by the function.<br>\n",
    "    <br>\n",
    "    <b>(1 pt)</b>\n",
    "</div>"
   ]
  },
  {
   "cell_type": "markdown",
   "id": "74018e5b",
   "metadata": {},
   "source": [
    "<div class=\"alert alert-success\">\n",
    "    <b>6.</b> Use scikit-image's <a href=\"https://scikit-image.org/docs/dev/api/skimage.measure.html#skimage.measure.label\" target=\"_blank\">measure.label()</a> function to \"label\" the connected regions of your mask. Parse the output of this function to scikit-image's <a href=\"https://scikit-image.org/docs/dev/api/skimage.measure.html#skimage.measure.regionprops_table\" target=\"_blank\">measure.regionprops_table()</a> function, specifying the argument \"properties\" with the value ('area', 'perimeter', 'centroid'). Return the label properties as a pandas dataframe.<br>\n",
    "    <br>\n",
    "    <b>(1 pt)</b>\n",
    "</div>"
   ]
  },
  {
   "cell_type": "markdown",
   "id": "9b885f4c",
   "metadata": {},
   "source": [
    "<div class=\"alert alert-success\">\n",
    "    <b>7.</b> Find the lava \"area\" (expressed in number of pixels) using the dataframe returned above.<br>\n",
    "    <br>\n",
    "    Given that each pixel in the image is 20x20 meters large, what is the approximate surface covered by the lava flow in km<sup>2</sup>?<br>\n",
    "    <br>\n",
    "    <b>(1 pt)</b>\n",
    "</div>"
   ]
  },
  {
   "cell_type": "markdown",
   "id": "fc58cd13",
   "metadata": {},
   "source": [
    "# Feedback (optional)"
   ]
  },
  {
   "cell_type": "markdown",
   "id": "1d086ec4",
   "metadata": {},
   "source": [
    "**How hard did you find this exam:**<br>\n",
    "(1) too easy (boring); (2) ok; (3) too hard"
   ]
  },
  {
   "cell_type": "markdown",
   "id": "5f9dc30e",
   "metadata": {},
   "source": [
    "**How long did you find this exam:**<br>\n",
    "(1) too short; (2) ok; (3) too long"
   ]
  },
  {
   "cell_type": "markdown",
   "id": "5279f20b",
   "metadata": {},
   "source": [
    "**How was the balance between the theoretical parts and pratical parts:**<br>\n",
    "good?\n",
    "too much theory / too little exercises? too little theory / too much exercises?"
   ]
  },
  {
   "cell_type": "markdown",
   "id": "d904a7af",
   "metadata": {},
   "source": [
    "**Was it a problem to work on this digital exam using Jupyter?**<br>\n",
    "(1) yes; (2) more or less; (3) no"
   ]
  },
  {
   "cell_type": "markdown",
   "id": "748e6c90",
   "metadata": {},
   "source": [
    "**Did the exam reflect what you learned during the lectures?**<br>\n",
    "(1) yes; (2) more or less; (3) no"
   ]
  },
  {
   "cell_type": "markdown",
   "id": "b84d3ecc",
   "metadata": {},
   "source": [
    "**Additional comments/feebacks**"
   ]
  }
 ],
 "metadata": {
  "kernelspec": {
   "display_name": "Python 3",
   "language": "python",
   "name": "python3"
  },
  "language_info": {
   "codemirror_mode": {
    "name": "ipython",
    "version": 3
   },
   "file_extension": ".py",
   "mimetype": "text/x-python",
   "name": "python",
   "nbconvert_exporter": "python",
   "pygments_lexer": "ipython3",
   "version": "3.9.12"
  },
  "toc": {
   "base_numbering": 1,
   "nav_menu": {},
   "number_sections": true,
   "sideBar": true,
   "skip_h1_title": false,
   "title_cell": "Table of Contents",
   "title_sidebar": "Contents",
   "toc_cell": false,
   "toc_position": {
    "height": "calc(100% - 180px)",
    "left": "10px",
    "top": "150px",
    "width": "201.05px"
   },
   "toc_section_display": true,
   "toc_window_display": true
  }
 },
 "nbformat": 4,
 "nbformat_minor": 5
}
